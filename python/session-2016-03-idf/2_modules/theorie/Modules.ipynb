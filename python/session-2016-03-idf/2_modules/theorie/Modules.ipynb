{
 "cells": [
  {
   "cell_type": "markdown",
   "metadata": {
    "slideshow": {
     "slide_type": "slide"
    }
   },
   "source": [
    "# Les modules"
   ]
  },
  {
   "cell_type": "markdown",
   "metadata": {
    "slideshow": {
     "slide_type": "slide"
    }
   },
   "source": [
    "- Un module est un bloc de code réutilisable en python. Ce bloc de code peut-être importé par un autre bloc de code. Il existe plusieurs types de module : les modules Python, les modules d’extension et les packages.\n",
    "- Les modules Python sont comme leur nom l’indique écrit en python dans un fichier ayant comme extension **.py** (.pyc et/ou .pyo). Ils sont parfois appelés «pure module». Le nom du module est le nom du fichier (sans l'extension) accessible via la variable globale **`__name__`**.\n",
    "- Les modules d’extension sont des modules écrits en langage bas-niveau utilisable par Python : C/C++ pour Python ou Java pour Jython. Ces modules sont généralement contenus dans un seul fichier pré-compilé et chargeable dynamiquement comme par exemple un objet partagé (fichier .so) sous unix, une DLL sous windows ou une classe java. On parle également de modules «built-in», lorsqu’il s’agit de modules de la bibliothèque standard (les bibliothèques logicielles de base du langage distribuées avec l’interpréteur Python) écrit en C.\n",
    "- Un package est un module qui contient d’autres modules. Un package est généralement un répertoire contenant un fichier **`__init__.py`**.\n",
    "- Il existe un package particulier qui est le «root package». C’est la racine dans la hiérarchie des paquets. la grande majorité de la bibliothèque standard est dans le «root package». "
   ]
  },
  {
   "cell_type": "markdown",
   "metadata": {
    "slideshow": {
     "slide_type": "slide"
    }
   },
   "source": [
    "## Présentation :"
   ]
  },
  {
   "cell_type": "markdown",
   "metadata": {
    "slideshow": {
     "slide_type": "subslide"
    }
   },
   "source": [
    "Lancer votre éditeur de texte pour créer un fichier python appelé **fibo.py** dans le répertoire courant et contenant ce bout de code :"
   ]
  },
  {
   "cell_type": "code",
   "execution_count": null,
   "metadata": {
    "collapsed": false,
    "slideshow": {
     "slide_type": "subslide"
    }
   },
   "outputs": [],
   "source": [
    "%%file fibo.py\n",
    "#! /usr/bin/env python3\n",
    "# -*- coding: utf-8 -*-\n",
    "\"\"\"\n",
    "Module nombres de Fibonacci\n",
    "\"\"\"\n",
    "\n",
    "# Fibonacci numbers module\n",
    "\n",
    "def fib(n):    # write Fibonacci series up to n\n",
    "    a, b = 0, 1\n",
    "    while b < n:\n",
    "        print(b),\n",
    "        a, b = b, a + b\n",
    "\n",
    "def fib2(n): # returns Fibonacci series up to n\n",
    "    result = []\n",
    "    a, b = 0, 1\n",
    "    while b < n:\n",
    "        result.append(b)\n",
    "        a, b = b, a + b\n",
    "    return result\n"
   ]
  },
  {
   "cell_type": "markdown",
   "metadata": {
    "slideshow": {
     "slide_type": "subslide"
    }
   },
   "source": [
    "Une fois ce fichier créé, lancer l’interpréteur via la commande python et importer le module créé :\n",
    "```shell\n",
    ">>> import fibo\n",
    "```\n",
    "Une fois le module importé, vous pouvez accéder aux méthodes et variables via son nom.\n",
    "```shell\n",
    ">>> fibo.fib(1000)\n",
    "1 1 2 3 5 8 13 21 34 55 89 144 233 377 610 987\n",
    ">>> fibo.fib2(100)\n",
    "[1, 1, 2, 3, 5, 8, 13, 21, 34, 55, 89]\n",
    ">>> fibo.__name__\n",
    "'fibo'\n",
    "```"
   ]
  },
  {
   "cell_type": "markdown",
   "metadata": {
    "slideshow": {
     "slide_type": "subslide"
    }
   },
   "source": [
    "- Un module peut contenir aussi bien des déclarations (*statements*) que des définitions de fonctions.\n",
    "- Les déclarations sont destinées à initialiser le module.\n",
    "- Elles sont exécutées seulement lors du premier *import* du module (pour forcer le rechargement, il faut utiliser *reload()*)\n",
    "- Chaque module possède son propre espace de nommage (ou table de nommage) «privé» qui est global pour toutes les fonctions de ce même module. Les variables sont accessibles via la notation «nommodule.nomvariable» (comme pour une fonction)\n",
    "- Un module peut importer d’autres modules. Par convention, on place tous les imports au début du module.\n",
    "- L’instruction «import» crée un objet de type module contenant toutes les données et fonctions du module, et ajoute une variable désignant ce module au sein de l’espace de nommage du programme/module/interpéteur qui fait l’import. Il existe une variante qui permet d’importer directement dans la table de nommage un ou des éléments particuliers du module : **from module import nom**\n",
    "- Par exemple :\n",
    "```shell\n",
    ">>> from fibo import fib, fib2\n",
    ">>> fib(500)\n",
    "1 1 2 3 5 8 13 21 34 55 89 144 233 377\n",
    "```\n",
    "_Dans cet exemple, fib et fib2 sont ajoutés dans la table de nommage locale. Fibo n’est pas défini.\n",
    "On peut aussi utiliser le symbole \\* qui va importer toute la table de nommage sauf ceux qui contiennent un tiret-bas_ *(underscore : _ )*"
   ]
  },
  {
   "cell_type": "markdown",
   "metadata": {
    "slideshow": {
     "slide_type": "slide"
    }
   },
   "source": [
    "## Exécution d’un module"
   ]
  },
  {
   "cell_type": "markdown",
   "metadata": {
    "slideshow": {
     "slide_type": "subslide"
    }
   },
   "source": [
    "Pour exécuter un module Python, on utilise cette commande :\n",
    "\n",
    "```shell\n",
    "$> python fibo.py <arguments\\>\n",
    "```\n",
    "\n",
    "Le code va être exécuté comme lors d’un import mais la valeur de la variable __name__ est alors égale à __main__.\n",
    "En ajoutant ce bout de code à la fin de votre module :\n",
    "\n",
    "```python\n",
    "if __name__ == \"__main__\":\n",
    "    import sys\n",
    "    fib(int(sys.argv[1]))\n",
    "```\n",
    "vous rendrez ce fichier utilisable comme un script ou comme un module.\n",
    "Dans la pratique cela permet de tester votre module :\n",
    "\n",
    "```shell\n",
    "$ python fibo.py 50\n",
    "1 1 2 3 5 8 13 21 34\n",
    "```\n",
    "\n",
    "Pour rappel, si le module est importé, le code du *main* ne sera pas exécuté :\n",
    "\n",
    "```python\n",
    ">>> import fibo\n",
    ">>>\n",
    "```\n",
    "\n",
    "Enfin, il est possible d’exécuter un module python comme un script Unix en ajoutant :\n",
    "\n",
    "```python\n",
    "#! /usr/bin/env python3\n",
    "```\n",
    "en début de fichier. Le module sera alors exécutable (à condition que les droits sur le fichier le permette après un \n",
    "*chmod u+x ./fibo.py* par exemple) via la commande\n",
    "\n",
    "```shell\n",
    "$> ./fibo.py <arguments>\n",
    "``` "
   ]
  },
  {
   "cell_type": "markdown",
   "metadata": {
    "slideshow": {
     "slide_type": "slide"
    }
   },
   "source": [
    "## Le «path»"
   ]
  },
  {
   "cell_type": "markdown",
   "metadata": {
    "slideshow": {
     "slide_type": "subslide"
    }
   },
   "source": [
    "Quand un module nommé **spam** est importé, l’interpreteur cherche en premier ce nom dans les modules intégrés. S’il ne le trouve pas, il va ensuite chercher un fichier nommé **spam.py** d’une liste de répertoires donnée par la variable **sys.path**.\n",
    "\n",
    "```python\n",
    ">>> import sys\n",
    ">>> sys.path\n",
    "['', '/usr/lib/python2.7', '/usr/lib/python2.7/plat-linux2', '/usr/lib/python2.7/lib-tk', '/usr/lib/python2.7/lib-old', '/usr/lib/python2.7/lib-dynload', '/usr/local/lib/python2.7/dist-packages', '/usr/lib/python2.7/dist-packages', '/usr/lib/python2.7/dist-packages/PIL', '/usr/lib/pymodules/python2.7']\n",
    "```\n",
    "**sys.path** contient le répertoire courant, le PYTHONPATH et les dépendances par défaut de l’installation python.\n"
   ]
  },
  {
   "cell_type": "markdown",
   "metadata": {
    "slideshow": {
     "slide_type": "slide"
    }
   },
   "source": [
    "## Les modules Compilés"
   ]
  },
  {
   "cell_type": "markdown",
   "metadata": {
    "slideshow": {
     "slide_type": "subslide"
    }
   },
   "source": [
    "* Pour accélerer le chargement des modules, une version compilée (ou *pré-compilée*) du module est présente dans le même répertoire. La compilation est faite automatiquement par Python si le module est plus récent que l’éventuelle compilation disponible. Cette dernière possède l’extension *.pyc*. \n",
    "* la compilation n’augmente pas la vitesse d’exécution mais la vitesse de chargement du module.\n",
    "* Il ne s’agit que d’une version convertie en «byte code» du module qui est donc indépendante de la plateforme d’exécution. Les modules *.pyc* peuvent donc être partagés (on parle de portabilité).\n"
   ]
  },
  {
   "cell_type": "markdown",
   "metadata": {
    "slideshow": {
     "slide_type": "slide"
    }
   },
   "source": [
    "## Les modules standards"
   ]
  },
  {
   "cell_type": "markdown",
   "metadata": {
    "slideshow": {
     "slide_type": "subslide"
    }
   },
   "source": [
    "* Python fournit toute une bibliothèque de modules standards décrite dans un document séparé : la *Python Library Reference*.\n",
    "* Certains modules sont intégrés à l’interpréteur (selon par exemple le système d’exploitation : winreg est fourni uniquement sur les systèmes Windows) et permettent un accès aux opérations qui ne font pas partie du noyau de la langue (**dir** ou **help** que nous allons voir après par exemple) pour améliorer l’efficacité ou un accès à des primitives du système d’exploitation (**sys** qui est fourni dans chaque interpréteur Python).\n",
    "\n",
    "```python\n",
    ">>> import sys\n",
    ">>> sys.ps1\n",
    "'>>> '\n",
    ">>> sys.path\n",
    "['', '/usr/lib/python2.7', '/usr/lib/python2.7/plat-linux2', '/usr/lib/python2.7/lib-tk', '/usr/lib/python2.7/lib-old', '/usr/lib/python2.7/lib-dynload', '/usr/local/lib/python2.7/dist-packages', '/usr/lib/python2.7/dist-packages', '/usr/lib/python2.7/dist-packages/PIL', '/usr/lib/pymodules/python2.7']\n",
    "```\n",
    "\n",
    "Vous pouvez faire un ***sys.path.append*** pour ajouter un répertoire de développement utilisable par différents modules."
   ]
  },
  {
   "cell_type": "markdown",
   "metadata": {
    "slideshow": {
     "slide_type": "slide"
    }
   },
   "source": [
    "## La fonction dir()"
   ]
  },
  {
   "cell_type": "markdown",
   "metadata": {
    "slideshow": {
     "slide_type": "subslide"
    }
   },
   "source": [
    "La fonction intégrée dir() renvoie la liste des noms définis par un module.\n",
    "\n",
    "```python\n",
    ">>> import fibo\n",
    ">>> dir(fibo)\n",
    "['__builtins__', '__doc__', '__file__', '__name__', '__package__', 'fib', 'fib2']\n",
    "```\n",
    "\n",
    "Sans argument, la fonction **dir()** liste les noms que l’on a actuellement définis :\n",
    "\n",
    "```python\n",
    ">>> import fibo\n",
    ">>> dir(fibo)\n",
    "['__builtins__', '__doc__', '__file__', '__name__', '__package__', 'fib', 'fib2']\n",
    ">>> a = [1, 2, 3, 4, 5]\n",
    ">>> import sys\n",
    ">>> dir()\n",
    "['__builtins__', '__doc__', '__name__', '__package__', 'a', 'fibo', 'sys']\n",
    "```\n",
    "\n",
    "- **`__builtins__`** est l’espace de noms contenant toutes les fonctions et variables intégrées\n",
    "- **`__doc__`** contient l’aide du module\n",
    "- **`__file__`** contient le nom du fichier Python contenant le module\n",
    "- **`__name__`** contient le nom du module\n",
    "- **`__package__`** contient le nom du package contenant le module\n",
    "\n",
    "```python\n",
    ">>> fibo.__doc__\n",
    "'\\nModule nombres de Fibonacci\\n'\n",
    ">>> print fibo\n",
    "<module 'fibo' from 'fibo.py'>\n",
    ">>> fibo.__file__\n",
    "'fibo.py'\n",
    ">>> fibo.__name__\n",
    "'fibo'\n",
    ">>> fibo.__package__\n",
    ">>> \n",
    "```\n"
   ]
  },
  {
   "cell_type": "markdown",
   "metadata": {
    "slideshow": {
     "slide_type": "slide"
    }
   },
   "source": [
    "## La fonction help()"
   ]
  },
  {
   "cell_type": "markdown",
   "metadata": {
    "slideshow": {
     "slide_type": "subslide"
    }
   },
   "source": [
    "* Aide en ligne Python.\n",
    "* la commande **help()** place l’interpréteur en mode d’aide\n",
    "\n",
    "```shell\n",
    ">>> help()\n",
    "\n",
    "Welcome to Python 2.7!  This is the online help utility.\n",
    "\n",
    "If this is your first time using Python, you should definitely check out\n",
    "the tutorial on the Internet at http://docs.python.org/2.7/tutorial/.\n",
    "\n",
    "Enter the name of any module, keyword, or topic to get help on writing\n",
    "Python programs and using Python modules.  To quit this help utility and\n",
    "return to the interpreter, just type \"quit\".\n",
    "\n",
    "To get a list of available modules, keywords, or topics, type \"modules\",\n",
    "\"keywords\", or \"topics\".  Each module also comes with a one-line summary\n",
    "of what it does; to list the modules whose summaries contain a given word\n",
    "such as \"spam\", type \"modules spam\".\n",
    "\n",
    "help> figo\n",
    "no Python documentation found for 'figo'\n",
    "```\n",
    "\n",
    "* **help(module)** renvoie l’aide du module\n",
    "\n",
    "```python\n",
    ">>> import fibo\n",
    ">>> help(fibo)\n",
    "Help on module fibo:\n",
    "\n",
    "NAME\n",
    "    fibo - # Fibonacci numbers module\n",
    "\n",
    "FILE\n",
    "    /root/fibo.py\n",
    "\n",
    "FUNCTIONS\n",
    "    fib(n)\n",
    "    \n",
    "    fib2(n)\n",
    "```\n",
    "\n",
    "* **help(module.methode)** renvoie l’aide de la méthode\n",
    "\n",
    "-----\n",
    "** Ajoutons de l’aide à notre module fibo : **"
   ]
  },
  {
   "cell_type": "code",
   "execution_count": null,
   "metadata": {
    "collapsed": false,
    "slideshow": {
     "slide_type": "subslide"
    }
   },
   "outputs": [],
   "source": [
    "%%file fibo_help.py\n",
    "#! /usr/bin/env python3\n",
    "# -*- coding: utf-8 -*-\n",
    "\n",
    "\"\"\"\n",
    "Fibonacci numbers module\n",
    "\"\"\"\n",
    "\n",
    "def fib(n):    # write Fibonacci series up to n\n",
    "    \"\"\"\n",
    "    do : write Fibonacci series up to n \n",
    "    parameters : n as number\n",
    "    return : void\n",
    "    \"\"\"\n",
    "    a, b = 0, 1\n",
    "    while b < n:\n",
    "        print b,\n",
    "        a, b = b, a + b\n",
    "\n",
    "def fib2(n):   # returns Fibonacci series up to n\n",
    "    result = []\n",
    "    a, b = 0, 1\n",
    "    while b < n:\n",
    "        result.append(b)\n",
    "        a, b = b, a + b\n",
    "    return result"
   ]
  },
  {
   "cell_type": "markdown",
   "metadata": {
    "slideshow": {
     "slide_type": "subslide"
    }
   },
   "source": [
    "** Voici le résultat :**\n",
    "\n",
    "```python\n",
    ">>> reload(fibo)\n",
    "<module 'fibo' from 'fibo.py'>\n",
    ">>> help(fibo)\n",
    "Help on module fibo:\n",
    "\n",
    "NAME\n",
    "    fibo - Fibonacci numbers module\n",
    "\n",
    "FILE\n",
    "    /root/fibo.py\n",
    "\n",
    "FUNCTIONS\n",
    "    fib(n)\n",
    "        do : writes Fibonacci series up to n \n",
    "        parameters : n as number\n",
    "        return : void\n",
    "    \n",
    "    fib2(n)\n",
    "```"
   ]
  },
  {
   "cell_type": "markdown",
   "metadata": {
    "slideshow": {
     "slide_type": "slide"
    }
   },
   "source": [
    "## Les packages"
   ]
  },
  {
   "cell_type": "markdown",
   "metadata": {
    "slideshow": {
     "slide_type": "subslide"
    }
   },
   "source": [
    "\n",
    "Les packages python sont des espaces de noms python pouvant contenir d'autres packages et modules.\n",
    "Concrètement c'est une arboressance de repertoires devant respecter certaines règles : \n",
    "\n",
    "* Chaque package est un repertoire qui doit contenir un fichier python spécial nommé ```__init__.py```. Sans ce fichier, le repertoire ne sera pas reconu comme un package python.\n",
    "* Le fichier ```__init__.py``` peut être vide ou contenir du code d'initialisation. On peut ici en particulier instancier la variable ```__all__```.\n",
    "* La variable ```__all__``` permet de selectioner ce qui est visible à l'utilisateur quand il utilise le package.\n",
    "\n",
    "Supposons que l'on veuille écrire un package de traitement de fichiers text. Il existe un grand nombre de formats (.txt, .xml, .csv, .json, *etc*) et vous pouvez avoir un grand nombre d’opération de traitement à effectuer (compression, exportation, *etc*). Voici une structure possible pour ce projet :\n",
    "\n",
    "```python\n",
    "traitement/                          Racine du package\n",
    "      __init__.py                    Initialise le package traitement\n",
    "      formats/                       Subpackage pour les formats de fichiers\n",
    "              __init__.py\n",
    "              csv.py\n",
    "              json.py\n",
    "              txt.py\n",
    "              xml.py\n",
    "              …\n",
    "      compression/                   Subpackage pour la compression\n",
    "              __init__.py\n",
    "              zip.py\n",
    "              tar.py\n",
    "              …\n",
    "      exportation/                   Subpackage pour l’exportation\n",
    "              __init__.py\n",
    "              pdf.py\n",
    "              html.py\n",
    "              …\n",
    "```\n",
    "\n",
    "###Utilisation des packages : \n",
    "\n",
    "\n",
    "Pour nommer un module **B** contenu dans un package **A**, on pourra utiliser le \"dotted module mames\" (nom de modules avec des point) : On ecrira **A.B**. Par exemple, pour appeler le module **zip** dans l'exemple précedent, on ecrira : **traitement.compression.zip**. On suit simplement le chemin vers le fichier **zip.py**.\n",
    "\n",
    "Lors d'un import, pour trouver le package, python cherche parmis les repertoires indiqués par la variable **path** du module **sys** (liste de chaines de caractères où chaque chaine est un chemin absolut vers un repertoire du système).  \n",
    "\n",
    "Un package ou un module ne peut être utilisé que s'il est importé.\n",
    "Pour importer quelque-chose, on utilise toujours le mot-clé **import**. On l'utilisera parfois associé au mot clé **from**.\n",
    "\n",
    "####Import avec le mot-clé **import** seul :\n",
    "\n",
    "La syntaxe est la suivante : \n",
    "\n",
    "```Python\n",
    "    import <dotted name>\n",
    "```\n",
    "\n",
    "Cette syntaxe permet d'importer un package ou un module. Par exemple pour importer le package **compression** de l'exemple précédent, on ecrira :\n",
    "\n",
    "```Python\n",
    "    >>> import traitement.compression\n",
    "    >>> traitement.compression.__file__\n",
    "    'traitement/compression/__init__.py'\n",
    "```\n",
    "\n",
    "Pour impoter le module **html**, on ecrira :\n",
    "\n",
    "```Python\n",
    "    >>> import traitement.exportation.html\n",
    "    >>> traitement.exportation.html.__file__\n",
    "    'traitement/exportation/html.py'\n",
    "```\n",
    "\n",
    "La comande ```import traitement.exportation.html``` charge le module **traitement.exportation.html**. Pour l'utiliser, il devra être référencé par son nom complet tel qu'importé :\n",
    "\n",
    "```Python\n",
    "    >>> traitement.exportation.html.write('file.html')\n",
    "```\n",
    "\n",
    "####Import avec les mot-clé **import** et **from** :\n",
    "\n",
    "* La syntaxe est la suivante : \n",
    "\n",
    "```Python\n",
    "    from <dotted name> import <item>[,<item>]* | *\n",
    "```\n",
    "\n",
    "* Ici ```<dotted name>``` peut être un package ou un module. Et ```<item>``` peut être un sous-package, un module, ou encore une classe, une fonction ou une variable. \n",
    "\n",
    "* La partie ```[,<item>]*``` indique que l'on peut importer au besoin plusieurs items du package.\n",
    "\n",
    "* Pour impoter le module **html**, on pourra ecrire :\n",
    "\n",
    "```Python\n",
    "    from traitement.exportation import html\n",
    "```\n",
    "\n",
    "* Cette commande charge le module **html** et le rend disponible sans le prefixe du package. La fonction **write** est alors utilisable de cette façon :\n",
    "\n",
    "```Python\n",
    "    >>> html.write('file.html')\n",
    "```\n",
    "\n",
    "* Par exemple, si on a besoin seulement de la fonction **write**, on peut la charger directement :\n",
    "\n",
    "```Python\n",
    "    >>> from traitement.exportation.html import write\n",
    "```\n",
    "\n",
    "* Cette dernière commande charge le module **html** mais rend la fonction **write ** directement disponible :\n",
    "\n",
    "```Python\n",
    "    >>> write('file.html')\n",
    "```\n",
    "\n",
    "####Imports relatifs\n",
    "\n",
    "Au sein d'un même package, Python3 a introduit la notion d'imports relatifs.\n",
    "\n",
    "Par exemple, le module **zip** peut avoir besoin du module **pdf** ou d'autres items du package traitement. On poura alors ecrire dans le module ```zip.py``` :\n",
    "```python\n",
    "    from . import tar\n",
    "    from .. import formats\n",
    "```\n",
    "\n",
    "Supposons qu'il existe un autre module **pdf** qui se trouve dans un dossier dont le chemin présent dans le ```sys.path```.\n",
    "Dans le module zip on pourra ecrire :\n",
    "\n",
    "```python\n",
    "   import pdf # import le module pdf indiqué par le sys.path\n",
    "```\n",
    "ou bien :\n",
    "```python\n",
    "   from exportation import pdf # import du module pdf de notre package traitement\n",
    "```\n",
    "\n",
    "####Mot clé as\n",
    "Toutes instruction d'import peut se terminer par ```as <name>```. Par exemple :\n",
    "```python\n",
    "    >>> import traitement.exportation.html as html\n",
    "    >>> html.read(\"nom.html\") # plus court que traitement.exportation.html.read(\"nom.html\") \n",
    "```\n",
    "\n",
    "####Petite mise en garde\n",
    "L’instruction `from package import *` est déconseillée. Cette instruction va lancer le parcours des modules du package et faire toutes les importations. Cela peut prendre donc un certain temps et l’importation des modules peut générer des conflits dans la table de nommage. L’auteur du package peut fournir une liste explicite des modules à importer grâce à la variable `__all__` dans le fichier `__init__.py` du package.\n",
    "\n",
    "```python\n",
    "__all__ = [\"csv\", \"json\", \"txt\", \"xml\"]\n",
    "```"
   ]
  },
  {
   "cell_type": "markdown",
   "metadata": {
    "slideshow": {
     "slide_type": "slide"
    }
   },
   "source": [
    "## Distribuez votre projet : le packaging"
   ]
  },
  {
   "cell_type": "markdown",
   "metadata": {
    "slideshow": {
     "slide_type": "subslide"
    }
   },
   "source": [
    "* Une distribution est une collection de modules Python distribués ensembles comme une ressource téléchargeable et destinée à être installée. Il existe énormément de distributions de modules comme *PIL (the Python Imaging Library)*, *PyXML*, *etc*.\n",
    "\n",
    "* Pour faire le lien entre la distribution et la plateforme de destination, on utilise des classes intermédiaires appelées *packagers*. Les packagers vont prendre les sources et les compiler pour effectuer une «release». Ainsi les utilisateurs finaux vont pouvoir installer les modules sans difficulté. *Distutils* est un packagers qui va vous permettre facilement de distribuer votre code.\n",
    "\n",
    "* La librairie Distutils regroupe l’ensemble des utilitaires Python pour la distribution de modules. Pour distribuer votre code, il faudra écrire un script d’installation (nommé `setup.py` par convention) et éventuellement écrire un fichier de configuration d’installation.\n",
    "* Ensuite, il vous faudra créer une ressource distribuable (souvent une archive) et optionnellement créer une ou plusieurs distributions compilées.\n"
   ]
  },
  {
   "cell_type": "markdown",
   "metadata": {
    "slideshow": {
     "slide_type": "subslide"
    }
   },
   "source": [
    "* Le script setup est généralement assez simple. Voici un premier exemple :\n",
    "\n",
    "```python\n",
    "from distutils.core import setup\n",
    "setup(name='foo',\n",
    "      version='1.0',\n",
    "      py_modules=['foo'])\n",
    "```\n",
    "\n",
    "* La plupart des informations sont fournies comme arguments à la fonction `setup`.\n",
    "* Ces arguments peuvent être regroupés en deux catégories : les metadonnées du package (nom, version) et les informations sur ce qu’est, ce que fait le package. \n",
    "* Les modules sont spécifiés par leur nom d’objet et non leur nom de fichier. Il est recommandé de fournir des metadonnées supplémentaires comme son nom, son adresse mail et une url du projet :\n",
    "    * Vous pouvez lister des modules individuellement : `py_modules = ['mod1', 'pkg.mod2']`\n",
    "    * ou lister des packages entiers : `packages = ['distutils', 'distutils.command']`. Ici on spécifie des modules purs Python par package plutôt que de lister tous les modules de ce paquet.\n",
    "    * Par exemple, ce package :\n",
    "\n",
    "```python\n",
    "    setup.py\n",
    "    src/\n",
    "        mypkg/\n",
    "            __init__.py\n",
    "            module.py\n",
    "            data/\n",
    "                tables.dat\n",
    "                spoons.dat\n",
    "                forks.dat\n",
    "```\n",
    "\n",
    "* pourrait avoir un setup comme cela :\n",
    "\n",
    "```python\n",
    "    setup(...,\n",
    "          packages=['mypkg'],\n",
    "          package_dir={'mypkg': 'src/mypkg'},\n",
    "          package_data={'mypkg': ['data/*.dat']})\n",
    "```        "
   ]
  },
  {
   "cell_type": "markdown",
   "metadata": {
    "slideshow": {
     "slide_type": "subslide"
    }
   },
   "source": [
    "* Voici une liste non exhaustive d’arguments de la fonction **setup**\n",
    "    - le nom du projet : nom=\"sample\"\n",
    "    - la version : version=\"1.2.0\" (voir PEP440)\n",
    "    - les packages à inclure dans le projet. On peut les lister ou utiliser `find_packages` pour automatiser cette tâche (`exclude` pour pour exlure ceux qui ne doivent pas être installés) : `py_modules=['foo']`\n",
    "    - Metadonnées: Il est important d’inclure des métadonnées à propos de votre projet. \n",
    "\n",
    "        ```python\n",
    "\n",
    "            # A description of your project\n",
    "            description='A sample Python project',\n",
    "            long_description=long_description,\n",
    "\n",
    "            # The project's main homepage\n",
    "            url='https://github.com/pypa/sampleproject',\n",
    "\n",
    "            # Author details\n",
    "            author='The Python Packaging Authority',\n",
    "            author_email='pypa-dev@googlegroups.com',\n",
    "\n",
    "            # Choose your license\n",
    "            license='MIT',\n",
    "\n",
    "            # See https://pypi.python.org/pypi?%3Aaction=list_classifiers\n",
    "            classifiers=[\n",
    "                # How mature is this project? Common values are\n",
    "                #   3 - Alpha\n",
    "                #   4 - Beta\n",
    "                #   5 - Production/Stable\n",
    "                'Development Status :: 3 - Alpha',\n",
    "\n",
    "                # Indicate who your project is intended for\n",
    "                'Intended Audience :: Developers',\n",
    "                'Topic :: Software Development :: Build Tools',\n",
    "\n",
    "                # Pick your license as you wish (should match \"license\" above)\n",
    "                'License :: OSI Approved :: MIT License',\n",
    "\n",
    "                # Specify the Python versions you support here. In particular, ensure\n",
    "                # that you indicate whether you support Python 2, Python 3 or both.\n",
    "                'Programming Language :: Python :: 2',\n",
    "                'Programming Language :: Python :: 2.6',\n",
    "                'Programming Language :: Python :: 2.7',\n",
    "                'Programming Language :: Python :: 3',\n",
    "                'Programming Language :: Python :: 3.2',\n",
    "                'Programming Language :: Python :: 3.3',\n",
    "                'Programming Language :: Python :: 3.4',\n",
    "            ],\n",
    "\n",
    "            # What does your project relate to?\n",
    "            keywords='sample setuptools development',\n",
    "        ```\n",
    "\n",
    "- Enfin, il est possible d'ajouter :\n",
    "    - Les dépendances : install_requires = ['peppercorn']\n",
    "        \"install_requires\" est utilisé pour spécifier quelles dépendances sont nécessaire au projet pour fonctionner. Ces dépendances seront installés par Pip lors de l'installation de votre projet.\n",
    "    - Fichiers additionnels : package_data = { 'sample': ['package_data.dat']}\n",
    "- Voici un exemple plus complet :\n",
    "\n",
    "    ```python\n",
    "    #! /usr/bin/env python3\n",
    "\n",
    "    from distutils.core import setup\n",
    "\n",
    "    setup(name='Distutils',\n",
    "          version='1.0',\n",
    "          description='Python Distribution Utilities',\n",
    "          author='Greg Ward',\n",
    "          author_email='gward@python.net',\n",
    "          url='https://www.python.org/sigs/distutils-sig/',\n",
    "          packages=['distutils', 'distutils.command'],\n",
    "         )\n",
    "\n",
    "    ```\n",
    "\n",
    "* Vous pouvez également inclure d’autre fichier au package comme un ***README*** pour expliquer le projet et un ***MANIFEST*** pour définir des fichiers supplémentaires à inclure dans la distribution du projet packagé. \n",
    "\n"
   ]
  },
  {
   "cell_type": "markdown",
   "metadata": {
    "slideshow": {
     "slide_type": "subslide"
    }
   },
   "source": [
    "- Pour créer une distribution des fichiers sources du module, il faut donc créer un script d’installation (setup.py) contenant le code ci-dessus et exécuter la commande \n",
    "```\n",
    "$>python setup.py sdist [$>sdist setup.py sous windows]\n",
    "```\n",
    "\n",
    "- sdist va créer une archive (tarball sous unix et zip sous windows) contenant le script setup.py et le module. Le fichier d’archive sera nommé foo-1.0.tar.gz (ou .zip) et sera décompressé dans un répertoire foo-1.0.\n",
    "\n"
   ]
  },
  {
   "cell_type": "markdown",
   "metadata": {
    "slideshow": {
     "slide_type": "subslide"
    }
   },
   "source": [
    "- Pour installer le module, après avoir télécharger et décompresser l’archive, il faut se déplacer dans le répertoire créé par la décompression de l’archive et taper la commande suivante :\n",
    "\n",
    "```\n",
    "$>python setup.py install\n",
    "```\n",
    "\n",
    "- Cette commande va copier les fichiers dans le répertoire réservé aux modules tiers de l’installation Python. \n",
    "- Remarque : On note donc que c’est le même script qui sert pour la distribution et l’installation.\n"
   ]
  },
  {
   "cell_type": "markdown",
   "metadata": {
    "slideshow": {
     "slide_type": "subslide"
    }
   },
   "source": [
    "- On peut faciliter encore plus l’installation des modules distribués. Par exemple, sous windows, on peut créer un installateur exécutable avec cette commande :\n",
    "\n",
    "```\n",
    "$>python setup.py bdist_wininst\n",
    "```\n",
    "\n",
    "- Cette commande va créer un `.exe` nommé foo-1.0.win32.exe dans le répertoire courant.\n",
    "- Il existe également d’autre format de distribution : le rpm avec bdist_rpm, le pkgtool (bdist_pkgtool) et le hp_ux swinstall (bdist_sdux)\n",
    "- Vous pouvez lister les formats de distribution disponibles avec cette commande :\n",
    "\n",
    "```\n",
    "$>python setup.py bdist –help-formats\n",
    "```\n",
    "\n"
   ]
  },
  {
   "cell_type": "markdown",
   "metadata": {
    "slideshow": {
     "slide_type": "subslide"
    }
   },
   "source": [
    "Pour installer des packages, on vous conseille d’utiliser Pip (Python installing package). Cet outil cherche les packages sur le Python Package Index (PyPi). Les packages Python peuvent être compactés dans des archives tarball ou zip. Python utilise des formats de distribution. Actuellement, Python utilise egg mais ce format va etre peu à peu remplacé par wheel. Pour construire votre package, vous pouvez donc utiliser **wheel** et pour envoyer votre package sur Pypi, il faut utiliser l’outil **twine**"
   ]
  },
  {
   "cell_type": "code",
   "execution_count": null,
   "metadata": {
    "collapsed": false
   },
   "outputs": [],
   "source": []
  }
 ],
 "metadata": {
  "celltoolbar": "Slideshow",
  "kernelspec": {
   "display_name": "Python 2",
   "language": "python",
   "name": "python2"
  },
  "language_info": {
   "codemirror_mode": {
    "name": "ipython",
    "version": 2
   },
   "file_extension": ".py",
   "mimetype": "text/x-python",
   "name": "python",
   "nbconvert_exporter": "python",
   "pygments_lexer": "ipython2",
   "version": "2.7.7"
  }
 },
 "nbformat": 4,
 "nbformat_minor": 0
}
