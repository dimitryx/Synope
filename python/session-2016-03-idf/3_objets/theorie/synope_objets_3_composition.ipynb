{
 "cells": [
  {
   "cell_type": "markdown",
   "metadata": {},
   "source": [
    "*Ce notebook de David Chamont est distribué par Devlog sous licence Creative Commons - Attribution - Pas d’Utilisation Commerciale - Partage dans les Mêmes Conditions. La description complète de la license est disponible à l'adresse web http://creativecommons.org/licenses/by-nc-sa/4.0/.*"
   ]
  },
  {
   "cell_type": "markdown",
   "metadata": {
    "internals": {
     "slide_type": "subslide"
    },
    "slideshow": {
     "slide_type": "slide"
    }
   },
   "source": [
    "# Python Devlog - Objets 3/6 : les objets composés"
   ]
  },
  {
   "cell_type": "markdown",
   "metadata": {
    "internals": {},
    "slideshow": {
     "slide_type": "-"
    }
   },
   "source": [
    "## Généralités"
   ]
  },
  {
   "cell_type": "markdown",
   "metadata": {
    "internals": {},
    "slideshow": {
     "slide_type": "-"
    }
   },
   "source": [
    "Un objet peut contenir des objets, qui peuvent contenir des objets, qui…\n",
    "On peut descendre dans les niveaux successifs en enchainant les \".\" ."
   ]
  },
  {
   "cell_type": "code",
   "execution_count": 4,
   "metadata": {
    "collapsed": false,
    "internals": {},
    "slideshow": {
     "slide_type": "-"
    }
   },
   "outputs": [
    {
     "name": "stdout",
     "output_type": "stream",
     "text": [
      "(1.0, 0.0, 0.0, 10.0)\n"
     ]
    }
   ],
   "source": [
    "class Vecteur(object): pass\n",
    "class Impulsion(object) : pass\n",
    "\n",
    "imp = Impulsion()\n",
    "imp.vitesse = Vecteur()\n",
    "imp.vitesse.x = 1.\n",
    "imp.vitesse.y = 0.\n",
    "imp.vitesse.z = 0.\n",
    "imp.masse = 10.\n",
    "\n",
    "print ( imp.vitesse.x, imp.vitesse.y, imp.vitesse.z, imp.masse )"
   ]
  },
  {
   "cell_type": "markdown",
   "metadata": {},
   "source": [
    "<img src=\"img-objets/composition/composition.png\" width=307px>"
   ]
  },
  {
   "cell_type": "markdown",
   "metadata": {
    "internals": {},
    "slideshow": {
     "slide_type": "-"
    }
   },
   "source": [
    "## (Non)Chainage des constructeurs"
   ]
  },
  {
   "cell_type": "markdown",
   "metadata": {
    "internals": {},
    "slideshow": {
     "slide_type": "-"
    }
   },
   "source": [
    "Dans un constructeur, il n'y a pas d'appel automatique aux constructeurs des sous-parties de l'objet courant, comme cela existe dans d'autres langages. Un objet n'a pas d'obligation de contenir des données, et donc tout ce qui est ajouté doit l'être explicitement, y compris dans les constructeurs."
   ]
  },
  {
   "cell_type": "code",
   "execution_count": 7,
   "metadata": {
    "collapsed": false,
    "internals": {},
    "slideshow": {
     "slide_type": "-"
    }
   },
   "outputs": [
    {
     "name": "stdout",
     "output_type": "stream",
     "text": [
      "(0|0|0|0)\n"
     ]
    }
   ],
   "source": [
    "class Vecteur(object):\n",
    "    def __init__(self):\n",
    "        self.x = 0\n",
    "        self.y = 0\n",
    "        self.z = 0\n",
    "    def __str__(self):\n",
    "        return \"%d|%d|%d\" % ( self.x, self.y, self.z )\n",
    "        \n",
    "class Impulsion(object):\n",
    "    def __init__(self):\n",
    "        self.vitesse = Vecteur()\n",
    "        self.masse = 0\n",
    "    def __str__(self):\n",
    "        return \"%s|%d\" % ( self.vitesse.__str__(), self.masse )\n",
    "\n",
    "i1 = Impulsion()\n",
    "print \"(%s)\" % i1"
   ]
  },
  {
   "cell_type": "markdown",
   "metadata": {
    "internals": {},
    "slideshow": {
     "slide_type": "-"
    }
   },
   "source": [
    "Du point de vue de l'affectation, de la copie, de la comparaison, et de beaucoup d'autres opérations, un objet se comporte essentiellement comme un dictionnaire contenant des attributs."
   ]
  },
  {
   "cell_type": "markdown",
   "metadata": {},
   "source": [
    "<img src=\"img-objets/composition/composition-construction.png\" width=355px>"
   ]
  },
  {
   "cell_type": "markdown",
   "metadata": {
    "internals": {},
    "slideshow": {
     "slide_type": "-"
    }
   },
   "source": [
    "## Affectation et copie"
   ]
  },
  {
   "cell_type": "markdown",
   "metadata": {
    "internals": {},
    "slideshow": {
     "slide_type": "-"
    }
   },
   "source": [
    "Lorsqu'on affecte un objet à une variable, il n'y a pas de copie. Comme d'habitude, cela génère une nouvelle variable qui référence le même objet original. Dans l'exemple ci-dessous, on voit que si je modifie un attribut de `i2`, `i1` est également modifié."
   ]
  },
  {
   "cell_type": "code",
   "execution_count": 8,
   "metadata": {
    "collapsed": false,
    "internals": {},
    "slideshow": {
     "slide_type": "-"
    }
   },
   "outputs": [
    {
     "name": "stdout",
     "output_type": "stream",
     "text": [
      "(0|0|0|1), (0|0|0|1)\n"
     ]
    }
   ],
   "source": [
    "i2 = i1\n",
    "i2.masse = 1\n",
    "print \"(%s), (%s)\" % ( i2, i1 )"
   ]
  },
  {
   "cell_type": "markdown",
   "metadata": {},
   "source": [
    "<img src=\"img-objets/composition/composition-affectation.png\" width=328px>"
   ]
  },
  {
   "cell_type": "markdown",
   "metadata": {
    "internals": {},
    "slideshow": {
     "slide_type": "-"
    }
   },
   "source": [
    "Pour dupliquer un objet, on peut avoir recours au module `copy`, et à sa fonction `copy`. Ainsi, si je modifie maintenant un attribut de `i2`, l'attribut correspondant de `i1` est inchangé."
   ]
  },
  {
   "cell_type": "code",
   "execution_count": 9,
   "metadata": {
    "collapsed": false,
    "internals": {},
    "slideshow": {
     "slide_type": "-"
    }
   },
   "outputs": [
    {
     "name": "stdout",
     "output_type": "stream",
     "text": [
      "(0|0|0|2), (0|0|0|1)\n"
     ]
    }
   ],
   "source": [
    "import copy\n",
    "i2 = copy.copy(i1)\n",
    "i2.masse = 2\n",
    "print \"(%s), (%s)\" % ( i2, i1 )"
   ]
  },
  {
   "cell_type": "markdown",
   "metadata": {
    "internals": {},
    "slideshow": {
     "slide_type": "-"
    }
   },
   "source": [
    "Mais il s'agit d'une copie de surface. L'équivalent d'une affectation des attributs un à un :"
   ]
  },
  {
   "cell_type": "code",
   "execution_count": 4,
   "metadata": {
    "collapsed": false,
    "internals": {},
    "slideshow": {
     "slide_type": "-"
    }
   },
   "outputs": [
    {
     "name": "stdout",
     "output_type": "stream",
     "text": [
      "(0|0|0|2), (0|0|0|1)\n"
     ]
    }
   ],
   "source": [
    "i2 = Impulsion()\n",
    "i2.vitesse = i1.vitesse # i2 = copy.copy(i1)\n",
    "i2.masse = i1.masse     # i2 = copy.copy(i1)\n",
    "i2.masse = 2\n",
    "print \"(%s), (%s)\" % ( i2, i1 )"
   ]
  },
  {
   "cell_type": "markdown",
   "metadata": {},
   "source": [
    "<img src=\"img-objets/composition/composition-copie.png\" width=328px>"
   ]
  },
  {
   "cell_type": "markdown",
   "metadata": {
    "internals": {},
    "slideshow": {
     "slide_type": "-"
    }
   },
   "source": [
    "Comme au début, pour `i2 = i1`, l'instruction `i2.vitesse = i1.vitesse` ne duplique pas l'instance de `Vecteur`, mais fait en sorte que `i2.vitesse` et `i1.vitesse` désigne la même instance. Ainsi, si on change un attribut de `i2.vitesse`, on agit également sur `i1.vitesse` :"
   ]
  },
  {
   "cell_type": "code",
   "execution_count": 5,
   "metadata": {
    "collapsed": false,
    "internals": {},
    "slideshow": {
     "slide_type": "-"
    }
   },
   "outputs": [
    {
     "name": "stdout",
     "output_type": "stream",
     "text": [
      "(0|0|2|2), (0|0|2|1)\n"
     ]
    }
   ],
   "source": [
    "i2.vitesse.z = 2\n",
    "print \"(%s), (%s)\" % ( i2, i1 )"
   ]
  },
  {
   "cell_type": "markdown",
   "metadata": {
    "internals": {},
    "slideshow": {
     "slide_type": "-"
    }
   },
   "source": [
    "Si on souhaite dupliquer intégralement un objet et tous ses attributs à tous les niveaux, on préfèrera la fonction `deepcopy`. Dans l'exemple suivant, on modifie un sous-sous-attribut de `i2`, sans affecter `i1`."
   ]
  },
  {
   "cell_type": "code",
   "execution_count": 6,
   "metadata": {
    "collapsed": false,
    "internals": {},
    "slideshow": {
     "slide_type": "-"
    }
   },
   "outputs": [
    {
     "name": "stdout",
     "output_type": "stream",
     "text": [
      "(0|3|2|1), (0|0|2|1)\n"
     ]
    }
   ],
   "source": [
    "i2 = copy.deepcopy(i1)\n",
    "i2.vitesse.y = 3\n",
    "print \"(%s), (%s)\" % ( i2, i1 )"
   ]
  },
  {
   "cell_type": "markdown",
   "metadata": {},
   "source": [
    "<img src=\"img-objets/composition/composition-copie-profonde.png\" width=307px>"
   ]
  },
  {
   "cell_type": "markdown",
   "metadata": {
    "internals": {},
    "slideshow": {
     "slide_type": "-"
    }
   },
   "source": [
    "## Egalité et identité"
   ]
  },
  {
   "cell_type": "markdown",
   "metadata": {
    "internals": {},
    "slideshow": {
     "slide_type": "-"
    }
   },
   "source": [
    "Malheureusement, à la différence d'un dictionnaire, l'opérateur de comparaison `==` n'est pas capable de vérifier récursivement l'égalité de tous les données membres de l'objet. A la place, il se contente de vérifier que les deux variables désignent le même objet, à la façon d'un `is`. Pour obtenir le comportement \"logique\", il faut par exemple redéfinir les opérateurs `__eq__`et `__ne__` à tous les niveaux :"
   ]
  },
  {
   "cell_type": "code",
   "execution_count": 16,
   "metadata": {
    "collapsed": false,
    "internals": {},
    "slideshow": {
     "slide_type": "-"
    }
   },
   "outputs": [
    {
     "data": {
      "text/plain": [
       "(False, False, True)"
      ]
     },
     "execution_count": 16,
     "metadata": {},
     "output_type": "execute_result"
    }
   ],
   "source": [
    "class Vecteur(object):\n",
    "    def __init__(self,x=0,y=0,z=0):\n",
    "        self.__x, self.__y, self.__z = x, y, z\n",
    "    def __str__(self):\n",
    "        return \"%d|%d|%d\" % ( self.__x, self.__y, self.__z )\n",
    "        \n",
    "class Impulsion(object):\n",
    "    def __init__(self,x=0,y=0,z=0,m=0):\n",
    "        self.__vitesse = Vecteur(x,y,z)\n",
    "        self.__masse = m\n",
    "    def __str__(self):\n",
    "        return \"%s|%d\" % ( self.__vitesse.__str__(), self.__masse )\n",
    "\n",
    "i1 = Impulsion(1,2,3,4)\n",
    "\n",
    "import copy\n",
    "i2 = copy.deepcopy(i1)\n",
    "\n",
    "(i1 is i2, i1==i2, i1!=i2)"
   ]
  },
  {
   "cell_type": "code",
   "execution_count": 14,
   "metadata": {
    "collapsed": false,
    "internals": {},
    "slideshow": {
     "slide_type": "-"
    }
   },
   "outputs": [
    {
     "data": {
      "text/plain": [
       "(False, True, True)"
      ]
     },
     "execution_count": 14,
     "metadata": {},
     "output_type": "execute_result"
    }
   ],
   "source": [
    "class Vecteur(object):\n",
    "    def __init__(self,x=0,y=0,z=0):\n",
    "        self.__x = x\n",
    "        self.__y = y\n",
    "        self.__z = z\n",
    "    def __str__(self):\n",
    "        return \"%d|%d|%d\" % ( self.__x, self.__y, self.__z )\n",
    "    def __eq__(self,other):\n",
    "        return ( self.__x==other.__x ) and ( self.__y==other.__y ) and ( self.__z==other.__z )\n",
    "        \n",
    "class Impulsion(object):\n",
    "    def __init__(self,x=0,y=0,z=0,m=0):\n",
    "        self.__vitesse = Vecteur(x,y,z)\n",
    "        self.__masse = m\n",
    "    def __str__(self):\n",
    "        return \"%s|%d\" % ( self.__vitesse.__str__(), self.__masse )\n",
    "    def __eq__(self,other): \n",
    "        return ( self.__vitesse==other.__vitesse ) and ( self.__masse==other.__masse )\n",
    "\n",
    "i1 = Impulsion(1,2,3,4)\n",
    "\n",
    "import copy\n",
    "i2 = copy.deepcopy(i1)\n",
    "\n",
    "(i1 is i2, i1==i2, i1!=i2)"
   ]
  },
  {
   "cell_type": "code",
   "execution_count": 17,
   "metadata": {
    "collapsed": false,
    "internals": {},
    "slideshow": {
     "slide_type": "-"
    }
   },
   "outputs": [
    {
     "data": {
      "text/plain": [
       "(False, True, False)"
      ]
     },
     "execution_count": 17,
     "metadata": {},
     "output_type": "execute_result"
    }
   ],
   "source": [
    "class Vecteur:\n",
    "    def __init__(self,x=0,y=0,z=0):\n",
    "        self.__x = x\n",
    "        self.__y = y\n",
    "        self.__z = z\n",
    "    def __str__(self):\n",
    "        return \"%d|%d|%d\" % ( self.__x, self.__y, self.__z )\n",
    "    def __eq__(self,other):\n",
    "        return ( self.__x==other.__x ) and ( self.__y==other.__y ) and ( self.__z==other.__z )\n",
    "    def __ne__(self,other): return not(self==other)\n",
    "        \n",
    "class Impulsion:\n",
    "    def __init__(self,x=0,y=0,z=0,m=0):\n",
    "        self.__vitesse = Vecteur(x,y,z)\n",
    "        self.__masse = m\n",
    "    def __str__(self):\n",
    "        return \"%s|%d\" % ( self.__vitesse.__str__(), self.__masse )\n",
    "    def __eq__(self,other): \n",
    "        return ( self.__vitesse==other.__vitesse ) and ( self.__masse==other.__masse )\n",
    "    def __ne__(self,other): return not(self==other)\n",
    "\n",
    "i1 = Impulsion(1,2,3,4)\n",
    "\n",
    "import copy\n",
    "i2 = copy.deepcopy(i1)\n",
    "\n",
    "(i1 is i2, i1==i2, i1!=i2)"
   ]
  },
  {
   "cell_type": "markdown",
   "metadata": {},
   "source": [
    "*Ce notebook de David Chamont est distribué par Devlog sous licence Creative Commons - Attribution - Pas d’Utilisation Commerciale - Partage dans les Mêmes Conditions. La description complète de la license est disponible à l'adresse web http://creativecommons.org/licenses/by-nc-sa/4.0/.\n",
    "Travail initié en 2014 dans le cadre d'une série de formations Python organisées par le réseau Devlog, avec relectures de Nicolas Can, Sekou Diakite, Loic Gouarin et Christophe Halgand.*"
   ]
  }
 ],
 "metadata": {
  "kernelspec": {
   "display_name": "Python 2",
   "language": "python",
   "name": "python2"
  },
  "language_info": {
   "codemirror_mode": {
    "name": "ipython",
    "version": 2
   },
   "file_extension": ".py",
   "mimetype": "text/x-python",
   "name": "python",
   "nbconvert_exporter": "python",
   "pygments_lexer": "ipython2",
   "version": "2.7.10"
  }
 },
 "nbformat": 4,
 "nbformat_minor": 0
}
