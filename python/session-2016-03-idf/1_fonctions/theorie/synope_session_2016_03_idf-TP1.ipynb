{
 "cells": [
  {
   "cell_type": "markdown",
   "metadata": {
    "slideshow": {
     "slide_type": "-"
    }
   },
   "source": [
    "*Ce notebook est distribué par Devlog sous licence Creative Commons - Attribution - Pas d’Utilisation Commerciale - Partage dans les Mêmes Conditions. La description complète de la license est disponible à l'adresse web http://creativecommons.org/licenses/by-nc-sa/4.0/.*"
   ]
  },
  {
   "cell_type": "markdown",
   "metadata": {
    "slideshow": {
     "slide_type": "slide"
    }
   },
   "source": [
    "# Initiation à Python, printemps 2016, Ile-de-France\n",
    "\n",
    "Ensemble de formations organisées en coopération avec les réseaux LoOPS, PICo-DevLog,  \n",
    "et le pôle formation du Service Mutualisé d’Ile-de-France du CNRS.\n",
    "\n",
    "<img src=\"img/python-logo-TM.png\" />"
   ]
  },
  {
   "cell_type": "markdown",
   "metadata": {
    "slideshow": {
     "slide_type": "slide"
    }
   },
   "source": [
    "## Formateurs\n",
    "\n",
    "| Où |  Quand | Qui |\n",
    "|----|--------|-----|\n",
    "| Gif | 29-30-31 mars | David Chamont & Loic Gouarin  |\n",
    "| Meudon | 6-7-8 avril | Dmitry Khvorostyanov & Marc-Antoine Drouin |\n",
    "| Villejiuf | 11-12-13 mai | Dmitry Khvorostyanov & Christophe Gengembre |"
   ]
  },
  {
   "cell_type": "markdown",
   "metadata": {
    "slideshow": {
     "slide_type": "slide"
    }
   },
   "source": [
    "## Auteurs\n",
    "\n",
    "Vous trouverez à la fin de chaque notebook des informations sur les auteurs\n",
    "historiques des modules, et les contributeurs ultérieurs. L'ensemble a été\n",
    "initié dans le cadre du projet \"Notebooks Python\" du réseau Devlog, et\n",
    "poursuivi dans le cadre du projet \"Synopé\", qui marque le passage de\n",
    "IPython à Jupyter, et la volonté d'essayer d'autres langages (C++).\n",
    "\n",
    "* auteurs originaux : Nicolas Can (Min2Rien - DR18), Sékou Diakité (DevelopR6 - DR6),\n",
    "Loïc Gouarin (LOOPs - DR4), Christophe Halgand (CEPAge - DR15), David Chamont (LOOPs - DR4).\n",
    "* ajouts pour cette session : Loic Gouarin (calcul & ellipsoides), David Chamont (fonctions), Marc-Antoine Drouin (outils et bonnes pratiques), Christophe Gengembre (modules), Dmitry Khvorostyanov (ellipsoides).\n",
    "\n",
    "Les quizz ont été réalisés par Guillaume Harry, et inspirés par les quiz du MOOC Python porté par Arnaud Legout & Thierry Parmentelat (Inria)."
   ]
  },
  {
   "cell_type": "markdown",
   "metadata": {
    "slideshow": {
     "slide_type": "slide"
    }
   },
   "source": [
    "## Travaux pratiques 1: vos premières fonctions\n",
    "\n",
    "1. Ecrivez une fonction qui renvoie les coordonnées de la superellipse (courbe de Lamé, https://fr.wikipedia.org/wiki/Courbe_de_Lamé). \n",
    "\n",
    "Les paramètres d'entrée:\n",
    "* n : nombre de points de discrétisation en theta\n",
    "* rx : rayon suivant x\n",
    "* ry : rayon suivant y\n",
    "* m : puissance dans l'expression de la superellipse.\n",
    "\n",
    "Les paramètres de sortie:\n",
    "Une liste des coordonnées de la superellipse.\n",
    "\n",
    "Ecrivez une fonction intermédiaire *linspace* qui prend en entrée 3 arguments *a*, *b*, *n* et renvoie la liste de taille *n* des points de discrétisation sur l'intervalle [a,b]. \n",
    "\n",
    "\n",
    "2. Ecrivez une fonction qui renvoie les coordonnées de la superellipsoid (https://en.wikipedia.org/wiki/Superellipsoid)\n",
    "\n",
    "Paramètres d'entrée:\n",
    "\n",
    "* n : nombre de points de discrétisation en theta et en phi\n",
    "* rx : rayon suivant x\n",
    "* ry : rayon suivant y\n",
    "* rz : rayon suivant z\n",
    "* m1, m2 : puissances dans l'expression de la superellipsoid.\n",
    "\n",
    "Paramètres de sortie :\n",
    "une liste des coordonnées de la superellipsoid.\n"
   ]
  }
 ],
 "metadata": {
  "kernelspec": {
   "display_name": "Python 3",
   "language": "python",
   "name": "python3"
  },
  "language_info": {
   "codemirror_mode": {
    "name": "ipython",
    "version": 3
   },
   "file_extension": ".py",
   "mimetype": "text/x-python",
   "name": "python",
   "nbconvert_exporter": "python",
   "pygments_lexer": "ipython3",
   "version": "3.5.1"
  }
 },
 "nbformat": 4,
 "nbformat_minor": 0
}
