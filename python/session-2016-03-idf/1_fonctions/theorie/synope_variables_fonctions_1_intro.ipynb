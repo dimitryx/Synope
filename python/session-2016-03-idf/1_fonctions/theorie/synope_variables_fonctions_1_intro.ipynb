{
 "cells": [
  {
   "cell_type": "markdown",
   "metadata": {},
   "source": [
    "*Ce notebook est distribué par Devlog sous licence Creative Commons - Attribution - Pas d’Utilisation Commerciale - Partage dans les Mêmes Conditions. La description complète de la license est disponible à l'adresse web http://creativecommons.org/licenses/by-nc-sa/4.0/.*"
   ]
  },
  {
   "cell_type": "markdown",
   "metadata": {},
   "source": [
    "# Initiation Python - Variables et fonctions 1/N - Bases"
   ]
  },
  {
   "cell_type": "markdown",
   "metadata": {
    "internals": {
     "slide_type": "subslide"
    },
    "slideshow": {
     "slide_type": "slide"
    }
   },
   "source": [
    "##  Qu'est ce que Python ?\n",
    "\n",
    "Python, créé par **Guido van Rossum** en 1989, \n",
    "\n",
    "- est placé sous **une licence libre** proche de la licence BSD2\n",
    "- **fonctionne sur la plupart des plates-formes informatiques**, des supercalculateurs aux ordinateurs centraux, de Windows à Unix en passant par GNU/Linux, Mac OS, ou encore Android, iOS, et aussi avec Java ou encore .NET. \n",
    "\n",
    "Il est conçu pour optimiser la productivité des programmeurs en offrant des outils de haut niveau et une syntaxe simple à utiliser."
   ]
  },
  {
   "cell_type": "markdown",
   "metadata": {
    "internals": {
     "slide_helper": "subslide_end",
     "slide_type": "subslide"
    },
    "slide_helper": "slide_end",
    "slideshow": {
     "slide_type": "slide"
    }
   },
   "source": [
    "## Que peut-on faire avec Python ?\n",
    "\n",
    "**Web** ⇨ `Django, TurboGears, Zope, Plone...`\n",
    "    \n",
    "**Bases de données** ⇨ `MySQL, PostgrSQL, Oracle...`\n",
    "    \n",
    "**Réseaux**  ⇨   `TwistedMatrix, PyRO, scapy, forensics...`\n",
    "    \n",
    "**UI** ⇨ `Gtk, Qt, Tcl/Tk, WxWidgets, Kivy...`\n",
    "    \n",
    "**Représentation graphique** ⇨ `gnuplot, matplotlib, VTK, ...`\n",
    "    \n",
    "**Calcul scientifique** ⇨  `numpy, scipy, sage, ...`\n",
    "\n",
    "..."
   ]
  },
  {
   "cell_type": "markdown",
   "metadata": {
    "internals": {
     "slide_helper": "subslide_end",
     "slide_type": "subslide"
    },
    "slide_helper": "slide_end",
    "slideshow": {
     "slide_type": "slide"
    }
   },
   "source": [
    "## Principales caractéristiques de ce langage\n",
    "\n",
    "Python est un langage de programmation qui permet de travailler plus vite.\n",
    "\n",
    "- langage de programmation à usage général de haut niveau\n",
    "- riche et polyvalent\n",
    "- interprété\n",
    "- ouvert et multiplateforme\n",
    "- facilité d'apprentissage et de mise en oeuvre\n",
    "- diversité des outils de développement\n",
    "- stable/mature, très répandu et évolutif"
   ]
  },
  {
   "cell_type": "markdown",
   "metadata": {
    "internals": {
     "slide_helper": "subslide_end",
     "slide_type": "subslide"
    },
    "slide_helper": "slide_end",
    "slideshow": {
     "slide_type": "slide"
    }
   },
   "source": [
    "## Comment est traduit mon code en langage machine ?\n",
    "\n",
    "Il existe 2 techniques principales pour effectuer la traduction en langage machine de mon code source :\n",
    "\n",
    "- Interprétation\n",
    "<img src=\"img/Interpretation.png\" />\n",
    "\n",
    "- Compilation\n",
    "<img src=\"img/Compilation.png\" />"
   ]
  },
  {
   "cell_type": "markdown",
   "metadata": {
    "internals": {
     "slide_helper": "subslide_end",
     "slide_type": "subslide"
    },
    "slide_helper": "slide_end",
    "slideshow": {
     "slide_type": "slide"
    }
   },
   "source": [
    "## Comment est traduit mon code en langage machine ?\n",
    "\n",
    "** Qu'en est-il pour mon code Python ? **\n",
    "\n",
    "<img src=\"img/TraductionPython.png\" />\n",
    "\n",
    "Nota : il est possible de générer des exécutables win32."
   ]
  },
  {
   "cell_type": "markdown",
   "metadata": {
    "internals": {
     "slide_helper": "subslide_end",
     "slide_type": "subslide"
    },
    "slide_helper": "slide_end",
    "slideshow": {
     "slide_type": "slide"
    }
   },
   "source": [
    "## Les implémentations de Python\n",
    "\n",
    "Il existe plusieurs implémentations de python, qui permettent notamment d'étendre le langage avec des bibliothèques dans d'autres langages :\n",
    "- **CPython** : L'interpréteur de référence de python. Il génère du byte-code python.pyc. Écrit en C; il permet d'étendre le langage avec des librairies C.\n",
    "- **Jython** : Interpréteur qui permet de coupler du python et du java dans le même programme, génère du byte-code JAVA.\n",
    "- **IronPython** : Implémentation de python qui vise .Net et Mono, permet de coupler python avec le framework .Net.\n",
    "- **Pypy** : Implémentation de Python en Python; projet de recherche pour obtenir une implémentation plus rapide que l'implémentation de référence (CPython).\n",
    "\n",
    "Plus d'informations sur les implémentations [ici](https://wiki.python.org/moin/PythonImplementations)"
   ]
  },
  {
   "cell_type": "markdown",
   "metadata": {
    "internals": {
     "slide_helper": "subslide_end",
     "slide_type": "subslide"
    },
    "slide_helper": "slide_end",
    "slideshow": {
     "slide_type": "slide"
    }
   },
   "source": [
    "## Premiers pas à l'interpréteur interactif\n",
    "\n",
    "L'aide dans IPython, c'est aussi :\n",
    "- **help(\"topics\")** : énumère les différents \"concepts\" Python au sujet desquels on peut demander de l'aide ; frapper ensuite\n",
    "- **help(\"SUJET\")** pour avoir de l'aide sur le SUJET souhaité\n",
    "- **help(objet)** : affiche des informations sur l'objet Python spécifié (variable, fonction...) tel que son type, ses méthodes...\n",
    "- **help(\"module\")** : affiche l'aide relative au module spécifié ; si le module est importé on peut directement faire help(module)\n",
    "- **help(\"module.objet\")** : affiche directement l'aide relative à l'objet spécifié du module\n",
    "\n",
    "Pour vous donner une idée exécuter et modifiez les commandes suivantes :\n",
    "~~~python\n",
    "help(\"print\")\n",
    "print(\"Hello World !\")\n",
    "1+1\n",
    "~~~"
   ]
  },
  {
   "cell_type": "markdown",
   "metadata": {
    "internals": {
     "slide_helper": "subslide_end",
     "slide_type": "subslide"
    },
    "slide_helper": "slide_end",
    "slideshow": {
     "slide_type": "slide"
    }
   },
   "source": [
    "## Initiation à la syntaxe de python\n",
    "\n",
    "Python est sensible aux noms des variables. Il n'aime pas les accents (théoriquement plus avec python 3 puisqu'il travaille en unicode) mais différencie les minuscules des majuscules. Nous resterons en ASCII pour éviter tout litige.\n",
    "\n",
    "Comme tout langage, Python a ses mots clés :\n",
    "~~~python\n",
    "help(\"keywords\")\n",
    "~~~\n",
    "\n",
    "    False       def         if          raise\n",
    "    None        del         import      return\n",
    "    True        elif        in          try\n",
    "    and         else        is          while\n",
    "    as          except      lambda      with\n",
    "    assert      finally     nonlocal    yield\n",
    "    break       for         not                 \n",
    "    class       from        or                  \n",
    "    continue    global      pass                \n",
    "\n",
    "Nous allons maintenant voir **les types simples** et **les types containers**"
   ]
  },
  {
   "cell_type": "markdown",
   "metadata": {
    "internals": {
     "slide_helper": "subslide_end",
     "slide_type": "subslide"
    },
    "slide_helper": "slide_end",
    "slideshow": {
     "slide_type": "slide"
    }
   },
   "source": [
    "## Les types simples\n",
    "\n",
    "4 types simples : **booléen, entier**, réel et complexe flottant\n",
    "\n",
    "- **Booléen**\n",
    "    ~~~python\n",
    "    # le type booléen prend les valeurs True ou False\n",
    "    logique = True\n",
    "    logique = False\n",
    "    type(logique)\n",
    "    ~~~\n",
    "\n",
    "- **Entier**\n",
    "    ~~~python\n",
    "    # int : entier de précision illimitée !\n",
    "    a = 2 ; i = -12\n",
    "    v = 2**80         # => 1208925819614629174706176\n",
    "      # définition d'entiers en binaire, octal ou hexadéc.:\n",
    "    k = 0b111         # => 7\n",
    "    m = 0o77          # => 63\n",
    "    n = 0xff          # => 255\n",
    "      # conv. chaînes bin/octal/hexa en entier & vice-versa:\n",
    "    int('111',2)  # => 7,   et inverse: bin(7)   => '0b111'\n",
    "    int('77',8)   # => 63,  et inverse: oct(63)  => '0o77'\n",
    "    int('ff',16)  # => 255, et inverse: hex(255) => '0xff'\n",
    "    ~~~\n",
    "    \n",
    "- *Remarque 1* : Vous aurez remarqué l'absence de \";\" en fin de ligne. Il n'est utilisé que si il y a plusieurs instructions sur la même ligne\n",
    "- *Remarque 2* : La fonction **type()** vous permet de connaitre le type de la variable\n",
    "- *Remarque 3* : le symbole **#** permet d'écrire un commentaire jusqu'au retour à la ligne"
   ]
  },
  {
   "cell_type": "markdown",
   "metadata": {
    "internals": {
     "slide_helper": "subslide_end",
     "slide_type": "subslide"
    },
    "slide_helper": "slide_end",
    "slideshow": {
     "slide_type": "slide"
    }
   },
   "source": [
    "## Les types simples\n",
    "\n",
    "4 types simples : booléen, entier, **réel et complexe flottant**\n",
    "\n",
    "- **Réel**\n",
    "    ~~~python\n",
    "    # float : flottant 64 bits\n",
    "    b = -3.3 ; r = 3e10\n",
    "    abs(b)            # => 3.3\n",
    "      # arrondi et conversion\n",
    "    int(3.67)         # => 3 (int)\n",
    "    int(-3.67)        # => -4 (int)\n",
    "    round(3.67)       # => 4 (int), comme round(3.67, 0)\n",
    "    round(3.67,1)     # => 3.7 (float)\n",
    "    round(133,-1)     # => 130 (int)\n",
    "    round(133,-2)     # => 100 (int)\n",
    "    ~~~\n",
    "- **Complexe flottant**\n",
    "    ~~~python\n",
    "    # complex : complexe flottant\n",
    "    cplx = 3.4 + 2.1j # ou:  cplx = complex(3.4, 2.1)\n",
    "    cplx.real         # => 3.4\n",
    "    cplx.imag         # => 2.1\n",
    "    ~~~\n",
    "\n",
    "- *Remarque* : Python est un langage objet. Vous verrez qu'il existe des méthodes associés à un type comme ici pour les nombres complexes"
   ]
  },
  {
   "cell_type": "markdown",
   "metadata": {
    "internals": {
     "slide_helper": "subslide_end",
     "slide_type": "subslide"
    },
    "slide_helper": "slide_end",
    "slideshow": {
     "slide_type": "slide"
    }
   },
   "source": [
    "## Interaction avec l'écran et le clavier\n",
    "\n",
    "Deux fonctions vont nous être utiles : Lesquelles ? Une idée ?\n",
    "\n",
    "1. rechercher la syntaxe de ces fonctions.\n",
    "\n",
    "2. si a=3 et b=2 afficher le produit de a et de b\n",
    "\n",
    "3. Assigner à la variable *nom* la réponse à la question : *Quel est votre nom ?*\n",
    "\n",
    "4. Assigner à la variable *age* la réponse à la question : *Quel âge avez-vous ?*\n",
    "\n",
    "5. De quel type est votre variable *age* ?\n",
    "\n",
    "6. Convertissez le contenu de la variable *age* en binaire puis en hexadécimal..."
   ]
  },
  {
   "cell_type": "markdown",
   "metadata": {
    "internals": {
     "slide_type": "subslide"
    },
    "slideshow": {
     "slide_type": "slide"
    }
   },
   "source": [
    "## Interaction avec l'écran et le clavier\n",
    "\n",
    "Deux fonctions vont nous être utiles : **PRINT** et **INPUT**\n",
    "\n",
    "- help(\"print\");help(\"input\")\n",
    "    - print(arguments)\n",
    "    - input(prompt) \n",
    "        - Attention, si vous souhaitez entrer une chaine de caractère, il vous faudra utiliser les quotes ou les doubles quotes.\n"
   ]
  },
  {
   "cell_type": "code",
   "execution_count": 1,
   "metadata": {
    "collapsed": false
   },
   "outputs": [
    {
     "name": "stdout",
     "output_type": "stream",
     "text": [
      "Help on built-in function print in module builtins:\n",
      "\n",
      "print(...)\n",
      "    print(value, ..., sep=' ', end='\\n', file=sys.stdout, flush=False)\n",
      "    \n",
      "    Prints the values to a stream, or to sys.stdout by default.\n",
      "    Optional keyword arguments:\n",
      "    file:  a file-like object (stream); defaults to the current sys.stdout.\n",
      "    sep:   string inserted between values, default a space.\n",
      "    end:   string appended after the last value, default a newline.\n",
      "    flush: whether to forcibly flush the stream.\n",
      "\n",
      "Help on method raw_input in module ipykernel.kernelbase:\n",
      "\n",
      "input = raw_input(prompt='') method of ipykernel.ipkernel.IPythonKernel instance\n",
      "    Forward raw_input to frontends\n",
      "    \n",
      "    Raises\n",
      "    ------\n",
      "    StdinNotImplentedError if active frontend doesn't support stdin.\n",
      "\n"
     ]
    }
   ],
   "source": [
    "help(\"print\");help(\"input\")"
   ]
  },
  {
   "cell_type": "code",
   "execution_count": 2,
   "metadata": {
    "collapsed": false,
    "internals": {},
    "slideshow": {
     "slide_type": "-"
    }
   },
   "outputs": [
    {
     "name": "stdout",
     "output_type": "stream",
     "text": [
      "Le produit de 3 et 2 est 6\n"
     ]
    }
   ],
   "source": [
    "a=3; b=2; print('Le produit de', a, 'et', b, 'est', a*b)"
   ]
  },
  {
   "cell_type": "code",
   "execution_count": null,
   "metadata": {
    "collapsed": false,
    "internals": {},
    "slideshow": {
     "slide_type": "-"
    }
   },
   "outputs": [],
   "source": [
    "nom = input(\"Quel est votre nom ?\")"
   ]
  },
  {
   "cell_type": "code",
   "execution_count": null,
   "metadata": {
    "collapsed": false,
    "internals": {},
    "slideshow": {
     "slide_type": "-"
    }
   },
   "outputs": [],
   "source": [
    "age = input(\"Quel âge avez-vous ?\")"
   ]
  },
  {
   "cell_type": "code",
   "execution_count": null,
   "metadata": {
    "collapsed": false,
    "internals": {},
    "slideshow": {
     "slide_type": "-"
    }
   },
   "outputs": [],
   "source": [
    "type(age)"
   ]
  },
  {
   "cell_type": "code",
   "execution_count": null,
   "metadata": {
    "collapsed": false,
    "internals": {
     "slide_helper": "subslide_end"
    },
    "slide_helper": "slide_end",
    "slideshow": {
     "slide_type": "-"
    }
   },
   "outputs": [],
   "source": [
    "print(bin(age)) ; print (hex(age))"
   ]
  },
  {
   "cell_type": "markdown",
   "metadata": {
    "internals": {
     "slide_type": "subslide"
    },
    "slideshow": {
     "slide_type": "slide"
    }
   },
   "source": [
    "## Instruction sur plusieurs lignes et commentaires\n",
    "\n",
    "Imaginons que nous sommes des linguistes, on veut étudier la première phrase de présentation du CNRS :\n",
    "\n",
    "\"Le Centre national de la recherche scientifique est un organisme public de recherche  (Etablissement public à caractère scientifique et technologique, placé sous la tutelle du Ministère de l'Éducation nationale, de l'Enseignement supérieur et de la Recherche). Il produit du savoir et met ce savoir au service de la société.\"\n",
    "\n",
    "- Faites afficher cette phrase : print \"blabla\""
   ]
  },
  {
   "cell_type": "code",
   "execution_count": null,
   "metadata": {
    "collapsed": false,
    "internals": {},
    "slideshow": {
     "slide_type": "-"
    }
   },
   "outputs": [],
   "source": [
    "print(\"Le Centre national de la recherche scientifique est un organisme public de recherche (Etablissement public à caractère scientifique et technologique, placé sous la tutelle du Ministère de l'Éducation nationale, de l'Enseignement supérieur et de la Recherche).\")"
   ]
  },
  {
   "cell_type": "markdown",
   "metadata": {
    "internals": {},
    "slideshow": {
     "slide_type": "-"
    }
   },
   "source": [
    "Pour des raisons de libilité et de portabilité, le [guide de style Python](https://www.python.org/dev/peps/pep-0008/#maximum-line-length) recommande de ne pas dépasser 79 caractères sur une ligne de code..."
   ]
  },
  {
   "cell_type": "code",
   "execution_count": null,
   "metadata": {
    "collapsed": false,
    "internals": {},
    "slideshow": {
     "slide_type": "-"
    }
   },
   "outputs": [],
   "source": [
    "print(\"Le Centre national de la recherche scientifique est un organisme public de recherche \\\n",
    "(Etablissement public à caractère scientifique et technologique, placé sous la tutelle \\\n",
    "du Ministère de l'Éducation nationale, de l'Enseignement supérieur et de la Recherche)\")"
   ]
  },
  {
   "cell_type": "markdown",
   "metadata": {
    "internals": {
     "slide_helper": "subslide_end"
    },
    "slide_helper": "slide_end",
    "slideshow": {
     "slide_type": "-"
    }
   },
   "source": [
    "Essayer en utilisant des apostrophes à la place des guillemets..."
   ]
  },
  {
   "cell_type": "markdown",
   "metadata": {
    "internals": {
     "slide_type": "subslide"
    },
    "slideshow": {
     "slide_type": "slide"
    }
   },
   "source": [
    "## Instruction sur plusieurs lignes et commentaires"
   ]
  },
  {
   "cell_type": "code",
   "execution_count": null,
   "metadata": {
    "collapsed": false,
    "internals": {},
    "slideshow": {
     "slide_type": "-"
    }
   },
   "outputs": [],
   "source": [
    "print('pourtant ca marche avec ces apostrophes')"
   ]
  },
  {
   "cell_type": "markdown",
   "metadata": {
    "internals": {},
    "slideshow": {
     "slide_type": "-"
    }
   },
   "source": [
    "Vous avez des apostrophes dans votre chaine de caractères, utilisez les guillemets :"
   ]
  },
  {
   "cell_type": "code",
   "execution_count": null,
   "metadata": {
    "collapsed": false,
    "internals": {},
    "slideshow": {
     "slide_type": "-"
    }
   },
   "outputs": [],
   "source": [
    "print(\"Puisqu'il pleut, jusqu'à demain, c'est...\")"
   ]
  },
  {
   "cell_type": "markdown",
   "metadata": {
    "internals": {
     "slide_helper": "subslide_end"
    },
    "slide_helper": "slide_end",
    "slideshow": {
     "slide_type": "-"
    }
   },
   "source": [
    "Pour les commentaires sur plusieurs lignes, vous pouvez utiliser le triple guillement ou le triple apostrophe...\n",
    "\n",
    "~~~python\n",
    "\"\"\"ceci est un commentaire sur\n",
    "plusieurs lignes\"\"\"\n",
    "'''ceci est un autre commentaire sur\n",
    "plusieurs lignes'''\n",
    "# Rappel : celui-ci n'est valable que jusqu'à la fin de la ligne\n",
    "~~~"
   ]
  },
  {
   "cell_type": "markdown",
   "metadata": {
    "internals": {
     "slide_helper": "subslide_end",
     "slide_type": "subslide"
    },
    "slide_helper": "slide_end",
    "slideshow": {
     "slide_type": "slide"
    }
   },
   "source": [
    "## Assignation simple et multiple\n",
    "\n",
    "L'assignation se fait avec le signe \"**=**\"\n",
    "\n",
    "~~~python\n",
    "# Que valent a et b ?\n",
    "a=2;b=3\n",
    "a,b=2,3\n",
    "a = b = 4\n",
    "a,b=b,a\n",
    "~~~\n",
    "\n",
    "On reviendra sur les tuples mais voici un exemple :\n",
    "~~~python\n",
    "tuple1=(1,'python')\n",
    "x,y=tuple1\n",
    "# Que valent x et y ?\n",
    "~~~\n",
    "\n",
    "- Référencement\n",
    "~~~python\n",
    "x='python'   # création de la donnée \"python\" référencé par \"x\"\n",
    "type(x)      # l'OBJET référencé est de type \"str\"\n",
    "id(x)        # 4297861808 (adresse mémoire)\n",
    "y=x          # nouvelle variable pointant sur la même donnée\n",
    "id(y)        # 4297861808 (même adresse mémoire)\n",
    "x=123        # création de la donnée \"123\" et changement de référencement pour \"x\"\n",
    "type(x)      # l'OBJET référencé est de type \"int\"\n",
    "id(x)        # 4299222384 (x pointe vers une autre adresse mémoire)\n",
    "del(y)       # on supprime le référencement de y sur la donnée \"python\"\n",
    "             # le garbage collector supprimera la donnée automatiquement\n",
    "             # libérant ainsi de la mémoire...\n",
    "~~~\n"
   ]
  },
  {
   "cell_type": "markdown",
   "metadata": {
    "internals": {
     "slide_type": "subslide"
    },
    "slideshow": {
     "slide_type": "slide"
    }
   },
   "source": [
    "## Opérateurs de base\n",
    "\n",
    "Les opérateurs mathématiques de bases sont :\n",
    "\n",
    "- les classiques : ** + - / \\* **\n",
    "- la division entière tronquée : //\n",
    "- la puissance : \\**\n",
    "- le modulo : %"
   ]
  },
  {
   "cell_type": "code",
   "execution_count": null,
   "metadata": {
    "collapsed": false,
    "internals": {},
    "slideshow": {
     "slide_type": "-"
    }
   },
   "outputs": [],
   "source": [
    "print(3+2); print(3-2); print (3*2);"
   ]
  },
  {
   "cell_type": "code",
   "execution_count": null,
   "metadata": {
    "collapsed": false,
    "internals": {},
    "slideshow": {
     "slide_type": "-"
    }
   },
   "outputs": [],
   "source": [
    "print(3/2) ;print(3/2.) ;print(3//2) # Attention en python2"
   ]
  },
  {
   "cell_type": "code",
   "execution_count": null,
   "metadata": {
    "collapsed": false,
    "internals": {},
    "slideshow": {
     "slide_type": "-"
    }
   },
   "outputs": [],
   "source": [
    "print(10**2); print(3%2)"
   ]
  },
  {
   "cell_type": "markdown",
   "metadata": {
    "internals": {},
    "slideshow": {
     "slide_type": "-"
    }
   },
   "source": [
    "On pourra noter que la fonction divmod(a,b) renvoie le tuple (a//b,a%b)"
   ]
  },
  {
   "cell_type": "code",
   "execution_count": null,
   "metadata": {
    "collapsed": false,
    "internals": {
     "slide_helper": "subslide_end"
    },
    "slide_helper": "slide_end",
    "slideshow": {
     "slide_type": "-"
    }
   },
   "outputs": [],
   "source": [
    "divmod(3,2)"
   ]
  },
  {
   "cell_type": "markdown",
   "metadata": {
    "internals": {
     "slide_type": "subslide"
    },
    "slideshow": {
     "slide_type": "slide"
    }
   },
   "source": [
    "## Opérateurs de base\n",
    "-----\n",
    "\n",
    "Les opérateurs \"**+**\" et \"** \\* **\" s'appliquent aussi aux séquences (chaînes, listes, tuples)"
   ]
  },
  {
   "cell_type": "code",
   "execution_count": null,
   "metadata": {
    "collapsed": false,
    "internals": {},
    "slideshow": {
     "slide_type": "-"
    }
   },
   "outputs": [],
   "source": [
    "2*'a tchick ' + 3*'aie '"
   ]
  },
  {
   "cell_type": "markdown",
   "metadata": {
    "internals": {
     "slide_helper": "subslide_end"
    },
    "slide_helper": "slide_end",
    "slideshow": {
     "slide_type": "-"
    }
   },
   "source": [
    "Les opérateurs pré- et post-incrémentations **++** et **--** n'existe pas en python. On utilisera à la place le **+=1** et le **-=1**\n",
    "\n",
    "~~~python\n",
    "# Que vous renvoie :\n",
    "x=10\n",
    "x+=1\n",
    "x-=1\n",
    "x*=5\n",
    "x/=10\n",
    "x%=2\n",
    "\n",
    "fruit = 'pomme'\n",
    "fruit+='s'\n",
    "\n",
    "monTuple=(1,2,3)\n",
    "monTuple+=(4,)\n",
    "monTuple*=2\n",
    "~~~"
   ]
  },
  {
   "cell_type": "markdown",
   "metadata": {
    "internals": {
     "slide_helper": "subslide_end",
     "slide_type": "subslide"
    },
    "slide_helper": "slide_end",
    "slideshow": {
     "slide_type": "slide"
    }
   },
   "source": [
    "## Opérateurs de base\n",
    "\n",
    "~~~python\n",
    "x=10                # renvoie 10\n",
    "x+=1                # renvoie 11\n",
    "x-=1                # renvoie 10\n",
    "x*=5                # renvoie 50\n",
    "x/=10               # renvoie 5\n",
    "x%=2                # renvoie 1\n",
    "\n",
    "fruit = 'pomme'     # renvoie \"pomme\"\n",
    "fruit+='s'          # renvoie \"pommes\"\n",
    "\n",
    "monTuple=(1,2,3)    # renvoie (1,2,3)\n",
    "monTuple+=(4,)      # renvoie (1,2,3,4)\n",
    "monTuple*=2         # renvoie (1,2,3,4,1,2,3,4)\n",
    "~~~"
   ]
  },
  {
   "cell_type": "markdown",
   "metadata": {
    "internals": {
     "slide_helper": "subslide_end",
     "slide_type": "subslide"
    },
    "slide_helper": "slide_end",
    "slideshow": {
     "slide_type": "slide"
    }
   },
   "source": [
    "## Opérateurs de comparaison, d'objets et de logiques\n",
    "\n",
    "- Opérateurs de comparaison\n",
    "\n",
    "| opérateur |\n",
    "|-----------|\n",
    "| **==** | égal              |\n",
    "| **!=** | différent         |\n",
    "| **<**  | inférieur         |\n",
    "| **<=** | inférieur ou égal |\n",
    "| **>**  | supérieur         |\n",
    "| **>=** | supérieur ou égal |\n",
    "\n",
    "- Opérateurs d'objets\n",
    "\n",
    "| opérateur |\n",
    "|-----------|\n",
    "| is | même objet          |\n",
    "| in | membre du container |\n",
    "\n",
    "- Opérateurs de logiques\n",
    "\n",
    "| opérateur |\n",
    "|-----------|\n",
    "| not | négation logique |\n",
    "| and | ET logique |\n",
    "| or  | OU logique |\n"
   ]
  },
  {
   "cell_type": "markdown",
   "metadata": {
    "internals": {
     "slide_type": "subslide"
    },
    "slideshow": {
     "slide_type": "slide"
    }
   },
   "source": [
    "## Opérateurs de comparaison, d'objets et de logiques\n",
    "\n",
    "Ces opérateurs renvoient les valeurs logiques **True** ou **False** qui sont de type booléen."
   ]
  },
  {
   "cell_type": "code",
   "execution_count": null,
   "metadata": {
    "collapsed": false,
    "internals": {},
    "slideshow": {
     "slide_type": "-"
    }
   },
   "outputs": [],
   "source": [
    "a=1;b=2;a<b"
   ]
  },
  {
   "cell_type": "code",
   "execution_count": null,
   "metadata": {
    "collapsed": false,
    "internals": {},
    "slideshow": {
     "slide_type": "-"
    }
   },
   "outputs": [],
   "source": [
    "[\"a\",1,\"b\"] == [1,2,3]"
   ]
  },
  {
   "cell_type": "code",
   "execution_count": null,
   "metadata": {
    "collapsed": false,
    "internals": {},
    "slideshow": {
     "slide_type": "-"
    }
   },
   "outputs": [],
   "source": [
    "a=[1,2] ; b=[1,2]; a is b"
   ]
  },
  {
   "cell_type": "code",
   "execution_count": null,
   "metadata": {
    "collapsed": false,
    "internals": {},
    "slideshow": {
     "slide_type": "-"
    }
   },
   "outputs": [],
   "source": [
    "a=[1,2] ; b=a;     a is b"
   ]
  },
  {
   "cell_type": "code",
   "execution_count": null,
   "metadata": {
    "collapsed": false,
    "internals": {},
    "slideshow": {
     "slide_type": "-"
    }
   },
   "outputs": [],
   "source": [
    "2 in [1,2,3]"
   ]
  },
  {
   "cell_type": "markdown",
   "metadata": {
    "internals": {
     "slide_helper": "subslide_end"
    },
    "slide_helper": "slide_end",
    "slideshow": {
     "slide_type": "-"
    }
   },
   "source": [
    "En python, on peut chaîner les comparaisons :\n",
    "\n",
    "~~~python\n",
    "a=12\n",
    "10<a<20\n",
    "a>10 and a<20\n",
    "~~~"
   ]
  },
  {
   "cell_type": "markdown",
   "metadata": {
    "internals": {
     "slide_helper": "subslide_end",
     "slide_type": "subslide"
    },
    "slide_helper": "slide_end",
    "slideshow": {
     "slide_type": "slide"
    }
   },
   "source": [
    "## Plan\n",
    "-----\n",
    "\n",
    "1. Qu'est ce que Python ?\n",
    "2. La distribution Anaconda\n",
    "3. Initiation à la syntaxe de Python\n",
    "4. **Les types de données (containers)** ⇦\n",
    "    1. Les séquences\n",
    "        1. Les chaînes de caractères\n",
    "        2. Les listes\n",
    "        3. Les tuples\n",
    "    2. Les maps ou hash : dictionnaire\n",
    "    3. Les ensembles\n",
    "        1. Set\n",
    "        2. Forzenset\n",
    "    4. Récapitulatif sur les différents types de données\n",
    "5. Les structures de contrôle\n",
    "6. Pythonneries\n",
    "7. Exercice"
   ]
  },
  {
   "cell_type": "markdown",
   "metadata": {
    "internals": {
     "slide_helper": "subslide_end",
     "slide_type": "subslide"
    },
    "slide_helper": "slide_end",
    "slideshow": {
     "slide_type": "slide"
    }
   },
   "source": [
    "## Les structures de contrôle\n",
    "\n",
    "En python, les structures de contrôle existent par l'indentation des blocs de code. L'indentation est donc très importante en Python. Cette indentation apporte au langage une lisibilité et légereté au code (absence d'accolades, points-virgules,...)\n",
    "\n",
    "<img src=\"img/Instructions_Blocs.png\" />\n",
    "\n",
    "Le [guide de style Python](https://www.python.org/dev/peps/pep-0008/#indentation) mentionne qu'il est préférable d'utiliser les espaces que la tabulation. Il indique même 4 espaces par niveau d'indentation. Sous **Spyder**, nous pouvons gérer les caractères d'indentation dans : Outils/Préférences/Editeurs/Options avancées."
   ]
  },
  {
   "cell_type": "markdown",
   "metadata": {
    "internals": {
     "slide_type": "subslide"
    },
    "slideshow": {
     "slide_type": "slide"
    }
   },
   "source": [
    "## Exécution conditionelle if-elif-else\n",
    "\n",
    "La forme de cette structure de contrôle est montrée ci-dessous. Les parties **elif** et **else** sont bien sûr facultatifs."
   ]
  },
  {
   "cell_type": "code",
   "execution_count": null,
   "metadata": {
    "collapsed": false,
    "internals": {},
    "slideshow": {
     "slide_type": "-"
    }
   },
   "outputs": [],
   "source": [
    "a = 10.\n",
    "if a > 0:\n",
    "    print(\"a est strictement positif\")\n",
    "    if a >= 10:\n",
    "        print(\"a est un nombre\")\n",
    "    else:\n",
    "        print(\"a est un chiffre\")\n",
    "    a += 1\n",
    "elif a is not 0:\n",
    "    print(\"a est strictement negatif\")\n",
    "else:\n",
    "    print(\"a est nul\")"
   ]
  },
  {
   "cell_type": "markdown",
   "metadata": {
    "internals": {},
    "slideshow": {
     "slide_type": "-"
    }
   },
   "source": [
    "Comme dans d'autres langages, python offre l'écriture d'expression conditionnelle :"
   ]
  },
  {
   "cell_type": "code",
   "execution_count": null,
   "metadata": {
    "collapsed": false,
    "internals": {},
    "slideshow": {
     "slide_type": "-"
    }
   },
   "outputs": [],
   "source": [
    "a=10; print(\"a est positif\") if a>=0 else \"a est négatif\""
   ]
  },
  {
   "cell_type": "markdown",
   "metadata": {
    "slideshow": {
     "slide_type": "slide"
    }
   },
   "source": [
    "## Boucle FOR\n",
    "-----\n",
    "La boucle **for** permet d'itérer les valeurs d'une liste, d'un tuple, d'une chaîne ou de tout objet itérable. Comme dans les autres structures de contrôle, le caractère : (double point) définit le début du bloc d'instructions contrôlé par **for**."
   ]
  },
  {
   "cell_type": "code",
   "execution_count": null,
   "metadata": {
    "collapsed": false
   },
   "outputs": [],
   "source": [
    "# Sur listes ou tuples\n",
    "maList = [1,2,3]\n",
    "for n in maList:\n",
    "    print(n)"
   ]
  },
  {
   "cell_type": "markdown",
   "metadata": {},
   "source": [
    "Pour itérer sur une suite de nombres entiers, on utilise souvent la fonction **range**"
   ]
  },
  {
   "cell_type": "code",
   "execution_count": null,
   "metadata": {
    "collapsed": false
   },
   "outputs": [],
   "source": [
    "for index in range(len(maList)):  #Attention python2 : xrange est obsolète\n",
    "    print(index, maList[index])"
   ]
  },
  {
   "cell_type": "markdown",
   "metadata": {},
   "source": [
    "Vous pouvez également utiliser la fonction **enumerate** qui retourne un objet sur lequel vous pouvez itérer sur l'indice et la valeur d'une séquence."
   ]
  },
  {
   "cell_type": "code",
   "execution_count": null,
   "metadata": {
    "collapsed": false
   },
   "outputs": [],
   "source": [
    "for index,val in enumerate(maList):\n",
    "    print(index, val)"
   ]
  },
  {
   "cell_type": "markdown",
   "metadata": {
    "slideshow": {
     "slide_type": "slide"
    }
   },
   "source": [
    "## Boucle FOR"
   ]
  },
  {
   "cell_type": "code",
   "execution_count": null,
   "metadata": {
    "collapsed": false
   },
   "outputs": [],
   "source": [
    "# Sur chaînes\n",
    "voyelles = 'aeiouy'\n",
    "for car in 'chaine de catacteres':\n",
    "    if car in voyelles:\n",
    "        print(car)"
   ]
  },
  {
   "cell_type": "code",
   "execution_count": null,
   "metadata": {
    "collapsed": false
   },
   "outputs": [],
   "source": [
    "# Sur dictionnaires\n",
    "carres = {}\n",
    "for n in range(1,4):\n",
    "    carres[n] = n**2\n",
    "print(carres)"
   ]
  },
  {
   "cell_type": "code",
   "execution_count": null,
   "metadata": {
    "collapsed": false
   },
   "outputs": [],
   "source": [
    "for k in carres:  # itère par défaut sur la clé !\n",
    "  # identique à: for k in carres.keys():\n",
    "    print(k)"
   ]
  },
  {
   "cell_type": "markdown",
   "metadata": {
    "slideshow": {
     "slide_type": "slide"
    }
   },
   "source": [
    "## Boucle FOR"
   ]
  },
  {
   "cell_type": "code",
   "execution_count": null,
   "metadata": {
    "collapsed": false
   },
   "outputs": [],
   "source": [
    "for n in sorted(carres):\n",
    "  # identique à: for n in sorted(carres.keys()):\n",
    "    print(\"Carré de %u = %u\" % (n,carres[n]))"
   ]
  },
  {
   "cell_type": "markdown",
   "metadata": {},
   "source": [
    "De même, la méthode dictionnaire**.items()** retourne un objet permettant d'itérer sur la clé et la valeur de chaque élément d'un dictionnaire. Les méthodes **.keys()** et **.values()** retournent quant à elles respectivement les clés et les valeurs du dictionnaire."
   ]
  },
  {
   "cell_type": "code",
   "execution_count": null,
   "metadata": {
    "collapsed": false
   },
   "outputs": [],
   "source": [
    "for cle, val in carres.items():\n",
    "    print('Clé: %s, Valeur: %s' % (cle, val))"
   ]
  },
  {
   "cell_type": "markdown",
   "metadata": {
    "slideshow": {
     "slide_type": "slide"
    }
   },
   "source": [
    "## Boucle WHILE\n",
    "\n",
    "La boucle **while** permet d'exécuter un bloc d'instructions aussi longtemps qu'une condition (expression logique) est vraie."
   ]
  },
  {
   "cell_type": "code",
   "execution_count": null,
   "metadata": {
    "collapsed": false,
    "slideshow": {
     "slide_type": "-"
    }
   },
   "outputs": [],
   "source": [
    "nb = 1 ; stop = 3\n",
    "# Affiche le carré des nombres de nb à stop\n",
    "while nb <= stop:\n",
    "    print(nb, nb**2)\n",
    "    nb += 1"
   ]
  },
  {
   "cell_type": "markdown",
   "metadata": {
    "slideshow": {
     "slide_type": "slide"
    }
   },
   "source": [
    "## Instructions continue et break\n",
    "\n",
    "Dans une boucle **for** ou une boucle **while** :\n",
    "\n",
    "- l'instruction **continue** passe à l'itération suivante de la boucle courante (i.e. sans poursuivre l'exécution des instructions du bloc)\n",
    "- l'instruction **break** sort de la boucle courante\n"
   ]
  },
  {
   "cell_type": "code",
   "execution_count": null,
   "metadata": {
    "collapsed": false,
    "slideshow": {
     "slide_type": "-"
    }
   },
   "outputs": [],
   "source": [
    "# Affiche le carré des nombres impairs jusqu'à ce que\n",
    "# le carré atteigne 25, donc: 1  1 , 3  9 , 5  25\n",
    "for n in range(0, 10):\n",
    "    if (n % 2) == 0:  # nombre pair\n",
    "        continue      # => re-boucler\n",
    "    carre = n**2\n",
    "    if carre > 25:\n",
    "        break         # => sortir de la boucle\n",
    "    print(n, carre)"
   ]
  },
  {
   "cell_type": "markdown",
   "metadata": {
    "slideshow": {
     "slide_type": "slide"
    }
   },
   "source": [
    "# 7.Exercice\n",
    "-----\n",
    "\n",
    "## Énoncé :\n",
    "Écrivez un programme qui convertisse en degrés Celsius une température exprimée au départ en degrés Fahrenheit, ou l’inverse.\n",
    "\n",
    "- La formule de conversion est : TF = TC ×1,8+32\n",
    "- TF : température en degré Farenheit\n",
    "- TC : température en degré Celsius\n",
    "\n",
    "## Attendu \n",
    "- lecture au clavier\n",
    "- programme (juste et) stable"
   ]
  },
  {
   "cell_type": "markdown",
   "metadata": {
    "slideshow": {
     "slide_type": "slide"
    }
   },
   "source": [
    "## Configuration de l'éditeur\n",
    "-----\n",
    "\n",
    "Puisque c'est notre première fois. Nous allons commencer par nous assurer de la configuration de l'éditeur (y penser de retour au labo)\n",
    " * Encodage des fichiers en UTF-8 (XXI ième siècle) (requis)\n",
    " * conversion des «tab» en «espaces». Afficher les espaces. (requis)\n",
    " * indentation automatique (confort)\n",
    " * fermeture des () {} [] ' et autres \" (au choix) (confort)\n",
    " * *complétion* automatique (si disponible) (confort)\n",
    " * regarder les raccourcis clavier (ex F5)\n",
    " * attention à la notion de propriétés globales vs par projet.\n",
    " * regarder si un debugger est disponible\n"
   ]
  },
  {
   "cell_type": "markdown",
   "metadata": {
    "slideshow": {
     "slide_type": "slide"
    }
   },
   "source": [
    "## Débuggons le fichier vide ou le fichier exemple\n",
    "-----\n",
    "\n",
    "Nous allons maintenant créer un nouveau script. *Projet/nouveau* puis *Fichier/nouveau fichier selon modèle*.\n",
    "\n",
    "Votre fichier nommé par défaut *sans titre.py* devrait se présenté sous la forme suivante :\n",
    "\n",
    "~~~python\n",
    "#!/usr/bin/env python\n",
    "# -*- coding: utf-8 -*-\n",
    "#\n",
    "#  sans titre.py\n",
    "#  \n",
    "#  Copyright 2016  <pi@raspberrypi>\n",
    "#  \n",
    "\n",
    "~~~\n",
    "\n",
    "Penser à \n",
    "- compléter l'entête avec l'ennoncé de l'exercice + métadonnée\n",
    "- renommer le nom du script\n",
    "- enregistrer le script\n",
    "- changer python en **python3** sur la première ligne\n",
    "- vérifier la présence du tag coding"
   ]
  },
  {
   "cell_type": "markdown",
   "metadata": {
    "slideshow": {
     "slide_type": "slide"
    }
   },
   "source": [
    "## À vous\n",
    "-----\n",
    "\n",
    "Vous pouvez maintenant écrire votre programme.\n",
    "\n",
    "Pour l'exécuter, vous pouvez soit \n",
    "- F5 : exécuter, raccourci commun\n",
    "- l'icône de roue crantée\n",
    " \n",
    "*La formule de conversion est : TF = TC × 1,8 + 32*\n"
   ]
  },
  {
   "cell_type": "markdown",
   "metadata": {
    "slideshow": {
     "slide_type": "skip"
    }
   },
   "source": [
    "##### Une correction\n",
    "-----\n",
    "\n",
    "Une solution non optimale mais du niveau des notions vues dans cette première partie du cours... \n",
    "Version 2015 en python2\n",
    "\n",
    "~~~python\n",
    "\"\"\"\n",
    "Created on Wed Nov 26 22:31:38 2014\n",
    "Update on Mon Jan 18 12:32:11 CET 2016\n",
    "\n",
    "Écrivez un programme qui convertisse en degrés Celsius une température exprimée au départ en degrés Fahrenheit, ou l’inverse.\n",
    "\n",
    "La formule de conversion est : TF = TC × 1,8 + 32\n",
    "TF : température en degré Farenheit\n",
    "TC : température en degré Celsius\n",
    "\n",
    "@author: chalgand\n",
    "\"\"\"\n",
    "\n",
    "goodAnswer=False\n",
    "while goodAnswer==False:\n",
    "    print( \"Dans quel sens voulez-vous faire la conversion ?\")\n",
    "    print( \"1 - Degré Celsius    vers  Degré Farenheit\")\n",
    "    print( \"2 - Degré Farenheit  vers  Degré Celsius\")\n",
    "    answer = input()\n",
    "    if type(answer)==int and (answer == 1 or answer == 2):\n",
    "        goodAnswer=True\n",
    "        print (answer)\n",
    "\n",
    "print (\"Vous avez choisi la conversion : \" + \\\n",
    "    (\"Degré Celsius vers Degré Farenheit\" if answer==1 \\\n",
    "    else \"Degré Farenheit  vers  Degré Celsius\") )\n",
    "\n",
    "temp=\"une mauvaise température\"\n",
    "while type(temp)!=int:\n",
    "    temp=input(\"Veuillez entrer la température à convertir : \")\n",
    "\n",
    "if answer == 1:\n",
    "    print (temp,\" degré Celsius = \",temp*1.8+32,\" degré Farenheit\")\n",
    "else:\n",
    "    print (temp,\" degré Farenheit = \",(temp-32)/1.8,\" degré Celsius\")\n",
    "~~~"
   ]
  },
  {
   "cell_type": "code",
   "execution_count": null,
   "metadata": {
    "collapsed": false,
    "slideshow": {
     "slide_type": "slide"
    }
   },
   "outputs": [],
   "source": [
    "!python3 01_Introduction_TPs/01_Intro_exo_final.py"
   ]
  },
  {
   "cell_type": "code",
   "execution_count": null,
   "metadata": {
    "collapsed": false,
    "slideshow": {
     "slide_type": "notes"
    }
   },
   "outputs": [],
   "source": [
    "#!/usr/bin/env python3\n",
    "# -*- coding: utf-8 -*-\n",
    "#\n",
    "#  01_Intro_exo_final.py\n",
    "#  \n",
    "#  Copyright 2016  <pi@raspberrypi>\n",
    "#  \n",
    "\n",
    "\"\"\"\n",
    "Created on Wed Nov 26 22:31:38 2014\n",
    "Update on Sun Jan 24 12:32:11 CET 2016\n",
    "\n",
    "Écrivez un programme qui convertisse en degrés Celsius une température \n",
    "exprimée au départ en degrés Fahrenheit, ou l’inverse.\n",
    "\n",
    "La formule de conversion est : TF = TC × 1,8 + 32x\n",
    "TF : température en degré Farenheit\n",
    "TC : température en degré Celsius\n",
    "\n",
    "@author: chalgand\n",
    "@revision : fmendes\n",
    "\"\"\"\n",
    "\n",
    "goodAnswer = False\n",
    "while goodAnswer==False:\n",
    "    print( \"Dans quel sens voulez-vous faire la conversion ?\")\n",
    "    print( \"1 - Degré Celsius    vers  Degré Farenheit\")\n",
    "    print( \"2 - Degré Farenheit  vers  Degré Celsius\")\n",
    "    answer = input()\n",
    "    print(answer)\n",
    "    try:\n",
    "        answer = int(answer)\n",
    "    except:\n",
    "        print(\"Erreur de typage (casting error)\")\n",
    "        #pass #Voir l'autre cast\n",
    "    if type(answer)==int and (answer == 1 or answer == 2):\n",
    "        goodAnswer=True\n",
    "        print(answer)\n",
    "\n",
    "print(\"Vous avez choisi la conversion : \" + \\\n",
    "    (\"Degré Celsius vers Degré Farenheit\" if answer==1 \\\n",
    "    else \"Degré Farenheit  vers  Degré Celsius\"))\n",
    "\n",
    "temp = \"une mauvaise température\"\n",
    "while type(temp)!=float:\n",
    "    temp = input(\"Veuillez entrer la température à convertir : \")\n",
    "    try:\n",
    "        temp = float(temp)\n",
    "    except:\n",
    "        pass\n",
    "\n",
    "if answer == 1:\n",
    "    print(temp, \" degré Celsius = \", temp*1.8+32,\" degré Farenheit\")\n",
    "else:\n",
    "    print(temp, \" degré Farenheit = \", (temp-32)/1.8,\" degré Celsius\")\n",
    "\n"
   ]
  },
  {
   "cell_type": "markdown",
   "metadata": {
    "internals": {
     "slide_helper": "subslide_end"
    },
    "slide_helper": "slide_end",
    "slideshow": {
     "slide_type": "-"
    }
   },
   "source": [
    "*Travail initié en 2014 dans le cadre d'une série de formations Python organisées par le réseau Devlog.  \n",
    "Auteurs principaux : Loic Gouarin & David Chamont. Relecteurs : Nicolas Can, Sekou Diakite, Christophe Halgand, Christophe Gengembre.*"
   ]
  }
 ],
 "metadata": {
  "kernelspec": {
   "display_name": "Python 3",
   "language": "python",
   "name": "python3"
  },
  "language_info": {
   "codemirror_mode": {
    "name": "ipython",
    "version": 3
   },
   "file_extension": ".py",
   "mimetype": "text/x-python",
   "name": "python",
   "nbconvert_exporter": "python",
   "pygments_lexer": "ipython3",
   "version": "3.4.3"
  }
 },
 "nbformat": 4,
 "nbformat_minor": 0
}
