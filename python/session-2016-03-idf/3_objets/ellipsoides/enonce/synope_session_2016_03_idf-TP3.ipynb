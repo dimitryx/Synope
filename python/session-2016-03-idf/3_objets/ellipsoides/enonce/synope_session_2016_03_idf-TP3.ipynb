{
 "cells": [
  {
   "cell_type": "markdown",
   "metadata": {},
   "source": [
    "*Ce notebook est distribué par Devlog sous licence Creative Commons - Attribution - Pas d’Utilisation Commerciale - Partage dans les Mêmes Conditions. La description complète de la license est disponible à l'adresse web http://creativecommons.org/licenses/by-nc-sa/4.0/.*"
   ]
  },
  {
   "cell_type": "markdown",
   "metadata": {},
   "source": [
    "# Ellipsoides - objets"
   ]
  },
  {
   "cell_type": "markdown",
   "metadata": {},
   "source": [
    "## 1/6 : La définition de classes\n",
    "\n",
    "Créez une classe $Quaternion$, dans son propre fichier, avec les attributs suivants :\n",
    "- $a$, $b$, $c$, $d$ : les quatres valeurs internes du quaternion,\n",
    "- $init\\_xyz$ : initialise les valeurs b, c, et d ci-dessus à partir d'un point 3D x/y/z.\n",
    "- $init\\_theta$ : initialise le quaternion de rotation à partir d'un angle \\theta et d'un tuple u_x/u_y/u_z.\n",
    "- $init\\_theta\\_inv$ : initialise le quaternion de rotation à partir d'un angle \\theta et d'un tuple u_x/u_y/u_z."
   ]
  },
  {
   "cell_type": "code",
   "execution_count": null,
   "metadata": {
    "collapsed": true
   },
   "outputs": [],
   "source": [
    "## 2/6 : Les méthodes spéciales"
   ]
  },
  {
   "cell_type": "code",
   "execution_count": null,
   "metadata": {
    "collapsed": true
   },
   "outputs": [],
   "source": [
    "## 3/6 : Les objets composés"
   ]
  },
  {
   "cell_type": "code",
   "execution_count": null,
   "metadata": {
    "collapsed": true
   },
   "outputs": [],
   "source": [
    "## 4/6 : L'héritage entre classes"
   ]
  },
  {
   "cell_type": "code",
   "execution_count": null,
   "metadata": {
    "collapsed": true
   },
   "outputs": [],
   "source": [
    "## 5/6 : Sauvegarde et reconstruction d'objets"
   ]
  },
  {
   "cell_type": "code",
   "execution_count": null,
   "metadata": {
    "collapsed": true
   },
   "outputs": [],
   "source": [
    "## 6/6 : Quelques concepts avancés"
   ]
  },
  {
   "cell_type": "markdown",
   "metadata": {},
   "source": [
    "## 1/3 : Les classes de base\n",
    "\n",
    "1. Quaternion\n",
    "2. Superellipse\n",
    "3. Superellipsoid"
   ]
  },
  {
   "cell_type": "markdown",
   "metadata": {},
   "source": [
    "Définissez ces trois classes de base, chacune dans un fichier à part."
   ]
  },
  {
   "cell_type": "markdown",
   "metadata": {},
   "source": [
    "### Superellipse\n",
    "\n",
    "Attributs\n",
    " \n",
    "* n : nombre de points de discrétisation en theta\n",
    "* rx : rayon suivant x\n",
    "* ry : rayon suivant y\n",
    "* m : puissance dans l'expression de la superellipse.\n",
    "\n",
    " \n",
    " Méthodes\n",
    "\n",
    " * Le constructeur \\__init\\__: affecte les attributs de la classe n, rx, ry, m à partir des arguments spécifiés par l'utiliseateur.\n",
    "\n",
    " * surface: renvoie les points de la surface (deux listes x,y).\n",
    "\n",
    " * area: renvoie l'aire (un scalaire).\n",
    " "
   ]
  },
  {
   "cell_type": "markdown",
   "metadata": {},
   "source": [
    "### Superellipsoid\n",
    "\n",
    "Attributs\n",
    " \n",
    " \n",
    " * n : nombre de points de discrétisation en theta et en phi\n",
    " * rx : rayon suivant x\n",
    " * ry : rayon suivant y\n",
    " * rz : rayon suivant z\n",
    " * m1 : puissance dans l'expression de la superellipse\n",
    " * m2 : paramètre qui détérmine le \"balayage\" vertical \n",
    " \n",
    " \n",
    " Méthodes\n",
    " \n",
    "\n",
    " * \\__init\\__: affecte les attributs de la classe à partir des arguments du constructeur.\n",
    "\n",
    " * surface : renvoie le nuage de points de la surface: trois listes a 2 dimensions (listes imbriquées) x,y,z.\n",
    "\n",
    " * volume : renvoie le volume de la superellipsoide.\n",
    "\n",
    "\n",
    "### Quaternion\n",
    "\n",
    "Attributs\n",
    "\n",
    "* coords (x,y,z)\n",
    "* w \n",
    "\n",
    "* set_angle\n",
    "* rotate\n",
    "* conjugate\n",
    "* normalize\n",
    "* x, y, z\n",
    "\n",
    "\n",
    "\n",
    "\n"
   ]
  },
  {
   "cell_type": "markdown",
   "metadata": {},
   "source": [
    " "
   ]
  },
  {
   "cell_type": "markdown",
   "metadata": {},
   "source": [
    "## 2/3 : Classes dérivées"
   ]
  },
  {
   "cell_type": "markdown",
   "metadata": {},
   "source": [
    "Définissez la classe dérivée *Circle* qui hérite de la classe *Superellipse*. Elle surcharge son constructeur \\__init\\__ en appelant celui du parent avec rx=ry=r et m=2. Elle contient une méthode supplementaire:\n",
    " \n",
    " \n",
    " * perimeter: renvoie le périmètre du cercle.\n",
    "\n",
    "\n",
    "Définissez la classe dérivée *Sphere* qui hérite de la classe *Superellipsoid*. Elle surcharge son constructeur \\__init\\__ en appelant celui du parent avec rx=ry=rz=r et m1=m2=2. Elle contient une méthode supplementaire:\n",
    " \n",
    " \n",
    "  * area: renvoie l'aire de la sphère.\n",
    "  \n",
    "  Vous aurrez besoin de définir la fonction mathématique la *fonction bêta*: \n",
    "  \n",
    "  \n",
    "     - beta_func(r, t)\n",
    "    \n",
    "    "
   ]
  },
  {
   "cell_type": "markdown",
   "metadata": {},
   "source": [
    "## 3/3 : Demos"
   ]
  },
  {
   "cell_type": "markdown",
   "metadata": {},
   "source": [
    "Créez 2 scripts demo: superellipsoid.py et quaternion.py. \n",
    "\n",
    "Le premier:\n",
    "\n",
    " 1. Crée une superellipse et affiche à l'ecran son aire; \n",
    " 2. Crée un cercle et affiche à l'ecran son aire et son périmètre;\n",
    " 3. Crée une superellipsoide et affiche à l'ecran son volume;\n",
    " 4. Crée une sphère et affiche à l'ecran son volume et son aire.\n",
    " \n",
    "\n",
    "Le deuxième:\n",
    "\n",
    " 1. Crée un quaternion *q* avec la classe *Quaternion*. \n",
    " 2. Affiche à l'ecran ses coordonnées avec la fonction *print* de python (qui appele la méthode \\__str\\__() de la classe *Quaternion*).\n",
    " 3. Fixe un angle (e.g. pi/4);\n",
    " 4. Normalize et affiche à l'ecran les nouvelles coordonnées;\n",
    " 5. Effectue une rotation du produit (q\\*q) et affiche à l'ecran les coordonnées.\n"
   ]
  },
  {
   "cell_type": "markdown",
   "metadata": {},
   "source": [
    "## A propos des auteurs"
   ]
  },
  {
   "cell_type": "markdown",
   "metadata": {
    "collapsed": false
   },
   "source": [
    "*Auteurs : Loic Gouarin, David Chamont, Dmitry Khvorostyanov. Document réalisé en 2016 dans le cadre d'une série de formations Python organisées par les réseaux LoOPS et PiCo en collaboration avec le pôle formation du SMUT CNRS.*"
   ]
  },
  {
   "cell_type": "markdown",
   "metadata": {},
   "source": [
    "### Mise en forme"
   ]
  },
  {
   "cell_type": "code",
   "execution_count": 2,
   "metadata": {
    "collapsed": false
   },
   "outputs": [
    {
     "data": {
      "text/html": [
       "<link href='http://fonts.googleapis.com/css?family=Oswald' rel='stylesheet' type='text/css'>\n",
       "<link href='http://fonts.googleapis.com/css?family=Lora:400,400italic' rel='stylesheet' type='text/css'>\n",
       "<link href='http://fonts.googleapis.com/css?family=Open+Sans:300' rel='stylesheet' type='text/css'>\n",
       "<link href='http://fonts.googleapis.com/css?family=Alegreya+Sans:100,300,400,500,700,800,900,100italic,300italic,400italic,500italic,700italic,800italic,900italic' rel='stylesheet' type='text/css'>\n",
       "\n",
       "<style>\n",
       "\n",
       "h1, h2, h3, h4, h5 {\n",
       "    font-family: 'Alegreya Sans', sans-serif;\n",
       "}\n",
       "\n",
       "div.text_cell_render{\n",
       "    font-family: 'Alegreya Sans',Computer Modern, \"Helvetica Neue\", Arial, Helvetica, Geneva, sans-serif;\n",
       "    line-height: 135%;\n",
       "    font-size: 140%;\n",
       "    width:100%;/*600px;*/\n",
       "    /*margin-left:auto;*/\n",
       "    /*margin-right:auto;*/\n",
       "}\n",
       "/*div.text_cell_render{font-family: \"Open Sans\", sans-serif;font-weight: normal; line-height:normal;}*/\n",
       "\n",
       "/* header colours and fonts */\n",
       ".rendered_html h1 {\n",
       "    color:#9A3334;\n",
       "    /*margin-top: 0.5em;*/\n",
       "    padding: 1em;\n",
       "    display: block;\n",
       "    font-size: 40px;\n",
       "    text-align: center;\n",
       "    border-top: 2px solid #9A3334;\n",
       "    border-bottom: 2px solid #9A3334;\n",
       "}\n",
       "\n",
       "/*.rendered_html h1 { color: #9A3334; font-family: Lora, sans-serif; font-weight: normal; text-align: center; }*/\n",
       ".rendered_html h2 {\n",
       "    color: #9A3334;\n",
       "    /*font-family: Lora, sans-serif;*/\n",
       "    font-style: italic;\n",
       "    font-weight: normal;\n",
       "    font-size: 30px;\n",
       "    /*text-align: center;*/\n",
       "    border-bottom: 1px solid #9A3334;\n",
       "}\n",
       ".rendered_html h3 {\n",
       "    color: #9A3334;\n",
       "    /*font-family: Lora, sans-serif;*/\n",
       "    font-weight: normal;\n",
       "    font-size: 25px;\n",
       "    font-style: italic;\n",
       "}\n",
       "\n",
       ".rendered_html h4 {\n",
       "    border: 2px solid #9A3334;\n",
       "    border-radius: 25px;\n",
       "    font-style: italic;\n",
       "    height:5%;\n",
       "    width:20%;\n",
       "    padding:5px;\n",
       "    text-align: center;\n",
       "}\n",
       "\n",
       "div.prompt {\n",
       "    display: None;\n",
       "}\n",
       "\n",
       "/* center the images */\n",
       ".ui-wrapper {\n",
       "    margin-left: auto !important;\n",
       "    margin-right: auto !important;\n",
       "}\n",
       "\n",
       "/* center the images */\n",
       ".video {\n",
       "    margin-left: auto !important;\n",
       "    margin-right: auto !important;\n",
       "}\n",
       "\n",
       ".rendered_html img {\n",
       "    margin-top: 0em;\n",
       "}\n",
       "\n",
       "div.input_area {\n",
       "    border-radius: 10px;\n",
       "}\n",
       "\n",
       ".reveal h1 {\n",
       "    font-size: 70px;\n",
       "    text-shadow: 10px 10px 10px rgba(0, 0, 0, 0.5);\n",
       "}\n",
       "\n",
       ".reveal h2 {\n",
       "    font-size: 50px;\n",
       "    text-shadow: 10px 10px 10px rgba(0, 0, 0, 0.5);\n",
       "}\n",
       "\n",
       ".reveal h3 {\n",
       "    font-size: 50px;\n",
       "    \n",
       "}\n",
       "\n",
       "</style>"
      ],
      "text/plain": [
       "<IPython.core.display.HTML object>"
      ]
     },
     "execution_count": 2,
     "metadata": {},
     "output_type": "execute_result"
    }
   ],
   "source": [
    "# execute this part to modify the css style\n",
    "from IPython.core.display import HTML\n",
    "def css_styling():\n",
    "    styles = open(\"../../../styles/custom.css\", \"r\").read()\n",
    "    return HTML(styles)\n",
    "css_styling()"
   ]
  }
 ],
 "metadata": {
  "kernelspec": {
   "display_name": "Python 3",
   "language": "python",
   "name": "python3"
  },
  "language_info": {
   "codemirror_mode": {
    "name": "ipython",
    "version": 3
   },
   "file_extension": ".py",
   "mimetype": "text/x-python",
   "name": "python",
   "nbconvert_exporter": "python",
   "pygments_lexer": "ipython3",
   "version": "3.4.3"
  }
 },
 "nbformat": 4,
 "nbformat_minor": 0
}
