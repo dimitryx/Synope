{
 "cells": [
  {
   "cell_type": "markdown",
   "metadata": {
    "slideshow": {
     "slide_type": "-"
    }
   },
   "source": [
    "*Ce notebook est distribué par Devlog sous licence Creative Commons - Attribution - Pas d’Utilisation Commerciale - Partage dans les Mêmes Conditions. La description complète de la license est disponible à l'adresse web http://creativecommons.org/licenses/by-nc-sa/4.0/.*"
   ]
  },
  {
   "cell_type": "markdown",
   "metadata": {
    "slideshow": {
     "slide_type": "slide"
    }
   },
   "source": [
    "# Ellipsoides - paquets et modules"
   ]
  },
  {
   "cell_type": "markdown",
   "metadata": {},
   "source": [
    "## Modules\n",
    "\n",
    "Créez les deux fichiers ci-dessous\n",
    "- *demo_superellipsoid.py*\n",
    "~~~python\n",
    "import superellipse as se2d\n",
    "import superellipsoid as se3d\n",
    "print(se2d.superellipse(10, 1, 1, 2))\n",
    "print(se3d.superellipsoid(10, 1, 1, 1, 2, 2))~~~\n",
    "- *demo_quaternion.py*\n",
    "~~~python\n",
    "import quaternion\n",
    "import math\n",
    "print(quaternion.rotate_using_complex(math.pi/4, [1, 0]))  \n",
    "print(quaternion.rotate_using_quaternion(math.pi/4, [0, 0, 1], [1, 0, 0]))\n",
    "~~~\n",
    "\n",
    "***\n",
    "#### Question 1\n",
    "Distribuez dans des fichiers *linspace.py*, *quaternion.py*, *superellipse.py*, *superellipsoid.py* et *utils.py* les fonctions crées dans les pratiques précédentes. Le fichier *utils.py* contiendra les fonctions $spe\\_cos$ et $spe\\_sin$. Faites en sorte que les programmes de démonstration ci-dessus s'exécutent correctement.\n",
    "***"
   ]
  },
  {
   "cell_type": "markdown",
   "metadata": {},
   "source": [
    "## Paquets\n",
    "\n",
    "Modifiez les deux fichiers de démonstration :\n",
    "- *demo_superellipsoid.py*\n",
    "~~~python\n",
    "import pySynope.superellipse as se2d\n",
    "import pySynope.superellipsoid as se3d\n",
    "print(se2d.superellipse(10, 1, 1, 2))\n",
    "print(se3d.superellipsoid(10, 1, 1, 1, 2, 2))~~~\n",
    "- *demo_quaternion.py*\n",
    "~~~python\n",
    "import pySynope.quaternion\n",
    "import math\n",
    "print(pySynope.quaternion.rotate_using_complex(math.pi/4, [1, 0]))  \n",
    "print(pySynope.quaternion.rotate_using_quaternion(math.pi/4, [0, 0, 1], [1, 0, 0]))\n",
    "~~~\n",
    "\n",
    "***\n",
    "#### Question 2\n",
    "Déplacez les fichiers appropriés dans un sous-répertoire *pySynope* afin que les démonstrations fonctionnent de nouveau.\n",
    "***\n",
    "\n",
    "***\n",
    "#### Question 3\n",
    "Déplacez les fichiers *superellipse.py*, *superellipsoid.py* dans un sous-répertoire *pySynope/ellipsoides*. Corrigez les fichiers appropriés et les démonstrations pour qu'elles fonctionnent de nouveau.\n",
    "***\n",
    "\n",
    "Modifiez encore les deux fichiers de démonstration :\n",
    "- *demo_superellipsoid.py*\n",
    "~~~python\n",
    "import pySynope\n",
    "print(pySynope.superellipse(10, 1, 1, 2))\n",
    "print(pySynope.superellipsoid(10, 1, 1, 1, 2, 2))~~~\n",
    "- *demo_quaternion.py*\n",
    "~~~python\n",
    "import pySynope\n",
    "import math\n",
    "print(pySynope.rotate_using_complex(math.pi/4, [1, 0]))  \n",
    "print(pySynope.rotate_using_quaternion(math.pi/4, [0, 0, 1], [1, 0, 0]))\n",
    "~~~\n",
    "\n",
    "***\n",
    "#### Question 4\n",
    "Modifiez les fichiers *__init__.py* afin que les démonstrations fonctionnent de nouveau.\n",
    "***\n",
    "\n"
   ]
  },
  {
   "cell_type": "markdown",
   "metadata": {},
   "source": [
    "## Distribution\n",
    "\n",
    "Ecrivez le fichier *setup.py* permettant d'installer *pySynope*. Il devra contenir au moins les champs:\n",
    "- name,\n",
    "- version,\n",
    "- author,\n",
    "- description,\n",
    "- packages.\n",
    "\n",
    "***\n",
    "#### Question 5\n",
    "Installez le package *pySynope*, déplacez les fichiers de démonstration dans un sous-répertoire *demos*, et vérifiez qu'ils fonctionnent toujours.\n",
    "***\n",
    "\n",
    "Au final, vos répertoires et vos fichiers devraient être proches de ceci :\n",
    "\n",
    "<img src=\"figures/synope_tree.png\" />\n"
   ]
  },
  {
   "cell_type": "markdown",
   "metadata": {},
   "source": [
    "### Mise en forme du notebook"
   ]
  },
  {
   "cell_type": "code",
   "execution_count": 1,
   "metadata": {
    "collapsed": false,
    "scrolled": true
   },
   "outputs": [
    {
     "data": {
      "text/html": [
       "<link href='http://fonts.googleapis.com/css?family=Oswald' rel='stylesheet' type='text/css'>\n",
       "<link href='http://fonts.googleapis.com/css?family=Lora:400,400italic' rel='stylesheet' type='text/css'>\n",
       "<link href='http://fonts.googleapis.com/css?family=Open+Sans:300' rel='stylesheet' type='text/css'>\n",
       "<link href='http://fonts.googleapis.com/css?family=Alegreya+Sans:100,300,400,500,700,800,900,100italic,300italic,400italic,500italic,700italic,800italic,900italic' rel='stylesheet' type='text/css'>\n",
       "\n",
       "<style>\n",
       "\n",
       "h1, h2, h3, h4, h5 {\n",
       "    font-family: 'Alegreya Sans', sans-serif;\n",
       "}\n",
       "\n",
       "div.text_cell_render{\n",
       "    font-family: 'Alegreya Sans',Computer Modern, \"Helvetica Neue\", Arial, Helvetica, Geneva, sans-serif;\n",
       "    line-height: 135%;\n",
       "    font-size: 140%;\n",
       "    width:100%;/*600px;*/\n",
       "    /*margin-left:auto;*/\n",
       "    /*margin-right:auto;*/\n",
       "}\n",
       "/*div.text_cell_render{font-family: \"Open Sans\", sans-serif;font-weight: normal; line-height:normal;}*/\n",
       "\n",
       "/* header colours and fonts */\n",
       ".rendered_html h1 {\n",
       "    color:#9A3334;\n",
       "    /*margin-top: 0.5em;*/\n",
       "    padding: 1em;\n",
       "    display: block;\n",
       "    font-size: 40px;\n",
       "    text-align: center;\n",
       "    border-top: 2px solid #9A3334;\n",
       "    border-bottom: 2px solid #9A3334;\n",
       "}\n",
       "\n",
       "/*.rendered_html h1 { color: #9A3334; font-family: Lora, sans-serif; font-weight: normal; text-align: center; }*/\n",
       ".rendered_html h2 {\n",
       "    color: #9A3334;\n",
       "    /*font-family: Lora, sans-serif;*/\n",
       "    font-style: italic;\n",
       "    font-weight: normal;\n",
       "    font-size: 30px;\n",
       "    /*text-align: center;*/\n",
       "    border-bottom: 1px solid #9A3334;\n",
       "}\n",
       ".rendered_html h3 {\n",
       "    color: #9A3334;\n",
       "    /*font-family: Lora, sans-serif;*/\n",
       "    font-weight: normal;\n",
       "    font-size: 25px;\n",
       "    font-style: italic;\n",
       "}\n",
       "\n",
       ".rendered_html h4 {\n",
       "    border: 2px solid #9A3334;\n",
       "    border-radius: 25px;\n",
       "    font-style: italic;\n",
       "    height:5%;\n",
       "    width:20%;\n",
       "    padding:5px;\n",
       "    text-align: center;\n",
       "}\n",
       "\n",
       "div.prompt {\n",
       "    display: None;\n",
       "}\n",
       "\n",
       "/* center the images */\n",
       ".ui-wrapper {\n",
       "    margin-left: auto !important;\n",
       "    margin-right: auto !important;\n",
       "}\n",
       "\n",
       "/* center the images */\n",
       ".video {\n",
       "    margin-left: auto !important;\n",
       "    margin-right: auto !important;\n",
       "}\n",
       "\n",
       ".rendered_html img {\n",
       "    margin-top: 0em;\n",
       "}\n",
       "\n",
       "div.input_area {\n",
       "    border-radius: 10px;\n",
       "}\n",
       "\n",
       ".reveal h1 {\n",
       "    font-size: 70px;\n",
       "    text-shadow: 10px 10px 10px rgba(0, 0, 0, 0.5);\n",
       "}\n",
       "\n",
       ".reveal h2 {\n",
       "    font-size: 50px;\n",
       "    text-shadow: 10px 10px 10px rgba(0, 0, 0, 0.5);\n",
       "}\n",
       "\n",
       ".reveal h3 {\n",
       "    font-size: 50px;\n",
       "    \n",
       "}\n",
       "\n",
       "</style>"
      ],
      "text/plain": [
       "<IPython.core.display.HTML object>"
      ]
     },
     "execution_count": 1,
     "metadata": {},
     "output_type": "execute_result"
    }
   ],
   "source": [
    "# execute this part to modify the css style\n",
    "from IPython.core.display import HTML\n",
    "def css_styling():\n",
    "    styles = open(\"../../../styles/custom.css\", \"r\").read()\n",
    "    return HTML(styles)\n",
    "css_styling()"
   ]
  }
 ],
 "metadata": {
  "kernelspec": {
   "display_name": "Python 3",
   "language": "python",
   "name": "python3"
  },
  "language_info": {
   "codemirror_mode": {
    "name": "ipython",
    "version": 3
   },
   "file_extension": ".py",
   "mimetype": "text/x-python",
   "name": "python",
   "nbconvert_exporter": "python",
   "pygments_lexer": "ipython3",
   "version": "3.4.3"
  }
 },
 "nbformat": 4,
 "nbformat_minor": 0
}
