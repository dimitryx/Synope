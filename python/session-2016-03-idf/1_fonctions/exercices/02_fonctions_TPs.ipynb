{
 "cells": [
  {
   "cell_type": "markdown",
   "metadata": {
    "slideshow": {
     "slide_type": "slide"
    }
   },
   "source": [
    "# TP sur les fonctions"
   ]
  },
  {
   "cell_type": "markdown",
   "metadata": {
    "slideshow": {
     "slide_type": "subslide"
    }
   },
   "source": [
    "Dans ce TP, nous allons introduire l'utilisation de fichiers de code.<br/>"
   ]
  },
  {
   "cell_type": "markdown",
   "metadata": {
    "slideshow": {
     "slide_type": "slide"
    }
   },
   "source": [
    "# Contenu du fichier"
   ]
  },
  {
   "cell_type": "markdown",
   "metadata": {
    "slideshow": {
     "slide_type": "subslide"
    }
   },
   "source": [
    "Il faut ouvrir le fichier `python-cepage/support_cepage_2016/02_fonctions_TPs/ex_1.py`.<br/>"
   ]
  },
  {
   "cell_type": "code",
   "execution_count": null,
   "metadata": {
    "collapsed": false,
    "slideshow": {
     "slide_type": "subslide"
    }
   },
   "outputs": [],
   "source": [
    "%load 02_fonctions_TPs/ex_1.py"
   ]
  },
  {
   "cell_type": "markdown",
   "metadata": {
    "slideshow": {
     "slide_type": "slide"
    }
   },
   "source": [
    "Démarrer **geany** en ouvrant le fichier ex_1.py.\n",
    "\n",
    "`~/Desktop/run_geany.sh support_cepage_2016/02_fonctions_TPs/ex_1.py`"
   ]
  },
  {
   "cell_type": "markdown",
   "metadata": {
    "slideshow": {
     "slide_type": "subslide"
    }
   },
   "source": [
    "![Ouvrir un fichier avec geany](./Figures/tp_fonctions_geany0.png \"Ouvrir un fichier avec geany\")\n",
    "\n",
    "Ce fichier contient deux parties :\n",
    " - une partie avec la définition de deux fonctions **afficheBonjour** et **afficheBonjourA** ;\n",
    " - une partie \"exécutable\" qui contient des commandes."
   ]
  },
  {
   "cell_type": "markdown",
   "metadata": {
    "slideshow": {
     "slide_type": "slide"
    }
   },
   "source": [
    "# Exécution"
   ]
  },
  {
   "cell_type": "markdown",
   "metadata": {
    "slideshow": {
     "slide_type": "subslide"
    }
   },
   "source": [
    "\n",
    "![Exécution](./Figures/tp_fonctions_geany1.png \"Exécution avec geany\")\n",
    "\n"
   ]
  },
  {
   "cell_type": "markdown",
   "metadata": {
    "slideshow": {
     "slide_type": "subslide"
    }
   },
   "source": [
    "![Exécution](./Figures/tp_fonctions_geany2.png \"Exécution avec geany\")\n"
   ]
  },
  {
   "cell_type": "markdown",
   "metadata": {
    "slideshow": {
     "slide_type": "slide"
    }
   },
   "source": [
    "# Exercice 1 :\n",
    "Dans le fichier `ex_1.py`, compléter les deux fonctions **afficheBonjour** et **afficheBonjourA** afin qu'elles répondent aux comportements attendus."
   ]
  },
  {
   "cell_type": "markdown",
   "metadata": {
    "slideshow": {
     "slide_type": "slide"
    }
   },
   "source": [
    "# 2 - Retourner un résultat\n",
    "Récupérer le fichier `python-cepage/support_cepage_2016/02_fonctions_TPs/ex_2.py`."
   ]
  },
  {
   "cell_type": "code",
   "execution_count": null,
   "metadata": {
    "collapsed": false,
    "slideshow": {
     "slide_type": "slide"
    }
   },
   "outputs": [],
   "source": [
    "%load 02_fonctions_TPs/ex_2.py"
   ]
  },
  {
   "cell_type": "markdown",
   "metadata": {
    "slideshow": {
     "slide_type": "slide"
    }
   },
   "source": [
    "# Exercice 2 : Résultats de fonctions et vérification des paramètres\n",
    " 1. Compléter les quatre fonctions arithmétiques ;\n",
    " 2. Compléter la gestion des cas d'erreurs de deux façons différentes :\n",
    "     - de façon *défensive* : vérifier les paramètres et agir en conséquence (fonction **divInfinityOnZeroTest**)\n",
    "     - de façon *exceptionnelle* : corriger le comportement uniquement en cas de problème (fonction **divInfinityOnZeroException**)"
   ]
  },
  {
   "cell_type": "markdown",
   "metadata": {
    "slideshow": {
     "slide_type": "slide"
    }
   },
   "source": [
    "# Exercice 3 : Lambdas\n",
    "\n",
    "Récupérer le fichier `python-cepage/support_cepage_2016/02_fonctions_TPs/ex_3.py`.\n",
    "\n",
    "Écrire et tester les différentes \"lambda\"s proposées."
   ]
  },
  {
   "cell_type": "code",
   "execution_count": 1,
   "metadata": {
    "collapsed": true,
    "slideshow": {
     "slide_type": "slide"
    }
   },
   "outputs": [],
   "source": [
    "%load 02_fonctions_TPs/ex_3.py"
   ]
  },
  {
   "cell_type": "markdown",
   "metadata": {
    "slideshow": {
     "slide_type": "slide"
    }
   },
   "source": [
    "# Exercice 4 : Lecture/écriture d'un fichier\n",
    "Dans cet exercice, nous allons modifier un fichier CSV contenant des livres sur Python (pour les tableurs) afin de changer tous les prix (en livres, dollars, euros) vers des prix en euros.\n",
    "\n",
    "Récupérer le fichier `python-cepage/support_cepage_2016/02_fonctions_TPs/ex_4.py`."
   ]
  },
  {
   "cell_type": "code",
   "execution_count": null,
   "metadata": {
    "collapsed": false,
    "slideshow": {
     "slide_type": "subslide"
    }
   },
   "outputs": [],
   "source": [
    "%load data/fonctions/verif_avec_exo/ex_4.py"
   ]
  },
  {
   "cell_type": "markdown",
   "metadata": {
    "slideshow": {
     "slide_type": "subslide"
    }
   },
   "source": [
    "  - Grâce à un dictionnaire de conversion de devise, écrire la fonction **conversionDeDevise(...)**\n",
    "      - testez votre fonction en exécutant le programme.\n",
    "  - Nous allons maintenant transformer des données au format chaîne de caractères vers des données structurées.\n",
    "    - écrivez la fonction **lectureLigne(...)** puis testez votre fonction.\n"
   ]
  },
  {
   "cell_type": "markdown",
   "metadata": {
    "slideshow": {
     "slide_type": "subslide"
    }
   },
   "source": [
    "  - Maintenant que nous savons faire cette transformation, nous pouvons lire l'ensemble d'un fichier `CSV`.\n",
    "    - écrivez puis testez la fonction **lectureCSV(...)**.\n",
    "  - Nous pouvons maintenant appliquer notre fonction de changement de devises sur les données `CSV`.\n",
    "    - écrivez puis testez la fonction **conversionDonnees(...)**.\n"
   ]
  },
  {
   "cell_type": "markdown",
   "metadata": {
    "slideshow": {
     "slide_type": "subslide"
    }
   },
   "source": [
    "  - Afin de compléter nos modifications, nous allons sauvegarder le fichier transformé.\n",
    "    - écrivez puis testez la fonction **ecritureCSV(...)**."
   ]
  },
  {
   "cell_type": "markdown",
   "metadata": {
    "slideshow": {
     "slide_type": "slide"
    }
   },
   "source": [
    "# Exécutez vos scripts\n",
    "\n",
    "Une fois que vous avez réalisé et testé votre programme dans **geany**, vous pouvez le rendre exécutable :\n",
    "  - ajouter le flag exécutable :\n",
    "     - ``chmod +x monFichier.py``\n",
    "  - Vous pouvez alors utiliser votre programme comme un exécutable:\n",
    "     - ``./monFichier.py argument1 argument2 ...``"
   ]
  }
 ],
 "metadata": {
  "celltoolbar": "Slideshow",
  "kernelspec": {
   "display_name": "Python 3",
   "language": "python",
   "name": "python3"
  },
  "language_info": {
   "codemirror_mode": {
    "name": "ipython",
    "version": 3
   },
   "file_extension": ".py",
   "mimetype": "text/x-python",
   "name": "python",
   "nbconvert_exporter": "python",
   "pygments_lexer": "ipython3",
   "version": "3.5.1"
  }
 },
 "nbformat": 4,
 "nbformat_minor": 0
}
