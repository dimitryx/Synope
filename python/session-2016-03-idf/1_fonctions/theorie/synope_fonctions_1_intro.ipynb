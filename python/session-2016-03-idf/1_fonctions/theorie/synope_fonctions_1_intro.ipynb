{
 "cells": [
  {
   "cell_type": "markdown",
   "metadata": {},
   "source": [
    "*Ce notebook est distribué par Devlog sous licence Creative Commons - Attribution - Pas d’Utilisation Commerciale - Partage dans les Mêmes Conditions. La description complète de la license est disponible à l'adresse web http://creativecommons.org/licenses/by-nc-sa/4.0/.*"
   ]
  },
  {
   "cell_type": "markdown",
   "metadata": {},
   "source": [
    "# Initiation Python - Variables et fonctions 1/5 - Introduction"
   ]
  },
  {
   "cell_type": "markdown",
   "metadata": {
    "internals": {
     "slide_type": "subslide"
    },
    "slideshow": {
     "slide_type": "slide"
    }
   },
   "source": [
    "##  Grandes dates\n",
    "\n",
    " * **1989** : au sein du Centrum voor Wiskunde en Informatica (Pays-Bas), **Guido van Rossum** conçoit un langage de script inspiré d'ABC, Modula-3, C, Unix.\n",
    " * **1991** : Python 0.9.0 est posté sur le forum alt.sources.\n",
    " * **2001** : Python 2.1, première version de la Python Software Foundation.\n",
    " * **2008** : Python 3.0, non compatible avec les précédentes.\n"
   ]
  },
  {
   "cell_type": "markdown",
   "metadata": {
    "internals": {
     "slide_helper": "subslide_end",
     "slide_type": "subslide"
    },
    "slide_helper": "slide_end",
    "slideshow": {
     "slide_type": "slide"
    }
   },
   "source": [
    "## Usages\n",
    "\n",
    "Langage de programmation à usage général de haut niveau, riche et polyvalent, ouvert et multiplateforme, facile à apprendre et à mettre en oeuvre, mature, très répandu et évolutif.\n",
    "\n",
    "* **Scripts système**, **Réseaux** (TwistedMatrix, PyRO, scapy, forensics...).\n",
    "\n",
    "* **Bases de données** (MySQL, PostgrSQL, Oracle...).\n",
    "\n",
    "* **Interfaces utilisateurs*** (Gtk, Qt, Tcl/Tk, WxWidgets, Kivy...).\n",
    "\n",
    "* **Web** (Django, TurboGears, Zope, Plone, ...).\n",
    "\n",
    "* **Calcul scientifique** ([NumPy](http://www.numpy.org), [SciPy](http://www.scipy.org), [Sage](http://sagemath.org/)), les parties sensible étant optimisées en C.\n",
    "\n",
    "* **Représentation graphique** (gnuplot, matplotlib, VTK, ...).\n",
    "\n",
    "* ..."
   ]
  },
  {
   "cell_type": "markdown",
   "metadata": {},
   "source": [
    "## Zen de Python\n",
    "\n",
    "* L'élégance est préférable à la laideur.\n",
    "* L'explicite est préférable à l'implicite.\n",
    "* La simplicité est préférable à la complexité.\n",
    "* Dérouler est préférable à imbriquer.\n",
    "* Aérer est préférable à densifier.\n",
    "* La lisibilité compte.\n",
    "* Les cas particuliers ne le sont jamais assez pour violer les règles,  \n",
    "  ... mais le côté pratique doit être privilégié sur la pureté.\n",
    "* Les erreurs ne doivent jamais être ignorées,  \n",
    "  ... à moins d'avoir été explicitement désactivées.\n",
    "* En cas d'ambiguité, ne te laisse pas aller à deviner.\n",
    "* Il ne devrait y avoir une façon, et si possible une seule, de faire les choses,  \n",
    "  ... même si elle n'est pas immédiatement évidente pour un non hollandais.\n",
    "* Maintenant est mieux que jamais,  \n",
    "  ... bien que jamais est souvent mieux que tout de suite.\n",
    "* Si l'implémentation est difficile à expliquer, elle est mauvaise.\n",
    "* Si l'implémentation est facile à expliquer, elle est peut-être bonne.\n",
    "* Les espaces de nommage sont une foutue bonne idée, faisons-en plus !"
   ]
  },
  {
   "cell_type": "markdown",
   "metadata": {
    "internals": {
     "slide_helper": "subslide_end",
     "slide_type": "subslide"
    },
    "slide_helper": "slide_end",
    "slideshow": {
     "slide_type": "slide"
    }
   },
   "source": [
    "## Principales caractéristiques techniques\n",
    "\n",
    "* **Semi-interprété** : interprété, mais compilé au vol dans un langage propre à chaque interpréteur (CPython, Jython, !IronPython).\n",
    "\n",
    "* **Multi-paradigmes** : impératif, orienté objets (classes et héritage), fonctionnel…\n",
    "\n",
    "* **Typage** :\n",
    "     * **dynamique** : le type est attaché aux objets (pas aux variables ou références vers ces objets), il est présent et interrogeable à l'éxécution (introspection).\n",
    "     * **fort** : refus d'additionner des pommes et des poires, ni de transformer implicitement un type dans un autre.\n",
    "     * **\"canard\"** : si je vois un animal qui vole comme un canard, cancane comme un canard, et nage comme un canard, alors j'appelle cet oiseau un canard => une fonction peut utiliser n'importe quel objet, du moment qu'il offre l'interface attendue (un peu comme les templates C++).\n",
    "\n",
    "* **Gestion automatique de la mémoire** : les variables sont des références vers les objets, et les copies ne copient en général que la référence, pas l'objet. Les objets qui ne sont plus référencés sont automatiquement récupérés par le ramasse-miette."
   ]
  },
  {
   "cell_type": "markdown",
   "metadata": {
    "internals": {
     "slide_helper": "subslide_end",
     "slide_type": "subslide"
    },
    "slide_helper": "slide_end",
    "slideshow": {
     "slide_type": "slide"
    }
   },
   "source": [
    "## Comment est traduit mon code source en langage machine ?\n",
    "\n",
    "Il existe 2 techniques principales pour effectuer la traduction en langage machine de mon code source :\n",
    "\n",
    "- Interprétation\n",
    "<img src=\"img/Interpretation.png\" />\n",
    "\n",
    "- Compilation\n",
    "<img src=\"img/Compilation.png\" />"
   ]
  },
  {
   "cell_type": "markdown",
   "metadata": {
    "internals": {
     "slide_helper": "subslide_end",
     "slide_type": "subslide"
    },
    "slide_helper": "slide_end",
    "slideshow": {
     "slide_type": "slide"
    }
   },
   "source": [
    "## Comment est traduit mon code en langage machine ?\n",
    "\n",
    "** Qu'en est-il pour mon code Python ? **\n",
    "\n",
    "<img src=\"img/TraductionPython.png\" />\n",
    "\n",
    "Nota : il est possible de générer des exécutables win32."
   ]
  },
  {
   "cell_type": "markdown",
   "metadata": {
    "internals": {
     "slide_helper": "subslide_end",
     "slide_type": "subslide"
    },
    "slide_helper": "slide_end",
    "slideshow": {
     "slide_type": "slide"
    }
   },
   "source": [
    "## Les implémentations de Python\n",
    "\n",
    "Il existe plusieurs implémentations de python, qui permettent notamment d'étendre le langage avec des bibliothèques dans d'autres langages :\n",
    "- **CPython** : L'interpréteur de référence de python. Il génère du byte-code python.pyc. Écrit en C; il permet d'étendre le langage avec des librairies C.\n",
    "- **Jython** : Interpréteur qui permet de coupler du python et du java dans le même programme, génère du byte-code JAVA.\n",
    "- **IronPython** : Implémentation de python qui vise .Net et Mono, permet de coupler python avec le framework .Net.\n",
    "- **Pypy** : Implémentation de Python en Python; projet de recherche pour obtenir une implémentation plus rapide que l'implémentation de référence (CPython).\n",
    "\n",
    "Plus d'informations sur les implémentations [ici](https://wiki.python.org/moin/PythonImplementations)"
   ]
  },
  {
   "cell_type": "markdown",
   "metadata": {},
   "source": [
    "## Mes premiers pas avec l'interpréteur interactif\n",
    "\n",
    "Vous pouvez commencer à essayer d'exécuter et modifier les commandes ci-dessous, dans les cellules de code de ce notebook. Vous pouvez aussi le tenter dans un terminal de votre machine locale, après avoir lancé l'interpréteur python à l'aide de la commande `python`."
   ]
  },
  {
   "cell_type": "code",
   "execution_count": 2,
   "metadata": {
    "collapsed": false
   },
   "outputs": [
    {
     "name": "stdout",
     "output_type": "stream",
     "text": [
      "Hello World !\n"
     ]
    }
   ],
   "source": [
    "print(\"Hello World !\")\n"
   ]
  },
  {
   "cell_type": "code",
   "execution_count": 3,
   "metadata": {
    "collapsed": false
   },
   "outputs": [
    {
     "data": {
      "text/plain": [
       "2"
      ]
     },
     "execution_count": 3,
     "metadata": {},
     "output_type": "execute_result"
    }
   ],
   "source": [
    "1+1"
   ]
  },
  {
   "cell_type": "code",
   "execution_count": 5,
   "metadata": {
    "collapsed": false,
    "internals": {
     "slide_helper": "subslide_end",
     "slide_type": "subslide"
    },
    "slide_helper": "slide_end",
    "slideshow": {
     "slide_type": "slide"
    }
   },
   "outputs": [
    {
     "name": "stdout",
     "output_type": "stream",
     "text": [
      "Help on built-in function print in module builtins:\n",
      "\n",
      "print(...)\n",
      "    print(value, ..., sep=' ', end='\\n', file=sys.stdout, flush=False)\n",
      "    \n",
      "    Prints the values to a stream, or to sys.stdout by default.\n",
      "    Optional keyword arguments:\n",
      "    file:  a file-like object (stream); defaults to the current sys.stdout.\n",
      "    sep:   string inserted between values, default a space.\n",
      "    end:   string appended after the last value, default a newline.\n",
      "    flush: whether to forcibly flush the stream.\n",
      "\n"
     ]
    }
   ],
   "source": [
    "help(\"print\")"
   ]
  },
  {
   "cell_type": "markdown",
   "metadata": {},
   "source": [
    "L'aide dans IPython, c'est aussi :\n",
    "- **help(\"topics\")** : énumère les différents \"concepts\" Python au sujet desquels on peut demander de l'aide ; frapper ensuite\n",
    "- **help(\"SUJET\")** pour avoir de l'aide sur le SUJET souhaité\n",
    "- **help(objet)** : affiche des informations sur l'objet Python spécifié (variable, fonction...) tel que son type, ses méthodes...\n",
    "- **help(\"module\")** : affiche l'aide relative au module spécifié ; si le module est importé on peut directement faire help(module)\n",
    "- **help(\"module.objet\")** : affiche directement l'aide relative à l'objet spécifié du module"
   ]
  },
  {
   "cell_type": "markdown",
   "metadata": {},
   "source": [
    "## Mes premières variables\n",
    "\n",
    " * Noms de variables\n",
    "   * lettres, chiffres et \"_\" .\n",
    "   * interdit d'utiliser les mot-clés (ou mots réservés).\n",
    "   * dangereux de redéfinir les built-in.\n",
    " * `__*__` : par convention, noms définis par le système.\n",
    " * Affectation par \"=\"\n",
    " * Comparaison par \"==\"\n",
    " * On peut voir le contenu d'une variable…\n",
    "   * en donnant son nom à l'interpréteur python ;\n",
    "   * ou en utilisant la fonction print().\n",
    " * Affectations multiples"
   ]
  },
  {
   "cell_type": "code",
   "execution_count": 20,
   "metadata": {
    "collapsed": false
   },
   "outputs": [
    {
     "data": {
      "text/plain": [
       "'Hello World !'"
      ]
     },
     "execution_count": 20,
     "metadata": {},
     "output_type": "execute_result"
    }
   ],
   "source": [
    "x = \"Hello World !\"\n",
    "x"
   ]
  },
  {
   "cell_type": "code",
   "execution_count": 12,
   "metadata": {
    "collapsed": false
   },
   "outputs": [
    {
     "name": "stdout",
     "output_type": "stream",
     "text": [
      "3.14\n"
     ]
    }
   ],
   "source": [
    "y = 3.14\n",
    "print(y)"
   ]
  },
  {
   "cell_type": "code",
   "execution_count": 13,
   "metadata": {
    "collapsed": false
   },
   "outputs": [
    {
     "name": "stdout",
     "output_type": "stream",
     "text": [
      "1 2 hello\n"
     ]
    }
   ],
   "source": [
    "a, b, c = 1, 2, \"hello\"\n",
    "print(a,b,c)"
   ]
  },
  {
   "cell_type": "code",
   "execution_count": 14,
   "metadata": {
    "collapsed": false
   },
   "outputs": [
    {
     "name": "stdout",
     "output_type": "stream",
     "text": [
      "3.14 Hello World !\n"
     ]
    }
   ],
   "source": [
    "x, y = y, x\n",
    "print(x,y)"
   ]
  },
  {
   "cell_type": "markdown",
   "metadata": {},
   "source": [
    "Python fait la différence entre minuscules et majuscules dans les noms de variables.  \n",
    "Depuis Python 3, les caractères non-ascii sont autorisés dans les noms de variables, puisqu'il travaille en unicode… mais à éviter pour le moment !!"
   ]
  },
  {
   "cell_type": "code",
   "execution_count": 18,
   "metadata": {
    "collapsed": false
   },
   "outputs": [
    {
     "name": "stdout",
     "output_type": "stream",
     "text": [
      "\n",
      "Here is a list of the Python keywords.  Enter any keyword to get more help.\n",
      "\n",
      "False               def                 if                  raise\n",
      "None                del                 import              return\n",
      "True                elif                in                  try\n",
      "and                 else                is                  while\n",
      "as                  except              lambda              with\n",
      "assert              finally             nonlocal            yield\n",
      "break               for                 not                 \n",
      "class               from                or                  \n",
      "continue            global              pass                \n",
      "\n"
     ]
    }
   ],
   "source": [
    "help(\"keywords\")"
   ]
  },
  {
   "cell_type": "markdown",
   "metadata": {},
   "source": [
    "## Types prédéfinis\n",
    "\n",
    " * **Nombres** : `12345678910111213141516171819`, `3.1415`, `3+4j`.\n",
    " * **Chaines de caractères** : `'spam'`, `\"guido's\"`.\n",
    " * **Tuples** : `(1, 'spam', 4, 'U')`.\n",
    " * **Listes** : `[1, [2, 'three'], 4]`.\n",
    " * **Dictionnaires** : `{'a': 'val', 3: 'x', 'key': 124}`.\n",
    " * **Fichiers** : `myfile = open('eggs','r')`.\n",
    "\n",
    "Les collections sont \"hétérogènes\" : on peut y mélanger des torchons et des serviettes,\n",
    "et on peut imbriquer des collections dans les collections."
   ]
  },
  {
   "cell_type": "markdown",
   "metadata": {},
   "source": [
    "## Mise en page\n",
    "\n",
    " * Une instruction par ligne.\n",
    " * On peut poursuivre sur plusieurs lignes avec \"\\\" ou parenthèses.\n",
    " * On peut mettre plusieurs instructions par ligne séparées par des \";\" (non recommandé).\n",
    " * Les blocs d'instructions sont indentés.\n",
    " * Commentaires par \"#\"."
   ]
  },
  {
   "cell_type": "code",
   "execution_count": 16,
   "metadata": {
    "collapsed": false
   },
   "outputs": [
    {
     "name": "stdout",
     "output_type": "stream",
     "text": [
      "1\n",
      "1\n"
     ]
    }
   ],
   "source": [
    "if a > 1 and b > 5 \\\n",
    "        and c < 3:\n",
    "    print('a>1 & b>5 & c<3')\n",
    "\n",
    "if (a > 1 and b > 5\n",
    "        and c < 3):\n",
    "    print(1)\n",
    "\n",
    "a = 1\n",
    "if a > 2:\n",
    "    b = a + 1\n",
    "    print(b)\n",
    "print(a)\n",
    "\n",
    "# commentaire\n",
    "print(1) # un autre commentaire"
   ]
  },
  {
   "cell_type": "markdown",
   "metadata": {
    "internals": {
     "slide_helper": "subslide_end",
     "slide_type": "subslide"
    },
    "slide_helper": "slide_end",
    "slideshow": {
     "slide_type": "slide"
    }
   },
   "source": [
    "## Interaction avec l'écran et le clavier\n",
    "\n",
    "Deux fonctions vont nous être utiles : Lesquelles ? Une idée ?\n",
    "\n",
    "1. rechercher la syntaxe de ces fonctions.\n",
    "\n",
    "2. si a=3 et b=2 afficher le produit de a et de b\n",
    "\n",
    "3. Assigner à la variable *nom* la réponse à la question : *Quel est votre nom ?*\n",
    "\n",
    "4. Assigner à la variable *age* la réponse à la question : *Quel âge avez-vous ?*\n",
    "\n",
    "5. De quel type est votre variable *age* ?\n",
    "\n",
    "6. Convertissez le contenu de la variable *age* en binaire puis en hexadécimal..."
   ]
  },
  {
   "cell_type": "markdown",
   "metadata": {
    "internals": {
     "slide_type": "subslide"
    },
    "slideshow": {
     "slide_type": "slide"
    }
   },
   "source": [
    "## Interaction avec l'écran et le clavier\n",
    "\n",
    "Deux fonctions vont nous être utiles : **PRINT** et **INPUT**\n",
    "\n",
    "- help(\"print\");help(\"input\")\n",
    "    - print(arguments)\n",
    "    - input(prompt) \n",
    "        - Attention, si vous souhaitez entrer une chaine de caractère, il vous faudra utiliser les quotes ou les doubles quotes.\n"
   ]
  },
  {
   "cell_type": "code",
   "execution_count": 1,
   "metadata": {
    "collapsed": false
   },
   "outputs": [
    {
     "name": "stdout",
     "output_type": "stream",
     "text": [
      "Help on built-in function print in module builtins:\n",
      "\n",
      "print(...)\n",
      "    print(value, ..., sep=' ', end='\\n', file=sys.stdout, flush=False)\n",
      "    \n",
      "    Prints the values to a stream, or to sys.stdout by default.\n",
      "    Optional keyword arguments:\n",
      "    file:  a file-like object (stream); defaults to the current sys.stdout.\n",
      "    sep:   string inserted between values, default a space.\n",
      "    end:   string appended after the last value, default a newline.\n",
      "    flush: whether to forcibly flush the stream.\n",
      "\n",
      "Help on method raw_input in module ipykernel.kernelbase:\n",
      "\n",
      "input = raw_input(prompt='') method of ipykernel.ipkernel.IPythonKernel instance\n",
      "    Forward raw_input to frontends\n",
      "    \n",
      "    Raises\n",
      "    ------\n",
      "    StdinNotImplentedError if active frontend doesn't support stdin.\n",
      "\n"
     ]
    }
   ],
   "source": [
    "help(\"print\");help(\"input\")"
   ]
  },
  {
   "cell_type": "code",
   "execution_count": 2,
   "metadata": {
    "collapsed": false,
    "internals": {},
    "slideshow": {
     "slide_type": "-"
    }
   },
   "outputs": [
    {
     "name": "stdout",
     "output_type": "stream",
     "text": [
      "Le produit de 3 et 2 est 6\n"
     ]
    }
   ],
   "source": [
    "a=3; b=2; print('Le produit de', a, 'et', b, 'est', a*b)"
   ]
  },
  {
   "cell_type": "code",
   "execution_count": null,
   "metadata": {
    "collapsed": false,
    "internals": {},
    "slideshow": {
     "slide_type": "-"
    }
   },
   "outputs": [],
   "source": [
    "nom = input(\"Quel est votre nom ?\")"
   ]
  },
  {
   "cell_type": "code",
   "execution_count": null,
   "metadata": {
    "collapsed": false,
    "internals": {},
    "slideshow": {
     "slide_type": "-"
    }
   },
   "outputs": [],
   "source": [
    "age = input(\"Quel âge avez-vous ?\")"
   ]
  },
  {
   "cell_type": "code",
   "execution_count": null,
   "metadata": {
    "collapsed": false,
    "internals": {},
    "slideshow": {
     "slide_type": "-"
    }
   },
   "outputs": [],
   "source": [
    "type(age)"
   ]
  },
  {
   "cell_type": "code",
   "execution_count": null,
   "metadata": {
    "collapsed": false,
    "internals": {
     "slide_helper": "subslide_end"
    },
    "slide_helper": "slide_end",
    "slideshow": {
     "slide_type": "-"
    }
   },
   "outputs": [],
   "source": [
    "print(bin(age)) ; print (hex(age))"
   ]
  },
  {
   "cell_type": "markdown",
   "metadata": {
    "internals": {
     "slide_type": "subslide"
    },
    "slideshow": {
     "slide_type": "slide"
    }
   },
   "source": [
    "## Instruction sur plusieurs lignes et commentaires\n",
    "\n",
    "Imaginons que nous sommes des linguistes, on veut étudier la première phrase de présentation du CNRS :\n",
    "\n",
    "\"Le Centre national de la recherche scientifique est un organisme public de recherche  (Etablissement public à caractère scientifique et technologique, placé sous la tutelle du Ministère de l'Éducation nationale, de l'Enseignement supérieur et de la Recherche). Il produit du savoir et met ce savoir au service de la société.\"\n",
    "\n",
    "- Faites afficher cette phrase : print \"blabla\""
   ]
  },
  {
   "cell_type": "code",
   "execution_count": null,
   "metadata": {
    "collapsed": false,
    "internals": {},
    "slideshow": {
     "slide_type": "-"
    }
   },
   "outputs": [],
   "source": [
    "print(\"Le Centre national de la recherche scientifique est un organisme public de recherche (Etablissement public à caractère scientifique et technologique, placé sous la tutelle du Ministère de l'Éducation nationale, de l'Enseignement supérieur et de la Recherche).\")"
   ]
  },
  {
   "cell_type": "markdown",
   "metadata": {
    "internals": {},
    "slideshow": {
     "slide_type": "-"
    }
   },
   "source": [
    "Pour des raisons de libilité et de portabilité, le [guide de style Python](https://www.python.org/dev/peps/pep-0008/#maximum-line-length) recommande de ne pas dépasser 79 caractères sur une ligne de code..."
   ]
  },
  {
   "cell_type": "code",
   "execution_count": null,
   "metadata": {
    "collapsed": false,
    "internals": {},
    "slideshow": {
     "slide_type": "-"
    }
   },
   "outputs": [],
   "source": [
    "print(\"Le Centre national de la recherche scientifique est un organisme public de recherche \\\n",
    "(Etablissement public à caractère scientifique et technologique, placé sous la tutelle \\\n",
    "du Ministère de l'Éducation nationale, de l'Enseignement supérieur et de la Recherche)\")"
   ]
  },
  {
   "cell_type": "markdown",
   "metadata": {
    "internals": {
     "slide_helper": "subslide_end"
    },
    "slide_helper": "slide_end",
    "slideshow": {
     "slide_type": "-"
    }
   },
   "source": [
    "Essayer en utilisant des apostrophes à la place des guillemets..."
   ]
  },
  {
   "cell_type": "markdown",
   "metadata": {
    "internals": {
     "slide_type": "subslide"
    },
    "slideshow": {
     "slide_type": "slide"
    }
   },
   "source": [
    "## Instruction sur plusieurs lignes et commentaires"
   ]
  },
  {
   "cell_type": "code",
   "execution_count": null,
   "metadata": {
    "collapsed": false,
    "internals": {},
    "slideshow": {
     "slide_type": "-"
    }
   },
   "outputs": [],
   "source": [
    "print('pourtant ca marche avec ces apostrophes')"
   ]
  },
  {
   "cell_type": "markdown",
   "metadata": {
    "internals": {},
    "slideshow": {
     "slide_type": "-"
    }
   },
   "source": [
    "Vous avez des apostrophes dans votre chaine de caractères, utilisez les guillemets :"
   ]
  },
  {
   "cell_type": "code",
   "execution_count": null,
   "metadata": {
    "collapsed": false,
    "internals": {},
    "slideshow": {
     "slide_type": "-"
    }
   },
   "outputs": [],
   "source": [
    "print(\"Puisqu'il pleut, jusqu'à demain, c'est...\")"
   ]
  },
  {
   "cell_type": "markdown",
   "metadata": {
    "internals": {
     "slide_helper": "subslide_end"
    },
    "slide_helper": "slide_end",
    "slideshow": {
     "slide_type": "-"
    }
   },
   "source": [
    "Pour les commentaires sur plusieurs lignes, vous pouvez utiliser le triple guillement ou le triple apostrophe...\n",
    "\n",
    "~~~python\n",
    "\"\"\"ceci est un commentaire sur\n",
    "plusieurs lignes\"\"\"\n",
    "'''ceci est un autre commentaire sur\n",
    "plusieurs lignes'''\n",
    "# Rappel : celui-ci n'est valable que jusqu'à la fin de la ligne\n",
    "~~~"
   ]
  },
  {
   "cell_type": "markdown",
   "metadata": {
    "internals": {
     "slide_helper": "subslide_end",
     "slide_type": "subslide"
    },
    "slide_helper": "slide_end",
    "slideshow": {
     "slide_type": "slide"
    }
   },
   "source": [
    "## Assignation simple et multiple\n",
    "\n",
    "L'assignation se fait avec le signe \"**=**\"\n",
    "\n",
    "~~~python\n",
    "# Que valent a et b ?\n",
    "a=2;b=3\n",
    "a,b=2,3\n",
    "a = b = 4\n",
    "a,b=b,a\n",
    "~~~\n",
    "\n",
    "On reviendra sur les tuples mais voici un exemple :\n",
    "~~~python\n",
    "tuple1=(1,'python')\n",
    "x,y=tuple1\n",
    "# Que valent x et y ?\n",
    "~~~\n",
    "\n",
    "- Référencement\n",
    "~~~python\n",
    "x='python'   # création de la donnée \"python\" référencé par \"x\"\n",
    "type(x)      # l'OBJET référencé est de type \"str\"\n",
    "id(x)        # 4297861808 (adresse mémoire)\n",
    "y=x          # nouvelle variable pointant sur la même donnée\n",
    "id(y)        # 4297861808 (même adresse mémoire)\n",
    "x=123        # création de la donnée \"123\" et changement de référencement pour \"x\"\n",
    "type(x)      # l'OBJET référencé est de type \"int\"\n",
    "id(x)        # 4299222384 (x pointe vers une autre adresse mémoire)\n",
    "del(y)       # on supprime le référencement de y sur la donnée \"python\"\n",
    "             # le garbage collector supprimera la donnée automatiquement\n",
    "             # libérant ainsi de la mémoire...\n",
    "~~~\n"
   ]
  },
  {
   "cell_type": "markdown",
   "metadata": {
    "internals": {
     "slide_helper": "subslide_end",
     "slide_type": "subslide"
    },
    "slide_helper": "slide_end",
    "slideshow": {
     "slide_type": "slide"
    }
   },
   "source": [
    "## Les structures de contrôle\n",
    "\n",
    "En python, les structures de contrôle existent par l'indentation des blocs de code. L'indentation est donc très importante en Python. Cette indentation apporte au langage une lisibilité et légereté au code (absence d'accolades, points-virgules,...)\n",
    "\n",
    "<img src=\"img/Instructions_Blocs.png\" />\n",
    "\n",
    "Le [guide de style Python](https://www.python.org/dev/peps/pep-0008/#indentation) mentionne qu'il est préférable d'utiliser les espaces que la tabulation. Il indique même 4 espaces par niveau d'indentation. Sous **Spyder**, nous pouvons gérer les caractères d'indentation dans : Outils/Préférences/Editeurs/Options avancées."
   ]
  },
  {
   "cell_type": "markdown",
   "metadata": {
    "internals": {
     "slide_type": "subslide"
    },
    "slideshow": {
     "slide_type": "slide"
    }
   },
   "source": [
    "## Exécution conditionelle if-elif-else\n",
    "\n",
    "La forme de cette structure de contrôle est montrée ci-dessous. Les parties **elif** et **else** sont bien sûr facultatifs."
   ]
  },
  {
   "cell_type": "code",
   "execution_count": null,
   "metadata": {
    "collapsed": false,
    "internals": {},
    "slideshow": {
     "slide_type": "-"
    }
   },
   "outputs": [],
   "source": [
    "a = 10.\n",
    "if a > 0:\n",
    "    print(\"a est strictement positif\")\n",
    "    if a >= 10:\n",
    "        print(\"a est un nombre\")\n",
    "    else:\n",
    "        print(\"a est un chiffre\")\n",
    "    a += 1\n",
    "elif a is not 0:\n",
    "    print(\"a est strictement negatif\")\n",
    "else:\n",
    "    print(\"a est nul\")"
   ]
  },
  {
   "cell_type": "markdown",
   "metadata": {
    "internals": {},
    "slideshow": {
     "slide_type": "-"
    }
   },
   "source": [
    "Comme dans d'autres langages, python offre l'écriture d'expression conditionnelle :"
   ]
  },
  {
   "cell_type": "code",
   "execution_count": null,
   "metadata": {
    "collapsed": false,
    "internals": {},
    "slideshow": {
     "slide_type": "-"
    }
   },
   "outputs": [],
   "source": [
    "a=10; print(\"a est positif\") if a>=0 else \"a est négatif\""
   ]
  },
  {
   "cell_type": "markdown",
   "metadata": {
    "slideshow": {
     "slide_type": "slide"
    }
   },
   "source": [
    "## Boucle FOR\n",
    "-----\n",
    "La boucle **for** permet d'itérer les valeurs d'une liste, d'un tuple, d'une chaîne ou de tout objet itérable. Comme dans les autres structures de contrôle, le caractère : (double point) définit le début du bloc d'instructions contrôlé par **for**."
   ]
  },
  {
   "cell_type": "code",
   "execution_count": null,
   "metadata": {
    "collapsed": false
   },
   "outputs": [],
   "source": [
    "# Sur listes ou tuples\n",
    "maList = [1,2,3]\n",
    "for n in maList:\n",
    "    print(n)"
   ]
  },
  {
   "cell_type": "markdown",
   "metadata": {},
   "source": [
    "Pour itérer sur une suite de nombres entiers, on utilise souvent la fonction **range**"
   ]
  },
  {
   "cell_type": "code",
   "execution_count": null,
   "metadata": {
    "collapsed": false
   },
   "outputs": [],
   "source": [
    "for index in range(len(maList)):  #Attention python2 : xrange est obsolète\n",
    "    print(index, maList[index])"
   ]
  },
  {
   "cell_type": "markdown",
   "metadata": {},
   "source": [
    "Vous pouvez également utiliser la fonction **enumerate** qui retourne un objet sur lequel vous pouvez itérer sur l'indice et la valeur d'une séquence."
   ]
  },
  {
   "cell_type": "code",
   "execution_count": null,
   "metadata": {
    "collapsed": false
   },
   "outputs": [],
   "source": [
    "for index,val in enumerate(maList):\n",
    "    print(index, val)"
   ]
  },
  {
   "cell_type": "markdown",
   "metadata": {
    "slideshow": {
     "slide_type": "slide"
    }
   },
   "source": [
    "## Boucle FOR"
   ]
  },
  {
   "cell_type": "code",
   "execution_count": null,
   "metadata": {
    "collapsed": false
   },
   "outputs": [],
   "source": [
    "# Sur chaînes\n",
    "voyelles = 'aeiouy'\n",
    "for car in 'chaine de catacteres':\n",
    "    if car in voyelles:\n",
    "        print(car)"
   ]
  },
  {
   "cell_type": "code",
   "execution_count": null,
   "metadata": {
    "collapsed": false
   },
   "outputs": [],
   "source": [
    "# Sur dictionnaires\n",
    "carres = {}\n",
    "for n in range(1,4):\n",
    "    carres[n] = n**2\n",
    "print(carres)"
   ]
  },
  {
   "cell_type": "code",
   "execution_count": null,
   "metadata": {
    "collapsed": false
   },
   "outputs": [],
   "source": [
    "for k in carres:  # itère par défaut sur la clé !\n",
    "  # identique à: for k in carres.keys():\n",
    "    print(k)"
   ]
  },
  {
   "cell_type": "markdown",
   "metadata": {
    "slideshow": {
     "slide_type": "slide"
    }
   },
   "source": [
    "## Boucle FOR"
   ]
  },
  {
   "cell_type": "code",
   "execution_count": null,
   "metadata": {
    "collapsed": false
   },
   "outputs": [],
   "source": [
    "for n in sorted(carres):\n",
    "  # identique à: for n in sorted(carres.keys()):\n",
    "    print(\"Carré de %u = %u\" % (n,carres[n]))"
   ]
  },
  {
   "cell_type": "markdown",
   "metadata": {},
   "source": [
    "De même, la méthode dictionnaire**.items()** retourne un objet permettant d'itérer sur la clé et la valeur de chaque élément d'un dictionnaire. Les méthodes **.keys()** et **.values()** retournent quant à elles respectivement les clés et les valeurs du dictionnaire."
   ]
  },
  {
   "cell_type": "code",
   "execution_count": null,
   "metadata": {
    "collapsed": false
   },
   "outputs": [],
   "source": [
    "for cle, val in carres.items():\n",
    "    print('Clé: %s, Valeur: %s' % (cle, val))"
   ]
  },
  {
   "cell_type": "markdown",
   "metadata": {
    "slideshow": {
     "slide_type": "slide"
    }
   },
   "source": [
    "## Boucle WHILE\n",
    "\n",
    "La boucle **while** permet d'exécuter un bloc d'instructions aussi longtemps qu'une condition (expression logique) est vraie."
   ]
  },
  {
   "cell_type": "code",
   "execution_count": null,
   "metadata": {
    "collapsed": false,
    "slideshow": {
     "slide_type": "-"
    }
   },
   "outputs": [],
   "source": [
    "nb = 1 ; stop = 3\n",
    "# Affiche le carré des nombres de nb à stop\n",
    "while nb <= stop:\n",
    "    print(nb, nb**2)\n",
    "    nb += 1"
   ]
  },
  {
   "cell_type": "markdown",
   "metadata": {
    "slideshow": {
     "slide_type": "slide"
    }
   },
   "source": [
    "## Instructions continue et break\n",
    "\n",
    "Dans une boucle **for** ou une boucle **while** :\n",
    "\n",
    "- l'instruction **continue** passe à l'itération suivante de la boucle courante (i.e. sans poursuivre l'exécution des instructions du bloc)\n",
    "- l'instruction **break** sort de la boucle courante\n"
   ]
  },
  {
   "cell_type": "code",
   "execution_count": null,
   "metadata": {
    "collapsed": false,
    "slideshow": {
     "slide_type": "-"
    }
   },
   "outputs": [],
   "source": [
    "# Affiche le carré des nombres impairs jusqu'à ce que\n",
    "# le carré atteigne 25, donc: 1  1 , 3  9 , 5  25\n",
    "for n in range(0, 10):\n",
    "    if (n % 2) == 0:  # nombre pair\n",
    "        continue      # => re-boucler\n",
    "    carre = n**2\n",
    "    if carre > 25:\n",
    "        break         # => sortir de la boucle\n",
    "    print(n, carre)"
   ]
  },
  {
   "cell_type": "markdown",
   "metadata": {
    "internals": {
     "slide_helper": "subslide_end"
    },
    "slide_helper": "slide_end",
    "slideshow": {
     "slide_type": "-"
    }
   },
   "source": [
    "*Travail initié en 2014 dans le cadre d'une série de formations Python organisées par le réseau Devlog.  \n",
    "Auteurs principaux : Loic Gouarin & David Chamont. Relecteurs : Nicolas Can, Sekou Diakite, Christophe Halgand, Christophe Gengembre.*"
   ]
  },
  {
   "cell_type": "code",
   "execution_count": 2,
   "metadata": {
    "collapsed": false
   },
   "outputs": [
    {
     "data": {
      "text/html": [
       "<link href='http://fonts.googleapis.com/css?family=Oswald' rel='stylesheet' type='text/css'>\n",
       "<link href='http://fonts.googleapis.com/css?family=Lora:400,400italic' rel='stylesheet' type='text/css'>\n",
       "<link href='http://fonts.googleapis.com/css?family=Open+Sans:300' rel='stylesheet' type='text/css'>\n",
       "<link href='http://fonts.googleapis.com/css?family=Alegreya+Sans:100,300,400,500,700,800,900,100italic,300italic,400italic,500italic,700italic,800italic,900italic' rel='stylesheet' type='text/css'>\n",
       "\n",
       "<style>\n",
       "\n",
       "h1, h2, h3, h4, h5 {\n",
       "    font-family: 'Alegreya Sans', sans-serif;\n",
       "}\n",
       "\n",
       "div.text_cell_render{\n",
       "    font-family: 'Alegreya Sans',Computer Modern, \"Helvetica Neue\", Arial, Helvetica, Geneva, sans-serif;\n",
       "    line-height: 135%;\n",
       "    font-size: 120%;\n",
       "    width:100%;/*600px;*/\n",
       "    /*margin-left:auto;*/\n",
       "    /*margin-right:auto;*/\n",
       "}\n",
       "/*div.text_cell_render{font-family: \"Open Sans\", sans-serif;font-weight: normal; line-height:normal;}*/\n",
       "\n",
       "/* header colours and fonts */\n",
       ".rendered_html h1 {\n",
       "    color:#9A3334;\n",
       "    /*margin-top: 0.5em;*/\n",
       "    padding: 1em;\n",
       "    display: block;\n",
       "    font-size: 40px;\n",
       "    text-align: center;\n",
       "    border-top: 2px solid #9A3334;\n",
       "    border-bottom: 2px solid #9A3334;\n",
       "}\n",
       "\n",
       "/*.rendered_html h1 { color: #9A3334; font-family: Lora, sans-serif; font-weight: normal; text-align: center; }*/\n",
       ".rendered_html h2 {\n",
       "    color: #9A3334;\n",
       "    /*font-family: Lora, sans-serif;*/\n",
       "    font-style: italic;\n",
       "    font-weight: normal;\n",
       "    font-size: 30px;\n",
       "    /*text-align: center;*/\n",
       "    border-bottom: 1px solid #9A3334;\n",
       "}\n",
       ".rendered_html h3 {\n",
       "    color: #9A3334;\n",
       "    /*font-family: Lora, sans-serif;*/\n",
       "    font-weight: normal;\n",
       "    font-size: 25px;\n",
       "    font-style: italic;\n",
       "}\n",
       "\n",
       ".rendered_html h4 {\n",
       "    border: 2px solid #9A3334;\n",
       "    border-radius: 25px;\n",
       "    font-style: italic;\n",
       "    height:5%;\n",
       "    width:15%;\n",
       "    padding:5px;\n",
       "    text-align: center;\n",
       "}\n",
       "\n",
       "div.prompt {\n",
       "    display: None;\n",
       "}\n",
       "\n",
       "/* center the images */\n",
       ".ui-wrapper {\n",
       "    margin-left: auto !important;\n",
       "    margin-right: auto !important;\n",
       "}\n",
       "\n",
       "/* center the images */\n",
       ".video {\n",
       "    margin-left: auto !important;\n",
       "    margin-right: auto !important;\n",
       "}\n",
       "\n",
       ".rendered_html img {\n",
       "    margin-top: 0em;\n",
       "}\n",
       "\n",
       "div.input_area {\n",
       "    border-radius: 10px;\n",
       "}\n",
       "\n",
       "/*.reveal h1 {\n",
       "    text-shadow: 10px 10px 10px rgba(0, 0, 0, 0.5);\n",
       "}*/\n",
       "</style>"
      ],
      "text/plain": [
       "<IPython.core.display.HTML object>"
      ]
     },
     "execution_count": 2,
     "metadata": {},
     "output_type": "execute_result"
    }
   ],
   "source": [
    "# execute this part to modify the css style\n",
    "from IPython.core.display import HTML\n",
    "def css_styling():\n",
    "    styles = open(\"../../styles/custom.css\", \"r\").read()\n",
    "    return HTML(styles)\n",
    "css_styling()"
   ]
  }
 ],
 "metadata": {
  "kernelspec": {
   "display_name": "Python 3",
   "language": "python",
   "name": "python3"
  },
  "language_info": {
   "codemirror_mode": {
    "name": "ipython",
    "version": 3
   },
   "file_extension": ".py",
   "mimetype": "text/x-python",
   "name": "python",
   "nbconvert_exporter": "python",
   "pygments_lexer": "ipython3",
   "version": "3.3.5"
  }
 },
 "nbformat": 4,
 "nbformat_minor": 0
}
