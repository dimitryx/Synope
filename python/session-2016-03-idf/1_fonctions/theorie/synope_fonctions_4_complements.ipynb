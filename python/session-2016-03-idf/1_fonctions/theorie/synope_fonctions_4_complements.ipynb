{
 "cells": [
  {
   "cell_type": "markdown",
   "metadata": {},
   "source": [
    "*Ce notebook est distribué par Devlog sous licence Creative Commons - Attribution - Pas d’Utilisation Commerciale - Partage dans les Mêmes Conditions. La description complète de la license est disponible à l'adresse web http://creativecommons.org/licenses/by-nc-sa/4.0/.*"
   ]
  },
  {
   "cell_type": "markdown",
   "metadata": {},
   "source": [
    "# Initiation Python - Variables et fonctions N/N - Compléments"
   ]
  },
  {
   "cell_type": "markdown",
   "metadata": {},
   "source": [
    "## Formattage des affichages"
   ]
  },
  {
   "cell_type": "code",
   "execution_count": null,
   "metadata": {
    "collapsed": true
   },
   "outputs": [],
   "source": [
    "s1 = \"{0} is better than {1}\".format(\"emacs\", \"vim\")\n",
    "s2 = \"{1} is better than {0}\".format(\"emacs\", \"vim\")\n",
    "print(\"1> «\", s1, \"» vs «\", s2, \"»\")\n",
    "pi = 3.14159\n",
    "print(\"2> pi = %1.2f \" % pi)\n",
    "capital_country = {\"United States\" : \"Washington\", \n",
    "                   \"US\" : \"Washington\", \n",
    "                   \"Canada\" : \"Ottawa\",\n",
    "                   \"Germany\": \"Berlin\",\n",
    "                   \"France\" : \"Paris\",\n",
    "                   \"England\" : \"London\",\n",
    "                   \"UK\" : \"London\",\n",
    "                   \"Switzerland\" : \"Bern\",\n",
    "                   \"Austria\" : \"Vienna\",\n",
    "                   \"Netherlands\" : \"Amsterdam\"}\n",
    "\n",
    "print(\"3> Countries and their capitals:\")\n",
    "for c in capital_country:\n",
    "    print(\"{country}: {capital}\".format(country=c, capital=capital_country[c]))\n"
   ]
  },
  {
   "cell_type": "markdown",
   "metadata": {
    "slideshow": {
     "slide_type": "slide"
    }
   },
   "source": [
    "# Récursivité\n",
    "\n",
    "Une fonction peut s'appeler elle-même, directement ou indirectement."
   ]
  },
  {
   "cell_type": "code",
   "execution_count": null,
   "metadata": {
    "collapsed": false,
    "slideshow": {
     "slide_type": "fragment"
    }
   },
   "outputs": [],
   "source": [
    "def fact(n):\n",
    "    if n <= 1:\n",
    "        return 1\n",
    "    else:\n",
    "        return n * fact(n - 1)\n",
    "\n",
    "fact(5)"
   ]
  },
  {
   "cell_type": "markdown",
   "metadata": {
    "slideshow": {
     "slide_type": "subslide"
    }
   },
   "source": [
    "Pensez à une condition d'arrêt."
   ]
  },
  {
   "cell_type": "code",
   "execution_count": null,
   "metadata": {
    "collapsed": false,
    "slideshow": {
     "slide_type": "fragment"
    }
   },
   "outputs": [],
   "source": [
    "def inf(n):\n",
    "    return inf(n + 1)\n",
    "\n",
    "try:\n",
    "    inf(0)\n",
    "except RuntimeError as e:\n",
    "    print(\"Erreur: \\\"{0}\\\"\".format(e))"
   ]
  },
  {
   "cell_type": "markdown",
   "metadata": {},
   "source": [
    "## Compréhensions de liste"
   ]
  },
  {
   "cell_type": "code",
   "execution_count": 1,
   "metadata": {
    "collapsed": false
   },
   "outputs": [
    {
     "name": "stdout",
     "output_type": "stream",
     "text": [
      "[0, 4, 16, 36, 64, 100, 144, 196, 256, 324, 400, 484, 576, 676, 784, 900, 1024, 1156, 1296, 1444, 1600, 1764, 1936, 2116, 2304, 2500, 2704, 2916, 3136, 3364, 3600, 3844, 4096, 4356, 4624, 4900, 5184, 5476, 5776, 6084, 6400, 6724, 7056, 7396, 7744, 8100, 8464, 8836, 9216, 9604]\n"
     ]
    }
   ],
   "source": [
    "l = [ i**2 for i in range(100) if i%2==0 ]\n",
    "print(l)"
   ]
  },
  {
   "cell_type": "markdown",
   "metadata": {
    "slideshow": {
     "slide_type": "slide"
    }
   },
   "source": [
    "# Une fonction est une valeur"
   ]
  },
  {
   "cell_type": "code",
   "execution_count": null,
   "metadata": {
    "collapsed": false,
    "slideshow": {
     "slide_type": "fragment"
    }
   },
   "outputs": [],
   "source": [
    "def fa(a):\n",
    "    return a ** 2\n",
    "\n",
    "maVar = fa\n",
    "print (maVar(5))"
   ]
  },
  {
   "cell_type": "code",
   "execution_count": null,
   "metadata": {
    "collapsed": false,
    "slideshow": {
     "slide_type": "fragment"
    }
   },
   "outputs": [],
   "source": [
    "def jAccepteUneFonction(f, v):\n",
    "    return f(v)\n",
    "\n",
    "print(jAccepteUneFonction(maVar, 6))\n",
    "print(jAccepteUneFonction(int, 6.48074069841))"
   ]
  },
  {
   "cell_type": "markdown",
   "metadata": {
    "slideshow": {
     "slide_type": "slide"
    }
   },
   "source": [
    "# Autre définition de fonctions : les *lambdas*"
   ]
  },
  {
   "cell_type": "code",
   "execution_count": null,
   "metadata": {
    "collapsed": false,
    "slideshow": {
     "slide_type": "fragment"
    }
   },
   "outputs": [],
   "source": [
    "maVar4 = lambda a : a * 2\n",
    "print(maVar4(21))"
   ]
  },
  {
   "cell_type": "markdown",
   "metadata": {
    "slideshow": {
     "slide_type": "slide"
    }
   },
   "source": [
    "# Les prédicats\n",
    "\n",
    "Un prédicat est une fonction qui retourne \"Vrai\" ou \"Faux\" en fonction de critères qui lui sont propres.\n",
    "Idéalement, la valeur \"Vrai\" ou \"Faux\" du prédicat ne doit dépendre que des arguments de celui-ci."
   ]
  },
  {
   "cell_type": "code",
   "execution_count": null,
   "metadata": {
    "collapsed": false,
    "slideshow": {
     "slide_type": "fragment"
    }
   },
   "outputs": [],
   "source": [
    "# Prédicat qui nous dit si la valeur de l'entier a est plus grande que 10\n",
    "def auDessusDe10(a):\n",
    "    return a >= 10\n",
    "\n",
    "print(auDessusDe10(5),auDessusDe10(11))"
   ]
  },
  {
   "cell_type": "markdown",
   "metadata": {
    "slideshow": {
     "slide_type": "slide"
    }
   },
   "source": [
    "## Utilisation"
   ]
  },
  {
   "cell_type": "code",
   "execution_count": null,
   "metadata": {
    "collapsed": false,
    "slideshow": {
     "slide_type": "fragment"
    }
   },
   "outputs": [],
   "source": [
    "# Prédicat qui nous dit si la valeur de l'entier a est plus grande que 10\n",
    "def auDessusDe10(a):\n",
    "    return a >= 10\n",
    "\n",
    "monTableau = [ 1764, 49, 25, 9, 0, -16, 25, -9, 4, 64 ]\n",
    "f = filter(auDessusDe10, monTableau)\n",
    "print(f)\n",
    "print(list(f))"
   ]
  },
  {
   "cell_type": "markdown",
   "metadata": {
    "slideshow": {
     "slide_type": "slide"
    }
   },
   "source": [
    "# Prédicats anonymes: les lambdas"
   ]
  },
  {
   "cell_type": "code",
   "execution_count": null,
   "metadata": {
    "collapsed": false,
    "slideshow": {
     "slide_type": "fragment"
    }
   },
   "outputs": [],
   "source": [
    "monTableau = [ 1764, 49, 25, 9, 0, -16, 25, -9, 4, 64 ]\n",
    "f=filter(lambda a : a < 0, monTableau)\n",
    "print(f)\n",
    "print(list(f))"
   ]
  },
  {
   "cell_type": "markdown",
   "metadata": {
    "slideshow": {
     "slide_type": "fragment"
    }
   },
   "source": [
    "Syntaxe:\n",
    "**lambda** arg0 [, arg1, [arg2, ...]] : _code_\n",
    "\n",
    "La dernière _expression_ de la section **_code_** de lambda correspond à la valeur retournée."
   ]
  },
  {
   "cell_type": "code",
   "execution_count": null,
   "metadata": {
    "collapsed": false,
    "slideshow": {
     "slide_type": "subslide"
    }
   },
   "outputs": [],
   "source": [
    "f = filter(lambda a : a < 0, monTableau)\n",
    "# est équivalent à\n",
    "def anon0(a):\n",
    "    return a < 0\n",
    "f2 = filter(anon0, monTableau)\n",
    "\n",
    "print(list(f))\n",
    "print(list(f2))"
   ]
  },
  {
   "cell_type": "markdown",
   "metadata": {
    "slideshow": {
     "slide_type": "slide"
    }
   },
   "source": [
    "# Le traitement de données par fonctions\n",
    "\n",
    "Il existe _3_ traitements standards sur les données de type \"**sequences**\" en python :\n",
    "- filter : qui, comme nous l'avons vu, permet de _filtrer_ nos données selon un critère exprimé par un prédicat :\n",
    "    - len(data) >= len(filter(predicat, data))\n"
   ]
  },
  {
   "cell_type": "markdown",
   "metadata": {
    "slideshow": {
     "slide_type": "subslide"
    }
   },
   "source": [
    "- map : qui applique un traitement à chaque élément :\n",
    "    - len(data) == len(map(lambda, data))\n",
    "- functools.reduce : qui fusionne les éléments grâce à un opérateur :\n",
    "    - 1 == len(functools.reduce(lambda, data))"
   ]
  },
  {
   "cell_type": "markdown",
   "metadata": {
    "slideshow": {
     "slide_type": "slide"
    }
   },
   "source": [
    "## map"
   ]
  },
  {
   "cell_type": "code",
   "execution_count": null,
   "metadata": {
    "collapsed": false,
    "slideshow": {
     "slide_type": "fragment"
    }
   },
   "outputs": [],
   "source": [
    "import math\n",
    "monTableau = [ 1764, 49, 25, 9, 0, -16, 25, -9, 4, 64 ]\n",
    "m = map(lambda a : (float('nan') if (a < 0) else int(math.sqrt(a))), monTableau)\n",
    "print(list(m))"
   ]
  },
  {
   "cell_type": "markdown",
   "metadata": {
    "slideshow": {
     "slide_type": "slide"
    }
   },
   "source": [
    "## reduce"
   ]
  },
  {
   "cell_type": "code",
   "execution_count": null,
   "metadata": {
    "collapsed": false,
    "slideshow": {
     "slide_type": "fragment"
    }
   },
   "outputs": [],
   "source": [
    "import functools\n",
    "monTableau = [ 1764, 49, 25, 9 ]\n",
    "r=functools.reduce(lambda a, b : a + b, monTableau)\n",
    "print(r)"
   ]
  },
  {
   "cell_type": "code",
   "execution_count": null,
   "metadata": {
    "collapsed": false,
    "slideshow": {
     "slide_type": "fragment"
    }
   },
   "outputs": [],
   "source": [
    "import functools\n",
    "\n",
    "def add(a, b):\n",
    "    print(\" - {} + {}\".format(a, b))\n",
    "    return a + b\n",
    "\n",
    "print(functools.reduce(add, monTableau))"
   ]
  },
  {
   "cell_type": "markdown",
   "metadata": {
    "slideshow": {
     "slide_type": "subslide"
    }
   },
   "source": [
    "<center>\n",
    "![Illustration reduce](./Figures/fonctions_reduce.png \"Illustration reduce\")\n",
    "</center>"
   ]
  },
  {
   "cell_type": "markdown",
   "metadata": {
    "slideshow": {
     "slide_type": "slide"
    }
   },
   "source": [
    "# Les fonctions d'entrée-sortie"
   ]
  },
  {
   "cell_type": "code",
   "execution_count": null,
   "metadata": {
    "collapsed": false,
    "slideshow": {
     "slide_type": "subslide"
    }
   },
   "outputs": [],
   "source": [
    "fout = open('Monfichier','w')\n",
    "fout.write('Ceci est un fichier\\n')\n",
    "fout.close()\n",
    "fout = open('Monfichier','a')\n",
    "fout.write(\"avec du contenu ...!\")\n",
    "fout.write(str(1))\n",
    "fout.write(\"\\n et encore d'autres informations\\n\")\n",
    "for i in [\"inutiles\", \" au possible\"]:\n",
    "    fout.write(i)\n",
    "fout.close()"
   ]
  },
  {
   "cell_type": "code",
   "execution_count": null,
   "metadata": {
    "collapsed": false,
    "slideshow": {
     "slide_type": "subslide"
    }
   },
   "outputs": [],
   "source": [
    "fin = open(\"Monfichier\", 'r')\n",
    "ligne = fin.readline()\n",
    "print(\"ceci est la premiere ligne du fichier : <\" + ligne + \">\")\n",
    "chaine = fin.read(5)\n",
    "print(\"ceci sont les 5 caractères suivants : <\" + chaine + \">\")\n",
    "reste = fin.readlines()\n",
    "print(\"ceci est le reste du fichier : <\")\n",
    "print(reste)\n",
    "print(\">\")"
   ]
  },
  {
   "cell_type": "markdown",
   "metadata": {
    "slideshow": {
     "slide_type": "slide"
    }
   },
   "source": [
    "## Format binaire\n",
    "\n",
    "Les données lues et écrites sont en format texte, il est également possible de lire et écrire des données en format binaire via le module _pickle_"
   ]
  },
  {
   "cell_type": "code",
   "execution_count": null,
   "metadata": {
    "collapsed": false,
    "slideshow": {
     "slide_type": "subslide"
    }
   },
   "outputs": [],
   "source": [
    "import pickle\n",
    "a, b, c = 27, 12.96, [5, 4.83, \"René\"]\n",
    "f = open('donnees_test', 'wb')\n",
    "pickle.dump(a, f)\n",
    "pickle.dump(b, f)\n",
    "pickle.dump(c, f)\n",
    "f.close()\n",
    "f = open('donnees_test', 'rb')\n",
    "j = pickle.load(f)\n",
    "k = pickle.load(f)\n",
    "l = pickle.load(f)\n",
    "print(j, type(j))\n",
    "print(k, type(k))\n",
    "print(l, type(l))\n",
    "f.close()"
   ]
  },
  {
   "cell_type": "markdown",
   "metadata": {
    "slideshow": {
     "slide_type": "slide"
    }
   },
   "source": [
    "## Gestionnaire de contextes : *with*\n",
    "\n",
    "Les gestionnaires de contexte en python permettent de s'assurer que des instructions sont toujours exécutées au début et à la fin de l'exécution d'un code, même si une exception est levée pendant l'exécution de ce code.\n",
    "\n",
    "La fonction `open` renvoie un objet de type fichier qui est un gestionnaire de contexte, qui va permettre de s'assurer de la fermeture du fichier.\n"
   ]
  },
  {
   "cell_type": "code",
   "execution_count": null,
   "metadata": {
    "collapsed": false,
    "slideshow": {
     "slide_type": "subslide"
    }
   },
   "outputs": [],
   "source": [
    "fh = None\n",
    "try:\n",
    "    fh = open(\"donnees_test\")\n",
    "    for line in fh:\n",
    "        process(line)\n",
    "except BaseException as err:\n",
    "    print(err)\n",
    "finally:\n",
    "    if fh is not None:\n",
    "        fh.close()"
   ]
  },
  {
   "cell_type": "code",
   "execution_count": null,
   "metadata": {
    "collapsed": false
   },
   "outputs": [],
   "source": [
    "try:\n",
    "    with open(\"donnees_test\") as fh:\n",
    "        for line in fh:\n",
    "            process(line)\n",
    "except BaseException as err:\n",
    "    print(err)"
   ]
  },
  {
   "cell_type": "markdown",
   "metadata": {
    "slideshow": {
     "slide_type": "slide"
    }
   },
   "source": [
    "## A suivre...\n",
    "\n",
    "[Travaux pratiques](../ellipsoides/synope_variables_fonctions_tp.ipynb)  "
   ]
  },
  {
   "cell_type": "markdown",
   "metadata": {},
   "source": [
    "*Travail initié en 2014 dans le cadre d'une série de formations Python organisées par le réseau Devlog.  \n",
    "Auteurs principaux : Loic Gouarin & David Chamont. Relecteurs : Nicolas Can, Sekou Diakite, Christophe Halgand, Christophe Gengembre.*"
   ]
  }
 ],
 "metadata": {
  "kernelspec": {
   "display_name": "Python 3",
   "language": "python",
   "name": "python3"
  },
  "language_info": {
   "codemirror_mode": {
    "name": "ipython",
    "version": 3
   },
   "file_extension": ".py",
   "mimetype": "text/x-python",
   "name": "python",
   "nbconvert_exporter": "python",
   "pygments_lexer": "ipython3",
   "version": "3.4.3"
  }
 },
 "nbformat": 4,
 "nbformat_minor": 0
}
