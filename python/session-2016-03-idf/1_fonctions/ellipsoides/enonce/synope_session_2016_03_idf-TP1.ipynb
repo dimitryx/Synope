{
 "cells": [
  {
   "cell_type": "markdown",
   "metadata": {
    "slideshow": {
     "slide_type": "-"
    }
   },
   "source": [
    "*Ce notebook est distribué par Devlog sous licence Creative Commons - Attribution - Pas d’Utilisation Commerciale - Partage dans les Mêmes Conditions. La description complète de la license est disponible à l'adresse web http://creativecommons.org/licenses/by-nc-sa/4.0/.*"
   ]
  },
  {
   "cell_type": "markdown",
   "metadata": {
    "slideshow": {
     "slide_type": "slide"
    }
   },
   "source": [
    "# Ellipsoides - variables et fonctions"
   ]
  },
  {
   "cell_type": "markdown",
   "metadata": {},
   "source": [
    "Tout au long de cette formation, vous allez travailler sur l'élaboration d'un projet Python allant de sa forme la plus basique (création de fonction et manipulation du langage) à sa forme la plus aboutie (création d'un package permettant de redistribuer à la communauté son savoir-faire).\n",
    "\n",
    "Le fil rouge qui va nous occuper pendant ces trois jours est basé sur la construction d'objets que nous ferons interagir par la suite:\n",
    "\n",
    "- les superellipses et les superellipsoïdes qui sont des formes géométriques respectivement à deux et à trois dimensions,\n",
    "- des complexes qui permettent de décrire une rotation en 2D, ou des quaternions pour décrire une rotation 3D selon un axe.\n",
    "\n"
   ]
  },
  {
   "cell_type": "markdown",
   "metadata": {},
   "source": [
    "### Superellipse\n",
    "\n",
    "L'équation d'une superellipse est donnée par la formule suivante pour $-\\pi \\leq \\theta \\leq \\pi$\n",
    "\n",
    "$$\n",
    "\\left\\{\n",
    "\\begin{array}{l}\n",
    "x(\\theta) = r_x |cos \\theta |^{\\frac{2}{m}} sign(cos \\theta) \\\\\n",
    "y(\\theta) = r_y |sin \\theta |^{\\frac{2}{m}} sign(sin \\theta) \n",
    "\\end{array}\n",
    "\\right.\n",
    "$$\n",
    "\n",
    "où $r_x$ et $r_y$ sont les rayons de la superellipse selon $x$ et $y$, $m$ est un réel strictement positif qui détermine la forme et enfin la fonction $sign$ est définie par\n",
    "\n",
    "$$\n",
    "sign(x) = \\left\\{\n",
    "\\begin{array}{ll}\n",
    "-1 &\\; \\text{si} \\; x<0 \\\\\n",
    "0 &\\; \\text{si} \\; x=0 \\\\\n",
    "1 &\\; \\text{si} \\; x>0\n",
    "\\end{array}\n",
    "\\right.\n",
    "$$\n",
    "\n",
    "On remarquera que si $m=2$, on retrouve l'équation d'un cercle si $r_x=r_y$ et d'une ellipse sinon."
   ]
  },
  {
   "cell_type": "markdown",
   "metadata": {},
   "source": [
    "### Superellipsoide\n",
    "\n",
    "En 3D, la superellipsoïde est donnée par la formule suivante, pour $-\\pi \\leq \\theta \\leq \\pi$ et $-\\frac{\\pi}{2} \\leq \\phi \\leq \\frac{\\pi}{2}$ \n",
    "\n",
    "\n",
    "$$\n",
    "\\left\\{\n",
    "\\begin{array}{l}\n",
    "x(\\theta, \\phi) = r_x |cos \\theta |^\\frac{2}{m_1} sign(cos \\theta) |cos \\phi |^\\frac{2}{m_2} sign(cos \\phi)\\\\\n",
    "y(\\theta, \\phi) = r_y |sin \\theta |^\\frac{2}{m_1} sign(sin \\theta) |cos \\phi |^\\frac{2}{m_2} sign(cos \\phi)\\\\\n",
    "z(\\theta, \\phi) = r_z |sin \\phi |^\\frac{2}{m_2} sign(sin \\phi)\\\\\n",
    "\\end{array}\n",
    "\\right.\n",
    "$$"
   ]
  },
  {
   "cell_type": "markdown",
   "metadata": {},
   "source": [
    "### Rotation 2D par nombres complexes\n",
    "\n",
    "Il existe différentes façons de programmer la rotation. La plus connue est certainement à l'aide d'une matrice. Nous allons voir ici une autre façon de faire en utilisant les nombres complexes pour la dimension 2 et les quaternions pour la dimension 3.\n",
    "\n",
    "Un nombre complexe se note $a + ib$ où $a$ est appelé la partie réelle et $b$ la partie imaginaire. Sachant que $i^2=-1$, le produit de deux complexes s'écrit $(a_1 + ib_1)(a_2 + ib_2) = (a_1a_2 - b_1b_2) + i(a_1b_2 + b_1a_2)$\n",
    "\n",
    "La rotation d'un point $(x, y)$ par un angle $\\theta$ peut s'écrire en multipliant son équivalent dans le plan complexe, $z = x + iy$, par un complexe de rotation $e^{i\\theta} = (\\cos\\theta + i \\sin\\theta)$. \n",
    "\n",
    "$$\n",
    "z' = e^{i\\theta} z = (\\cos\\theta + i \\sin\\theta)(x + i y) = x\\cos\\theta - y \\sin\\theta + i (x \\sin\\theta + y \\cos\\theta)  \n",
    "$$"
   ]
  },
  {
   "cell_type": "markdown",
   "metadata": {},
   "source": [
    "### Rotation 3D par quaternions\n",
    "\n",
    "Un quaternion se note $a + i b +j c +k d$ où $a$ est appelé la partie réelle et $i b +j c +k d$ constitue la partie imaginaire.\n",
    "\n",
    "Etant donné les propriétés suivantes :\n",
    "$$\n",
    "\\begin{array}{l}\n",
    "i^2=j^2=k^2=ijk=-1 \\\\\n",
    "ij = k, ji = -k \\\\\n",
    "jk = i, kj = -i \\\\\n",
    "ik = j, ki = -j\n",
    "\\end{array}\n",
    "$$ \n",
    "\n",
    "Le produit hamiltonien de deux quaternions peut s'écrire\n",
    "\n",
    "$$\n",
    "(a_1, b_1, c_1, d_1)(a_2, b_2, c_2, d_2) = \n",
    "\\left(\n",
    "\\begin{array}{l}\n",
    "a_1a_2 - b_1b_2 - c_1c_2 -d_1d_2, \\\\\n",
    "a_1b_2 + b_1 a_2 + c_1d_2 - d_1c_2 \\\\\n",
    "a_1c_2 - b_1 d_2 + c_1a_2 + d_1b_2 \\\\\n",
    "a_1d_2 + b_1 c_2 - c_1b_2 + d_1a_2 \\\\\n",
    "\\end{array}\n",
    "\\right)\n",
    "$$\n",
    "\n",
    "Pour appliquer une rotation $\\theta$, autour d'un axe $(u_x, u_y, u_z)$, à un point 3D $(x, y, z)$, on peut représenter ce point sous la forme du quaternion imaginaire $p = x i + y j + z k$, et réaliser les produits hamiltoniens suivants :\n",
    "\n",
    "$$\n",
    "p' = q p q^{-1}\n",
    "$$\n",
    "\n",
    "où\n",
    "\n",
    "$$\n",
    "q = e^{\\frac{\\theta}{2}(u_xi + u_y j + u_zk)}=\\cos \\frac{\\theta}{2} + (u_xi + u_y j + u_zk) \\sin \\frac{\\theta}{2}\n",
    "$$\n",
    "\n",
    "et \n",
    "\n",
    "$$\n",
    "q^{-1} = e^{-\\frac{\\theta}{2}(u_xi + u_y j + u_zk)}=\\cos \\frac{\\theta}{2} - (u_xi + u_y j + u_zk) \\sin \\frac{\\theta}{2}\n",
    "$$"
   ]
  },
  {
   "cell_type": "markdown",
   "metadata": {},
   "source": [
    "## Etape 1 (intro)\n",
    "\n",
    "Nous allons commencer ce premier TP par la réalisation de fonctions simples permettant de vous familiariser avec le langage ainsi qu'avec les superellipsoïdes et les quaternions."
   ]
  },
  {
   "cell_type": "markdown",
   "metadata": {},
   "source": [
    "#### Question 1\n",
    "\n",
    "Ecrivez une fonction *linspace()* qui découpe un intervalle donné en sous-intervalles de taille égale, et affiche à l'écran les points de discrétisation aux bornes de ces sous-intervalles. Les paramètres d'entrée seront les bornes de l'intervalle global, et le nombre de points de discrétisation.\n",
    "\n",
    "Par exemple, un appel à\n",
    "```python\n",
    "linspace(0,1,10)\n",
    "```\n",
    "doit afficher :\n",
    "```shell\n",
    "0.0\n",
    "0.1111111111111111\n",
    "0.2222222222222222\n",
    "0.3333333333333333\n",
    "0.4444444444444444\n",
    "0.5555555555555556\n",
    "0.6666666666666666\n",
    "0.7777777777777777\n",
    "0.8888888888888888\n",
    "1.0\n",
    "```"
   ]
  },
  {
   "cell_type": "markdown",
   "metadata": {},
   "source": [
    "#### Question 2\n",
    "Ecrivez deux fonctions *spe_cos()* et *spe_sin()* qui prennent en paramètres $\\theta$ et $r$ et qui renvoient respectivement $|cos \\theta |^r sign(cos \\theta)$ et $|sin \\theta |^r sign(sin \\theta)$.\n",
    "On utilisera les fonctions :\n",
    "- *abs()*\n",
    "- *math.cos()*\n",
    "- *math.sin()*\n",
    "- *math.copysign()*"
   ]
  },
  {
   "cell_type": "markdown",
   "metadata": {},
   "source": [
    "#### Question 3\n",
    "\n",
    "A l'aide des deux fonctions précédentes, vous pouvez à présent écrire la fonction *superellipse()* qui prend en paramètres les rayons $r_x$ et $r_y$, ainsi que le réel $m$.\n",
    "\n",
    "Plutôt que de donner également en paramètre la valeur de $\\theta$, on donnera un nombre de points de discrétisation, et en vous inspirant de la fonction *linspace()*, on affichera à l'écran les valeurs des coordonnées $x$ et $y$ de la superellipse, pour les différentes valeurs discrétisées de $\\theta$ sur l'intervalle $[-\\pi, \\pi]$.\n",
    "\n",
    "Vérifiez que l'appel à\n",
    "```python\n",
    "superellipse(5,1,1,2)\n",
    "```\n",
    "affiche des valeurs proches de :\n",
    "```shell\n",
    "1.0 0.0\n",
    "0.0 1.0\n",
    "-1.0 0.0\n",
    "0.0 -1.0\n",
    "1.0 0.0\n",
    "```"
   ]
  },
  {
   "cell_type": "markdown",
   "metadata": {},
   "source": [
    "#### Question 4\n",
    "\n",
    "Ecrivez une fonction *superellipsoide()* qui prend en paramètres le nombre de points de discrétisation en $\\theta$ et en $\\phi$, les rayons $r_x$, $r_y$ et $r_z$, et les deux réels $m_1$ et $m_2$. Comme précedemment, cette fonction affiche à l'écran les coordonnées $x$, $y$ et $z$ selon les points de discrétisation en $\\theta$ et en $\\phi$.\n",
    "\n",
    "En réutilisant les fonctions *spe_cos()* et *spe_sin()*, la superellipsoide s'écrit :\n",
    "\n",
    "$$\n",
    "\\left\\{\n",
    "\\begin{array}{l}\n",
    "x(\\theta, \\phi) = r_x spe\\_cos\\left(\\theta, \\frac{2}{m_1}\\right) spe\\_cos\\left(\\phi, \\frac{2}{m_2}\\right)\\\\\n",
    "y(\\theta, \\phi) = r_y spe\\_sin\\left(\\theta, \\frac{2}{m_1}\\right) spe\\_cos\\left(\\phi, \\frac{2}{m_2}\\right)\\\\\n",
    "z(\\theta, \\phi) = r_z spe\\_sin\\left(\\phi, \\frac{2}{m_2}\\right)\\\\\n",
    "\\end{array}\n",
    "\\right.\n",
    "$$\n"
   ]
  },
  {
   "cell_type": "markdown",
   "metadata": {},
   "source": [
    "## Etape 2 (types prédéfinis)"
   ]
  },
  {
   "cell_type": "markdown",
   "metadata": {},
   "source": [
    "#### Question 5\n",
    "\n",
    "Transformez la fonctions *linspace()* pour qu'elle retourne une liste des valeurs calculées, au lieu de les afficher. Réutilisez *linspace()* pour implémenter *superellipse()* et *superellipsoides()*."
   ]
  },
  {
   "cell_type": "markdown",
   "metadata": {},
   "source": [
    "#### Question 6\n",
    "\n",
    "Supprimez les affichages de *superellipse()* et retournez à la place un tuple de deux éléments : la liste imbriquée des *x*, et la liste des *y*.\n",
    "\n",
    "Procédez de même avec *superellipsoides()*."
   ]
  },
  {
   "cell_type": "markdown",
   "metadata": {},
   "source": [
    "#### Question 7\n",
    "\n",
    "Ecrivez une fonction *rotate_using_complex* qui prend en paramètres un angle $\\theta$ et une position à 2 dimensions représentée par une liste. Cette fonction tourne la position de l'angle $\\theta$ et retourne cette nouvelle position.\n",
    "\n",
    "Implémentez la fonction à l'aide du type *complex* de Python."
   ]
  },
  {
   "cell_type": "markdown",
   "metadata": {},
   "source": [
    "## Etape 3 (structure de contrôle)"
   ]
  },
  {
   "cell_type": "markdown",
   "metadata": {},
   "source": [
    "#### Question 8\n",
    "\n",
    "Ajouter avant votre fonction `linspace()` un commentaire décrivant le but de la fonction, ses paramètres d'entrée, et son résultat."
   ]
  },
  {
   "cell_type": "markdown",
   "metadata": {},
   "source": [
    "#### Question 9\n",
    "\n",
    "Dans la fonction, testez si la borne inférieure est bien inférieure à la borne supérieure. Dans le cas contraire, affichez un message d'erreur et sortez de la fonction. Ajoutez un appel à `linspace(0,1,10)` pour vérifier le bon déclenchement de l'erreur."
   ]
  },
  {
   "cell_type": "markdown",
   "metadata": {},
   "source": [
    "## Etape 4 (entrées/sorties)"
   ]
  },
  {
   "cell_type": "markdown",
   "metadata": {},
   "source": [
    "#### Question 10\n",
    "\n",
    "Si ce n'est pas déjà fait, regroupez toutes les fonctions précédentes dans un fichier. Ajoutez des instructions pour demander à l'utilisateur combien de points de discrétisation $N$ il souhaite pour $\\theta$ avant d'appeler $superellipse(N,1,1,2)$, puis combien de points de discrétisation il souhaite pour $\\theta$ et $\\phi$ avant d'appeler $superellipsoid(N, 1, 1, 1, 2, 2)$."
   ]
  },
  {
   "cell_type": "markdown",
   "metadata": {},
   "source": [
    "#### Question 11\n",
    "\n",
    "Formattez les affichages de valeurs réelles pour avoit deux chiffres après la virgule."
   ]
  },
  {
   "cell_type": "markdown",
   "metadata": {},
   "source": [
    "#### Question 12\n",
    "\n",
    "Au lieu de les afficher à l'écran, écrivez dans un fichier les résultats de l'appel à $superellipsoid(N,1,1,1,2,2)$."
   ]
  },
  {
   "cell_type": "markdown",
   "metadata": {},
   "source": [
    "## Etape 5 (fonctions)"
   ]
  },
  {
   "cell_type": "markdown",
   "metadata": {},
   "source": [
    "#### Question 13\n",
    "\n",
    "Faire en sorte que les fonctions *superellipse* et *superellipsoide* est des valeurs par défaut pour $r_x$, $r_y$, $r_z$, $m$, $m_1$ et $m_2$."
   ]
  },
  {
   "cell_type": "markdown",
   "metadata": {},
   "source": [
    "#### Question 14\n",
    "\n",
    "Ecrivez une fonction *hamilton_product* qui prend en paramètres deux tuples de taille $4$ et qui renvoie le produit hamiltonien sous forme de tuple."
   ]
  },
  {
   "cell_type": "markdown",
   "metadata": {},
   "source": [
    "#### Question 15\n",
    "\n",
    "Ecrivez une fonction *rotate_using_quaternion* qui prend en paramètres un angle $\\theta$, un axe de rotation $(u_x, u_y, u_z)$ et une position à 3 dimensions représentée par une liste. Cette fonction tourne la position de l'angle $\\theta$ autour de l'axe et retourne la nouvelle position."
   ]
  },
  {
   "cell_type": "markdown",
   "metadata": {},
   "source": [
    "### Mise en forme"
   ]
  },
  {
   "cell_type": "code",
   "execution_count": 2,
   "metadata": {
    "collapsed": false
   },
   "outputs": [
    {
     "data": {
      "text/html": [
       "<link href='http://fonts.googleapis.com/css?family=Oswald' rel='stylesheet' type='text/css'>\n",
       "<link href='http://fonts.googleapis.com/css?family=Lora:400,400italic' rel='stylesheet' type='text/css'>\n",
       "<link href='http://fonts.googleapis.com/css?family=Open+Sans:300' rel='stylesheet' type='text/css'>\n",
       "<link href='http://fonts.googleapis.com/css?family=Alegreya+Sans:100,300,400,500,700,800,900,100italic,300italic,400italic,500italic,700italic,800italic,900italic' rel='stylesheet' type='text/css'>\n",
       "\n",
       "<style>\n",
       "\n",
       "h1, h2, h3, h4, h5 {\n",
       "    font-family: 'Alegreya Sans', sans-serif;\n",
       "}\n",
       "\n",
       "div.text_cell_render{\n",
       "    font-family: 'Alegreya Sans',Computer Modern, \"Helvetica Neue\", Arial, Helvetica, Geneva, sans-serif;\n",
       "    line-height: 135%;\n",
       "    font-size: 140%;\n",
       "    width:100%;/*600px;*/\n",
       "    /*margin-left:auto;*/\n",
       "    /*margin-right:auto;*/\n",
       "}\n",
       "/*div.text_cell_render{font-family: \"Open Sans\", sans-serif;font-weight: normal; line-height:normal;}*/\n",
       "\n",
       "/* header colours and fonts */\n",
       ".rendered_html h1 {\n",
       "    color:#9A3334;\n",
       "    /*margin-top: 0.5em;*/\n",
       "    padding: 1em;\n",
       "    display: block;\n",
       "    font-size: 40px;\n",
       "    text-align: center;\n",
       "    border-top: 2px solid #9A3334;\n",
       "    border-bottom: 2px solid #9A3334;\n",
       "}\n",
       "\n",
       "/*.rendered_html h1 { color: #9A3334; font-family: Lora, sans-serif; font-weight: normal; text-align: center; }*/\n",
       ".rendered_html h2 {\n",
       "    color: #9A3334;\n",
       "    /*font-family: Lora, sans-serif;*/\n",
       "    font-style: italic;\n",
       "    font-weight: normal;\n",
       "    font-size: 30px;\n",
       "    /*text-align: center;*/\n",
       "    border-bottom: 1px solid #9A3334;\n",
       "}\n",
       ".rendered_html h3 {\n",
       "    color: #9A3334;\n",
       "    /*font-family: Lora, sans-serif;*/\n",
       "    font-weight: normal;\n",
       "    font-size: 25px;\n",
       "    font-style: italic;\n",
       "}\n",
       "\n",
       ".rendered_html h4 {\n",
       "    border: 2px solid #9A3334;\n",
       "    border-radius: 25px;\n",
       "    font-style: italic;\n",
       "    height:5%;\n",
       "    width:20%;\n",
       "    padding:5px;\n",
       "    text-align: center;\n",
       "}\n",
       "\n",
       "div.prompt {\n",
       "    display: None;\n",
       "}\n",
       "\n",
       "/* center the images */\n",
       ".ui-wrapper {\n",
       "    margin-left: auto !important;\n",
       "    margin-right: auto !important;\n",
       "}\n",
       "\n",
       "/* center the images */\n",
       ".video {\n",
       "    margin-left: auto !important;\n",
       "    margin-right: auto !important;\n",
       "}\n",
       "\n",
       ".rendered_html img {\n",
       "    margin-top: 0em;\n",
       "}\n",
       "\n",
       "div.input_area {\n",
       "    border-radius: 10px;\n",
       "}\n",
       "\n",
       ".reveal h1 {\n",
       "    font-size: 70px;\n",
       "    text-shadow: 10px 10px 10px rgba(0, 0, 0, 0.5);\n",
       "}\n",
       "\n",
       ".reveal h2 {\n",
       "    font-size: 50px;\n",
       "    text-shadow: 10px 10px 10px rgba(0, 0, 0, 0.5);\n",
       "}\n",
       "\n",
       ".reveal h3 {\n",
       "    font-size: 50px;\n",
       "    \n",
       "}\n",
       "\n",
       "</style>"
      ],
      "text/plain": [
       "<IPython.core.display.HTML object>"
      ]
     },
     "execution_count": 2,
     "metadata": {},
     "output_type": "execute_result"
    }
   ],
   "source": [
    "# execute this part to modify the css style\n",
    "from IPython.core.display import HTML\n",
    "def css_styling():\n",
    "    styles = open(\"../../../styles/custom.css\", \"r\").read()\n",
    "    return HTML(styles)\n",
    "css_styling()"
   ]
  }
 ],
 "metadata": {
  "kernelspec": {
   "display_name": "Python 3",
   "language": "python",
   "name": "python3"
  },
  "language_info": {
   "codemirror_mode": {
    "name": "ipython",
    "version": 3
   },
   "file_extension": ".py",
   "mimetype": "text/x-python",
   "name": "python",
   "nbconvert_exporter": "python",
   "pygments_lexer": "ipython3",
   "version": "3.4.3"
  }
 },
 "nbformat": 4,
 "nbformat_minor": 0
}
