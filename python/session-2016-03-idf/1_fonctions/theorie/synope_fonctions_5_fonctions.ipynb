{
 "cells": [
  {
   "cell_type": "markdown",
   "metadata": {},
   "source": [
    "*Ce notebook est distribué par Devlog sous licence Creative Commons - Attribution - Pas d’Utilisation Commerciale - Partage dans les Mêmes Conditions. La description complète de la license est disponible à l'adresse web http://creativecommons.org/licenses/by-nc-sa/4.0/.*"
   ]
  },
  {
   "cell_type": "markdown",
   "metadata": {},
   "source": [
    "# Fonctions"
   ]
  },
  {
   "cell_type": "markdown",
   "metadata": {
    "slideshow": {
     "slide_type": "slide"
    }
   },
   "source": [
    "## Une fonction\n",
    "\n",
    "Une fonction représente un sous-programme dédié à une tâche particulière :\n",
    " - permet de découper un programme complexe en sous-tâches\n",
    " - réutiliser plusieurs fois une même séquence d'instructions sans la réécrire"
   ]
  },
  {
   "cell_type": "markdown",
   "metadata": {
    "slideshow": {
     "slide_type": "subslide"
    }
   },
   "source": [
    "Une fonction contient:\n",
    " - le mot clef **def**, un nom, '**(**', la liste des paramètres, '**)**' '**:**'\n",
    " - un bloc d'instructions (indenté).\n",
    "L'exécution d'une fonction se termine lorsque son bloc d'instructions se termine ou au premier **return**."
   ]
  },
  {
   "cell_type": "markdown",
   "metadata": {
    "slideshow": {
     "slide_type": "slide"
    }
   },
   "source": [
    "## Fonction simple sans paramètre"
   ]
  },
  {
   "cell_type": "code",
   "execution_count": null,
   "metadata": {
    "collapsed": false,
    "slideshow": {
     "slide_type": "fragment"
    }
   },
   "outputs": [],
   "source": [
    "#définition\n",
    "def maFonction():\n",
    "    pass\n",
    "# Cette fonction ne fait rien et ne produit aucun résultat"
   ]
  },
  {
   "cell_type": "code",
   "execution_count": null,
   "metadata": {
    "collapsed": false,
    "slideshow": {
     "slide_type": "fragment"
    }
   },
   "outputs": [],
   "source": [
    "#Appel\n",
    "maFonction()"
   ]
  },
  {
   "cell_type": "code",
   "execution_count": null,
   "metadata": {
    "collapsed": false,
    "slideshow": {
     "slide_type": "fragment"
    }
   },
   "outputs": [],
   "source": [
    "#Appel et affichage du résultat\n",
    "print (maFonction())"
   ]
  },
  {
   "cell_type": "markdown",
   "metadata": {
    "slideshow": {
     "slide_type": "slide"
    }
   },
   "source": [
    "## Fonction simple avec paramètres"
   ]
  },
  {
   "cell_type": "code",
   "execution_count": null,
   "metadata": {
    "collapsed": false,
    "slideshow": {
     "slide_type": "fragment"
    }
   },
   "outputs": [],
   "source": [
    "#définition\n",
    "def maFonction(a, b):\n",
    "    pass\n",
    "# Cette fonction ne fait rien et ne produit aucun résultat"
   ]
  },
  {
   "cell_type": "markdown",
   "metadata": {
    "slideshow": {
     "slide_type": "slide"
    }
   },
   "source": [
    "## Code de la fonction"
   ]
  },
  {
   "cell_type": "code",
   "execution_count": null,
   "metadata": {
    "collapsed": false,
    "slideshow": {
     "slide_type": "fragment"
    }
   },
   "outputs": [],
   "source": [
    "#Ajoutons un corps de fonction\n",
    "def maFonction():\n",
    "    print(\"Dans ma fonction\")\n",
    "\n",
    "#Appel à maFonction\n",
    "maFonction()"
   ]
  },
  {
   "cell_type": "code",
   "execution_count": null,
   "metadata": {
    "collapsed": false,
    "slideshow": {
     "slide_type": "fragment"
    }
   },
   "outputs": [],
   "source": [
    "#Appel et affichage du résultat\n",
    "print (maFonction())"
   ]
  },
  {
   "cell_type": "markdown",
   "metadata": {
    "slideshow": {
     "slide_type": "slide"
    }
   },
   "source": [
    "## Sortir d'une fonction\n",
    "\n",
    "On sort d'une fonction soit\n",
    "- parce que la fin du code est atteinte\n",
    "- en utilisant le mot clef **return**"
   ]
  },
  {
   "cell_type": "code",
   "execution_count": null,
   "metadata": {
    "collapsed": false,
    "slideshow": {
     "slide_type": "fragment"
    }
   },
   "outputs": [],
   "source": [
    "def maFonction():\n",
    "    print(\"Dans ma fonction\")\n",
    "    return\n",
    "    print(\"Toujours dans ma fonction\")\n",
    "\n",
    "print(maFonction())"
   ]
  },
  {
   "cell_type": "markdown",
   "metadata": {
    "slideshow": {
     "slide_type": "slide"
    }
   },
   "source": [
    "## Passage d'arguments\n",
    "\n",
    "Une partie de programme qui appelle une fonction peut lui communiquer des arguments."
   ]
  },
  {
   "cell_type": "code",
   "execution_count": null,
   "metadata": {
    "collapsed": false,
    "slideshow": {
     "slide_type": "fragment"
    }
   },
   "outputs": [],
   "source": [
    "def maFonction(a, b):\n",
    "    print(\"coucou\", a, \"et\", b)\n",
    "\n",
    "maFonction(\"tata\", \"toto\")"
   ]
  },
  {
   "cell_type": "markdown",
   "metadata": {
    "slideshow": {
     "slide_type": "slide"
    }
   },
   "source": [
    "A son tour, la fonction peut communiquer à \"l'appelant\" un résultat."
   ]
  },
  {
   "cell_type": "code",
   "execution_count": null,
   "metadata": {
    "collapsed": false,
    "slideshow": {
     "slide_type": "fragment"
    }
   },
   "outputs": [],
   "source": [
    "def maFonction(a, b):\n",
    "    resultat = int(a * b)\n",
    "    print(a, \"x\", b, \"=>\", resultat)\n",
    "    return resultat\n",
    "\n",
    "val = maFonction(10, 4.2)\n",
    "print(\"Le résultat de maFonction(10, 4.2) est:\", val)"
   ]
  },
  {
   "cell_type": "markdown",
   "metadata": {
    "slideshow": {
     "slide_type": "slide"
    }
   },
   "source": [
    "## Passage de paramètres par adresse, par valeur\n",
    "\n",
    "Python passe les variables par adresse.\n"
   ]
  },
  {
   "cell_type": "code",
   "execution_count": null,
   "metadata": {
    "collapsed": false,
    "slideshow": {
     "slide_type": "fragment"
    }
   },
   "outputs": [],
   "source": [
    "def maFonction(a, b):\n",
    "    print(\"{0} => 5, \\\"{1}\\\" => \\\"tata\\\"\".format(a[0], \"\".join(b)))\n",
    "    a[0] = 5\n",
    "    b[1] = \"a\"\n",
    "    b[3] = \"a\"\n",
    "\n",
    "a = [10]\n",
    "b = list(\"toto\")\n",
    "print(\"a=\", a[0], \",\", \"b=\", \"\".join(b))\n",
    "maFonction(a, b)\n",
    "print(\"a=\", a[0], \",\", \"b=\", \"\".join(b))"
   ]
  },
  {
   "cell_type": "markdown",
   "metadata": {
    "slideshow": {
     "slide_type": "slide"
    }
   },
   "source": [
    "## Passage de paramètres par adresse, par valeur\n",
    "\n",
    "Python passe les variables par adresse.<br/>\n",
    "Cependant, les types scalaires de Python entier, flottant et chaine sont *immutables*."
   ]
  },
  {
   "cell_type": "code",
   "execution_count": null,
   "metadata": {
    "collapsed": false,
    "slideshow": {
     "slide_type": "fragment"
    }
   },
   "outputs": [],
   "source": [
    "def maFonction(a, b):\n",
    "    print(\"{} => 5, \\\"{}\\\" => \\\"tata\\\"\".format(a, b))\n",
    "    a = 5\n",
    "    b = \"tata\"\n",
    "\n",
    "a = 10\n",
    "b = \"toto\"\n",
    "print(\"a={}, b={}\".format(a, b))\n",
    "maFonction(a, b)\n",
    "print(\"a={}, b={}\".format(a, b))\n"
   ]
  },
  {
   "cell_type": "markdown",
   "metadata": {
    "slideshow": {
     "slide_type": "slide"
    }
   },
   "source": [
    "## Passage de paramètres par adresse, par valeur\n",
    "\n",
    "Python passe les variables par adresse.<br/>\n",
    "Cependant, les types scalaires de Python entier, flottant et chaine sont *immutables*.<br/>\n",
    "Pour communiquer les changements au programme principal, on peut retourner la ou les valeurs transformée(s)."
   ]
  },
  {
   "cell_type": "code",
   "execution_count": null,
   "metadata": {
    "collapsed": false,
    "slideshow": {
     "slide_type": "fragment"
    }
   },
   "outputs": [],
   "source": [
    "def maFonction(a, b):\n",
    "    print(\"{0} => 5, \\\"{1}\\\" => \\\"tata\\\"\".format(a, b))\n",
    "    a = 5\n",
    "    b = \"tata\"\n",
    "    return a, b\n",
    "\n",
    "a = 10\n",
    "b = \"toto\"\n",
    "print(\"a={}, b={}\".format(a, b))\n",
    "a, b = maFonction(a, b)\n",
    "print(\"a={}, b={}\".format(a, b))"
   ]
  },
  {
   "cell_type": "markdown",
   "metadata": {
    "slideshow": {
     "slide_type": "slide"
    }
   },
   "source": [
    "## Visibilité des variables\n",
    "\n",
    " - Chaque fonction crée sa propre pile;\n",
    " - Une fonction a accès à ses variables locales et aux variables globales;\n",
    " - Si une variable locale a le même nom qu'une variable globale, c'est elle qui l'emporte;\n",
    " - Pour changer la valeur d'une variable globale dans une fonction, il faut utiliser le mot clef **global**."
   ]
  },
  {
   "cell_type": "code",
   "execution_count": null,
   "metadata": {
    "collapsed": false,
    "slideshow": {
     "slide_type": "slide"
    }
   },
   "outputs": [],
   "source": [
    "######################################################\n",
    "#### Une fonction voit l'espace mémoire \"global\", ####\n",
    "####                      mais ne le modifie pas. ####\n",
    "######################################################\n",
    "a, b, c = 5, 6, 7\n",
    "def maFonction(c):\n",
    "    b = 7\n",
    "    print(\"a={0}, b={1}, c={2}\".format(a, b, c))\n",
    "maFonction(\"$\")\n",
    "print(\"a={0}, b={1}, c={2}\".format(a, b, c))"
   ]
  },
  {
   "cell_type": "code",
   "execution_count": null,
   "metadata": {
    "collapsed": false,
    "slideshow": {
     "slide_type": "slide"
    }
   },
   "outputs": [],
   "source": [
    "###############################################\n",
    "#### Partage de l'espace mémoire \"global\"  ####\n",
    "###############################################\n",
    "a, b, c = 5, 6, 7\n",
    "def maFonction(c):\n",
    "    global b\n",
    "    a, b = 8, 7\n",
    "    print(\"a={0}, b={1}, c={2}\".format(a, b, c))\n",
    "maFonction(\"$\")\n",
    "print(\"a={0}, b={1}, c={2}\".format(a, b, c))\n"
   ]
  },
  {
   "cell_type": "code",
   "execution_count": null,
   "metadata": {
    "collapsed": false,
    "slideshow": {
     "slide_type": "slide"
    }
   },
   "outputs": [],
   "source": [
    "##########################################\n",
    "#### Imbrication des espaces mémoires ####\n",
    "##########################################\n",
    "a, b, c = 5, 6, 7\n",
    "def maFonction(c):\n",
    "    global b\n",
    "    a, b = 8, 7\n",
    "    print(\" * a={0}, b={1}, c={2}\".format(a, b, c))\n",
    "    def maSousFonction():\n",
    "        global a\n",
    "        b, a = 32, 0\n",
    "        print(\" *** a={0}, b={1}, c={2}\".format(a, b, c))\n",
    "    maSousFonction()\n",
    "    print(\" * a={0}, b={1}, c={2}\".format(a, b, c))\n",
    "\n",
    "maFonction(\"$\")\n",
    "print(\"a={0}, b={1}, c={2}\".format(a, b, c))\n"
   ]
  },
  {
   "cell_type": "markdown",
   "metadata": {
    "slideshow": {
     "slide_type": "slide"
    }
   },
   "source": [
    "## Valeurs par défaut\n",
    " \n",
    "Il est possible de donner une valeur par défaut aux arguments des fonctions.\n"
   ]
  },
  {
   "cell_type": "code",
   "execution_count": null,
   "metadata": {
    "collapsed": false,
    "slideshow": {
     "slide_type": "fragment"
    }
   },
   "outputs": [],
   "source": [
    "def maFonction(a, b = 5, c = 6):\n",
    "    print(a, b, c)\n",
    "\n",
    "maFonction(1)\n",
    "maFonction(1, 2)\n",
    "maFonction(1, 2, 3)"
   ]
  },
  {
   "cell_type": "markdown",
   "metadata": {
    "slideshow": {
     "slide_type": "slide"
    }
   },
   "source": [
    "## Appel d'une fonction avec les arguments \"nommés\"\n",
    "\n",
    "Pour plus de lisibilité, il est également possible de nommer les arguments d'une fonction."
   ]
  },
  {
   "cell_type": "code",
   "execution_count": null,
   "metadata": {
    "collapsed": false,
    "slideshow": {
     "slide_type": "fragment"
    }
   },
   "outputs": [],
   "source": [
    "def maFonction(a, b, c):\n",
    "    print(a, b, c)\n",
    "\n",
    "maFonction(c=\"a\", a=\"b\", b=\"c\")"
   ]
  },
  {
   "cell_type": "markdown",
   "metadata": {
    "slideshow": {
     "slide_type": "fragment"
    }
   },
   "source": [
    "Cela permet également de changer l'ordre des arguments de la fonction."
   ]
  },
  {
   "cell_type": "markdown",
   "metadata": {
    "slideshow": {
     "slide_type": "slide"
    }
   },
   "source": [
    "## Nombre variable d'arguments\n",
    "\n",
    "Il est souvent utile pour une fonction d'accepter un nombre quelconque d'arguments."
   ]
  },
  {
   "cell_type": "code",
   "execution_count": null,
   "metadata": {
    "collapsed": false,
    "slideshow": {
     "slide_type": "fragment"
    }
   },
   "outputs": [],
   "source": [
    "def unNouveauNomDeFonction(*arguments):\n",
    "    print(\"Liste des arguments\")\n",
    "    for arg in arguments:\n",
    "        print(arg)\n",
    "\n",
    "unNouveauNomDeFonction(\"abcd\", 0, 2, [3, 4], {\"a\": 5, \"b\": 6})"
   ]
  },
  {
   "cell_type": "markdown",
   "metadata": {
    "collapsed": false,
    "slideshow": {
     "slide_type": "slide"
    }
   },
   "source": [
    " Il est possible de passer une collection (liste, tuple, dictionnaire)"
   ]
  },
  {
   "cell_type": "code",
   "execution_count": null,
   "metadata": {
    "collapsed": false,
    "slideshow": {
     "slide_type": "fragment"
    }
   },
   "outputs": [],
   "source": [
    "unNouveauNomDeFonction(*\"abcd\")\n",
    "unNouveauNomDeFonction(*[1, 2, 3, 4])\n",
    "unNouveauNomDeFonction(*'a', 12, 'c')\n",
    "unNouveauNomDeFonction(*{\"a\": 5, \"b\": 6})"
   ]
  },
  {
   "cell_type": "markdown",
   "metadata": {
    "slideshow": {
     "slide_type": "slide"
    }
   },
   "source": [
    "## Nombre variable d'arguments nommés"
   ]
  },
  {
   "cell_type": "code",
   "execution_count": null,
   "metadata": {
    "collapsed": false,
    "slideshow": {
     "slide_type": "fragment"
    }
   },
   "outputs": [],
   "source": [
    "def unNouveauNomDeFonction(**arguments):\n",
    "    print(arguments)\n",
    "    for clef in arguments:\n",
    "        print(\"{0}:{1}\".format(clef, arguments[clef]),)\n",
    "    print(\"\")\n",
    "\n",
    "unNouveauNomDeFonction(a=5, b=\"6\")"
   ]
  },
  {
   "cell_type": "markdown",
   "metadata": {
    "slideshow": {
     "slide_type": "slide"
    }
   },
   "source": [
    " Il est possible de passer une collection."
   ]
  },
  {
   "cell_type": "code",
   "execution_count": null,
   "metadata": {
    "collapsed": false,
    "slideshow": {
     "slide_type": "fragment"
    }
   },
   "outputs": [],
   "source": [
    "unNouveauNomDeFonction(**{\"a\": 9, \"b\": 16})"
   ]
  },
  {
   "cell_type": "markdown",
   "metadata": {
    "slideshow": {
     "slide_type": "slide"
    }
   },
   "source": [
    "## A suivre...\n",
    "\n",
    "[Travaux pratiques](../ellipsoides/synope_variables_fonctions_tp.ipynb)  \n",
    "[Complements](synope_fonctions_6_complements.ipynb)"
   ]
  },
  {
   "cell_type": "markdown",
   "metadata": {},
   "source": [
    "## A propos des auteurs"
   ]
  },
  {
   "cell_type": "markdown",
   "metadata": {},
   "source": [
    "*Travail initié en 2014 dans le cadre d'une série de formations Python organisées par le réseau Devlog.  \n",
    "Auteurs principaux : Loic Gouarin & David Chamont. Relecteurs : Nicolas Can, Sekou Diakite, Christophe Halgand, Christophe Gengembre.*"
   ]
  },
  {
   "cell_type": "markdown",
   "metadata": {},
   "source": [
    "### Mise en forme"
   ]
  },
  {
   "cell_type": "code",
   "execution_count": 1,
   "metadata": {
    "collapsed": false
   },
   "outputs": [
    {
     "data": {
      "text/html": [
       "<link href='http://fonts.googleapis.com/css?family=Oswald' rel='stylesheet' type='text/css'>\n",
       "<link href='http://fonts.googleapis.com/css?family=Lora:400,400italic' rel='stylesheet' type='text/css'>\n",
       "<link href='http://fonts.googleapis.com/css?family=Open+Sans:300' rel='stylesheet' type='text/css'>\n",
       "<link href='http://fonts.googleapis.com/css?family=Alegreya+Sans:100,300,400,500,700,800,900,100italic,300italic,400italic,500italic,700italic,800italic,900italic' rel='stylesheet' type='text/css'>\n",
       "\n",
       "<style>\n",
       "\n",
       "h1, h2, h3, h4, h5 {\n",
       "    font-family: 'Alegreya Sans', sans-serif;\n",
       "}\n",
       "\n",
       "div.text_cell_render{\n",
       "    font-family: 'Alegreya Sans',Computer Modern, \"Helvetica Neue\", Arial, Helvetica, Geneva, sans-serif;\n",
       "    line-height: 135%;\n",
       "    font-size: 120%;\n",
       "    width:100%;/*600px;*/\n",
       "    /*margin-left:auto;*/\n",
       "    /*margin-right:auto;*/\n",
       "}\n",
       "/*div.text_cell_render{font-family: \"Open Sans\", sans-serif;font-weight: normal; line-height:normal;}*/\n",
       "\n",
       "/* header colours and fonts */\n",
       ".rendered_html h1 {\n",
       "    color:#9A3334;\n",
       "    /*margin-top: 0.5em;*/\n",
       "    padding: 1em;\n",
       "    display: block;\n",
       "    font-size: 40px;\n",
       "    text-align: center;\n",
       "    border-top: 2px solid #9A3334;\n",
       "    border-bottom: 2px solid #9A3334;\n",
       "}\n",
       "\n",
       "/*.rendered_html h1 { color: #9A3334; font-family: Lora, sans-serif; font-weight: normal; text-align: center; }*/\n",
       ".rendered_html h2 {\n",
       "    color: #9A3334;\n",
       "    /*font-family: Lora, sans-serif;*/\n",
       "    font-style: italic;\n",
       "    font-weight: normal;\n",
       "    font-size: 30px;\n",
       "    /*text-align: center;*/\n",
       "    border-bottom: 1px solid #9A3334;\n",
       "}\n",
       ".rendered_html h3 {\n",
       "    color: #9A3334;\n",
       "    /*font-family: Lora, sans-serif;*/\n",
       "    font-weight: normal;\n",
       "    font-size: 25px;\n",
       "    font-style: italic;\n",
       "}\n",
       "\n",
       ".rendered_html h4 {\n",
       "    border: 2px solid #9A3334;\n",
       "    border-radius: 25px;\n",
       "    font-style: italic;\n",
       "    height:5%;\n",
       "    width:15%;\n",
       "    padding:5px;\n",
       "    text-align: center;\n",
       "}\n",
       "\n",
       "div.prompt {\n",
       "    display: None;\n",
       "}\n",
       "\n",
       "/* center the images */\n",
       ".ui-wrapper {\n",
       "    margin-left: auto !important;\n",
       "    margin-right: auto !important;\n",
       "}\n",
       "\n",
       "/* center the images */\n",
       ".video {\n",
       "    margin-left: auto !important;\n",
       "    margin-right: auto !important;\n",
       "}\n",
       "\n",
       ".rendered_html img {\n",
       "    margin-top: 0em;\n",
       "}\n",
       "\n",
       "div.input_area {\n",
       "    border-radius: 10px;\n",
       "}\n",
       "\n",
       "/*.reveal h1 {\n",
       "    text-shadow: 10px 10px 10px rgba(0, 0, 0, 0.5);\n",
       "}*/\n",
       "</style>"
      ],
      "text/plain": [
       "<IPython.core.display.HTML object>"
      ]
     },
     "execution_count": 1,
     "metadata": {},
     "output_type": "execute_result"
    }
   ],
   "source": [
    "# execute this part to modify the css style\n",
    "from IPython.core.display import HTML\n",
    "def css_styling():\n",
    "    styles = open(\"../../styles/custom.css\", \"r\").read()\n",
    "    return HTML(styles)\n",
    "css_styling()"
   ]
  }
 ],
 "metadata": {
  "kernelspec": {
   "display_name": "Python 3",
   "language": "python",
   "name": "python3"
  },
  "language_info": {
   "codemirror_mode": {
    "name": "ipython",
    "version": 3
   },
   "file_extension": ".py",
   "mimetype": "text/x-python",
   "name": "python",
   "nbconvert_exporter": "python",
   "pygments_lexer": "ipython3",
   "version": "3.4.3"
  }
 },
 "nbformat": 4,
 "nbformat_minor": 0
}
