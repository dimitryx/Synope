{
 "cells": [
  {
   "cell_type": "markdown",
   "metadata": {},
   "source": [
    "*Ce notebook est distribué par Devlog sous licence Creative Commons - Attribution - Pas d’Utilisation Commerciale - Partage dans les Mêmes Conditions. La description complète de la license est disponible à l'adresse web http://creativecommons.org/licenses/by-nc-sa/4.0/.*"
   ]
  },
  {
   "cell_type": "markdown",
   "metadata": {},
   "source": [
    "# Initiation Python - TP3: Objets"
   ]
  },
  {
   "cell_type": "markdown",
   "metadata": {},
   "source": [
    "## 1/6 : Les classes de base\n",
    "\n",
    "1. Quaternion\n",
    "2. Superellipse\n",
    "3. Superellipsoid"
   ]
  },
  {
   "cell_type": "markdown",
   "metadata": {},
   "source": [
    "Définissez ces trois classes de base, chacun dans un fichier à part."
   ]
  },
  {
   "cell_type": "markdown",
   "metadata": {},
   "source": [
    "### Superellipse\n",
    "\n",
    "Attributs\n",
    " \n",
    "* n : nombre de points de discrétisation en theta\n",
    "* rx : rayon suivant x\n",
    "* ry : rayon suivant y\n",
    "* m : puissance dans l'expression de la superellipse.\n",
    "\n",
    " \n",
    " Méthodes\n",
    "\n",
    " * init: affecte les attributs n, rx, ry, m à partir des arguments spécifiés par l'utiliseateur pendant la création de l'objet.\n",
    "\n",
    " * surface: renvoie les points de la surface.\n",
    "\n",
    " * area: renvoie l'aire.\n",
    " \n",
    " "
   ]
  },
  {
   "cell_type": "markdown",
   "metadata": {},
   "source": [
    " "
   ]
  },
  {
   "cell_type": "markdown",
   "metadata": {},
   "source": [
    "## 2/6 : Les méthodes spéciales"
   ]
  },
  {
   "cell_type": "markdown",
   "metadata": {},
   "source": [
    "1. Dotez la classe Expression d'un constructeur à partir d'une chaîne de caractère, (et y fondre la fonction `analyse()`).\n",
    "1. Transfomez la méthode `display()` en méthode `__str__()`.\n",
    "1. Dotez la classe `Expression` d'un comportement de séquence (Transformez `paires()` en `__getitem__()`).\n",
    "1. Dotez la classe `Calculatrice` d'un constructeur, puis transformez là en objet-fonction."
   ]
  },
  {
   "cell_type": "markdown",
   "metadata": {},
   "source": [
    "le fichier `calculatrice.py` contient à présent :\n",
    "```python\n",
    "    .....\n",
    "    expr = Expression(chaine)\n",
    "    print expr\n",
    "    for op, num in expr:\n",
    "\t    if op=='=': res = num\n",
    "\t    else:\n",
    "            fct = operateurs.operations[op]\n",
    "            res = fct(res,num)\n",
    "    .....\n",
    "```\n",
    "\n",
    "et le fichier `main.py` :\n",
    "```python\n",
    "calc = Calculatrice()\n",
    "\n",
    "print\n",
    "ligne=raw_input(\">>> \")\n",
    "while ligne!='OFF':\n",
    "    calc(expr)\n",
    "    ligne=raw_input(\">>> \")\n",
    "```"
   ]
  },
  {
   "cell_type": "markdown",
   "metadata": {},
   "source": [
    "## 3/6 : Les objets composés"
   ]
  },
  {
   "cell_type": "markdown",
   "metadata": {},
   "source": [
    "1. Dotez la classe `Expression` d'un opérateur `+` de concaténation.\n",
    "1. Dotez la classe `Expression` d'une méthode de comparaison `==`.\n",
    "1. Ajouter le code suivant en fin de `analyseur.py` afin de vérifier les opérations ci-dessus :\n",
    "```python\n",
    "    if __name__ == \"__main__\":\n",
    "        expr1 = Expression(\"+1+2\")\n",
    "        expr2 = Expression(\"+3+4\")\n",
    "        expr3 = expr1+expr2\n",
    "        expr4 = Expression(\"+1+2+3+4\")\n",
    "        print expr3\n",
    "        print expr4\n",
    "        if (expr3==expr4): print \"Concatenation et comparaison OK\"\n",
    "        else: print \"PROBLEME de concatenation et comparaison\"\n",
    "```\n"
   ]
  },
  {
   "cell_type": "markdown",
   "metadata": {},
   "source": [
    "## 4/6 : L'héritage entre classes"
   ]
  },
  {
   "cell_type": "markdown",
   "metadata": {},
   "source": [
    "1. Ajoutez dans `calculatrice.py` une classe dérivée `CalculatriceEtendue`, qui ajoute la possibilité de demander l'inverse du dernier résultat obtenu, en tapant 'inv' (et rien que ça), ou bien sa racine carrée en tapant 'sqrt'. Traiter ces cas particuliers dans la méthode `__call__` de la nouvelle classe  `CalculatriceEtendue` (pas dans la classe `Expression`).\n",
    "1. Dans `main.py`, utilisez et testez la nouvelle calculatrice."
   ]
  },
  {
   "cell_type": "markdown",
   "metadata": {},
   "source": [
    "## 5/6 : Sauvegarde et reconstruction d'objets"
   ]
  },
  {
   "cell_type": "markdown",
   "metadata": {},
   "source": [
    "1. Faites en sorte que le programme principal stocke l'état courant de la calculatrice avant de se terminer, et la restaure telle quelle à la prochaine éxecution. Servez vous par exemple d'un fichier `main.pkl`."
   ]
  },
  {
   "cell_type": "markdown",
   "metadata": {},
   "source": [
    "## 6/6 : Quelques concepts avancés"
   ]
  },
  {
   "cell_type": "markdown",
   "metadata": {},
   "source": [
    "1. Dotez la classe Expression d'une variable PI. Modifiez `Expression.__init__()` afin qu'elle reconnaisse la valeur PI, et essayez d'évaluer l'expression 2*PI avec votre calculatrice.\n",
    "1. Observez ce qui se passe si la classe `Calculatrice` n'hérite plus de la classe `object`.\n",
    "1. Définir `Expression.__slots__` et controllez son bon fonctionnement.\n",
    "1. Protéger la valeur `PI`, supposée constante, en la rendant pseudo-privée et en fournissant une méthode statique de récupération de la valeur. Utilisez la notation \"décorateur\" pour cette méthode.\n",
    "1. A la place de la méthode `Calculatrice.getres()`, ajouter une propriété `res`, accessible en lecture seule."
   ]
  },
  {
   "cell_type": "markdown",
   "metadata": {
    "collapsed": false
   },
   "source": [
    "*Auteurs : Loic Gouarin et David Chamont. Document réalisé en 2016 dans le cadre d'une série de formations Python organisées par les réseaux LoOPS et PiCo en collaboration avec le pôle formation du SMUT CNRS.*"
   ]
  }
 ],
 "metadata": {
  "kernelspec": {
   "display_name": "Python 3",
   "language": "python",
   "name": "python3"
  },
  "language_info": {
   "codemirror_mode": {
    "name": "ipython",
    "version": 3
   },
   "file_extension": ".py",
   "mimetype": "text/x-python",
   "name": "python",
   "nbconvert_exporter": "python",
   "pygments_lexer": "ipython3",
   "version": "3.5.1"
  }
 },
 "nbformat": 4,
 "nbformat_minor": 0
}
