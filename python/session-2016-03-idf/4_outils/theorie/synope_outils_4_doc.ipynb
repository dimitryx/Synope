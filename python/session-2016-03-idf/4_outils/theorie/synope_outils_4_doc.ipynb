{
 "cells": [
  {
   "cell_type": "markdown",
   "metadata": {
    "slideshow": {
     "slide_type": "skip"
    }
   },
   "source": [
    "*Ce notebook est distribué par Devlog sous licence Creative Commons - Attribution - Pas d’Utilisation Commerciale - Partage dans les Mêmes Conditions. La description complète de la license est disponible à l'adresse web http://creativecommons.org/licenses/by-nc-sa/4.0/.*"
   ]
  },
  {
   "cell_type": "markdown",
   "metadata": {
    "slideshow": {
     "slide_type": "slide"
    }
   },
   "source": [
    "# Initiation python - Outils 4/6 : La documentation"
   ]
  },
  {
   "cell_type": "markdown",
   "metadata": {
    "collapsed": true,
    "slideshow": {
     "slide_type": "slide"
    }
   },
   "source": [
    "## Pourquoi documenter ?\n",
    "\n",
    "- comprendre de que l'on a fait\n",
    "- expliquer aux utilisateurs comment utiliser notre codes\n",
    "- faciliter la maintenance du code\n",
    "- faciliter la réutilisation du code"
   ]
  },
  {
   "cell_type": "markdown",
   "metadata": {
    "slideshow": {
     "slide_type": "slide"
    }
   },
   "source": [
    "## La documentation en python\n",
    "\n",
    "- la convention de documentation est défini dans le [PEP 257](https://www.python.org/dev/peps/pep-0257/)\n",
    "- les commentaires sont appelés __docstring__ (chaîne de documentation\n",
    "- l'outil pylint vu dans la première partie peut afficher des alertes si les fonctions et les classes ne contiennent pas de docstring\n",
    "- les docstring sont sont placées entre des ```\"\"\"``` après la définition de la fonction\n",
    "\n",
    "```python\n",
    "def ma_fonction(argument_1, argument_2):\n",
    "    \"\"\"multiplie deux nombres et retourne le résultats\"\"\"\n",
    "    \n",
    "    return argument_1 * argument_2\n",
    "\n",
    "```"
   ]
  },
  {
   "cell_type": "markdown",
   "metadata": {
    "slideshow": {
     "slide_type": "slide"
    }
   },
   "source": [
    "## Les avantages des docstrings\n",
    "\n",
    "- on peut afficher les docstrings avec la fonction ```help()```\n",
    "- les IDEs savent afficher cette documentation\n",
    "- comme vu dans la partie 2 on peut intégrer des tests dans la docstring\n",
    "- la fonction pydoc permet d'afficher la documentation comme la commande ```man``` du shell"
   ]
  },
  {
   "cell_type": "code",
   "execution_count": 1,
   "metadata": {
    "collapsed": false,
    "slideshow": {
     "slide_type": "slide"
    }
   },
   "outputs": [
    {
     "name": "stdout",
     "output_type": "stream",
     "text": [
      "Help on built-in function print in module builtins:\n",
      "\n",
      "print(...)\n",
      "    print(value, ..., sep=' ', end='\\n', file=sys.stdout, flush=False)\n",
      "    \n",
      "    Prints the values to a stream, or to sys.stdout by default.\n",
      "    Optional keyword arguments:\n",
      "    file:  a file-like object (stream); defaults to the current sys.stdout.\n",
      "    sep:   string inserted between values, default a space.\n",
      "    end:   string appended after the last value, default a newline.\n",
      "    flush: whether to forcibly flush the stream.\n",
      "\n"
     ]
    }
   ],
   "source": [
    "%%bash\n",
    "\n",
    "pydoc print"
   ]
  },
  {
   "cell_type": "markdown",
   "metadata": {
    "slideshow": {
     "slide_type": "slide"
    }
   },
   "source": [
    "## Les bonnes pratiques\n",
    "\n",
    "- docstring d'une ligne\n",
    "\n",
    "```python\n",
    "def ma_fonction():\n",
    "    \"\"\"documentation sur une ligne\"\"\"\n",
    "    pass\n",
    "```\n",
    "\n",
    "- documentation sur plusieurs lignes\n",
    "\n",
    "```python\n",
    "def ma_fonction_plus_complique(arg_1, arg_2):\n",
    "    \"\"\"description de ma fonction\n",
    "    \n",
    "    arg_1 : description de l'argument 1\n",
    "    arg_2 : description de l'argument 2\n",
    "    \n",
    "    \"\"\"\n",
    "    return arg_1 * arg_2\n",
    "```\n",
    "\n",
    "- les docstrings ne devraient pas dépasser 80 caratères\n",
    "- si vous comptez diffuser votre code, il est conseillé d'utiliser l'anglais"
   ]
  },
  {
   "cell_type": "markdown",
   "metadata": {
    "slideshow": {
     "slide_type": "slide"
    }
   },
   "source": [
    "## Usage avancé\n",
    "\n",
    "- Les docstrings acceptent le format __ReStructureText__ ([RST](https://pythonhosted.org/an_example_pypi_project/sphinx.html)) \n",
    "    + permet d'uiliser des balises\n",
    "    + permet de générer du HTML ou des fichiers PDF\n",
    "\n",
    "```python\n",
    "def multiplication(arg_1, arg_2):\n",
    "    \"\"\"multiplie deux nombres et retourne le résulats\n",
    "    \n",
    "    :param arg_1: le premier nombre\n",
    "    :param arg_2: le deuxième nombre\n",
    "    :type arg_1: float\n",
    "    :type arg_1: float\n",
    "    :return: resultat de la multiplication\n",
    "    :rtype: float\n",
    "    \n",
    "    :Exemple:\n",
    "    \n",
    "    >>> mulitplication(2., 5.0)\n",
    "    10.\n",
    "    \"\"\"\n",
    "    return arg_1 * arg_2\n",
    "```\n",
    "\n",
    "- d'autres balises sont disponibles pour afficher des notes, des liens, des warnings, ...\n"
   ]
  },
  {
   "cell_type": "markdown",
   "metadata": {
    "slideshow": {
     "slide_type": "slide"
    }
   },
   "source": [
    "## Le module [SPHINX](http://www.sphinx-doc.org/en/stable/)\n",
    "\n",
    "- permet \n",
    "    + de créer la documentation d'un code en utilisant le format RST\n",
    "    + peut convertir la documentation au format PDF, HTML, epub\n",
    "    + c'est l'outil à utiliser pour partager sa documentation sur le site [readthedocs](https://readthedocs.org/)\n"
   ]
  },
  {
   "cell_type": "code",
   "execution_count": 1,
   "metadata": {
    "collapsed": false
   },
   "outputs": [
    {
     "data": {
      "text/html": [
       "<link href='http://fonts.googleapis.com/css?family=Oswald' rel='stylesheet' type='text/css'>\n",
       "<link href='http://fonts.googleapis.com/css?family=Lora:400,400italic' rel='stylesheet' type='text/css'>\n",
       "<link href='http://fonts.googleapis.com/css?family=Open+Sans:300' rel='stylesheet' type='text/css'>\n",
       "<link href='http://fonts.googleapis.com/css?family=Alegreya+Sans:100,300,400,500,700,800,900,100italic,300italic,400italic,500italic,700italic,800italic,900italic' rel='stylesheet' type='text/css'>\n",
       "\n",
       "<style>\n",
       "\n",
       "h1, h2, h3, h4, h5 {\n",
       "    font-family: 'Alegreya Sans', sans-serif;\n",
       "}\n",
       "\n",
       "div.text_cell_render{\n",
       "    font-family: 'Alegreya Sans',Computer Modern, \"Helvetica Neue\", Arial, Helvetica, Geneva, sans-serif;\n",
       "    line-height: 135%;\n",
       "    font-size: 120%;\n",
       "    width:100%;/*600px;*/\n",
       "    /*margin-left:auto;*/\n",
       "    /*margin-right:auto;*/\n",
       "}\n",
       "/*div.text_cell_render{font-family: \"Open Sans\", sans-serif;font-weight: normal; line-height:normal;}*/\n",
       "\n",
       "/* header colours and fonts */\n",
       ".rendered_html h1 {\n",
       "    color:#9A3334;\n",
       "    /*margin-top: 0.5em;*/\n",
       "    padding: 1em;\n",
       "    display: block;\n",
       "    font-size: 40px;\n",
       "    text-align: center;\n",
       "    border-top: 2px solid #9A3334;\n",
       "    border-bottom: 2px solid #9A3334;\n",
       "}\n",
       "\n",
       "/*.rendered_html h1 { color: #9A3334; font-family: Lora, sans-serif; font-weight: normal; text-align: center; }*/\n",
       ".rendered_html h2 {\n",
       "    color: #9A3334;\n",
       "    /*font-family: Lora, sans-serif;*/\n",
       "    font-style: italic;\n",
       "    font-weight: normal;\n",
       "    font-size: 30px;\n",
       "    /*text-align: center;*/\n",
       "    border-bottom: 1px solid #9A3334;\n",
       "}\n",
       ".rendered_html h3 {\n",
       "    color: #9A3334;\n",
       "    /*font-family: Lora, sans-serif;*/\n",
       "    font-weight: normal;\n",
       "    font-size: 25px;\n",
       "    font-style: italic;\n",
       "}\n",
       "\n",
       ".rendered_html h4 {\n",
       "    border: 2px solid #9A3334;\n",
       "    border-radius: 25px;\n",
       "    font-style: italic;\n",
       "    height:5%;\n",
       "    width:15%;\n",
       "    padding:5px;\n",
       "    text-align: center;\n",
       "}\n",
       "\n",
       "div.prompt {\n",
       "    display: None;\n",
       "}\n",
       "\n",
       "/* center the images */\n",
       ".ui-wrapper {\n",
       "    margin-left: auto !important;\n",
       "    margin-right: auto !important;\n",
       "}\n",
       "\n",
       "/* center the images */\n",
       ".video {\n",
       "    margin-left: auto !important;\n",
       "    margin-right: auto !important;\n",
       "}\n",
       "\n",
       ".rendered_html img {\n",
       "    margin-top: 0em;\n",
       "}\n",
       "\n",
       "div.input_area {\n",
       "    border-radius: 10px;\n",
       "}\n",
       "\n",
       "/*.reveal h1 {\n",
       "    text-shadow: 10px 10px 10px rgba(0, 0, 0, 0.5);\n",
       "}*/\n",
       "</style>"
      ],
      "text/plain": [
       "<IPython.core.display.HTML object>"
      ]
     },
     "execution_count": 1,
     "metadata": {},
     "output_type": "execute_result"
    }
   ],
   "source": [
    "# execute this part to modify the css style\n",
    "from IPython.core.display import HTML\n",
    "def css_styling():\n",
    "    styles = open(\"../../styles/custom.css\", \"r\").read()\n",
    "    return HTML(styles)\n",
    "css_styling()"
   ]
  }
 ],
 "metadata": {
  "celltoolbar": "Slideshow",
  "kernelspec": {
   "display_name": "Python 3",
   "language": "python",
   "name": "python3"
  },
  "language_info": {
   "codemirror_mode": {
    "name": "ipython",
    "version": 3
   },
   "file_extension": ".py",
   "mimetype": "text/x-python",
   "name": "python",
   "nbconvert_exporter": "python",
   "pygments_lexer": "ipython3",
   "version": "3.3.5"
  }
 },
 "nbformat": 4,
 "nbformat_minor": 0
}
