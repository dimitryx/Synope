{
 "cells": [
  {
   "cell_type": "markdown",
   "metadata": {
    "slideshow": {
     "slide_type": "slide"
    }
   },
   "source": [
    "# Distribuez votre projet : le packaging"
   ]
  },
  {
   "cell_type": "markdown",
   "metadata": {
    "slideshow": {
     "slide_type": "subslide"
    }
   },
   "source": [
    "* Une distribution est une collection de modules Python distribués ensembles comme une ressource téléchargeable et destinée à être installée. Il existe énormément de distributions de modules comme *PIL (the Python Imaging Library)*, *PyXML*, *etc*.\n",
    "\n",
    "* Pour faire le lien entre la distribution et la plateforme de destination, on utilise des classes intermédiaires appelées *packagers*. Les packagers vont prendre les sources et les compiler pour effectuer une «release». Ainsi les utilisateurs finaux vont pouvoir installer les modules sans difficulté. *Distutils* est un packagers qui va vous permettre facilement de distribuer votre code.\n",
    "\n",
    "* La librairie Distutils regroupe l’ensemble des utilitaires Python pour la distribution de modules. Pour distribuer votre code, il faudra écrire un script d’installation (nommé `setup.py` par convention) et éventuellement écrire un fichier de configuration d’installation.\n",
    "* Ensuite, il vous faudra créer une ressource distribuable (souvent une archive) et optionnellement créer une ou plusieurs distributions compilées.\n"
   ]
  },
  {
   "cell_type": "markdown",
   "metadata": {
    "slideshow": {
     "slide_type": "slide"
    }
   },
   "source": [
    "## Ecrire le fichier setup.py"
   ]
  },
  {
   "cell_type": "markdown",
   "metadata": {
    "slideshow": {
     "slide_type": "subslide"
    }
   },
   "source": [
    "* Le script setup est généralement assez simple. Voici un premier exemple :\n",
    "\n",
    "```python\n",
    "from distutils.core import setup\n",
    "setup(name='foo',\n",
    "      version='1.0',\n",
    "      py_modules=['foo'])\n",
    "```\n",
    "\n",
    "* La plupart des informations sont fournies comme arguments à la fonction `setup`.\n",
    "* Ces arguments peuvent être regroupés en deux catégories : les metadonnées du package (nom, version) et les informations sur ce qu’est, ce que fait le package. \n",
    "* Les modules sont spécifiés par leur nom d’objet et non leur nom de fichier. Il est recommandé de fournir des metadonnées supplémentaires comme son nom, son adresse mail et une url du projet :\n",
    "    * Vous pouvez lister des modules individuellement : `py_modules = ['mod1', 'pkg.mod2']`\n",
    "    * ou lister des packages entiers : `packages = ['distutils', 'distutils.command']`. Ici on spécifie des modules purs Python par package plutôt que de lister tous les modules de ce paquet.\n",
    "    * Par exemple, ce package :\n",
    "\n",
    "```python\n",
    "    setup.py\n",
    "    src/\n",
    "        mypkg/\n",
    "            __init__.py\n",
    "            module.py\n",
    "            data/\n",
    "                tables.dat\n",
    "                spoons.dat\n",
    "                forks.dat\n",
    "```\n",
    "\n",
    "* pourrait avoir un setup comme cela :\n",
    "\n",
    "```python\n",
    "    setup(...,\n",
    "          packages=['mypkg'],\n",
    "          package_dir={'mypkg': 'src/mypkg'},\n",
    "          package_data={'mypkg': ['data/*.dat']})\n",
    "```        "
   ]
  },
  {
   "cell_type": "markdown",
   "metadata": {
    "slideshow": {
     "slide_type": "subslide"
    }
   },
   "source": [
    "* Voici une liste non exhaustive d’arguments de la fonction **setup**\n",
    "    - le nom du projet : nom=\"sample\"\n",
    "    - la version : version=\"1.2.0\" (voir [PEP 440](https://www.python.org/dev/peps/pep-0440/))\n",
    "    - les packages à inclure dans le projet. On peut les lister ou utiliser `find_packages` pour automatiser cette tâche (`exclude` pour pour exlure ceux qui ne doivent pas être installés) : `py_modules=['foo']`\n",
    "    - Metadonnées: Il est important d’inclure des métadonnées à propos de votre projet. \n",
    "\n",
    "        ```python\n",
    "\n",
    "            # A description of your project\n",
    "            description='A sample Python project',\n",
    "            long_description=long_description,\n",
    "\n",
    "            # The project's main homepage\n",
    "            url='https://github.com/pypa/sampleproject',\n",
    "\n",
    "            # Author details\n",
    "            author='The Python Packaging Authority',\n",
    "            author_email='pypa-dev@googlegroups.com',\n",
    "\n",
    "            # Choose your license\n",
    "            license='MIT',\n",
    "\n",
    "            # See https://pypi.python.org/pypi?%3Aaction=list_classifiers\n",
    "            classifiers=[\n",
    "                # How mature is this project? Common values are\n",
    "                #   3 - Alpha\n",
    "                #   4 - Beta\n",
    "                #   5 - Production/Stable\n",
    "                'Development Status :: 3 - Alpha',\n",
    "\n",
    "                # Indicate who your project is intended for\n",
    "                'Intended Audience :: Developers',\n",
    "                'Topic :: Software Development :: Build Tools',\n",
    "\n",
    "                # Pick your license as you wish (should match \"license\" above)\n",
    "                'License :: OSI Approved :: MIT License',\n",
    "\n",
    "                # Specify the Python versions you support here. In particular, ensure\n",
    "                # that you indicate whether you support Python 2, Python 3 or both.\n",
    "                'Programming Language :: Python :: 2',\n",
    "                'Programming Language :: Python :: 2.6',\n",
    "                'Programming Language :: Python :: 2.7',\n",
    "                'Programming Language :: Python :: 3',\n",
    "                'Programming Language :: Python :: 3.2',\n",
    "                'Programming Language :: Python :: 3.3',\n",
    "                'Programming Language :: Python :: 3.4',\n",
    "            ],\n",
    "\n",
    "            # What does your project relate to?\n",
    "            keywords='sample setuptools development',\n",
    "        ```\n",
    "\n",
    "- Enfin, il est possible d'ajouter :\n",
    "    - Les dépendances : install_requires = ['peppercorn']\n",
    "        \"install_requires\" est utilisé pour spécifier quelles dépendances sont nécessaire au projet pour fonctionner. Ces dépendances seront installés par Pip lors de l'installation de votre projet.\n",
    "    - Fichiers additionnels : package_data = { 'sample': ['package_data.dat']}\n",
    "- Voici un exemple plus complet :\n",
    "\n",
    "    ```python\n",
    "    #! /usr/bin/env python3\n",
    "\n",
    "    from distutils.core import setup\n",
    "\n",
    "    setup(name='Distutils',\n",
    "          version='1.0',\n",
    "          description='Python Distribution Utilities',\n",
    "          author='Greg Ward',\n",
    "          author_email='gward@python.net',\n",
    "          url='https://www.python.org/sigs/distutils-sig/',\n",
    "          packages=['distutils', 'distutils.command'],\n",
    "         )\n",
    "\n",
    "    ```\n",
    "\n",
    "* Vous pouvez également inclure d’autre fichier au package comme un ***README*** pour expliquer le projet et un ***MANIFEST*** pour définir des fichiers supplémentaires à inclure dans la distribution du projet packagé. \n",
    "\n"
   ]
  },
  {
   "cell_type": "markdown",
   "metadata": {},
   "source": [
    "## Utiliser le fichier setup.py\n",
    "\n",
    "Nous allons voir qu'un même ```setup.py``` est utilisé aussi bien pour créer une distribution que pour installer la distribution.  "
   ]
  },
  {
   "cell_type": "markdown",
   "metadata": {
    "slideshow": {
     "slide_type": "subslide"
    }
   },
   "source": [
    "- Pour créer une distribution des fichiers sources du module, il faut donc créer un script d’installation (setup.py) contenant le code ci-dessus et exécuter la commande \n",
    "```\n",
    "$>python setup.py sdist [$>sdist setup.py sous windows]\n",
    "```\n",
    "\n",
    "- sdist va créer une archive (tarball sous unix et zip sous windows) contenant le script setup.py et le module. Le fichier d’archive sera nommé foo-1.0.tar.gz (ou .zip) et sera décompressé dans un répertoire foo-1.0.\n",
    "\n"
   ]
  },
  {
   "cell_type": "markdown",
   "metadata": {
    "slideshow": {
     "slide_type": "subslide"
    }
   },
   "source": [
    "- Pour installer le module, après avoir télécharger et décompresser l’archive, il faut se déplacer dans le répertoire créé par la décompression de l’archive et taper la commande suivante :\n",
    "\n",
    "```\n",
    "$>python setup.py install\n",
    "```\n",
    "\n",
    "- Cette commande va copier les fichiers dans le répertoire réservé aux modules tiers de l’installation Python. \n",
    "- Remarque : On note donc que c’est le même script qui sert pour la distribution et l’installation.\n"
   ]
  },
  {
   "cell_type": "markdown",
   "metadata": {
    "slideshow": {
     "slide_type": "subslide"
    }
   },
   "source": [
    "- On peut faciliter encore plus l’installation des modules distribués. Par exemple, sous windows, on peut créer un installateur exécutable avec cette commande :\n",
    "\n",
    "```\n",
    "$>python setup.py bdist_wininst\n",
    "```\n",
    "\n",
    "- Cette commande va créer un `.exe` nommé foo-1.0.win32.exe dans le répertoire courant.\n",
    "- Il existe également d’autre format de distribution : le rpm avec bdist_rpm, le pkgtool (bdist_pkgtool) et le hp_ux swinstall (bdist_sdux)\n",
    "- Vous pouvez lister les formats de distribution disponibles avec cette commande :\n",
    "\n",
    "```\n",
    "$>python setup.py bdist –help-formats\n",
    "```\n",
    "\n"
   ]
  },
  {
   "cell_type": "markdown",
   "metadata": {
    "slideshow": {
     "slide_type": "slide"
    }
   },
   "source": [
    "## Publier ses packages"
   ]
  },
  {
   "cell_type": "markdown",
   "metadata": {
    "slideshow": {
     "slide_type": "subslide"
    }
   },
   "source": [
    "Pour installer des packages, on vous conseille d’utiliser `pip` (Python installing package). Cet outil cherche les packages sur le Python Package Index (PyPi). Les packages Python peuvent être compactés dans des archives tarball ou zip. Python utilise des formats de distribution. Actuellement, Python utilise egg mais ce format va etre peu à peu remplacé par wheel. Pour construire votre package, vous pouvez donc utiliser **[wheel](http://pythonwheels.com/)** et pour envoyer votre package sur Pypi, il faut utiliser l’outil **[twine](https://github.com/pypa/twine)**"
   ]
  },
  {
   "cell_type": "markdown",
   "metadata": {},
   "source": [
    "## A suivre...\n",
    "\n",
    "[Travaux pratiques](../ellipsoides/enonce/synope_modules_tp.ipynb)"
   ]
  },
  {
   "cell_type": "markdown",
   "metadata": {
    "collapsed": false
   },
   "source": [
    "## A propos des auteurs\n",
    "\n",
    "*Travail initié en 2014 dans le cadre d'une série de formations Python organisées par le réseau Devlog.  \n",
    "Auteur principal : . \n",
    "Contributions de : Christophe Gengembre.\n",
    "Relecteurs : Nicolas Can, Sekou Diakite, Christophe Halgand, Loic Gouarin, David Chamont.*"
   ]
  },
  {
   "cell_type": "markdown",
   "metadata": {},
   "source": [
    "### Mise en forme"
   ]
  },
  {
   "cell_type": "code",
   "execution_count": 1,
   "metadata": {
    "collapsed": false
   },
   "outputs": [
    {
     "data": {
      "text/html": [
       "<link href='http://fonts.googleapis.com/css?family=Oswald' rel='stylesheet' type='text/css'>\n",
       "<link href='http://fonts.googleapis.com/css?family=Lora:400,400italic' rel='stylesheet' type='text/css'>\n",
       "<link href='http://fonts.googleapis.com/css?family=Open+Sans:300' rel='stylesheet' type='text/css'>\n",
       "<link href='http://fonts.googleapis.com/css?family=Alegreya+Sans:100,300,400,500,700,800,900,100italic,300italic,400italic,500italic,700italic,800italic,900italic' rel='stylesheet' type='text/css'>\n",
       "\n",
       "<style>\n",
       "\n",
       "h1, h2, h3, h4, h5 {\n",
       "    font-family: 'Alegreya Sans', sans-serif;\n",
       "}\n",
       "\n",
       "div.text_cell_render{\n",
       "    font-family: 'Alegreya Sans',Computer Modern, \"Helvetica Neue\", Arial, Helvetica, Geneva, sans-serif;\n",
       "    line-height: 135%;\n",
       "    font-size: 140%;\n",
       "    width:100%;/*600px;*/\n",
       "    /*margin-left:auto;*/\n",
       "    /*margin-right:auto;*/\n",
       "}\n",
       "/*div.text_cell_render{font-family: \"Open Sans\", sans-serif;font-weight: normal; line-height:normal;}*/\n",
       "\n",
       "/* header colours and fonts */\n",
       ".rendered_html h1 {\n",
       "    color:#9A3334;\n",
       "    /*margin-top: 0.5em;*/\n",
       "    padding: 1em;\n",
       "    display: block;\n",
       "    font-size: 40px;\n",
       "    text-align: center;\n",
       "    border-top: 2px solid #9A3334;\n",
       "    border-bottom: 2px solid #9A3334;\n",
       "}\n",
       "\n",
       "/*.rendered_html h1 { color: #9A3334; font-family: Lora, sans-serif; font-weight: normal; text-align: center; }*/\n",
       ".rendered_html h2 {\n",
       "    color: #9A3334;\n",
       "    /*font-family: Lora, sans-serif;*/\n",
       "    font-style: italic;\n",
       "    font-weight: normal;\n",
       "    font-size: 30px;\n",
       "    /*text-align: center;*/\n",
       "    border-bottom: 1px solid #9A3334;\n",
       "}\n",
       ".rendered_html h3 {\n",
       "    color: #9A3334;\n",
       "    /*font-family: Lora, sans-serif;*/\n",
       "    font-weight: normal;\n",
       "    font-size: 25px;\n",
       "    font-style: italic;\n",
       "}\n",
       "\n",
       ".rendered_html h4 {\n",
       "    border: 2px solid #9A3334;\n",
       "    border-radius: 25px;\n",
       "    font-style: italic;\n",
       "    height:5%;\n",
       "    width:20%;\n",
       "    padding:5px;\n",
       "    text-align: center;\n",
       "}\n",
       "\n",
       "div.prompt {\n",
       "    display: None;\n",
       "}\n",
       "\n",
       "/* center the images */\n",
       ".ui-wrapper {\n",
       "    margin-left: auto !important;\n",
       "    margin-right: auto !important;\n",
       "}\n",
       "\n",
       "/* center the images */\n",
       ".video {\n",
       "    margin-left: auto !important;\n",
       "    margin-right: auto !important;\n",
       "}\n",
       "\n",
       ".rendered_html img {\n",
       "    margin-top: 0em;\n",
       "}\n",
       "\n",
       "div.input_area {\n",
       "    border-radius: 10px;\n",
       "}\n",
       "\n",
       ".reveal h1 {\n",
       "    font-size: 70px;\n",
       "    text-shadow: 10px 10px 10px rgba(0, 0, 0, 0.5);\n",
       "}\n",
       "\n",
       ".reveal h2 {\n",
       "    font-size: 50px;\n",
       "    text-shadow: 10px 10px 10px rgba(0, 0, 0, 0.5);\n",
       "}\n",
       "\n",
       ".reveal h3 {\n",
       "    font-size: 50px;\n",
       "    \n",
       "}\n",
       "\n",
       "</style>"
      ],
      "text/plain": [
       "<IPython.core.display.HTML object>"
      ]
     },
     "execution_count": 1,
     "metadata": {},
     "output_type": "execute_result"
    }
   ],
   "source": [
    "# execute this part to modify the css style\n",
    "from IPython.core.display import HTML\n",
    "def css_styling():\n",
    "    styles = open(\"../../styles/custom.css\", \"r\").read()\n",
    "    return HTML(styles)\n",
    "css_styling()"
   ]
  }
 ],
 "metadata": {
  "kernelspec": {
   "display_name": "Python 3",
   "language": "python",
   "name": "python3"
  },
  "language_info": {
   "codemirror_mode": {
    "name": "ipython",
    "version": 3
   },
   "file_extension": ".py",
   "mimetype": "text/x-python",
   "name": "python",
   "nbconvert_exporter": "python",
   "pygments_lexer": "ipython3",
   "version": "3.5.1"
  }
 },
 "nbformat": 4,
 "nbformat_minor": 0
}
