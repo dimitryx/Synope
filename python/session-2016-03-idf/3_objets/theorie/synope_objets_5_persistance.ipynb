{
 "cells": [
  {
   "cell_type": "markdown",
   "metadata": {},
   "source": [
    "*Ce notebook est distribué par Devlog sous licence Creative Commons - Attribution - Pas d’Utilisation Commerciale - Partage dans les Mêmes Conditions. La description complète de la license est disponible à l'adresse web http://creativecommons.org/licenses/by-nc-sa/4.0/.*"
   ]
  },
  {
   "cell_type": "markdown",
   "metadata": {},
   "source": [
    "# Initiation Python - Objets 5/6 : Sauvegarde et reconstruction d'objets"
   ]
  },
  {
   "cell_type": "markdown",
   "metadata": {},
   "source": [
    "## Généralités "
   ]
  },
  {
   "cell_type": "markdown",
   "metadata": {},
   "source": [
    "* Les objets sont dit \"persistants\" lorsqu'ils ne disparaissent pas à la fin du programme Python en cours. Cela consiste en général à les \"sérialiser\", c'est à dire en produire une représentation binaire compacte, et à stocker cette représentation dans un fichier.\n",
    "* En Python, la persistance repose sur des modules de la libraire standard, tels que `pickle` et `shelve`."
   ]
  },
  {
   "cell_type": "markdown",
   "metadata": {},
   "source": [
    "## Pickle / cPickle"
   ]
  },
  {
   "cell_type": "markdown",
   "metadata": {},
   "source": [
    "* Ce module est capable de transformer en flot d'octets n'importe quel objet en mémoire. Ces octets peuvent être écrits dans un fichier, envoyés par réseau, etc.\n",
    "* À l'inverse, le module peut lire et recréer en mémoire les objets d'un fichier, l'un après l'autre.\n",
    "* Quand c'est disponible, préférez cPickle, écrit en C et plus rapide.\n",
    "* **ATTENTION** : pas de garantie de portabilité de vos données entre des plateformes différentes."
   ]
  },
  {
   "cell_type": "code",
   "execution_count": 1,
   "metadata": {
    "collapsed": false
   },
   "outputs": [
    {
     "name": "stdout",
     "output_type": "stream",
     "text": [
      "(1,2)\n",
      "(3,4)\n"
     ]
    }
   ],
   "source": [
    "class Vecteur:\n",
    "    def __init__(self,u=0,v=0):\n",
    "        self.x = u\n",
    "        self.y = v\n",
    "    def __str__(self):\n",
    "        return \"({:.0f},{:.0f})\".format(self.x, self.y)\n",
    "\n",
    "v1 = Vecteur(1, 2)\n",
    "v2 = Vecteur(3, 4)\n",
    "\n",
    "import pickle\n",
    "\n",
    "fw = open('vecteurs.pkl','wb') # fw = open('vecteurs.pkl','w') en Python2\n",
    "pickle.dump(v1, fw)\n",
    "pickle.dump(v2, fw)\n",
    "fw.close()\n",
    "\n",
    "fr = open('vecteurs.pkl','rb')\n",
    "print(pickle.load(fr))\n",
    "print(pickle.load(fr))\n",
    "fr.close()"
   ]
  },
  {
   "cell_type": "markdown",
   "metadata": {},
   "source": [
    "* [documentation python 3](http://docs.python.org/3.3/library/pickle.html) \n",
    "* [documentation python 2](http://docs.python.org/2.7/library/pickle.html)"
   ]
  },
  {
   "cell_type": "markdown",
   "metadata": {},
   "source": [
    "## Shelve "
   ]
  },
  {
   "cell_type": "markdown",
   "metadata": {},
   "source": [
    "* Ce module permet de ranger des objets dans un fichier, non pas séquentiellement, mais en les associant à des noms.\n",
    "* Le fichier est manipulé comme si il s'agissait d'un dictionnaire."
   ]
  },
  {
   "cell_type": "code",
   "execution_count": 3,
   "metadata": {
    "collapsed": false
   },
   "outputs": [
    {
     "name": "stdout",
     "output_type": "stream",
     "text": [
      "['v2', 'v1']\n",
      "(1,2)\n",
      "(3,4)\n"
     ]
    }
   ],
   "source": [
    "class Vecteur:\n",
    "    def __init__(self,u=0,v=0):\n",
    "        self.x = u\n",
    "        self.y = v\n",
    "    def __str__(self):\n",
    "        return \"({:.0f},{:.0f})\".format(self.x, self.y)\n",
    "\n",
    "import shelve\n",
    "\n",
    "s = shelve.open('vecteurs.db')\n",
    "s['v1'] = Vecteur(1,2)\n",
    "s['v2'] = Vecteur(3,4)\n",
    "s.close()\n",
    "\n",
    "#...\n",
    "\n",
    "s = shelve.open('vecteurs.db')\n",
    "print(list(s.keys()))\n",
    "print(s['v1'])\n",
    "print(s['v2'])\n",
    "s.close()"
   ]
  },
  {
   "cell_type": "markdown",
   "metadata": {},
   "source": [
    "* [documentation python 3](http://docs.python.org/3.3/library/shelve.html)\n",
    "* [documentation python 2](http://docs.python.org/2.7/library/shelve.html)"
   ]
  },
  {
   "cell_type": "markdown",
   "metadata": {},
   "source": [
    "## A suivre..."
   ]
  },
  {
   "cell_type": "markdown",
   "metadata": {},
   "source": [
    "[Travaux pratiques](../ellipsoides/synope_objets_ellipsoides.ipynb#5/6-:-Sauvegarde-et-reconstruction-d%27objets)  \n",
    "[Compléments](synope_objets_6_complements.ipynb)"
   ]
  },
  {
   "cell_type": "markdown",
   "metadata": {},
   "source": [
    "*Travail initié en 2014 dans le cadre d'une série de formations Python organisées par le réseau Devlog. Auteur principal : David Chamont. Contribution à la mise à jour pour Python 3 : Fabrice Mendes. Relecteurs : Nicolas Can, Sekou Diakite, Loic Gouarin et Christophe Halgand.*"
   ]
  },
  {
   "cell_type": "code",
   "execution_count": 1,
   "metadata": {
    "collapsed": false
   },
   "outputs": [
    {
     "data": {
      "text/html": [
       "<link href='http://fonts.googleapis.com/css?family=Oswald' rel='stylesheet' type='text/css'>\n",
       "<link href='http://fonts.googleapis.com/css?family=Lora:400,400italic' rel='stylesheet' type='text/css'>\n",
       "<link href='http://fonts.googleapis.com/css?family=Open+Sans:300' rel='stylesheet' type='text/css'>\n",
       "<link href='http://fonts.googleapis.com/css?family=Alegreya+Sans:100,300,400,500,700,800,900,100italic,300italic,400italic,500italic,700italic,800italic,900italic' rel='stylesheet' type='text/css'>\n",
       "\n",
       "<style>\n",
       "\n",
       "h1, h2, h3, h4, h5 {\n",
       "    font-family: 'Alegreya Sans', sans-serif;\n",
       "}\n",
       "\n",
       "div.text_cell_render{\n",
       "    font-family: 'Alegreya Sans',Computer Modern, \"Helvetica Neue\", Arial, Helvetica, Geneva, sans-serif;\n",
       "    line-height: 135%;\n",
       "    font-size: 120%;\n",
       "    width:100%;/*600px;*/\n",
       "    /*margin-left:auto;*/\n",
       "    /*margin-right:auto;*/\n",
       "}\n",
       "/*div.text_cell_render{font-family: \"Open Sans\", sans-serif;font-weight: normal; line-height:normal;}*/\n",
       "\n",
       "/* header colours and fonts */\n",
       ".rendered_html h1 {\n",
       "    color:#9A3334;\n",
       "    /*margin-top: 0.5em;*/\n",
       "    padding: 1em;\n",
       "    display: block;\n",
       "    font-size: 40px;\n",
       "    text-align: center;\n",
       "    border-top: 2px solid #9A3334;\n",
       "    border-bottom: 2px solid #9A3334;\n",
       "}\n",
       "\n",
       "/*.rendered_html h1 { color: #9A3334; font-family: Lora, sans-serif; font-weight: normal; text-align: center; }*/\n",
       ".rendered_html h2 {\n",
       "    color: #9A3334;\n",
       "    /*font-family: Lora, sans-serif;*/\n",
       "    font-style: italic;\n",
       "    font-weight: normal;\n",
       "    font-size: 30px;\n",
       "    /*text-align: center;*/\n",
       "    border-bottom: 1px solid #9A3334;\n",
       "}\n",
       ".rendered_html h3 {\n",
       "    color: #9A3334;\n",
       "    /*font-family: Lora, sans-serif;*/\n",
       "    font-weight: normal;\n",
       "    font-size: 25px;\n",
       "    font-style: italic;\n",
       "}\n",
       "\n",
       ".rendered_html h4 {\n",
       "    border: 2px solid #9A3334;\n",
       "    border-radius: 25px;\n",
       "    font-style: italic;\n",
       "    height:5%;\n",
       "    width:15%;\n",
       "    padding:5px;\n",
       "    text-align: center;\n",
       "}\n",
       "\n",
       "div.prompt {\n",
       "    display: None;\n",
       "}\n",
       "\n",
       "/* center the images */\n",
       ".ui-wrapper {\n",
       "    margin-left: auto !important;\n",
       "    margin-right: auto !important;\n",
       "}\n",
       "\n",
       "/* center the images */\n",
       ".video {\n",
       "    margin-left: auto !important;\n",
       "    margin-right: auto !important;\n",
       "}\n",
       "\n",
       ".rendered_html img {\n",
       "    margin-top: 0em;\n",
       "}\n",
       "\n",
       "div.input_area {\n",
       "    border-radius: 10px;\n",
       "}\n",
       "\n",
       "/*.reveal h1 {\n",
       "    text-shadow: 10px 10px 10px rgba(0, 0, 0, 0.5);\n",
       "}*/\n",
       "</style>"
      ],
      "text/plain": [
       "<IPython.core.display.HTML object>"
      ]
     },
     "execution_count": 1,
     "metadata": {},
     "output_type": "execute_result"
    }
   ],
   "source": [
    "# execute this part to modify the css style\n",
    "from IPython.core.display import HTML\n",
    "def css_styling():\n",
    "    styles = open(\"../../styles/custom.css\", \"r\").read()\n",
    "    return HTML(styles)\n",
    "css_styling()"
   ]
  }
 ],
 "metadata": {
  "kernelspec": {
   "display_name": "Python 3",
   "language": "python",
   "name": "python3"
  },
  "language_info": {
   "codemirror_mode": {
    "name": "ipython",
    "version": 3
   },
   "file_extension": ".py",
   "mimetype": "text/x-python",
   "name": "python",
   "nbconvert_exporter": "python",
   "pygments_lexer": "ipython3",
   "version": "3.3.5"
  }
 },
 "nbformat": 4,
 "nbformat_minor": 0
}
