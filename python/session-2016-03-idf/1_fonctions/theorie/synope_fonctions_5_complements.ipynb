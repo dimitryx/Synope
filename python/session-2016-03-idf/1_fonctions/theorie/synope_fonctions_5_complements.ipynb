{
 "cells": [
  {
   "cell_type": "markdown",
   "metadata": {},
   "source": [
    "*Ce notebook est distribué par Devlog sous licence Creative Commons - Attribution - Pas d’Utilisation Commerciale - Partage dans les Mêmes Conditions. La description complète de la license est disponible à l'adresse web http://creativecommons.org/licenses/by-nc-sa/4.0/.*"
   ]
  },
  {
   "cell_type": "markdown",
   "metadata": {},
   "source": [
    "# Initiation Python - Variables et fonctions 5/5 - Compléments"
   ]
  },
  {
   "cell_type": "markdown",
   "metadata": {},
   "source": [
    "## Formattage des affichages"
   ]
  },
  {
   "cell_type": "markdown",
   "metadata": {},
   "source": [
    "La méthode `str.format()` permet de construire une chaîne de caractères complexe à partir d'une chaîne qui décrit le format et d'une collection de valeurs données en arguments. La chaîne de format doit comprendre des accolades `{}` aux emplacements ou l'on veut substituer les valeurs."
   ]
  },
  {
   "cell_type": "code",
   "execution_count": 7,
   "metadata": {
    "collapsed": false
   },
   "outputs": [
    {
     "data": {
      "text/plain": [
       "'=== Hello world ! ==='"
      ]
     },
     "execution_count": 7,
     "metadata": {},
     "output_type": "execute_result"
    }
   ],
   "source": [
    "'{} {} ! {}'.format('===','Hello world','===')"
   ]
  },
  {
   "cell_type": "markdown",
   "metadata": {},
   "source": [
    "On peut utiliser des numéros si on veut répéter ou inverser l'ordre de certaines valeurs."
   ]
  },
  {
   "cell_type": "code",
   "execution_count": 8,
   "metadata": {
    "collapsed": false
   },
   "outputs": [
    {
     "data": {
      "text/plain": [
       "'=== Hello world ! ==='"
      ]
     },
     "execution_count": 8,
     "metadata": {},
     "output_type": "execute_result"
    }
   ],
   "source": [
    "'{0} {1} ! {0}'.format('===','Hello world')"
   ]
  },
  {
   "cell_type": "markdown",
   "metadata": {},
   "source": [
    "On peut aussi utiliser des noms si les arguments sont nommés."
   ]
  },
  {
   "cell_type": "code",
   "execution_count": 9,
   "metadata": {
    "collapsed": false
   },
   "outputs": [
    {
     "data": {
      "text/plain": [
       "'=== Hello world ! ==='"
      ]
     },
     "execution_count": 9,
     "metadata": {},
     "output_type": "execute_result"
    }
   ],
   "source": [
    "'{cadre} {texte} ! {cadre}'.format(texte='Hello world',cadre='===')"
   ]
  },
  {
   "cell_type": "code",
   "execution_count": 17,
   "metadata": {
    "collapsed": false
   },
   "outputs": [
    {
     "data": {
      "text/plain": [
       "'=== Hello world ! ==='"
      ]
     },
     "execution_count": 17,
     "metadata": {},
     "output_type": "execute_result"
    }
   ],
   "source": [
    "arguments = { 'texte': 'Hello world', 'cadre': '===' }\n",
    "'{cadre} {texte} ! {cadre}'.format(**arguments)"
   ]
  },
  {
   "cell_type": "markdown",
   "metadata": {},
   "source": [
    "Pour donner des instructions plus précises sur la façon de formatter une valeur précise, on peut ajouter un double-point `:` suivi d'un ensemble de caractères à la façon de la fonction `printf()` du langage C."
   ]
  },
  {
   "cell_type": "code",
   "execution_count": 19,
   "metadata": {
    "collapsed": false
   },
   "outputs": [
    {
     "data": {
      "text/plain": [
       "'Entiers : -002 10 F'"
      ]
     },
     "execution_count": 19,
     "metadata": {},
     "output_type": "execute_result"
    }
   ],
   "source": [
    "\"Entiers : {:04d} {:o} {:X}\".format(-2,8,15)"
   ]
  },
  {
   "cell_type": "code",
   "execution_count": 20,
   "metadata": {
    "collapsed": false
   },
   "outputs": [
    {
     "data": {
      "text/plain": [
       "'Flottants :  6.000000E-06 +4.500 6.000000E-06'"
      ]
     },
     "execution_count": 20,
     "metadata": {},
     "output_type": "execute_result"
    }
   ],
   "source": [
    "\"Flottants :  {1:-E} {0:+2.3f} {1:-E}\".format(4.5,0.000006)"
   ]
  },
  {
   "cell_type": "code",
   "execution_count": 21,
   "metadata": {
    "collapsed": false
   },
   "outputs": [
    {
     "data": {
      "text/plain": [
       "'Avec noms : texte 10 texte'"
      ]
     },
     "execution_count": 21,
     "metadata": {},
     "output_type": "execute_result"
    }
   ],
   "source": [
    "\"Avec noms : {ch:s} {val:d} {ch:s}\".format(ch='texte',val=10)"
   ]
  },
  {
   "cell_type": "markdown",
   "metadata": {},
   "source": [
    "Il est encore courant de rencontrer la méthode de formattage historique de Python, qui reposait sur l'opérateur `%`. Bien que plus pratique en apparence, l'usage de cet opérateur est maintenant déconseillé."
   ]
  },
  {
   "cell_type": "code",
   "execution_count": 24,
   "metadata": {
    "collapsed": false
   },
   "outputs": [
    {
     "data": {
      "text/plain": [
       "'pi = 3.14 '"
      ]
     },
     "execution_count": 24,
     "metadata": {},
     "output_type": "execute_result"
    }
   ],
   "source": [
    "\"pi = %1.2f \" % 3.14159"
   ]
  },
  {
   "cell_type": "markdown",
   "metadata": {
    "slideshow": {
     "slide_type": "slide"
    }
   },
   "source": [
    "## Récursivité\n",
    "\n",
    "Une fonction peut s'appeler elle-même, directement ou indirectement."
   ]
  },
  {
   "cell_type": "code",
   "execution_count": 25,
   "metadata": {
    "collapsed": false,
    "slideshow": {
     "slide_type": "fragment"
    }
   },
   "outputs": [
    {
     "data": {
      "text/plain": [
       "120"
      ]
     },
     "execution_count": 25,
     "metadata": {},
     "output_type": "execute_result"
    }
   ],
   "source": [
    "def fact(n):\n",
    "    if n <= 1:\n",
    "        return 1\n",
    "    else:\n",
    "        return n * fact(n - 1)\n",
    "\n",
    "fact(5)"
   ]
  },
  {
   "cell_type": "markdown",
   "metadata": {
    "slideshow": {
     "slide_type": "subslide"
    }
   },
   "source": [
    "Pensez à placer une condition d'arrêt."
   ]
  },
  {
   "cell_type": "code",
   "execution_count": 27,
   "metadata": {
    "collapsed": false,
    "slideshow": {
     "slide_type": "fragment"
    }
   },
   "outputs": [
    {
     "name": "stdout",
     "output_type": "stream",
     "text": [
      "Erreur: \"maximum recursion depth exceeded\"\n"
     ]
    }
   ],
   "source": [
    "def inf(n):\n",
    "    return inf(n + 1)\n",
    "\n",
    "try:\n",
    "    inf(0)\n",
    "except RuntimeError as e:\n",
    "    print('Erreur: \"{0}\"'.format(e))"
   ]
  },
  {
   "cell_type": "markdown",
   "metadata": {},
   "source": [
    "## Compréhensions de liste"
   ]
  },
  {
   "cell_type": "code",
   "execution_count": 28,
   "metadata": {
    "collapsed": false
   },
   "outputs": [
    {
     "name": "stdout",
     "output_type": "stream",
     "text": [
      "[0, 4, 16, 36, 64, 100, 144, 196, 256, 324, 400, 484, 576, 676, 784, 900, 1024, 1156, 1296, 1444, 1600, 1764, 1936, 2116, 2304, 2500, 2704, 2916, 3136, 3364, 3600, 3844, 4096, 4356, 4624, 4900, 5184, 5476, 5776, 6084, 6400, 6724, 7056, 7396, 7744, 8100, 8464, 8836, 9216, 9604]\n"
     ]
    }
   ],
   "source": [
    "l = [ i**2 for i in range(100) if i%2==0 ]\n",
    "print(l)"
   ]
  },
  {
   "cell_type": "markdown",
   "metadata": {
    "slideshow": {
     "slide_type": "slide"
    }
   },
   "source": [
    "## Une fonction est une valeur"
   ]
  },
  {
   "cell_type": "code",
   "execution_count": 29,
   "metadata": {
    "collapsed": false,
    "slideshow": {
     "slide_type": "fragment"
    }
   },
   "outputs": [
    {
     "name": "stdout",
     "output_type": "stream",
     "text": [
      "25\n"
     ]
    }
   ],
   "source": [
    "def fa(a):\n",
    "    return a ** 2\n",
    "\n",
    "maVar = fa\n",
    "print (maVar(5))"
   ]
  },
  {
   "cell_type": "code",
   "execution_count": 30,
   "metadata": {
    "collapsed": false,
    "slideshow": {
     "slide_type": "fragment"
    }
   },
   "outputs": [
    {
     "name": "stdout",
     "output_type": "stream",
     "text": [
      "36\n",
      "6\n"
     ]
    }
   ],
   "source": [
    "def jAccepteUneFonction(f, v):\n",
    "    return f(v)\n",
    "\n",
    "print(jAccepteUneFonction(maVar, 6))\n",
    "print(jAccepteUneFonction(int, 6.48074069841))"
   ]
  },
  {
   "cell_type": "markdown",
   "metadata": {
    "slideshow": {
     "slide_type": "slide"
    }
   },
   "source": [
    "## Autre définition de fonctions : les *lambdas*"
   ]
  },
  {
   "cell_type": "code",
   "execution_count": 31,
   "metadata": {
    "collapsed": false,
    "slideshow": {
     "slide_type": "fragment"
    }
   },
   "outputs": [
    {
     "name": "stdout",
     "output_type": "stream",
     "text": [
      "42\n"
     ]
    }
   ],
   "source": [
    "maVar4 = lambda a : a * 2\n",
    "print(maVar4(21))"
   ]
  },
  {
   "cell_type": "markdown",
   "metadata": {
    "slideshow": {
     "slide_type": "slide"
    }
   },
   "source": [
    "## Les prédicats\n",
    "\n",
    "Un prédicat est une fonction qui retourne \"Vrai\" ou \"Faux\" en fonction de critères qui lui sont propres.\n",
    "Idéalement, la valeur \"Vrai\" ou \"Faux\" du prédicat ne doit dépendre que des arguments de celui-ci."
   ]
  },
  {
   "cell_type": "code",
   "execution_count": 32,
   "metadata": {
    "collapsed": false,
    "slideshow": {
     "slide_type": "fragment"
    }
   },
   "outputs": [
    {
     "name": "stdout",
     "output_type": "stream",
     "text": [
      "False True\n"
     ]
    }
   ],
   "source": [
    "# Prédicat qui nous dit si la valeur de l'entier a est plus grande que 10\n",
    "def auDessusDe10(a):\n",
    "    return a >= 10\n",
    "\n",
    "print(auDessusDe10(5),auDessusDe10(11))"
   ]
  },
  {
   "cell_type": "markdown",
   "metadata": {
    "slideshow": {
     "slide_type": "slide"
    }
   },
   "source": [
    "## Utilisation"
   ]
  },
  {
   "cell_type": "code",
   "execution_count": 35,
   "metadata": {
    "collapsed": false,
    "slideshow": {
     "slide_type": "fragment"
    }
   },
   "outputs": [
    {
     "name": "stdout",
     "output_type": "stream",
     "text": [
      "<filter object at 0x1041b8320>\n",
      "[1764, 49, 25, 25, 64]\n"
     ]
    }
   ],
   "source": [
    "# Prédicat qui nous dit si la valeur de l'entier a est plus grande que 10\n",
    "def auDessusDe10(a):\n",
    "    return a >= 10\n",
    "\n",
    "monTableau = [ 1764, 49, 25, 9, 0, -16, 25, -9, 4, 64 ]\n",
    "f = filter(auDessusDe10, monTableau)\n",
    "print(f)\n",
    "print(list(f))"
   ]
  },
  {
   "cell_type": "markdown",
   "metadata": {
    "slideshow": {
     "slide_type": "slide"
    }
   },
   "source": [
    "## Prédicats anonymes: les lambdas"
   ]
  },
  {
   "cell_type": "code",
   "execution_count": 36,
   "metadata": {
    "collapsed": false,
    "slideshow": {
     "slide_type": "fragment"
    }
   },
   "outputs": [
    {
     "name": "stdout",
     "output_type": "stream",
     "text": [
      "<filter object at 0x1041b8dd8>\n",
      "[-16, -9]\n"
     ]
    }
   ],
   "source": [
    "monTableau = [ 1764, 49, 25, 9, 0, -16, 25, -9, 4, 64 ]\n",
    "f=filter(lambda a : a < 0, monTableau)\n",
    "print(f)\n",
    "print(list(f))"
   ]
  },
  {
   "cell_type": "markdown",
   "metadata": {
    "slideshow": {
     "slide_type": "fragment"
    }
   },
   "source": [
    "Syntaxe:\n",
    "**lambda** arg0 [, arg1, [arg2, ...]] : _code_\n",
    "\n",
    "La dernière _expression_ de la section **_code_** de lambda correspond à la valeur retournée."
   ]
  },
  {
   "cell_type": "code",
   "execution_count": 37,
   "metadata": {
    "collapsed": false,
    "slideshow": {
     "slide_type": "subslide"
    }
   },
   "outputs": [
    {
     "name": "stdout",
     "output_type": "stream",
     "text": [
      "[-16, -9]\n",
      "[-16, -9]\n"
     ]
    }
   ],
   "source": [
    "f = filter(lambda a : a < 0, monTableau)\n",
    "# est équivalent à\n",
    "def anon0(a):\n",
    "    return a < 0\n",
    "f2 = filter(anon0, monTableau)\n",
    "\n",
    "print(list(f))\n",
    "print(list(f2))"
   ]
  },
  {
   "cell_type": "markdown",
   "metadata": {
    "slideshow": {
     "slide_type": "slide"
    }
   },
   "source": [
    "# Le traitement de données par fonctions\n",
    "\n",
    "Il existe _3_ traitements standards sur les données de type \"**sequences**\" en python :\n",
    "- filter : qui, comme nous l'avons vu, permet de _filtrer_ nos données selon un critère exprimé par un prédicat :\n",
    "    - len(data) >= len(filter(predicat, data))\n"
   ]
  },
  {
   "cell_type": "markdown",
   "metadata": {
    "slideshow": {
     "slide_type": "subslide"
    }
   },
   "source": [
    "- map : qui applique un traitement à chaque élément :\n",
    "    - len(data) == len(map(lambda, data))\n",
    "- functools.reduce : qui fusionne les éléments grâce à un opérateur :\n",
    "    - 1 == len(functools.reduce(lambda, data))"
   ]
  },
  {
   "cell_type": "markdown",
   "metadata": {
    "slideshow": {
     "slide_type": "slide"
    }
   },
   "source": [
    "## map"
   ]
  },
  {
   "cell_type": "code",
   "execution_count": 38,
   "metadata": {
    "collapsed": false,
    "slideshow": {
     "slide_type": "fragment"
    }
   },
   "outputs": [
    {
     "name": "stdout",
     "output_type": "stream",
     "text": [
      "[42, 7, 5, 3, 0, nan, 5, nan, 2, 8]\n"
     ]
    }
   ],
   "source": [
    "import math\n",
    "monTableau = [ 1764, 49, 25, 9, 0, -16, 25, -9, 4, 64 ]\n",
    "m = map(lambda a : (float('nan') if (a < 0) else int(math.sqrt(a))), monTableau)\n",
    "print(list(m))"
   ]
  },
  {
   "cell_type": "markdown",
   "metadata": {
    "slideshow": {
     "slide_type": "slide"
    }
   },
   "source": [
    "## reduce"
   ]
  },
  {
   "cell_type": "code",
   "execution_count": 39,
   "metadata": {
    "collapsed": false,
    "slideshow": {
     "slide_type": "fragment"
    }
   },
   "outputs": [
    {
     "name": "stdout",
     "output_type": "stream",
     "text": [
      "1847\n"
     ]
    }
   ],
   "source": [
    "import functools\n",
    "monTableau = [ 1764, 49, 25, 9 ]\n",
    "r=functools.reduce(lambda a, b : a + b, monTableau)\n",
    "print(r)"
   ]
  },
  {
   "cell_type": "code",
   "execution_count": 40,
   "metadata": {
    "collapsed": false,
    "slideshow": {
     "slide_type": "fragment"
    }
   },
   "outputs": [
    {
     "name": "stdout",
     "output_type": "stream",
     "text": [
      " - 1764 + 49\n",
      " - 1813 + 25\n",
      " - 1838 + 9\n",
      "1847\n"
     ]
    }
   ],
   "source": [
    "import functools\n",
    "\n",
    "def add(a, b):\n",
    "    print(\" - {} + {}\".format(a, b))\n",
    "    return a + b\n",
    "\n",
    "print(functools.reduce(add, monTableau))"
   ]
  },
  {
   "cell_type": "markdown",
   "metadata": {
    "slideshow": {
     "slide_type": "subslide"
    }
   },
   "source": [
    "<center>\n",
    "![Illustration reduce](./img/fonctions_reduce.png \"Illustration reduce\")\n",
    "</center>"
   ]
  },
  {
   "cell_type": "markdown",
   "metadata": {
    "slideshow": {
     "slide_type": "slide"
    }
   },
   "source": [
    "## Les fichiers"
   ]
  },
  {
   "cell_type": "code",
   "execution_count": 43,
   "metadata": {
    "collapsed": false,
    "slideshow": {
     "slide_type": "subslide"
    }
   },
   "outputs": [],
   "source": [
    "fout = open('Monfichier','w')\n",
    "fout.write('Ceci est un fichier\\n')\n",
    "fout.close()\n",
    "fout = open('Monfichier','a')\n",
    "fout.write(\"avec du contenu ...!\")\n",
    "fout.write(str(1))\n",
    "fout.write(\"\\n et encore d'autres informations\\n\")\n",
    "for i in [\"inutiles\", \" au possible\"]:\n",
    "    fout.write(i)\n",
    "fout.close()"
   ]
  },
  {
   "cell_type": "code",
   "execution_count": 44,
   "metadata": {
    "collapsed": false,
    "slideshow": {
     "slide_type": "subslide"
    }
   },
   "outputs": [
    {
     "name": "stdout",
     "output_type": "stream",
     "text": [
      "ceci est la premiere ligne du fichier : <Ceci est un fichier\n",
      ">\n",
      "ceci sont les 5 caractères suivants : <avec >\n",
      "ceci est le reste du fichier : <\n",
      "['du contenu ...!1\\n', \" et encore d'autres informations\\n\", 'inutiles au possible']\n",
      ">\n"
     ]
    }
   ],
   "source": [
    "fin = open(\"Monfichier\", 'r')\n",
    "ligne = fin.readline()\n",
    "print(\"ceci est la premiere ligne du fichier : <\" + ligne + \">\")\n",
    "chaine = fin.read(5)\n",
    "print(\"ceci sont les 5 caractères suivants : <\" + chaine + \">\")\n",
    "reste = fin.readlines()\n",
    "print(\"ceci est le reste du fichier : <\")\n",
    "print(reste)\n",
    "print(\">\")"
   ]
  },
  {
   "cell_type": "markdown",
   "metadata": {
    "slideshow": {
     "slide_type": "slide"
    }
   },
   "source": [
    "## Format binaire\n",
    "\n",
    "Les données lues et écrites sont en format texte, il est également possible de lire et écrire des données en format binaire via le module _pickle_"
   ]
  },
  {
   "cell_type": "code",
   "execution_count": 48,
   "metadata": {
    "collapsed": false,
    "slideshow": {
     "slide_type": "subslide"
    }
   },
   "outputs": [
    {
     "name": "stdout",
     "output_type": "stream",
     "text": [
      "27 <class 'int'>\n",
      "12.96 <class 'float'>\n",
      "[5, 4.83, 'Mathieu'] <class 'list'>\n"
     ]
    }
   ],
   "source": [
    "import pickle\n",
    "a, b, c = 27, 12.96, [5, 4.83, \"Mathieu\"]\n",
    "f = open('donnees_test', 'wb')\n",
    "pickle.dump(a, f)\n",
    "pickle.dump(b, f)\n",
    "pickle.dump(c, f)\n",
    "f.close()\n",
    "f = open('donnees_test', 'rb')\n",
    "j = pickle.load(f)\n",
    "k = pickle.load(f)\n",
    "l = pickle.load(f)\n",
    "print(j, type(j))\n",
    "print(k, type(k))\n",
    "print(l, type(l))\n",
    "f.close()"
   ]
  },
  {
   "cell_type": "markdown",
   "metadata": {
    "slideshow": {
     "slide_type": "slide"
    }
   },
   "source": [
    "## Gestionnaire de contextes : *with*\n",
    "\n",
    "Les gestionnaires de contexte en python permettent de s'assurer que des instructions sont toujours exécutées au début et à la fin de l'exécution d'un code, même si une exception est levée pendant l'exécution de ce code.\n",
    "\n",
    "La fonction `open` renvoie un objet de type fichier qui est un gestionnaire de contexte, qui va permettre de s'assurer de la fermeture du fichier.\n"
   ]
  },
  {
   "cell_type": "code",
   "execution_count": 49,
   "metadata": {
    "collapsed": false,
    "slideshow": {
     "slide_type": "subslide"
    }
   },
   "outputs": [
    {
     "name": "stdout",
     "output_type": "stream",
     "text": [
      "'utf-8' codec can't decode byte 0x80 in position 0: invalid start byte\n"
     ]
    }
   ],
   "source": [
    "fh = None\n",
    "try:\n",
    "    fh = open(\"donnees_test\")\n",
    "    for line in fh:\n",
    "        process(line)\n",
    "except BaseException as err:\n",
    "    print(err)\n",
    "finally:\n",
    "    if fh is not None:\n",
    "        fh.close()"
   ]
  },
  {
   "cell_type": "code",
   "execution_count": 50,
   "metadata": {
    "collapsed": false
   },
   "outputs": [
    {
     "name": "stdout",
     "output_type": "stream",
     "text": [
      "'utf-8' codec can't decode byte 0x80 in position 0: invalid start byte\n"
     ]
    }
   ],
   "source": [
    "try:\n",
    "    with open(\"donnees_test\") as fh:\n",
    "        for line in fh:\n",
    "            process(line)\n",
    "except BaseException as err:\n",
    "    print(err)"
   ]
  },
  {
   "cell_type": "markdown",
   "metadata": {
    "slideshow": {
     "slide_type": "slide"
    }
   },
   "source": [
    "## A suivre...\n",
    "\n",
    "[Travaux pratiques](../ellipsoides/synope_variables_fonctions_tp.ipynb)  "
   ]
  },
  {
   "cell_type": "markdown",
   "metadata": {},
   "source": [
    "*Travail initié en 2014 dans le cadre d'une série de formations Python organisées par le réseau Devlog.  \n",
    "Auteurs principaux : Loic Gouarin & David Chamont. Relecteurs : Nicolas Can, Sekou Diakite, Christophe Halgand, Christophe Gengembre.*"
   ]
  }
 ],
 "metadata": {
  "kernelspec": {
   "display_name": "Python 3",
   "language": "python",
   "name": "python3"
  },
  "language_info": {
   "codemirror_mode": {
    "name": "ipython",
    "version": 3
   },
   "file_extension": ".py",
   "mimetype": "text/x-python",
   "name": "python",
   "nbconvert_exporter": "python",
   "pygments_lexer": "ipython3",
   "version": "3.4.3"
  }
 },
 "nbformat": 4,
 "nbformat_minor": 0
}
