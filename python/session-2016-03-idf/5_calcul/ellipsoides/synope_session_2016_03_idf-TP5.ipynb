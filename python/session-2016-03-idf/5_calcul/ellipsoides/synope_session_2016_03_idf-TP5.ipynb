{
 "cells": [
  {
   "cell_type": "markdown",
   "metadata": {},
   "source": [
    "*Ce notebook est distribué par Devlog sous licence Creative Commons - Attribution - Pas d’Utilisation Commerciale - Partage dans les Mêmes Conditions. La description complète de la license est disponible à l'adresse web http://creativecommons.org/licenses/by-nc-sa/4.0/.*"
   ]
  },
  {
   "cell_type": "markdown",
   "metadata": {},
   "source": [
    "# Initiation Python - TP5: numpy et matplotlib"
   ]
  },
  {
   "cell_type": "markdown",
   "metadata": {},
   "source": [
    "## 1/3 : Modifications dans les méthodes des classes"
   ]
  },
  {
   "cell_type": "markdown",
   "metadata": {},
   "source": [
    "### Superellipse\n",
    "\n",
    " * Fonction *surface()*:\n",
    "\n",
    "Modifiez le calcul des points de la surface en utilisant la fonction *linspace* du *numpy*. \n",
    "\n",
    " * Fonction *surface_with_square()*:\n",
    "\n",
    "Rajouter la fonction *surface_with_square* qui renvoie les coordonnées de la superellipse (vecteurs x,y) en utilisant les fonctions *np.concatenate*, *np.linspace*, *np.ones*, *np.abs*.\n",
    "\n"
   ]
  },
  {
   "cell_type": "markdown",
   "metadata": {},
   "source": [
    "### Superellipsoid\n",
    "\n",
    " * Fonction *surface()*:\n",
    "\n",
    "Modifiez le calcul du nuage de points de la surface en utilisant les fonctions *linspace*, *newaxis* et *ones*, ainsi que le nombre *pi* du *numpy*. \n",
    "\n",
    "\n",
    " * Fonction *surface_with_square()*:\n",
    " \n",
    "Rajouter la fonction *surface_with_square* qui renvoie les coordonnées de la superellipsoid (vecteurs x,y,z) en utilisant la classe *Superellipse* et sa méthode *surface_with_square*. Utilisez les fonctions numpy *np.newaxis* et *np.ones*.\n",
    "\n"
   ]
  },
  {
   "cell_type": "markdown",
   "metadata": {},
   "source": [
    " "
   ]
  },
  {
   "cell_type": "markdown",
   "metadata": {},
   "source": [
    "## 2/3 : Demos: vos premiers graphiques"
   ]
  },
  {
   "cell_type": "markdown",
   "metadata": {},
   "source": [
    "Créez 2 scripts demo: superellipse.py superellipsoid.py.\n",
    "\n",
    "Le premier:\n",
    "\n",
    " 1. Crée un cercle avec la classe Circle;\n",
    " 2. Génère les vecteurs de ses coordonnées x, y en appelant sa méthode *surface_with_square*;\n",
    " 3. Trace le cercle avec la fonction *plot()* de matplotlib.pyplot;\n",
    " 4. Crée une superellipse, génère ses coordonnées x, y avec *surface_with_square*, et trace la superellipse avec *matplotlib.pyplot.plot()*.\n",
    " \n",
    " \n",
    "Le deuxième: \n",
    "\n",
    " 1. Crée une sphère avec la classe Sphere; \n",
    " 2. Génère les vecteurs de ses coordonnées x, y, z avec la méthode *surface_with_square*;\n",
    " 3. Crée une figure avec les fonctions matplotlib *figure()* et *fig.add_subplot()* en utilisant l'argument projection='3d' de ce dernier pour créer une vue en 3D; \n",
    " 4. Trace la sphère avec la fonction *plot_wireframe()* de l'objet *ax* crée par *add_subplot*;\n",
    " 5. Crée une superellipsoide en utilisant la classe *Superellipsoid* et sa méthode *surface_with_square*, ainsi que les mêmes fonctions du *matplotlib* que pour la sphère.\n",
    " \n"
   ]
  },
  {
   "cell_type": "markdown",
   "metadata": {},
   "source": [
    "\n",
    "N'oubliez pas la fonction plt.show() pour afficher les graphiques !"
   ]
  },
  {
   "cell_type": "markdown",
   "metadata": {},
   "source": [
    "## 3/3 : Animation de la rotation d'une superellipsoid"
   ]
  },
  {
   "cell_type": "markdown",
   "metadata": {},
   "source": [
    "Créez une animation d'une superellipsoid (script demos/animate_superellipsoid.py). \n",
    "\n",
    " 1. Créez un objet de la classe *Superellipsoid*;\n",
    " 2. Génèrez ses coordonnées x, y, z avec *surface_with_square()*;\n",
    " 3. Créez un objet de la classe *Quaternion* et fixez un angle avec sa méthode *set_angle* (e.g. np.pi/10))\n",
    " 4. Définissez la fonction  *animate* qui effectue une animation par une rotation d'une superellipse. Lorsque le nombre d'images est un multiple de 10, on change l'axe de rotation.\n",
    " 5. Créez un axe 3D avec *add_subplot* en projection='3d' \n",
    " 6. Appelez la fonction *animation.FuncAnimation* de matplotlib et lui donner en argument la fonction *animate()*. \n",
    " \n",
    " La fonction  *animate* :\n",
    " \n",
    " \n",
    " \n",
    " 1. prend le nombre *i* en argument\n",
    " * si i est un multiple de 10, fixe un nouvel angle avec *set_angle* (aléatoire, avec np.random.random(3)) \n",
    " * effectue une normalization\n",
    " * effectue une rotation\n",
    " * trace les nouvelles coordonnées x, y, z avec *plot_wireframe*\n",
    "\n",
    "\n"
   ]
  },
  {
   "cell_type": "markdown",
   "metadata": {
    "collapsed": false
   },
   "source": [
    "*Auteurs : Loic Gouarin et David Chamont. Document réalisé en 2016 dans le cadre d'une série de formations Python organisées par les réseaux LoOPS et PiCo en collaboration avec le pôle formation du SMUT CNRS.*"
   ]
  }
 ],
 "metadata": {
  "kernelspec": {
   "display_name": "Python 3",
   "language": "python",
   "name": "python3"
  },
  "language_info": {
   "codemirror_mode": {
    "name": "ipython",
    "version": 3
   },
   "file_extension": ".py",
   "mimetype": "text/x-python",
   "name": "python",
   "nbconvert_exporter": "python",
   "pygments_lexer": "ipython3",
   "version": "3.5.1"
  }
 },
 "nbformat": 4,
 "nbformat_minor": 0
}
