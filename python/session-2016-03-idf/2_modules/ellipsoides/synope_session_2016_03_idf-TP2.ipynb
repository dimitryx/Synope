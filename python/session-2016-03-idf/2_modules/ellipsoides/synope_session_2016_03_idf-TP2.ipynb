{
 "cells": [
  {
   "cell_type": "markdown",
   "metadata": {
    "slideshow": {
     "slide_type": "-"
    }
   },
   "source": [
    "*Ce notebook est distribué par Devlog sous licence Creative Commons - Attribution - Pas d’Utilisation Commerciale - Partage dans les Mêmes Conditions. La description complète de la license est disponible à l'adresse web http://creativecommons.org/licenses/by-nc-sa/4.0/.*"
   ]
  },
  {
   "cell_type": "markdown",
   "metadata": {
    "slideshow": {
     "slide_type": "slide"
    }
   },
   "source": [
    "# Initiation à Python, printemps 2016, Ile-de-France\n",
    "\n",
    "Ensemble de formations organisées en coopération avec les réseaux LoOPS, PICo-DevLog,  \n",
    "et le pôle formation du Service Mutualisé d’Ile-de-France du CNRS.\n",
    "\n",
    "<img src=\"img/python-logo-TM.png\" />"
   ]
  },
  {
   "cell_type": "markdown",
   "metadata": {
    "slideshow": {
     "slide_type": "slide"
    }
   },
   "source": [
    "## Formateurs\n",
    "\n",
    "| Où |  Quand | Qui |\n",
    "|----|--------|-----|\n",
    "| Gif | 29-30-31 mars | David Chamont & Loic Gouarin  |\n",
    "| Meudon | 6-7-8 avril | Dmitry Khvorostyanov & Marc-Antoine Drouin |\n",
    "| Villejiuf | 11-12-13 mai | Dmitry Khvorostyanov & Christophe Gengembre |"
   ]
  },
  {
   "cell_type": "markdown",
   "metadata": {
    "slideshow": {
     "slide_type": "slide"
    }
   },
   "source": [
    "## Auteurs\n",
    "\n",
    "Vous trouverez à la fin de chaque notebook des informations sur les auteurs\n",
    "historiques des modules, et les contributeurs ultérieurs. L'ensemble a été\n",
    "initié dans le cadre du projet \"Notebooks Python\" du réseau Devlog, et\n",
    "poursuivi dans le cadre du projet \"Synopé\", qui marque le passage de\n",
    "IPython à Jupyter, et la volonté d'essayer d'autres langages (C++).\n",
    "\n",
    "* auteurs originaux : Nicolas Can (Min2Rien - DR18), Sékou Diakité (DevelopR6 - DR6),\n",
    "Loïc Gouarin (LOOPs - DR4), Christophe Halgand (CEPAge - DR15), David Chamont (LOOPs - DR4).\n",
    "* ajouts pour cette session : Loic Gouarin (calcul & ellipsoides), David Chamont (fonctions), Marc-Antoine Drouin (outils et bonnes pratiques), Christophe Gengembre (modules), Dmitry Khvorostyanov (ellipsoides).\n",
    "\n",
    "Les quizz ont été réalisés par Guillaume Harry, et inspirés par les quiz du MOOC Python porté par Arnaud Legout & Thierry Parmentelat (Inria)."
   ]
  },
  {
   "cell_type": "markdown",
   "metadata": {
    "slideshow": {
     "slide_type": "slide"
    }
   },
   "source": [
    "## Travaux pratiques 2: packages et modules\n",
    "\n",
    "\n",
    "\n",
    " 1: Créez le package *maBiblio* qui contient les modules *quaternion*, *linspace* et *utils*. \n",
    "\n",
    "\n",
    " * *quaternion*: contient les fonctions de rotation définies dans le TP1\n",
    "\n",
    " * *utils*: contient les fonctions *c* et *s*\n",
    "\n",
    " * *linspace*: contient la fonction *linspace*\n",
    "\n",
    "\n",
    "\n",
    " 2: A l'intérieur du package *maBiblio* créez le package *ellipsoides* qui contient deux modules: *superellipse* et *superellipsoid*. Chacun de ces modules contient la fonction correspondante définie dans le TP1.\n",
    "\n",
    "\n",
    "Les fichiers *\\__init__.py* des packages doivent importer les fonctions de leurs packages. \n",
    "\n",
    "   \n",
    " 3: Créez le repertoire *demos* qui contient deux scripts *quaternion.py*  et *superellipsoid.py* qui importent le package *maBiblio* et appellent ses fonctions: \n",
    " \n",
    " * *quaternion.py*: une rotation à l'aide d'une représentation complexe et une rotation à  l'aide d'une représentation quaternion\n",
    " \n",
    " * *superellipsoid.py*: affiche des coordonnées d'une superellipse et celles d'une superellipsoid\n",
    "\n",
    "\n",
    " 4: Créez le fichier *setup.py* qui définit les modules *maBiblio* et *maBiblio.ellipsoides*\n",
    "\n",
    "\n",
    "\n"
   ]
  }
 ],
 "metadata": {
  "kernelspec": {
   "display_name": "Python 3",
   "language": "python",
   "name": "python3"
  },
  "language_info": {
   "codemirror_mode": {
    "name": "ipython",
    "version": 3
   },
   "file_extension": ".py",
   "mimetype": "text/x-python",
   "name": "python",
   "nbconvert_exporter": "python",
   "pygments_lexer": "ipython3",
   "version": "3.5.1"
  }
 },
 "nbformat": 4,
 "nbformat_minor": 0
}
