{
 "cells": [
  {
   "cell_type": "markdown",
   "metadata": {},
   "source": [
    "*Ce notebook est distribué par Devlog sous licence Creative Commons - Attribution - Pas d’Utilisation Commerciale - Partage dans les Mêmes Conditions. La description complète de la license est disponible à l'adresse web http://creativecommons.org/licenses/by-nc-sa/4.0/.*"
   ]
  },
  {
   "cell_type": "markdown",
   "metadata": {},
   "source": [
    "# Initiation Python - TP3: Objets"
   ]
  },
  {
   "cell_type": "markdown",
   "metadata": {},
   "source": [
    "## 1/6 : Les classes de base\n",
    "\n",
    "1. Quaternion\n",
    "2. Superellipse\n",
    "3. Superellipsoid"
   ]
  },
  {
   "cell_type": "markdown",
   "metadata": {},
   "source": [
    "Définissez ces trois classes de base, chacun dans un fichier à part."
   ]
  },
  {
   "cell_type": "markdown",
   "metadata": {},
   "source": [
    "### Superellipse\n",
    "\n",
    "Attributs\n",
    " \n",
    "* n : nombre de points de discrétisation en theta\n",
    "* rx : rayon suivant x\n",
    "* ry : rayon suivant y\n",
    "* m : puissance dans l'expression de la superellipse.\n",
    "\n",
    " \n",
    " Méthodes\n",
    "\n",
    " * init: affecte les attributs n, rx, ry, m à partir des arguments spécifiés par l'utiliseateur pendant la création de l'objet.\n",
    "\n",
    " * surface: renvoie les points de la surface.\n",
    "\n",
    " * area: renvoie l'aire.\n",
    " "
   ]
  },
  {
   "cell_type": "markdown",
   "metadata": {},
   "source": [
    "### Superellipsoid\n",
    "\n",
    "Attributs\n",
    " \n",
    " \n",
    " * n : nombre de points de discrétisation en theta et en phi\n",
    " * rx : rayon suivant x\n",
    " * ry : rayon suivant y\n",
    " * rz : rayon suivant z\n",
    " * m1 : puissance dans l'expression de la superellipse\n",
    " * m2 : paramètre qui détérmine le \"balayage\" vertical \n",
    " \n",
    " \n",
    " Méthodes\n",
    " \n",
    "\n",
    " * init: affecte les attributs à partir des arguments pendant la création de l'objet.\n",
    "\n",
    " * surface : renvoie le nuage de points de la surface.\n",
    "\n",
    " * volume : renvoie le volume de la superellipsoide.\n",
    "\n",
    "\n",
    "### Quaternion\n",
    "\n",
    "\n",
    "* set_angle\n",
    "* rotate\n",
    "* conjugate\n",
    "* normalize\n",
    "* x, y, z\n",
    "\n",
    "\n",
    "\n",
    "\n"
   ]
  },
  {
   "cell_type": "markdown",
   "metadata": {},
   "source": [
    " "
   ]
  },
  {
   "cell_type": "markdown",
   "metadata": {},
   "source": [
    "## 2/6 : Classes dérivées"
   ]
  },
  {
   "cell_type": "markdown",
   "metadata": {},
   "source": [
    "Définissez la classe dérivée *Circle*. Elle contient une méthode supplementaire:\n",
    "\n",
    "\n",
    "Pour la classe dérivée de Superellipse: \n",
    " \n",
    " * perimeter: renvoie le perimètre.\n",
    "\n",
    "\n",
    "Pour la classe dérivée de Superellipsoid:   \n",
    "   \n",
    "  * area:  renvoie la surface de la sphère. Vous aurrez besoin de la fonction mathematique *beta*: \n",
    "  \n",
    "  \n",
    "    * beta_func(r, t)"
   ]
  },
  {
   "cell_type": "markdown",
   "metadata": {},
   "source": [
    "## 3/6 : Les objets composés"
   ]
  },
  {
   "cell_type": "markdown",
   "metadata": {},
   "source": []
  },
  {
   "cell_type": "markdown",
   "metadata": {},
   "source": [
    "## 4/6 : L'héritage entre classes"
   ]
  },
  {
   "cell_type": "markdown",
   "metadata": {},
   "source": []
  },
  {
   "cell_type": "markdown",
   "metadata": {},
   "source": [
    "## 6/6 : Quelques concepts avancés"
   ]
  },
  {
   "cell_type": "markdown",
   "metadata": {
    "collapsed": false
   },
   "source": [
    "*Auteurs : Loic Gouarin et David Chamont. Document réalisé en 2016 dans le cadre d'une série de formations Python organisées par les réseaux LoOPS et PiCo en collaboration avec le pôle formation du SMUT CNRS.*"
   ]
  }
 ],
 "metadata": {
  "kernelspec": {
   "display_name": "Python 3",
   "language": "python",
   "name": "python3"
  },
  "language_info": {
   "codemirror_mode": {
    "name": "ipython",
    "version": 3
   },
   "file_extension": ".py",
   "mimetype": "text/x-python",
   "name": "python",
   "nbconvert_exporter": "python",
   "pygments_lexer": "ipython3",
   "version": "3.5.1"
  }
 },
 "nbformat": 4,
 "nbformat_minor": 0
}
