{
 "cells": [
  {
   "cell_type": "markdown",
   "metadata": {},
   "source": [
    "*Ce notebook est distribué par Devlog sous licence Creative Commons - Attribution - Pas d’Utilisation Commerciale - Partage dans les Mêmes Conditions. La description complète de la license est disponible à l'adresse web http://creativecommons.org/licenses/by-nc-sa/4.0/.*"
   ]
  },
  {
   "cell_type": "markdown",
   "metadata": {},
   "source": [
    "# Initiation Python - TP3: Objets"
   ]
  },
  {
   "cell_type": "markdown",
   "metadata": {},
   "source": [
    "## 1/3 : Les classes de base\n",
    "\n",
    "1. Quaternion\n",
    "2. Superellipse\n",
    "3. Superellipsoid"
   ]
  },
  {
   "cell_type": "markdown",
   "metadata": {},
   "source": [
    "Définissez ces trois classes de base, chacune dans un fichier à part."
   ]
  },
  {
   "cell_type": "markdown",
   "metadata": {},
   "source": [
    "### Superellipse\n",
    "\n",
    "Attributs\n",
    " \n",
    "* n : nombre de points de discrétisation en theta\n",
    "* rx : rayon suivant x\n",
    "* ry : rayon suivant y\n",
    "* m : puissance dans l'expression de la superellipse.\n",
    "\n",
    " \n",
    " Méthodes\n",
    "\n",
    " * Le constructeur \\__init\\__: affecte les attributs de la classe n, rx, ry, m à partir des arguments spécifiés par l'utiliseateur.\n",
    "\n",
    " * surface: renvoie les points de la surface (deux listes x,y).\n",
    "\n",
    " * area: renvoie l'aire (un scalaire).\n",
    " "
   ]
  },
  {
   "cell_type": "markdown",
   "metadata": {},
   "source": [
    "### Superellipsoid\n",
    "\n",
    "Attributs\n",
    " \n",
    " \n",
    " * n : nombre de points de discrétisation en theta et en phi\n",
    " * rx : rayon suivant x\n",
    " * ry : rayon suivant y\n",
    " * rz : rayon suivant z\n",
    " * m1 : puissance dans l'expression de la superellipse\n",
    " * m2 : paramètre qui détérmine le \"balayage\" vertical \n",
    " \n",
    " \n",
    " Méthodes\n",
    " \n",
    "\n",
    " * \\__init\\__: affecte les attributs de la classe à partir des arguments du constructeur.\n",
    "\n",
    " * surface : renvoie le nuage de points de la surface: trois listes a 2 dimensions (listes imbriquées) x,y,z.\n",
    "\n",
    " * volume : renvoie le volume de la superellipsoide.\n",
    "\n",
    "\n",
    "### Quaternion\n",
    "\n",
    "Attributs\n",
    "\n",
    "* coords (x,y,z)\n",
    "* w \n",
    "\n",
    "* set_angle\n",
    "* rotate\n",
    "* conjugate\n",
    "* normalize\n",
    "* x, y, z\n",
    "\n",
    "\n",
    "\n",
    "\n"
   ]
  },
  {
   "cell_type": "markdown",
   "metadata": {},
   "source": [
    " "
   ]
  },
  {
   "cell_type": "markdown",
   "metadata": {},
   "source": [
    "## 2/3 : Classes dérivées"
   ]
  },
  {
   "cell_type": "markdown",
   "metadata": {},
   "source": [
    "Définissez la classe dérivée *Circle* qui hérite de la classe *Superellipse*. Elle surcharge son constructeur \\__init\\__ en appelant celui du parent avec rx=ry=r et m=2. Elle contient une méthode supplementaire:\n",
    " \n",
    " \n",
    " * perimeter: renvoie le périmètre du cercle.\n",
    "\n",
    "\n",
    "Définissez la classe dérivée *Sphere* qui hérite de la classe *Superellipsoid*. Elle surcharge son constructeur \\__init\\__ en appelant celui du parent avec rx=ry=rz=r et m1=m2=2. Elle contient une méthode supplementaire:\n",
    " \n",
    " \n",
    "  * area: renvoie l'aire de la sphère.\n",
    "  \n",
    "  Vous aurrez besoin de définir la fonction mathématique la *fonction bêta*: \n",
    "  \n",
    "  \n",
    "     - beta_func(r, t)\n",
    "    \n",
    "    "
   ]
  },
  {
   "cell_type": "markdown",
   "metadata": {},
   "source": [
    "## 3/3 : Demos"
   ]
  },
  {
   "cell_type": "markdown",
   "metadata": {},
   "source": [
    "Créez 2 scripts demo: superellipsoid.py et quaternion.py. \n",
    "\n",
    "Le premier:\n",
    "\n",
    " 1. Crée une superellipse et affiche à l'ecran son aire; \n",
    " 2. Crée un cercle et affiche à l'ecran son aire et son périmètre;\n",
    " 3. Crée une superellipsoide et affiche à l'ecran son volume;\n",
    " 4. Crée une sphère et affiche à l'ecran son volume et son aire.\n",
    " \n",
    "\n",
    "Le deuxième:\n",
    "\n",
    " 1. Crée un quaternion *q* avec la classe *Quaternion*. \n",
    " 2. Affiche à l'ecran ses coordonnées avec la fonction *print* de python (qui appele la méthode \\__str\\__() de la classe *Quaternion*).\n",
    " 3. Fixe un angle (e.g. pi/4);\n",
    " 4. Normalize et affiche à l'ecran les nouvelles coordonnées;\n",
    " 5. Effectue une rotation du produit (q\\*q) et affiche à l'ecran les coordonnées.\n"
   ]
  },
  {
   "cell_type": "markdown",
   "metadata": {
    "collapsed": false
   },
   "source": [
    "*Auteurs : Loic Gouarin et David Chamont. Document réalisé en 2016 dans le cadre d'une série de formations Python organisées par les réseaux LoOPS et PiCo en collaboration avec le pôle formation du SMUT CNRS.*"
   ]
  }
 ],
 "metadata": {
  "kernelspec": {
   "display_name": "Python 3",
   "language": "python",
   "name": "python3"
  },
  "language_info": {
   "codemirror_mode": {
    "name": "ipython",
    "version": 3
   },
   "file_extension": ".py",
   "mimetype": "text/x-python",
   "name": "python",
   "nbconvert_exporter": "python",
   "pygments_lexer": "ipython3",
   "version": "3.5.1"
  }
 },
 "nbformat": 4,
 "nbformat_minor": 0
}
