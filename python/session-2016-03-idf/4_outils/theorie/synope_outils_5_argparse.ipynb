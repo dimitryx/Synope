{
 "cells": [
  {
   "cell_type": "markdown",
   "metadata": {
    "slideshow": {
     "slide_type": "skip"
    }
   },
   "source": [
    "*Ce notebook est distribué par Devlog sous licence Creative Commons - Attribution - Pas d’Utilisation Commerciale - Partage dans les Mêmes Conditions. La description complète de la license est disponible à l'adresse web http://creativecommons.org/licenses/by-nc-sa/4.0/.*"
   ]
  },
  {
   "cell_type": "markdown",
   "metadata": {
    "slideshow": {
     "slide_type": "slide"
    }
   },
   "source": [
    "# Initiation python - Outils 5/6 : Le module argparse"
   ]
  },
  {
   "cell_type": "markdown",
   "metadata": {
    "collapsed": true,
    "slideshow": {
     "slide_type": "slide"
    }
   },
   "source": [
    "# Intérêt du module [argparse](https://docs.python.org/3/library/argparse.html)\n",
    "\n",
    "Le module __argparse__ permet de simplifier la gestion des arguments d'entrée lors de l'utilisation des codes en ligne de commande.\n",
    "\n",
    "- il appartient à la bibliothèque standard de python\n",
    "- il permet de :\n",
    "    + définir les argument obligatoires\n",
    "    + définir les arguments optionnels\n",
    "    + vérifier le type des arguments\n",
    "    + vérifier l'existence des fichiers fourni en entré\n",
    "    + générer automatiquement l'aide"
   ]
  },
  {
   "cell_type": "markdown",
   "metadata": {
    "slideshow": {
     "slide_type": "slide"
    }
   },
   "source": [
    "# Utilisation de argparse"
   ]
  },
  {
   "cell_type": "code",
   "execution_count": 25,
   "metadata": {
    "collapsed": false,
    "slideshow": {
     "slide_type": "-"
    }
   },
   "outputs": [
    {
     "name": "stdout",
     "output_type": "stream",
     "text": [
      "Overwriting ./exemples/parser.py\n"
     ]
    }
   ],
   "source": [
    "%%file ./exemples/parser.py\n",
    "\n",
    "import sys\n",
    "import argparse\n",
    "\n",
    "def main(argv):\n",
    "    \n",
    "    # creation de l'objet parser\n",
    "    parser = argparse.ArgumentParser(\n",
    "        description='programme qui affiche sur 2 entiers'\n",
    "    )\n",
    "    \n",
    "    # ajout d'arguments obligatoire\n",
    "    parser.add_argument(\n",
    "        'entier_1',  # nom par lequel nous allon pouvoir accéder à la variable\n",
    "        type=int,    # type de la variable\n",
    "        help='un entier'  # affichage de l'aide\n",
    "    )\n",
    "    parser.add_argument(\n",
    "        'entier_2',\n",
    "        type=int,\n",
    "        help='un deuxième entier'\n",
    "    )\n",
    "    # ajout d'argument obligatoire avec choix\n",
    "    parser.add_argument(\n",
    "        'operateur',\n",
    "        type=str,\n",
    "        choices=['-', '+', '/', '*']  # valeur possible de la variable\n",
    "    )\n",
    "    \n",
    "    # ajout d'un argument optionnel\n",
    "    parser.add_argument(\n",
    "        '--message',  # option à utiliser dans la ligne de commande pour founir la valeur de l'option\n",
    "        type=str,\n",
    "        required=False,\n",
    "        default=None,  # valeur par défaut de l'option pour savoir si elle a été activée\n",
    "        help='affiche la chaîne de caractère'\n",
    "    )\n",
    "    \n",
    "    # parser les argument d'entrée\n",
    "    arg_entree = parser.parse_args(argv)\n",
    "    \n",
    "    # accéder aux valeurs\n",
    "    int_1 = arg_entree.entier_1\n",
    "    int_2 = arg_entree.entier_2\n",
    "    op = arg_entree.operateur\n",
    "    message = arg_entree.message\n",
    "    \n",
    "    print(\"opération à faire :\")\n",
    "    print(\"{} {} {}\".format(int_1, op, int_2))\n",
    "    if message is not None:\n",
    "        print(message)\n",
    "\n",
    "if __name__ == '__main__':\n",
    "    main(sys.argv[1:])\n",
    "    "
   ]
  },
  {
   "cell_type": "markdown",
   "metadata": {
    "slideshow": {
     "slide_type": "subslide"
    }
   },
   "source": [
    "Si on ne fourni pas les options obligatoire argparse affiche automatiquement une erreurs avec une aide"
   ]
  },
  {
   "cell_type": "code",
   "execution_count": 29,
   "metadata": {
    "collapsed": false,
    "slideshow": {
     "slide_type": "fragment"
    }
   },
   "outputs": [
    {
     "name": "stderr",
     "output_type": "stream",
     "text": [
      "usage: parser.py [-h] [--message MESSAGE] entier_1 entier_2 {-,+,/,*}\n",
      "parser.py: error: the following arguments are required: entier_1, entier_2, operateur\n"
     ]
    }
   ],
   "source": [
    "%%bash\n",
    "python exemples/parser.py"
   ]
  },
  {
   "cell_type": "markdown",
   "metadata": {
    "slideshow": {
     "slide_type": "subslide"
    }
   },
   "source": [
    "On peut affiche l'aide avec l'option \"-h\""
   ]
  },
  {
   "cell_type": "code",
   "execution_count": 30,
   "metadata": {
    "collapsed": false,
    "slideshow": {
     "slide_type": "fragment"
    }
   },
   "outputs": [
    {
     "name": "stdout",
     "output_type": "stream",
     "text": [
      "usage: parser.py [-h] [--message MESSAGE] entier_1 entier_2 {-,+,/,*}\n",
      "\n",
      "programme qui affiche sur 2 entiers\n",
      "\n",
      "positional arguments:\n",
      "  entier_1           un entier\n",
      "  entier_2           un deuxième entier\n",
      "  {-,+,/,*}\n",
      "\n",
      "optional arguments:\n",
      "  -h, --help         show this help message and exit\n",
      "  --message MESSAGE  affiche la chaîne de caractère\n"
     ]
    }
   ],
   "source": [
    "%%bash\n",
    "python exemples/parser.py -h"
   ]
  },
  {
   "cell_type": "markdown",
   "metadata": {
    "slideshow": {
     "slide_type": "subslide"
    }
   },
   "source": [
    "Si on fournit les arguments nécessaires :"
   ]
  },
  {
   "cell_type": "code",
   "execution_count": 32,
   "metadata": {
    "collapsed": false,
    "slideshow": {
     "slide_type": "fragment"
    }
   },
   "outputs": [
    {
     "name": "stdout",
     "output_type": "stream",
     "text": [
      "opération à faire :\n",
      "24 * 8\n",
      "multiplication\n"
     ]
    }
   ],
   "source": [
    "%%bash\n",
    "python exemples/parser.py 24 8 '*' --message multiplication"
   ]
  },
  {
   "cell_type": "markdown",
   "metadata": {},
   "source": [
    "Si on fournit un flottant à la place des entiers, l'erreur va être détectée"
   ]
  },
  {
   "cell_type": "code",
   "execution_count": 33,
   "metadata": {
    "collapsed": false
   },
   "outputs": [
    {
     "name": "stderr",
     "output_type": "stream",
     "text": [
      "usage: parser.py [-h] [--message MESSAGE] entier_1 entier_2 {-,+,/,*}\n",
      "parser.py: error: argument entier_1: invalid int value: '24.5'\n"
     ]
    }
   ],
   "source": [
    "%%bash\n",
    "python exemples/parser.py 24.5 8.5 '*' --message multiplication"
   ]
  },
  {
   "cell_type": "markdown",
   "metadata": {
    "slideshow": {
     "slide_type": "subslide"
    }
   },
   "source": [
    "# Options avancées\n",
    "\n",
    "le module argparse dispose aussi d'options plus avancées (que nous ne verrons pas ici)\n",
    "\n",
    "- définition de nos propre vérificateur d'argument (par exemple vérifier le format d'une date)\n",
    "- avoir des arguments d'entrée multiple qu'il accumule dans une liste\n",
    "- gérer les drapeaux\n",
    "- associer des actions à des arguments"
   ]
  }
 ],
 "metadata": {
  "celltoolbar": "Slideshow",
  "kernelspec": {
   "display_name": "Python 3",
   "language": "python",
   "name": "python3"
  },
  "language_info": {
   "codemirror_mode": {
    "name": "ipython",
    "version": 3
   },
   "file_extension": ".py",
   "mimetype": "text/x-python",
   "name": "python",
   "nbconvert_exporter": "python",
   "pygments_lexer": "ipython3",
   "version": "3.5.1"
  }
 },
 "nbformat": 4,
 "nbformat_minor": 0
}
