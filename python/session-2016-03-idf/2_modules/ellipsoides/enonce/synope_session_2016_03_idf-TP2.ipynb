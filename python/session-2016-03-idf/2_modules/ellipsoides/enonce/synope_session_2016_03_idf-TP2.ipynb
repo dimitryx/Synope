{
 "cells": [
  {
   "cell_type": "markdown",
   "metadata": {
    "slideshow": {
     "slide_type": "-"
    }
   },
   "source": [
    "*Ce notebook est distribué par Devlog sous licence Creative Commons - Attribution - Pas d’Utilisation Commerciale - Partage dans les Mêmes Conditions. La description complète de la license est disponible à l'adresse web http://creativecommons.org/licenses/by-nc-sa/4.0/.*"
   ]
  },
  {
   "cell_type": "markdown",
   "metadata": {
    "slideshow": {
     "slide_type": "slide"
    }
   },
   "source": [
    "# Initiation à Python, printemps 2016, Ile-de-France\n",
    "\n",
    "Ensemble de formations organisées en coopération avec les réseaux LoOPS, PICo-DevLog,  \n",
    "et le pôle formation du Service Mutualisé d’Ile-de-France du CNRS.\n",
    "\n",
    "<img src=\"img/python-logo-TM.png\" />"
   ]
  },
  {
   "cell_type": "markdown",
   "metadata": {
    "slideshow": {
     "slide_type": "slide"
    }
   },
   "source": [
    "## Formateurs\n",
    "\n",
    "| Où |  Quand | Qui |\n",
    "|----|--------|-----|\n",
    "| Gif | 29-30-31 mars | David Chamont & Loic Gouarin  |\n",
    "| Meudon | 6-7-8 avril | Dmitry Khvorostyanov & Marc-Antoine Drouin |\n",
    "| Villejiuf | 11-12-13 mai | Dmitry Khvorostyanov & Christophe Gengembre |"
   ]
  },
  {
   "cell_type": "markdown",
   "metadata": {
    "slideshow": {
     "slide_type": "slide"
    }
   },
   "source": [
    "## Auteurs\n",
    "\n",
    "Vous trouverez à la fin de chaque notebook des informations sur les auteurs\n",
    "historiques des modules, et les contributeurs ultérieurs. L'ensemble a été\n",
    "initié dans le cadre du projet \"Notebooks Python\" du réseau Devlog, et\n",
    "poursuivi dans le cadre du projet \"Synopé\", qui marque le passage de\n",
    "IPython à Jupyter, et la volonté d'essayer d'autres langages (C++).\n",
    "\n",
    "* auteurs originaux : Nicolas Can (Min2Rien - DR18), Sékou Diakité (DevelopR6 - DR6),\n",
    "Loïc Gouarin (LOOPs - DR4), Christophe Halgand (CEPAge - DR15), David Chamont (LOOPs - DR4).\n",
    "* ajouts pour cette session : Loic Gouarin (calcul & ellipsoides), David Chamont (fonctions), Marc-Antoine Drouin (outils et bonnes pratiques), Christophe Gengembre (modules), Dmitry Khvorostyanov (ellipsoides).\n",
    "\n",
    "Les quizz ont été réalisés par Guillaume Harry, et inspirés par les quiz du MOOC Python porté par Arnaud Legout & Thierry Parmentelat (Inria)."
   ]
  },
  {
   "cell_type": "markdown",
   "metadata": {},
   "source": [
    "## Travaux pratiques 2: packages et modules\n",
    "\n",
    "Vous allez créer ici votre premier package Python qui intègrera les fonctions réalisées lors du premier TP. Nous choisirons l'arborescence suivante\n",
    "\n",
    "<img src=\"figures/synope_tree.png\" />\n",
    "\n",
    "#### Quetion 1\n",
    "\n",
    "Commencez par créer cette arborescence en mettant dans les fichiers *linspace.py*, *quaternion.py*, *superellipse.py*, *superellipsoid.py* et *utils.py* les fonctions crées lors de la première séance. Le fichier *utils.py* contiendra les fonctions $spe\\_cos$ et $spe\\_sin$.\n",
    "\n",
    "#### Quetion 2\n",
    "\n",
    "Ajoutez les fichiers *\\_\\_init\\_\\_.py* en les laissant vides pour le moment et écrivez le fichier *setup.py* permettant d'installer *pySynope*.\n",
    "\n",
    "Le *setup* devra contenir au moins les champs:\n",
    "\n",
    "- name,\n",
    "- version,\n",
    "- author,\n",
    "- description,\n",
    "- packages.\n",
    "\n",
    "#### Question 3\n",
    "\n",
    "Installez le package *pySynope*\n",
    "\n",
    "#### Question 4\n",
    "\n",
    "Créez le répertoire *demos* et mettez les deux scripts Python suivant\n",
    "\n",
    "- *superellipsoid.py*"
   ]
  },
  {
   "cell_type": "code",
   "execution_count": null,
   "metadata": {
    "collapsed": true
   },
   "outputs": [],
   "source": [
    "from __future__ import print_function\n",
    "import pySynope\n",
    "\n",
    "print(pySynope.superellipse(10, 1, 1, 2))\n",
    "print(pySynope.superellipsoid(10, 1, 1, 1, 2, 2))"
   ]
  },
  {
   "cell_type": "markdown",
   "metadata": {},
   "source": [
    "- *quaternion.py*"
   ]
  },
  {
   "cell_type": "code",
   "execution_count": null,
   "metadata": {
    "collapsed": true
   },
   "outputs": [],
   "source": [
    "from __future__ import print_function\n",
    "import pySynope\n",
    "import math\n",
    "\n",
    "print(pySynope.rotate_using_complex(math.pi/4, [1, 0]))  \n",
    "print(pySynope.rotate_using_quaternion(math.pi/4, [0, 0, 1], [1, 0, 0]))"
   ]
  },
  {
   "cell_type": "markdown",
   "metadata": {},
   "source": [
    "Testez ces scripts, puis modifiez les fichiers *\\_\\_init\\_\\_.py* pour que ces deux exemples fonctionnent."
   ]
  },
  {
   "cell_type": "code",
   "execution_count": 1,
   "metadata": {
    "collapsed": false
   },
   "outputs": [
    {
     "data": {
      "text/html": [
       "<link href='http://fonts.googleapis.com/css?family=Oswald' rel='stylesheet' type='text/css'>\n",
       "<link href='http://fonts.googleapis.com/css?family=Lora:400,400italic' rel='stylesheet' type='text/css'>\n",
       "<link href='http://fonts.googleapis.com/css?family=Open+Sans:300' rel='stylesheet' type='text/css'>\n",
       "<link href='http://fonts.googleapis.com/css?family=Alegreya+Sans:100,300,400,500,700,800,900,100italic,300italic,400italic,500italic,700italic,800italic,900italic' rel='stylesheet' type='text/css'>\n",
       "\n",
       "<style>\n",
       "\n",
       "h1, h2, h3, h4, h5 {\n",
       "    font-family: 'Alegreya Sans', sans-serif;\n",
       "}\n",
       "\n",
       "div.text_cell_render{\n",
       "    font-family: 'Alegreya Sans',Computer Modern, \"Helvetica Neue\", Arial, Helvetica, Geneva, sans-serif;\n",
       "    line-height: 135%;\n",
       "    font-size: 120%;\n",
       "    width:100%;/*600px;*/\n",
       "    /*margin-left:auto;*/\n",
       "    /*margin-right:auto;*/\n",
       "}\n",
       "/*div.text_cell_render{font-family: \"Open Sans\", sans-serif;font-weight: normal; line-height:normal;}*/\n",
       "\n",
       "/* header colours and fonts */\n",
       ".rendered_html h1 {\n",
       "    color:#9A3334;\n",
       "    /*margin-top: 0.5em;*/\n",
       "    padding: 1em;\n",
       "    display: block;\n",
       "    font-size: 40px;\n",
       "    text-align: center;\n",
       "    border-top: 2px solid #9A3334;\n",
       "    border-bottom: 2px solid #9A3334;\n",
       "}\n",
       "\n",
       "/*.rendered_html h1 { color: #9A3334; font-family: Lora, sans-serif; font-weight: normal; text-align: center; }*/\n",
       ".rendered_html h2 {\n",
       "    color: #9A3334;\n",
       "    /*font-family: Lora, sans-serif;*/\n",
       "    font-style: italic;\n",
       "    font-weight: normal;\n",
       "    font-size: 30px;\n",
       "    /*text-align: center;*/\n",
       "    border-bottom: 1px solid #9A3334;\n",
       "}\n",
       ".rendered_html h3 {\n",
       "    color: #9A3334;\n",
       "    /*font-family: Lora, sans-serif;*/\n",
       "    font-weight: normal;\n",
       "    font-size: 25px;\n",
       "    font-style: italic;\n",
       "}\n",
       "\n",
       ".rendered_html h4 {\n",
       "    border: 2px solid #9A3334;\n",
       "    border-radius: 25px;\n",
       "    font-style: italic;\n",
       "    height:5%;\n",
       "    width:15%;\n",
       "    padding:5px;\n",
       "    text-align: center;\n",
       "}\n",
       "\n",
       "div.prompt {\n",
       "    display: None;\n",
       "}\n",
       "\n",
       "/* center the images */\n",
       ".ui-wrapper {\n",
       "    margin-left: auto !important;\n",
       "    margin-right: auto !important;\n",
       "}\n",
       "\n",
       "/* center the images */\n",
       ".video {\n",
       "    margin-left: auto !important;\n",
       "    margin-right: auto !important;\n",
       "}\n",
       "\n",
       ".rendered_html img {\n",
       "    margin-top: 0em;\n",
       "}\n",
       "\n",
       "div.input_area {\n",
       "    border-radius: 10px;\n",
       "}\n",
       "\n",
       "/*.reveal h1 {\n",
       "    text-shadow: 10px 10px 10px rgba(0, 0, 0, 0.5);\n",
       "}*/\n",
       "</style>"
      ],
      "text/plain": [
       "<IPython.core.display.HTML object>"
      ]
     },
     "execution_count": 1,
     "metadata": {},
     "output_type": "execute_result"
    }
   ],
   "source": [
    "# execute this part to modify the css style\n",
    "from IPython.core.display import HTML\n",
    "def css_styling():\n",
    "    styles = open(\"../../../styles/custom.css\", \"r\").read()\n",
    "    return HTML(styles)\n",
    "css_styling()"
   ]
  }
 ],
 "metadata": {
  "kernelspec": {
   "display_name": "Python 3",
   "language": "python",
   "name": "python3"
  },
  "language_info": {
   "codemirror_mode": {
    "name": "ipython",
    "version": 3
   },
   "file_extension": ".py",
   "mimetype": "text/x-python",
   "name": "python",
   "nbconvert_exporter": "python",
   "pygments_lexer": "ipython3",
   "version": "3.3.5"
  }
 },
 "nbformat": 4,
 "nbformat_minor": 0
}
