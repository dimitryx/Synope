{
 "cells": [
  {
   "cell_type": "markdown",
   "metadata": {},
   "source": [
    "*Ce notebook de David Chamont est distribué par Devlog sous licence Creative Commons - Attribution - Pas d’Utilisation Commerciale - Partage dans les Mêmes Conditions. La description complète de la license est disponible à l'adresse web http://creativecommons.org/licenses/by-nc-sa/4.0/.*"
   ]
  },
  {
   "cell_type": "markdown",
   "metadata": {
    "internals": {
     "slide_type": "subslide"
    },
    "slideshow": {
     "slide_type": "slide"
    }
   },
   "source": [
    "# Python Devlog - Objets 4/6 : l'héritage entre classes"
   ]
  },
  {
   "cell_type": "markdown",
   "metadata": {
    "internals": {},
    "slideshow": {
     "slide_type": "-"
    }
   },
   "source": [
    "## Généralités "
   ]
  },
  {
   "cell_type": "markdown",
   "metadata": {
    "internals": {},
    "slideshow": {
     "slide_type": "-"
    }
   },
   "source": [
    "Python permet d'exprimer une relation \"est une sorte de\" entre deux classes. Si `B` est une sorte de `A`, on s'attend à ce que les instances de `B` possède les attributs (données et méthodes) de cette classe, mais aussi tous ceux de `A`, puisque ces objets sont aussi une sorte de `A`. On dit que `B` hérite de `A`, ou dérive de `A`. On peut aussi qualifier `A` de \"classe mère\", de \"classe de base\", de \"super-classe\", et `B` de \"classe dérivée\", de \"classe fille\", de \"sous-classe\" de `A`.\n",
    "\n",
    "Pour hériter d'une classe mère, il suffit d’indiquer son nom entre parenthèses après le nom de la classe fille. La classe fille a accès à tous les attributs de la classe mère. En d'autres termes, quand on écrit `obj.x`, l'interpréteur cherche `x` dans l'instance, puis dans sa classe, puis dans la classe mère de cette classe, etc.\n",
    "\n",
    "La classe prédéfinie `object` sert de classe de base commune à toutes les classes \"nouveau style\" de Python. Assurez-vous toujours que vos classes héritent d'`object`, directement ou indirectement, sans quoi vous perdrez un grand nombre de fonctionnalités du Python moderne."
   ]
  },
  {
   "cell_type": "code",
   "execution_count": 4,
   "metadata": {
    "collapsed": false,
    "internals": {},
    "slideshow": {
     "slide_type": "-"
    }
   },
   "outputs": [
    {
     "name": "stdout",
     "output_type": "stream",
     "text": [
      "A A B\n"
     ]
    }
   ],
   "source": [
    "class A(object):\n",
    "    def x(self): return \"A\"\n",
    "    def y(self): return \"A\"\n",
    "    \n",
    "class B(A):\n",
    "    def z(self): return \"B\"\n",
    "    \n",
    "b = B()\n",
    "\n",
    "print b.x(), b.y(), b.z()"
   ]
  },
  {
   "cell_type": "markdown",
   "metadata": {},
   "source": [
    "<img src=\"img-objets/heritage/heritage-simple.png\" width=167px>"
   ]
  },
  {
   "cell_type": "markdown",
   "metadata": {
    "internals": {},
    "slideshow": {
     "slide_type": "-"
    }
   },
   "source": [
    "## Surcharge"
   ]
  },
  {
   "cell_type": "markdown",
   "metadata": {
    "internals": {},
    "slideshow": {
     "slide_type": "-"
    }
   },
   "source": [
    "Une classe dérivée peut ajouter de nouveaux attributs, qu'il s'agisse de données ou de méthodes. Elle peut aussi redéfinir un des attributs de la classe de base, auquel cas, pour les instances de la classe dérivée, c'est la nouvelle définition qui sera trouvée la première, et utilisée. On parle de \"surcharge\"."
   ]
  },
  {
   "cell_type": "code",
   "execution_count": 5,
   "metadata": {
    "collapsed": false,
    "internals": {},
    "slideshow": {
     "slide_type": "-"
    }
   },
   "outputs": [
    {
     "name": "stdout",
     "output_type": "stream",
     "text": [
      "B A A B\n"
     ]
    }
   ],
   "source": [
    "class A(object):\n",
    "    def x(self): return \"A\"\n",
    "    def y(self): return \"A\"\n",
    "    def z(self): return \"A\"\n",
    "    \n",
    "class B(A):\n",
    "    def x(self): return \"B\"\n",
    "    def t(self): return \"B\"\n",
    "    \n",
    "b = B()\n",
    "\n",
    "print b.x(), b.y(), b.z(), b.t()"
   ]
  },
  {
   "cell_type": "markdown",
   "metadata": {},
   "source": [
    "<img src=\"img-objets/heritage/heritage-surcharge.png\" width=192px>"
   ]
  },
  {
   "cell_type": "markdown",
   "metadata": {
    "internals": {},
    "slideshow": {
     "slide_type": "-"
    }
   },
   "source": [
    "## Héritage multiple"
   ]
  },
  {
   "cell_type": "markdown",
   "metadata": {
    "internals": {},
    "slideshow": {
     "slide_type": "-"
    }
   },
   "source": [
    "Une classe peut hériter de plusieurs autres en même temps (on donne alors une liste de noms séparés par des virgules). L'ordre de gauche à droite des classes parentes est respecté lorsque l'interpréteur Python recherche un nom (donnée ou méthode)."
   ]
  },
  {
   "cell_type": "code",
   "execution_count": 19,
   "metadata": {
    "collapsed": false,
    "internals": {},
    "slideshow": {
     "slide_type": "-"
    }
   },
   "outputs": [
    {
     "name": "stdout",
     "output_type": "stream",
     "text": [
      "A1\n"
     ]
    }
   ],
   "source": [
    "class A1(object):\n",
    "    def x(self): return \"A1\"\n",
    "    \n",
    "class A2(object):\n",
    "    def x(self): return \"A2\"\n",
    "    \n",
    "class B(A1,A2):\n",
    "    pass\n",
    "\n",
    "b = B()\n",
    "print b.x()"
   ]
  },
  {
   "cell_type": "markdown",
   "metadata": {},
   "source": [
    "<img src=\"img-objets/heritage/heritage-multiple.png\" width=201px>"
   ]
  },
  {
   "cell_type": "markdown",
   "metadata": {
    "internals": {},
    "slideshow": {
     "slide_type": "-"
    }
   },
   "source": [
    "## Arborescence d'héritage"
   ]
  },
  {
   "cell_type": "markdown",
   "metadata": {
    "internals": {},
    "slideshow": {
     "slide_type": "-"
    }
   },
   "source": [
    "En plus de l'héritage multiple, chaque classe de base peut à son tour hériter d'une autre classe, etc. L'ensemble des classes dont hérite une instance forme ainsi une arborescence parfois complexe. Dans cette arborescence, la recherche d'un attribut se fait de bas en haut et de gauche à droite, en profondeur d'abord, mais en faisant en sorte qu'une classe de base ne soit jamais explorée avant que toutes ses dérivées le soient. Ainsi, dans l'exemple ci-dessous, `A` est prioritaire sur `C`, mais pas sur `B2` :"
   ]
  },
  {
   "cell_type": "code",
   "execution_count": 3,
   "metadata": {
    "collapsed": false,
    "internals": {},
    "slideshow": {
     "slide_type": "-"
    }
   },
   "outputs": [
    {
     "name": "stdout",
     "output_type": "stream",
     "text": [
      "B2 A C\n"
     ]
    }
   ],
   "source": [
    "class A(object):\n",
    "    def x(self): return \"A\"\n",
    "    def y(self): return \"A\"\n",
    "    def z(self): return \"A\"\n",
    "    \n",
    "class B1(A):\n",
    "    pass\n",
    "    \n",
    "class B2(A):\n",
    "    def x(self): return \"B2\"\n",
    "    \n",
    "class C(object):\n",
    "    def y(self): return \"C\"\n",
    "    def z(self): return \"C\"\n",
    "    \n",
    "class D(B1,B2,C):\n",
    "    z = C.z\n",
    "\n",
    "d = D()\n",
    "print d.x(), d.y(), d.z()"
   ]
  },
  {
   "cell_type": "markdown",
   "metadata": {},
   "source": [
    "<img src=\"img-objets/heritage/heritage-arborescence.png\" width=305px>"
   ]
  },
  {
   "cell_type": "markdown",
   "metadata": {
    "internals": {},
    "slideshow": {
     "slide_type": "-"
    }
   },
   "source": [
    "L'ordre de parcours des classes est appelé le **MRO** (Method Resolution Order).\n",
    "\n",
    "On voit aussi, dans l'exemple ci-dessus, que l'on peut explicitement copier la méthode `z` de `C` dans `D`. Ainsi, tout appel à la méthode `z` pour une instance de `D` se trouve redirigé vers la méthode de `C` (au lieu de `A`)."
   ]
  },
  {
   "cell_type": "markdown",
   "metadata": {
    "internals": {},
    "slideshow": {
     "slide_type": "-"
    }
   },
   "source": [
    "## Chaque recherche d'attribut est indépendante et repart de `self`"
   ]
  },
  {
   "cell_type": "markdown",
   "metadata": {
    "internals": {},
    "slideshow": {
     "slide_type": "-"
    }
   },
   "source": [
    "Lorsque j'appelle une méthode m1 de l'objet obj, cette méthode est recherchée dans l'arborescence de classes de obj. Si, à son tour, m1 appelle une autre méthode m2, la recherche de m2 repart de obj (et pas de la classe de m1). En C++, on dirait que toutes les méthodes sont virtuelles et toutes les variables polymorphiques."
   ]
  },
  {
   "cell_type": "code",
   "execution_count": 2,
   "metadata": {
    "collapsed": false,
    "internals": {},
    "slideshow": {
     "slide_type": "-"
    }
   },
   "outputs": [
    {
     "name": "stdout",
     "output_type": "stream",
     "text": [
      "B2\n",
      "A\n"
     ]
    }
   ],
   "source": [
    "class A(object):\n",
    "    def x(self): return \"A\"\n",
    "    def y(self): return \"A\"\n",
    "    def affichex(self): print self.x()\n",
    "    \n",
    "class B1(A):\n",
    "    pass\n",
    "    \n",
    "class B2(A):\n",
    "    def x(self): return \"B2\"\n",
    "    \n",
    "class C(object):\n",
    "    def x(self): return \"C\"\n",
    "    def affichey(self): print self.y()\n",
    "    \n",
    "class D(B1,B2,C):\n",
    "    pass\n",
    "\n",
    "d = D()\n",
    "d.affichex()\n",
    "d.affichey()"
   ]
  },
  {
   "cell_type": "markdown",
   "metadata": {},
   "source": [
    "<img src=\"img-objets/heritage/heritage-self.png\" width=305px>"
   ]
  },
  {
   "cell_type": "markdown",
   "metadata": {},
   "source": [
    "Si on transforme les méthodes `x()` et `y()` en attributs pseudo-privés, ces attributs ne sont visibles qu'aux méthodes de leurs classes respectives, et ces méthodes utiliseront exclusivement ces attributs."
   ]
  },
  {
   "cell_type": "code",
   "execution_count": 6,
   "metadata": {
    "collapsed": false
   },
   "outputs": [
    {
     "name": "stdout",
     "output_type": "stream",
     "text": [
      "A\n",
      "C\n"
     ]
    }
   ],
   "source": [
    "class A:\n",
    "    def __x(self): return \"A\"\n",
    "    def __y(self): return \"A\"\n",
    "    def affichex(self): print self.__x()\n",
    "    \n",
    "class B1(A):\n",
    "    pass\n",
    "    \n",
    "class B2(A):\n",
    "    def __x(self): return \"B2\"\n",
    "    \n",
    "class C:\n",
    "    def __y(self): return \"C\"\n",
    "    def affichey(self): print self.__y()\n",
    "    \n",
    "class D(B1,B2,C):\n",
    "    pass\n",
    "\n",
    "d = D()\n",
    "d.affichex()\n",
    "d.affichey()"
   ]
  },
  {
   "cell_type": "markdown",
   "metadata": {},
   "source": [
    "<img src=\"img-objets/heritage/heritage-pseudo-prive.png\" width=316px>"
   ]
  },
  {
   "cell_type": "markdown",
   "metadata": {
    "internals": {},
    "slideshow": {
     "slide_type": "-"
    }
   },
   "source": [
    "## Reutiliser explicitement une méthode de base"
   ]
  },
  {
   "cell_type": "markdown",
   "metadata": {
    "internals": {},
    "slideshow": {
     "slide_type": "-"
    }
   },
   "source": [
    "Lorsqu'une méthode est redéfinie dans une classe dérivée, on dit qu'elle est surchargée. Plutôt que de réécrire toutes les instructions, il peut être utile de commencer par exécuter le code de la méthode de la classe de base. C'est particulièrement vrai pour les méthodes spéciales, telles que les constructeurs. Il est assez facile d'appeler explicitement une méthode de base en passant par le nom de la classe :"
   ]
  },
  {
   "cell_type": "code",
   "execution_count": 3,
   "metadata": {
    "collapsed": false,
    "internals": {},
    "slideshow": {
     "slide_type": "-"
    }
   },
   "outputs": [
    {
     "name": "stdout",
     "output_type": "stream",
     "text": [
      "pomme golden rouge\n"
     ]
    }
   ],
   "source": [
    "class Fruit(object):\n",
    "    def __init__(self, couleur, variete=''):\n",
    "        self.__couleur= couleur\n",
    "        self.__variete= variete\n",
    "    def __str__(self):\n",
    "        if (self.__variete!=''):\n",
    "            return \"%s %s\" % (self.__variete,self.__couleur)\n",
    "        else:\n",
    "            return \"fruit %s\" % self.__couleur\n",
    "\n",
    "class Pomme(Fruit):\n",
    "    def __init__(self, couleur, variete='golden'):\n",
    "        Fruit.__init__(self,couleur,variete)\n",
    "    def __str__(self):\n",
    "        return (\"pomme \" + Fruit.__str__(self))\n",
    "\n",
    "p = Pomme('rouge')\n",
    "\n",
    "print p"
   ]
  },
  {
   "cell_type": "markdown",
   "metadata": {},
   "source": [
    "<img src=\"img-objets/heritage/heritage-pomme.png\" width=183px>"
   ]
  },
  {
   "cell_type": "markdown",
   "metadata": {
    "internals": {},
    "slideshow": {
     "slide_type": "-"
    }
   },
   "source": [
    "On peut remplacer l'appel explicite à la classe de base par un appel à la fonction prédéfinie `super()`, en lui passant le nom de la classe courante et l'instance courante. Dans le cas d'un héritage simple, cela permet ensuite de revoir les classe de base sans avoir à corriger tous les appels directs aux méthodes de la classe de base."
   ]
  },
  {
   "cell_type": "code",
   "execution_count": 5,
   "metadata": {
    "collapsed": false,
    "internals": {},
    "slideshow": {
     "slide_type": "-"
    }
   },
   "outputs": [
    {
     "name": "stdout",
     "output_type": "stream",
     "text": [
      "pomme golden rouge\n"
     ]
    }
   ],
   "source": [
    "class Pomme(Fruit):\n",
    "    def __init__(self, couleur, variete='golden'):\n",
    "        super(Pomme,self).__init__(couleur,variete)\n",
    "    def __str__(self):\n",
    "        return (\"pomme \" + super(Pomme,self).__str__())\n",
    "\n",
    "p = Pomme('rouge')\n",
    "\n",
    "print p"
   ]
  },
  {
   "cell_type": "markdown",
   "metadata": {
    "internals": {},
    "slideshow": {
     "slide_type": "-"
    }
   },
   "source": [
    "En cas d'héritage multiple, `super()` retourne le parent le plus proche en suivant le chemin habituellement parcouru pour rechercher un attribut (MRO). Ainsi, si les méthodes de même nom s'appellent en chaîne à travers super(), on parcourt l'ensemble de l'arborescence."
   ]
  },
  {
   "cell_type": "code",
   "execution_count": 2,
   "metadata": {
    "collapsed": false,
    "internals": {},
    "slideshow": {
     "slide_type": "-"
    }
   },
   "outputs": [
    {
     "name": "stdout",
     "output_type": "stream",
     "text": [
      "<C>\n",
      "<B1>\n",
      "<B2>\n",
      "<A>\n",
      "</A>\n",
      "</B2>\n",
      "</B1>\n",
      "</C>\n"
     ]
    }
   ],
   "source": [
    "class A(object):\n",
    "    def x(self):\n",
    "        print\"<A>\"\n",
    "        print \"</A>\"\n",
    "    \n",
    "class B1(A):\n",
    "    def x(self):\n",
    "        print\"<B1>\"\n",
    "        super(B1,self).x()\n",
    "        print \"</B1>\"\n",
    "    \n",
    "class B2(A):\n",
    "    def x(self):\n",
    "        print\"<B2>\"\n",
    "        super(B2,self).x()\n",
    "        print \"</B2>\"\n",
    "    \n",
    "class C(B1,B2):\n",
    "    def x(self):\n",
    "        print\"<C>\"\n",
    "        super(C,self).x()\n",
    "        print \"</C>\"\n",
    "\n",
    "c = C()\n",
    "c.x()"
   ]
  },
  {
   "cell_type": "markdown",
   "metadata": {},
   "source": [
    "<img src=\"img-objets/heritage/heritage-super.png\" width=183px>"
   ]
  },
  {
   "cell_type": "markdown",
   "metadata": {
    "internals": {},
    "slideshow": {
     "slide_type": "-"
    }
   },
   "source": [
    "*PYTHON 3 SEULEMENT : on peut appeler super() sans arguments, ce qui permet notamment de renommer une classe sans avoir à corriger tous les appels à super().*"
   ]
  },
  {
   "cell_type": "markdown",
   "metadata": {},
   "source": [
    "*Ce notebook de David Chamont est distribué par Devlog sous licence Creative Commons - Attribution - Pas d’Utilisation Commerciale - Partage dans les Mêmes Conditions. La description complète de la license est disponible à l'adresse web http://creativecommons.org/licenses/by-nc-sa/4.0/.\n",
    "Travail initié en 2014 dans le cadre d'une série de formations Python organisées par le réseau Devlog, avec relectures de Nicolas Can, Sekou Diakite, Loic Gouarin et Christophe Halgand.*"
   ]
  }
 ],
 "metadata": {
  "kernelspec": {
   "display_name": "Python 2",
   "language": "python",
   "name": "python2"
  },
  "language_info": {
   "codemirror_mode": {
    "name": "ipython",
    "version": 2
   },
   "file_extension": ".py",
   "mimetype": "text/x-python",
   "name": "python",
   "nbconvert_exporter": "python",
   "pygments_lexer": "ipython2",
   "version": "2.7.10"
  }
 },
 "nbformat": 4,
 "nbformat_minor": 0
}
