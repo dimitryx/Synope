{
 "cells": [
  {
   "cell_type": "markdown",
   "metadata": {},
   "source": [
    "*Ce notebook est distribué par Devlog sous licence Creative Commons - Attribution - Pas d’Utilisation Commerciale - Partage dans les Mêmes Conditions. La description complète de la license est disponible à l'adresse web http://creativecommons.org/licenses/by-nc-sa/4.0/.*"
   ]
  },
  {
   "cell_type": "markdown",
   "metadata": {},
   "source": [
    "# Types prédéfinis, modifications internes et ramasse-miette"
   ]
  },
  {
   "cell_type": "markdown",
   "metadata": {
    "internals": {
     "slide_helper": "subslide_end",
     "slide_type": "subslide"
    },
    "slide_helper": "slide_end",
    "slideshow": {
     "slide_type": "slide"
    }
   },
   "source": [
    "## Classement des types prédéfinis\n",
    "\n",
    "- Nombres (immuables) : **int**, **float**, **complex**.\n",
    "- Collections\n",
    "    - Séquences modifiables\n",
    "        - **list** : `['a', 'b', 'c']`\n",
    "    - Séquences immuables\n",
    "        - **tuple** : `'a', 'b', 'c'`\n",
    "        - **str** : `'hello'` ou `\"hello\"`\n",
    "    - Associations modifiables\n",
    "        - **dict** : `{ 'a' : 'val', 3 : 'x', 'key' : 124 }`\n",
    "        - **set** : `{'a', 3, 'key'}`\n",
    "    - Associations immuables\n",
    "        - **frozenset** : `{'a', 3, 'key'}`\n",
    "- Divers\n",
    "    - **bool** : `True` ou `False`\n",
    "    - **NoneType** : None\n",
    "    - **type** "
   ]
  },
  {
   "cell_type": "markdown",
   "metadata": {
    "internals": {
     "slide_helper": "subslide_end",
     "slide_type": "subslide"
    },
    "slide_helper": "slide_end",
    "slideshow": {
     "slide_type": "slide"
    }
   },
   "source": [
    "## Booléens et entiers\n",
    "\n",
    "- **Booléen**\n",
    "    ~~~python\n",
    "    # le type booléen prend les valeurs True ou False\n",
    "    logique = True\n",
    "    logique = False\n",
    "    type(logique)\n",
    "    ~~~\n",
    "\n",
    "- **Entier**\n",
    "    ~~~python\n",
    "    # int : entier de précision illimitée !\n",
    "    a = 2 ; i = -12\n",
    "    v = 2**80         # => 1208925819614629174706176\n",
    "      # définition d'entiers en binaire, octal ou hexadéc.:\n",
    "    k = 0b111         # => 7\n",
    "    m = 0o77          # => 63\n",
    "    n = 0xff          # => 255\n",
    "      # conv. chaînes bin/octal/hexa en entier & vice-versa:\n",
    "    int('111',2)  # => 7,   et inverse: bin(7)   => '0b111'\n",
    "    int('77',8)   # => 63,  et inverse: oct(63)  => '0o77'\n",
    "    int('ff',16)  # => 255, et inverse: hex(255) => '0xff'\n",
    "    ~~~\n",
    "    \n",
    "- *Remarque* : La fonction **type()** vous permet de connaitre le type de la variable"
   ]
  },
  {
   "cell_type": "markdown",
   "metadata": {
    "internals": {
     "slide_helper": "subslide_end",
     "slide_type": "subslide"
    },
    "slide_helper": "slide_end",
    "slideshow": {
     "slide_type": "slide"
    }
   },
   "source": [
    "## Réels et complexes flottants\n",
    "\n",
    "- **Réel**\n",
    "    ~~~python\n",
    "    # float : flottant 64 bits\n",
    "    b = -3.3 ; r = 3e10\n",
    "    abs(b)            # => 3.3\n",
    "      # arrondi et conversion\n",
    "    int(3.67)         # => 3 (int)\n",
    "    int(-3.67)        # => -4 (int)\n",
    "    round(3.67)       # => 4 (int), comme round(3.67, 0)\n",
    "    round(3.67,1)     # => 3.7 (float)\n",
    "    round(133,-1)     # => 130 (int)\n",
    "    round(133,-2)     # => 100 (int)\n",
    "    ~~~\n",
    "- **Complexe flottant**\n",
    "    ~~~python\n",
    "    # complex : complexe flottant\n",
    "    cplx = 3.4 + 2.1j # ou:  cplx = complex(3.4, 2.1)\n",
    "    cplx.real         # => 3.4\n",
    "    cplx.imag         # => 2.1\n",
    "    ~~~\n",
    "\n",
    "- *Remarque* : Python est un langage objet. Vous verrez qu'il existe des méthodes associés à un type comme ici pour les nombres complexes"
   ]
  },
  {
   "cell_type": "markdown",
   "metadata": {
    "internals": {
     "slide_type": "subslide"
    },
    "slideshow": {
     "slide_type": "slide"
    }
   },
   "source": [
    "## Opérateurs de base\n",
    "\n",
    "Les opérateurs mathématiques de bases sont :\n",
    "\n",
    "- les classiques : ** + - / \\* **\n",
    "- la division entière tronquée : //\n",
    "- la puissance : \\**\n",
    "- le modulo : %"
   ]
  },
  {
   "cell_type": "code",
   "execution_count": null,
   "metadata": {
    "collapsed": false,
    "internals": {},
    "slideshow": {
     "slide_type": "-"
    }
   },
   "outputs": [],
   "source": [
    "print(3+2); print(3-2); print (3*2);"
   ]
  },
  {
   "cell_type": "code",
   "execution_count": null,
   "metadata": {
    "collapsed": false,
    "internals": {},
    "slideshow": {
     "slide_type": "-"
    }
   },
   "outputs": [],
   "source": [
    "print(3/2); print(3/2.); print(3//2) # Attention en python2"
   ]
  },
  {
   "cell_type": "code",
   "execution_count": null,
   "metadata": {
    "collapsed": false,
    "internals": {},
    "slideshow": {
     "slide_type": "-"
    }
   },
   "outputs": [],
   "source": [
    "print(10**2); print(3%2)"
   ]
  },
  {
   "cell_type": "markdown",
   "metadata": {
    "internals": {},
    "slideshow": {
     "slide_type": "-"
    }
   },
   "source": [
    "On pourra noter que la fonction divmod(a,b) renvoie le tuple (a//b,a%b)"
   ]
  },
  {
   "cell_type": "code",
   "execution_count": null,
   "metadata": {
    "collapsed": false,
    "internals": {
     "slide_helper": "subslide_end"
    },
    "slide_helper": "slide_end",
    "slideshow": {
     "slide_type": "-"
    }
   },
   "outputs": [],
   "source": [
    "divmod(3,2)"
   ]
  },
  {
   "cell_type": "markdown",
   "metadata": {
    "internals": {
     "slide_type": "subslide"
    },
    "slideshow": {
     "slide_type": "slide"
    }
   },
   "source": [
    "## Opérateurs de base\n",
    "\n",
    "Les opérateurs \"**+**\" et \"** \\* **\" s'appliquent aussi aux séquences (chaînes, listes, tuples)"
   ]
  },
  {
   "cell_type": "code",
   "execution_count": null,
   "metadata": {
    "collapsed": false,
    "internals": {},
    "slideshow": {
     "slide_type": "-"
    }
   },
   "outputs": [],
   "source": [
    "2*'a tchick ' + 3*'aie '"
   ]
  },
  {
   "cell_type": "markdown",
   "metadata": {
    "internals": {
     "slide_helper": "subslide_end"
    },
    "slide_helper": "slide_end",
    "slideshow": {
     "slide_type": "-"
    }
   },
   "source": [
    "Les opérateurs pré- et post-incrémentations **++** et **--** n'existe pas en python. On utilisera à la place le **+=1** et le **-=1**\n",
    "\n",
    "~~~python\n",
    "# Que vous renvoie :\n",
    "x=10\n",
    "x+=1\n",
    "x-=1\n",
    "x*=5\n",
    "x/=10\n",
    "x%=2\n",
    "\n",
    "fruit = 'pomme'\n",
    "fruit+='s'\n",
    "\n",
    "monTuple=(1,2,3)\n",
    "monTuple+=(4,)\n",
    "monTuple*=2\n",
    "~~~"
   ]
  },
  {
   "cell_type": "markdown",
   "metadata": {
    "internals": {
     "slide_helper": "subslide_end",
     "slide_type": "subslide"
    },
    "slide_helper": "slide_end",
    "slideshow": {
     "slide_type": "slide"
    }
   },
   "source": [
    "## Opérateurs de base\n",
    "\n",
    "~~~python\n",
    "x = 10                # renvoie 10\n",
    "x += 1                # renvoie 11\n",
    "x -= 1                # renvoie 10\n",
    "x *= 5                # renvoie 50\n",
    "x /= 10               # renvoie 5\n",
    "x %= 2                # renvoie 1\n",
    "\n",
    "fruit = 'pomme'       # renvoie \"pomme\"\n",
    "fruit += 's'          # renvoie \"pommes\"\n",
    "\n",
    "monTuple = (1,2,3)    # renvoie (1,2,3)\n",
    "monTuple += (4,)      # renvoie (1,2,3,4)\n",
    "monTuple *= 2         # renvoie (1,2,3,4,1,2,3,4)\n",
    "~~~"
   ]
  },
  {
   "cell_type": "markdown",
   "metadata": {
    "internals": {
     "slide_helper": "subslide_end",
     "slide_type": "subslide"
    },
    "slide_helper": "slide_end",
    "slideshow": {
     "slide_type": "slide"
    }
   },
   "source": [
    "## Opérateurs de comparaison, d'objets et de logiques\n",
    "\n",
    "- Opérateurs de comparaison\n",
    "\n",
    "| opérateur |\n",
    "|-----------|\n",
    "| **==** | égal              |\n",
    "| **!=** | différent         |\n",
    "| **<**  | inférieur         |\n",
    "| **<=** | inférieur ou égal |\n",
    "| **>**  | supérieur         |\n",
    "| **>=** | supérieur ou égal |\n",
    "\n",
    "- Opérateurs d'objets\n",
    "\n",
    "| opérateur |\n",
    "|-----------|\n",
    "| is | même objet          |\n",
    "| in | membre de la collection |\n",
    "\n",
    "- Opérateurs de logiques\n",
    "\n",
    "| opérateur |\n",
    "|-----------|\n",
    "| not | négation logique |\n",
    "| and | ET logique |\n",
    "| or  | OU logique |\n"
   ]
  },
  {
   "cell_type": "markdown",
   "metadata": {
    "internals": {
     "slide_type": "subslide"
    },
    "slideshow": {
     "slide_type": "slide"
    }
   },
   "source": [
    "## Opérateurs de comparaison, d'objets et de logiques\n",
    "\n",
    "Ces opérateurs renvoient les valeurs logiques **True** ou **False** qui sont de type booléen."
   ]
  },
  {
   "cell_type": "code",
   "execution_count": null,
   "metadata": {
    "collapsed": false,
    "internals": {},
    "slideshow": {
     "slide_type": "-"
    }
   },
   "outputs": [],
   "source": [
    "a=1;b=2;a<b"
   ]
  },
  {
   "cell_type": "code",
   "execution_count": null,
   "metadata": {
    "collapsed": false,
    "internals": {},
    "slideshow": {
     "slide_type": "-"
    }
   },
   "outputs": [],
   "source": [
    "[\"a\",1,\"b\"] == [1,2,3]"
   ]
  },
  {
   "cell_type": "code",
   "execution_count": null,
   "metadata": {
    "collapsed": false,
    "internals": {},
    "slideshow": {
     "slide_type": "-"
    }
   },
   "outputs": [],
   "source": [
    "a=[1,2] ; b=[1,2]; a is b"
   ]
  },
  {
   "cell_type": "code",
   "execution_count": null,
   "metadata": {
    "collapsed": false,
    "internals": {},
    "slideshow": {
     "slide_type": "-"
    }
   },
   "outputs": [],
   "source": [
    "a=[1,2] ; b=a;     a is b"
   ]
  },
  {
   "cell_type": "code",
   "execution_count": null,
   "metadata": {
    "collapsed": false,
    "internals": {},
    "slideshow": {
     "slide_type": "-"
    }
   },
   "outputs": [],
   "source": [
    "2 in [1,2,3]"
   ]
  },
  {
   "cell_type": "markdown",
   "metadata": {
    "internals": {
     "slide_helper": "subslide_end"
    },
    "slide_helper": "slide_end",
    "slideshow": {
     "slide_type": "-"
    }
   },
   "source": [
    "En python, on peut chaîner les comparaisons :\n",
    "\n",
    "~~~python\n",
    "a=12\n",
    "10<a<20\n",
    "a>10 and a<20\n",
    "~~~"
   ]
  },
  {
   "cell_type": "markdown",
   "metadata": {
    "internals": {
     "slide_type": "subslide"
    },
    "slideshow": {
     "slide_type": "slide"
    }
   },
   "source": [
    "## Chaînes de caractères\n",
    "\n",
    "Les chaînes de caractères sont des séquences immuables.\n",
    "Une valeur de ce type s'écrit entre apostrophes ou entre guillemets.\n",
    "Le type python correspondant est `str`.\n"
   ]
  },
  {
   "cell_type": "code",
   "execution_count": 52,
   "metadata": {
    "collapsed": false,
    "internals": {},
    "slideshow": {
     "slide_type": "-"
    }
   },
   "outputs": [],
   "source": [
    "ma_chaine1=\"tout est bon dans le python\"; ma_chaine2='tout est bon dans le python';"
   ]
  },
  {
   "cell_type": "code",
   "execution_count": 53,
   "metadata": {
    "collapsed": false,
    "internals": {},
    "slideshow": {
     "slide_type": "-"
    }
   },
   "outputs": [],
   "source": [
    "ma_chaine3='C\\'est comme ça'; ma_chaine4=\"C'est comme ça\" #pour la gestion des apostrophes dans les chaines"
   ]
  },
  {
   "cell_type": "markdown",
   "metadata": {
    "internals": {},
    "slideshow": {
     "slide_type": "-"
    }
   },
   "source": [
    "Les chaînes de caractères en Python sont **immuables**. Les chaînes ne sont pas modifiables dans le sens où toutes modifications entrainent la création de nouvelles chaînes. Le garbage collector effacera alors automatique la ou les chaînes non référencées.\n",
    "<img src=\"img/AccesAuxCaracteres.png\" />\n",
    "\n",
    "Une chaîne de caractères est une séquence ordonnée de caractères ce qui permet de s'y référer par l'utilisation d'indice."
   ]
  },
  {
   "cell_type": "code",
   "execution_count": null,
   "metadata": {
    "collapsed": false,
    "internals": {
     "slide_helper": "subslide_end"
    },
    "slide_helper": "slide_end",
    "slideshow": {
     "slide_type": "-"
    }
   },
   "outputs": [],
   "source": [
    "print(\"bonjour\"[0:3]) ;print(\"bonjour\"[-4:]) "
   ]
  },
  {
   "cell_type": "markdown",
   "metadata": {
    "internals": {
     "slide_type": "subslide"
    },
    "slideshow": {
     "slide_type": "slide"
    }
   },
   "source": [
    "Les opérateurs `+` et `*` fonctionnent avec les chaînes de caractères :\n",
    "\n",
    "    ~~~python\n",
    "    chain1=\"Tout est bon \"; chain2=\"Python\"\n",
    "    chain = chain1 + \"dans le \" + chain2\n",
    "    2.0 + \"re\"\n",
    "    3 * \"po\"\n",
    "    ~~~\n",
    "    \n",
    "Il existe différentes fonctions et méthodes associées aux chaînes, comme par exemple :\n",
    "\n",
    "- **len(chain)** : renvoie la taille d'une chaîne,\n",
    "- **chain.find(...)** : recherche une sous-chnaîne dans la chaîne,\n",
    "- **chain.rstrip(...)** : enlève les espaces de fin,\n",
    "- **chain.replace(...)** : remplace une chaîne par une autre,\n",
    "- **chain.split(...)** : découpe une chaîne,\n",
    "- **chain.isdigit(...)** : renvoie True si la chaîne contient que des nombres, False sinon...\n",
    "- **...**\n",
    "\n",
    "Pour en savoir plus, je vous invite à taper : **help(str)**"
   ]
  },
  {
   "cell_type": "code",
   "execution_count": null,
   "metadata": {
    "collapsed": false,
    "internals": {},
    "slideshow": {
     "slide_type": "-"
    }
   },
   "outputs": [],
   "source": [
    "chain1=\"Tout est bon \"; chain2=\"Python\"; chain=chain1 + \"dans le \" + chain2; len(chain)"
   ]
  },
  {
   "cell_type": "code",
   "execution_count": null,
   "metadata": {
    "collapsed": false,
    "internals": {},
    "slideshow": {
     "slide_type": "-"
    }
   },
   "outputs": [],
   "source": [
    "chain.split(\" \")"
   ]
  },
  {
   "cell_type": "markdown",
   "metadata": {
    "internals": {},
    "slideshow": {
     "slide_type": "-"
    }
   },
   "source": [
    "## Listes\n",
    "\n",
    "Les listes sont des séquences modifiables.  \n",
    "Le type python correspondant est `list`.\n",
    "\n",
    "<img src=\"img/Listes.png\" />\n",
    "\n",
    "Une liste dans python permet de stocker une collection ordonnée sous forme de séquence. La modification des éléments est dynamique et les éléments peuvent être hétérogènes (de n'importe quel type). On peut imbriquer des séquences dans les séquences."
   ]
  },
  {
   "cell_type": "code",
   "execution_count": null,
   "metadata": {
    "collapsed": false,
    "internals": {},
    "slideshow": {
     "slide_type": "-"
    }
   },
   "outputs": [],
   "source": [
    "maListe=[1,2.3,\"ab\",3.4 + 2.1j,[0,1,2]]; maListe"
   ]
  },
  {
   "cell_type": "code",
   "execution_count": null,
   "metadata": {
    "collapsed": false,
    "internals": {},
    "slideshow": {
     "slide_type": "-"
    }
   },
   "outputs": [],
   "source": [
    "maListe[4][1]"
   ]
  },
  {
   "cell_type": "code",
   "execution_count": null,
   "metadata": {
    "collapsed": false,
    "internals": {
     "slide_helper": "subslide_end"
    },
    "slide_helper": "slide_end",
    "slideshow": {
     "slide_type": "-"
    }
   },
   "outputs": [],
   "source": [
    "print(type(maListe));print(type(maListe[3]))"
   ]
  },
  {
   "cell_type": "markdown",
   "metadata": {},
   "source": [
    "### Adressage et modification\n",
    "\n",
    "Que se passe-t-il ci-dessous ?"
   ]
  },
  {
   "cell_type": "code",
   "execution_count": 40,
   "metadata": {
    "collapsed": false
   },
   "outputs": [
    {
     "data": {
      "text/plain": [
       "[1, 'ab', [0, 1, 2]]"
      ]
     },
     "execution_count": 40,
     "metadata": {},
     "output_type": "execute_result"
    }
   ],
   "source": [
    "maListe[::2]"
   ]
  },
  {
   "cell_type": "code",
   "execution_count": 41,
   "metadata": {
    "collapsed": false
   },
   "outputs": [
    {
     "data": {
      "text/plain": [
       "[(3.4+2.1j), [0, 1, 2]]"
      ]
     },
     "execution_count": 41,
     "metadata": {},
     "output_type": "execute_result"
    }
   ],
   "source": [
    "maListe[3:] "
   ]
  },
  {
   "cell_type": "code",
   "execution_count": 42,
   "metadata": {
    "collapsed": false
   },
   "outputs": [
    {
     "data": {
      "text/plain": [
       "(2.3, 'ab', (3.4+2.1j))"
      ]
     },
     "execution_count": 42,
     "metadata": {},
     "output_type": "execute_result"
    }
   ],
   "source": [
    "elem1,elem2,elem3,elem4,elem5=maListe\n",
    "elem2,elem3,elem4"
   ]
  },
  {
   "cell_type": "code",
   "execution_count": 43,
   "metadata": {
    "collapsed": false
   },
   "outputs": [
    {
     "data": {
      "text/plain": [
       "[2.3, 'ab', (3.4+2.1j)]"
      ]
     },
     "execution_count": 43,
     "metadata": {},
     "output_type": "execute_result"
    }
   ],
   "source": [
    "elem1,*elem,elem5=maListe\n",
    "elem"
   ]
  },
  {
   "cell_type": "markdown",
   "metadata": {},
   "source": [
    "### Copie de listes\n",
    "\n",
    "Si l'on souhaite dupliquer les données d'une liste, il faut comprendre qu'en Python, une simple assignation **maListeBis=maListe** n'effectue pas une copie des données. **maListeBis** et **maListe** référence la même liste !"
   ]
  },
  {
   "cell_type": "code",
   "execution_count": null,
   "metadata": {
    "collapsed": false
   },
   "outputs": [],
   "source": [
    "l1 = [2,3,4]\n",
    "l2 = l1\n",
    "l1[0] = 5\n",
    "print(l1)\n",
    "print(l2)"
   ]
  },
  {
   "cell_type": "markdown",
   "metadata": {},
   "source": [
    "Pour recopier une liste, on peut utiliser **maListeBis**=**maListe[:]** ou **maListeBis**=copy.copy(**maListe**)** (en important le module **copy**) :"
   ]
  },
  {
   "cell_type": "code",
   "execution_count": null,
   "metadata": {
    "collapsed": false
   },
   "outputs": [],
   "source": [
    "l1 = [2,3,4]\n",
    "l2 = l1[:]\n",
    "l2[1] = 6\n",
    "print(l1)\n",
    "print(l2)"
   ]
  },
  {
   "cell_type": "code",
   "execution_count": null,
   "metadata": {
    "collapsed": false
   },
   "outputs": [],
   "source": [
    "import copy\n",
    "l1 = [2,3,4]\n",
    "l2 = copy.copy(l1)\n",
    "l2[1] = 6\n",
    "print(l1)\n",
    "print(l2)"
   ]
  },
  {
   "cell_type": "markdown",
   "metadata": {},
   "source": [
    "Mais cela duplique seulement les éléments de premier niveau. Les listes et/ou dictionnaires imbriqués continueront en revanche d'être référencés et non dupliqués."
   ]
  },
  {
   "cell_type": "code",
   "execution_count": null,
   "metadata": {
    "collapsed": false
   },
   "outputs": [],
   "source": [
    "import copy\n",
    "l1 = [1, [2,3,4], 5]\n",
    "l2 = copy.copy(l1)\n",
    "l2[1][1] = 6\n",
    "print(l1)\n",
    "print(l2)"
   ]
  },
  {
   "cell_type": "markdown",
   "metadata": {
    "internals": {
     "slide_helper": "subslide_end",
     "slide_type": "subslide"
    },
    "slide_helper": "slide_end",
    "slideshow": {
     "slide_type": "slide"
    }
   },
   "source": [
    "Seule **maListeBis**=copy.deepcopy(**maListe**) permet une copie complète récursive :"
   ]
  },
  {
   "cell_type": "code",
   "execution_count": null,
   "metadata": {
    "collapsed": false
   },
   "outputs": [],
   "source": [
    "import copy\n",
    "l1 = [1, [2,3,4], 5]\n",
    "l2 = copy.deepcopy(l1)\n",
    "l2[1][1] = 6\n",
    "print(l1)\n",
    "print(l2)"
   ]
  },
  {
   "cell_type": "markdown",
   "metadata": {
    "internals": {
     "slide_helper": "subslide_end",
     "slide_type": "subslide"
    },
    "slide_helper": "slide_end",
    "slideshow": {
     "slide_type": "slide"
    }
   },
   "source": [
    "### Fonctions et méthodes\n",
    "\n",
    "Plusieurs méthodes peuvent être appliquées aux listes :\n",
    "\n",
    "~~~python\n",
    "maListe=[1,2.3,\"ab\",3.4 + 2.1j,[0,1,2]]\n",
    "# Que permettent ces méthodes :\n",
    "len(maListe)                  #\n",
    "maListe.sort                  #\n",
    "maListe.append(5)             #\n",
    "maListe.insert(0,'a')         #\n",
    "maListe.extend(['a','b'])     #\n",
    "maListe.reverse               #\n",
    "maListe.index(5)              #\n",
    "maListe.remove(3)             #\n",
    "maListe.pop                   #\n",
    "~~~\n",
    "\n",
    "Pour plus d'informations, je vous invite à regarder l'aide : **help(list)**"
   ]
  },
  {
   "cell_type": "markdown",
   "metadata": {
    "internals": {
     "slide_type": "subslide"
    },
    "slideshow": {
     "slide_type": "slide"
    }
   },
   "source": [
    "## Tuples\n",
    "\n",
    "Le tuple Python est similaire à la liste, mais il est immuable. Le tuple Python est donc une collection ordonnée non modifiable d'éléments hétérogènes. On retrouvera ainsi les mêmes méthodes que pour les listes sans celles concernant les modifications.\n",
    "\n",
    "L'intérêt des tuples par rapport aux listes est qu'ils occupent moins d'espace mémoire et que leur traitement est plus efficace.\n",
    "\n",
    "**Il est important de comprendre que ce qui caractérise un tuple n'est pas les éventuelles parenthèses englobantes, qui sont optionnelles, mais l'utilisation de la virgule :\n",
    "* `a` ou `(a)` : valeurs simples, avec des parenthèses de groupement dans le second cas.\n",
    "* `a,` ou `(a,)` : tuples de 1 élément.\n",
    "* `a,b` ou `(a,b)` : tuples de 2 éléments."
   ]
  },
  {
   "cell_type": "code",
   "execution_count": 35,
   "metadata": {
    "collapsed": false,
    "internals": {},
    "slideshow": {
     "slide_type": "-"
    }
   },
   "outputs": [
    {
     "data": {
      "text/plain": [
       "'a'"
      ]
     },
     "execution_count": 35,
     "metadata": {},
     "output_type": "execute_result"
    }
   ],
   "source": [
    "monTuple = 'a','b','c','d' ; monTuple[0]"
   ]
  },
  {
   "cell_type": "code",
   "execution_count": 36,
   "metadata": {
    "collapsed": false,
    "internals": {},
    "slideshow": {
     "slide_type": "-"
    }
   },
   "outputs": [
    {
     "ename": "TypeError",
     "evalue": "'tuple' object does not support item assignment",
     "output_type": "error",
     "traceback": [
      "\u001b[0;31m---------------------------------------------------------------------------\u001b[0m",
      "\u001b[0;31mTypeError\u001b[0m                                 Traceback (most recent call last)",
      "\u001b[0;32m<ipython-input-36-b5b0d62a505a>\u001b[0m in \u001b[0;36m<module>\u001b[0;34m()\u001b[0m\n\u001b[0;32m----> 1\u001b[0;31m \u001b[0mmonTuple\u001b[0m\u001b[0;34m[\u001b[0m\u001b[0;36m0\u001b[0m\u001b[0;34m]\u001b[0m\u001b[0;34m=\u001b[0m\u001b[0;34m'alpha'\u001b[0m\u001b[0;34m\u001b[0m\u001b[0m\n\u001b[0m",
      "\u001b[0;31mTypeError\u001b[0m: 'tuple' object does not support item assignment"
     ]
    }
   ],
   "source": [
    "monTuple[0]='x' ; monTuple"
   ]
  },
  {
   "cell_type": "code",
   "execution_count": 39,
   "metadata": {
    "collapsed": false,
    "internals": {},
    "slideshow": {
     "slide_type": "-"
    }
   },
   "outputs": [
    {
     "data": {
      "text/plain": [
       "('x', 'b', 'c', 'd')"
      ]
     },
     "execution_count": 39,
     "metadata": {},
     "output_type": "execute_result"
    }
   ],
   "source": [
    "monTuple= ('x',) + monTuple[1:] ; monTuple"
   ]
  },
  {
   "cell_type": "markdown",
   "metadata": {
    "internals": {},
    "slideshow": {
     "slide_type": "-"
    }
   },
   "source": [
    "Si le premier niveau des tuples ne sont pas modifiables, on peut en revanche modifier les objets modifiables imbriqués."
   ]
  },
  {
   "cell_type": "code",
   "execution_count": null,
   "metadata": {
    "collapsed": false,
    "internals": {},
    "slideshow": {
     "slide_type": "-"
    }
   },
   "outputs": [],
   "source": [
    "monTuple2=(1, 2, [3, 4], 6); monTuple2[2][0]=1; monTuple2"
   ]
  },
  {
   "cell_type": "markdown",
   "metadata": {
    "internals": {},
    "slideshow": {
     "slide_type": "-"
    }
   },
   "source": [
    "On peut convertir un tuple en liste avec la fonction **list()**"
   ]
  },
  {
   "cell_type": "code",
   "execution_count": null,
   "metadata": {
    "collapsed": false,
    "internals": {},
    "slideshow": {
     "slide_type": "-"
    }
   },
   "outputs": [],
   "source": [
    "print(monTuple2); liste2=list(monTuple2); print(liste2); type(liste2)"
   ]
  },
  {
   "cell_type": "markdown",
   "metadata": {
    "internals": {},
    "slideshow": {
     "slide_type": "-"
    }
   },
   "source": [
    "On peut également concaténer deux tuples :"
   ]
  },
  {
   "cell_type": "code",
   "execution_count": null,
   "metadata": {
    "collapsed": false,
    "internals": {},
    "slideshow": {
     "slide_type": "-"
    }
   },
   "outputs": [],
   "source": [
    "monTuple + monTuple2"
   ]
  },
  {
   "cell_type": "markdown",
   "metadata": {
    "internals": {
     "slide_helper": "subslide_end"
    },
    "slide_helper": "slide_end",
    "slideshow": {
     "slide_type": "-"
    }
   },
   "source": [
    "Pour plus d'aide, je vous invite à regarder l'aide : **help(tuple)**"
   ]
  },
  {
   "cell_type": "markdown",
   "metadata": {
    "internals": {
     "slide_type": "subslide"
    },
    "slideshow": {
     "slide_type": "slide"
    }
   },
   "source": [
    "## Dictionnaires\n",
    "\n",
    "Un dictionnaire est une liste modifiable d'éléments hétérogènes mais indicés par des clés.\n",
    "Le type python correspondant est `dict`.\n",
    "\n",
    "- Un dictionnaire n'est pas une séquence\n",
    "- Un dictionnaire est constitué de clés et de valeurs\n",
    "- chaque clés n'est présentes qu'une fois au plus\n",
    "- On ne peut pas concaténer un dictionnaire avec un autre\n"
   ]
  },
  {
   "cell_type": "markdown",
   "metadata": {},
   "source": [
    "### Création"
   ]
  },
  {
   "cell_type": "code",
   "execution_count": 44,
   "metadata": {
    "collapsed": false,
    "internals": {},
    "slideshow": {
     "slide_type": "-"
    }
   },
   "outputs": [
    {
     "data": {
      "text/plain": [
       "{'a': 1, 'b': 2}"
      ]
     },
     "execution_count": 44,
     "metadata": {},
     "output_type": "execute_result"
    }
   ],
   "source": [
    "dic = {'a': 1, 'b': 2}; dic"
   ]
  },
  {
   "cell_type": "code",
   "execution_count": 45,
   "metadata": {
    "collapsed": false,
    "internals": {},
    "slideshow": {
     "slide_type": "-"
    }
   },
   "outputs": [
    {
     "data": {
      "text/plain": [
       "{'a': 1, 'b': 2}"
      ]
     },
     "execution_count": 45,
     "metadata": {},
     "output_type": "execute_result"
    }
   ],
   "source": [
    " dic2={} ; dic2['a']=1 ; dic2['b']=2; dic2"
   ]
  },
  {
   "cell_type": "code",
   "execution_count": 46,
   "metadata": {
    "collapsed": false,
    "internals": {},
    "slideshow": {
     "slide_type": "-"
    }
   },
   "outputs": [
    {
     "data": {
      "text/plain": [
       "{'a': 1, 'b': 2}"
      ]
     },
     "execution_count": 46,
     "metadata": {},
     "output_type": "execute_result"
    }
   ],
   "source": [
    "dic3 = dict(a=1, b=2); dic3"
   ]
  },
  {
   "cell_type": "code",
   "execution_count": 47,
   "metadata": {
    "collapsed": false,
    "internals": {
     "slide_helper": "subslide_end"
    },
    "slide_helper": "slide_end",
    "slideshow": {
     "slide_type": "-"
    }
   },
   "outputs": [
    {
     "data": {
      "text/plain": [
       "{'a': 1, 'b': 2}"
      ]
     },
     "execution_count": 47,
     "metadata": {},
     "output_type": "execute_result"
    }
   ],
   "source": [
    "dic4 = dict(zip(('a','b'), (1,2))); dic4"
   ]
  },
  {
   "cell_type": "markdown",
   "metadata": {
    "internals": {
     "slide_type": "subslide"
    },
    "slideshow": {
     "slide_type": "slide"
    }
   },
   "source": [
    "### Utilisation\n",
    "\n",
    "- Pour récupérer une valeur :\n",
    "    \n",
    "    ~~~python\n",
    "    dic['a']\n",
    "    dic.get('a')\n",
    "    ~~~\n",
    "    \n",
    "- Ajouter un élément, modifier une valeur, supprimer un élément.\n",
    "    \n",
    "    ~~~python\n",
    "    dic[1] = 7       # Ajout un élément (clé, valeur)\n",
    "    dic['b'] = 3     # On modifie la valeur \"2\" par \"3\"\n",
    "    del(dic['b'])    # On supprime l'élément dont la clé est 'b'\n",
    "\n",
    "    # A vous de découvrir ce qui se passe pour ceci :\n",
    "    val=dic.pop('b')\n",
    "    ~~~\n",
    "\n",
    "- Ajouter plusieurs éléments, fusion de dictionnaire :"
   ]
  },
  {
   "cell_type": "code",
   "execution_count": null,
   "metadata": {
    "collapsed": false,
    "internals": {},
    "slideshow": {
     "slide_type": "-"
    }
   },
   "outputs": [],
   "source": [
    "dicBis={'c':3,'d':4};dic.update(dicBis); dic"
   ]
  },
  {
   "cell_type": "markdown",
   "metadata": {
    "internals": {
     "slide_helper": "subslide_end"
    },
    "slide_helper": "slide_end",
    "slideshow": {
     "slide_type": "-"
    }
   },
   "source": [
    "- Pour copier un dictionnaire, utiliser un nouveau référencement ne suffit pas, il faut utiliser la méthode **copy**\n",
    "\n",
    "~~~python\n",
    "# copier le dictionnaire dic dans le dictionnaire copieDeDic\n",
    "# quelle fonction vous permet de vous assurer de la bonne copie ?\n",
    "~~~"
   ]
  },
  {
   "cell_type": "markdown",
   "metadata": {
    "internals": {
     "slide_helper": "subslide_end",
     "slide_type": "subslide"
    },
    "slide_helper": "slide_end",
    "slideshow": {
     "slide_type": "slide"
    }
   },
   "source": [
    "### Fonctions et méthodes\n",
    "\n",
    "Plusieurs méthodes existent pour les dictionnaires :\n",
    "\n",
    "~~~python\n",
    "len(dic)      #taille du dictionnaire\n",
    "dic.keys      #renvoie les clés du dictionnaire sous forme de liste\n",
    "dic.values    #renvoie les valeurs du dictionnaire sous forme de liste\n",
    "dic.has_key   #renvoie True si la clé existe, False sinon\n",
    "dic.get       #donne la valeur de la clé si elle existe\n",
    "~~~\n",
    "\n",
    "Remarque :  Les méthodes **.keys()**, **.values()** et **.items()** retournent des objets permettant d'itérer, par une boucle **for**, respectivement les clés, les valeurs et les paires clés/valeurs.\n",
    "\n",
    "Pour plus d'aide, je vous invite à regarder l'aide : **help(dic)**"
   ]
  },
  {
   "cell_type": "markdown",
   "metadata": {
    "internals": {
     "slide_type": "subslide"
    },
    "slideshow": {
     "slide_type": "slide"
    }
   },
   "source": [
    "## Les ensembles : set\n",
    "\n",
    "Ce type permet de créer des **collections de données non ordonnées modifiables** constituées d'**éléments uniques** de type **immutable**. Le type python correspondant est `set`.\n",
    "\n",
    "\n",
    "Ce type n'est pas une séquence. En revanche, il supporte l'itération. C'est comme un dictionnaire avec des clés sans valeurs."
   ]
  },
  {
   "cell_type": "code",
   "execution_count": 54,
   "metadata": {
    "collapsed": false,
    "internals": {},
    "slideshow": {
     "slide_type": "-"
    }
   },
   "outputs": [
    {
     "data": {
      "text/plain": [
       "{1, 2, 3, 4}"
      ]
     },
     "execution_count": 54,
     "metadata": {},
     "output_type": "execute_result"
    }
   ],
   "source": [
    "monSet={1,2,3,1,4}; monSet #éléments uniques"
   ]
  },
  {
   "cell_type": "code",
   "execution_count": 55,
   "metadata": {
    "collapsed": false,
    "internals": {},
    "slideshow": {
     "slide_type": "-"
    }
   },
   "outputs": [
    {
     "data": {
      "text/plain": [
       "{1, 2, 3, 4}"
      ]
     },
     "execution_count": 55,
     "metadata": {},
     "output_type": "execute_result"
    }
   ],
   "source": [
    "monSet1=set((1,2,1,4,3)); monSet1"
   ]
  },
  {
   "cell_type": "markdown",
   "metadata": {
    "internals": {
     "slide_helper": "subslide_end"
    },
    "slide_helper": "slide_end",
    "slideshow": {
     "slide_type": "-"
    }
   },
   "source": [
    "Regardez ce que renvoie la commande **type**. De quel longeur est ce set ?"
   ]
  },
  {
   "cell_type": "markdown",
   "metadata": {
    "internals": {
     "slide_type": "subslide"
    },
    "slideshow": {
     "slide_type": "slide"
    }
   },
   "source": [
    "### Ajout d'éléments"
   ]
  },
  {
   "cell_type": "code",
   "execution_count": null,
   "metadata": {
    "collapsed": false,
    "internals": {},
    "slideshow": {
     "slide_type": "-"
    }
   },
   "outputs": [],
   "source": [
    "monSet={1,2,3,1,4}; monSet"
   ]
  },
  {
   "cell_type": "code",
   "execution_count": null,
   "metadata": {
    "collapsed": false,
    "internals": {},
    "slideshow": {
     "slide_type": "-"
    }
   },
   "outputs": [],
   "source": [
    "monSet|={5,6}; monSet"
   ]
  },
  {
   "cell_type": "code",
   "execution_count": null,
   "metadata": {
    "collapsed": false,
    "internals": {},
    "slideshow": {
     "slide_type": "-"
    }
   },
   "outputs": [],
   "source": [
    "monSet=monSet|{7,8}; monSet"
   ]
  },
  {
   "cell_type": "code",
   "execution_count": null,
   "metadata": {
    "collapsed": false,
    "internals": {},
    "slideshow": {
     "slide_type": "-"
    }
   },
   "outputs": [],
   "source": [
    "monSet.update({9,10}); monSet"
   ]
  },
  {
   "cell_type": "code",
   "execution_count": null,
   "metadata": {
    "collapsed": false,
    "internals": {
     "slide_helper": "subslide_end"
    },
    "slide_helper": "slide_end",
    "slideshow": {
     "slide_type": "-"
    }
   },
   "outputs": [],
   "source": [
    "monSet.add(11); monSet"
   ]
  },
  {
   "cell_type": "markdown",
   "metadata": {
    "internals": {
     "slide_helper": "subslide_end",
     "slide_type": "subslide"
    },
    "slide_helper": "slide_end",
    "slideshow": {
     "slide_type": "slide"
    }
   },
   "source": [
    "### Autres méthodes\n",
    "\n",
    "~~~python\n",
    "monSet.remove(3)  # détruit l'élément \"3\"\n",
    "monSet.discard(3) # détruit l'élément \"3\" sans générer d'erreur si l'élément est absent\n",
    "monSet.pop()      # retoure un élément arbitraire et le détruit\n",
    "monSet.clear()    # détruit tous les éléments\n",
    "~~~\n",
    "\n",
    "### Opérations propres aux ensembles\n",
    "\n",
    "~~~python\n",
    "monSet | monSet1  # union        => {1, 2, 3, 4, 5, 6, 7, 8, 9, 10, 11}\n",
    "monSet & monSet1  # intersection => {1, 2, 3, 4}\n",
    "monSet - monSet1  # différence   => {5, 6, 7, 8, 9, 10, 11}\n",
    "monSet1 - monSet  # différence   => set()\n",
    "monSet ^ monSet1  # ou exclusif  => {5, 6, 7, 8, 9, 10, 11}\n",
    "~~~\n",
    "\n",
    "### Tests\n",
    "\n",
    "~~~python\n",
    "{'a','b'} == {'b','a'}         # sets identiques => True\n",
    "'a' in {'a','b','c'}           # présence d'un élément isolé => True\n",
    "{'a','b'} <= {'a','b','c','d'} # présence de tous les éléments => True\n",
    "~~~\n",
    "\n",
    "### Copie d'un set\n",
    "\n",
    "Comme pour les listes et les dictionnaires, on en peut pas copier en faisant un simpe tonSet=monSet. Il faut utiliser :\n",
    "\n",
    "~~~python\n",
    "tonSet=monSet.copy()\n",
    "~~~\n",
    "\n",
    "Pour plus d'aide, je vous invite à regarder l'aide : **help(set)**"
   ]
  },
  {
   "cell_type": "markdown",
   "metadata": {
    "internals": {
     "slide_helper": "subslide_end",
     "slide_type": "subslide"
    },
    "slide_helper": "slide_end",
    "slideshow": {
     "slide_type": "slide"
    }
   },
   "source": [
    "## Les ensembles : frozenset\n",
    "\n",
    "Un type frozenset est un **set** mais **immuable** (non-modifiable). Tout ce qui s'applique aux sets, s'appliquent également au frozenset à l'exception de tout ce qui concerne les modifications.\n",
    "\n",
    "~~~python\n",
    "monFrozenset=frozenset({'x','y','z','x'}) # ou bien\n",
    "monFrozenset=frozenset(('x','y','z','x'))\n",
    "~~~\n",
    "\n",
    "Pour plus d'aide, je vous invite à regarder l'aide : **help(frozenset)**"
   ]
  },
  {
   "cell_type": "markdown",
   "metadata": {},
   "source": [
    "## Ramasse-miette\n",
    "\n",
    "Les variables de Python peuvent être vues comme de simples noms, ou des etiquettes, qui référencent ou \"pointent\" vers une valeur. Ces valeurs sont créées en mémoire à chaque fois que nécessaire."
   ]
  },
  {
   "cell_type": "code",
   "execution_count": 58,
   "metadata": {
    "collapsed": true
   },
   "outputs": [],
   "source": [
    "nom1 = \"hello\" # création en mémoire de la valeur \"hello\", à laquelle nom1 fait référence\n",
    "nom2 = \"world\" # création en mémoire de la valeur \"world\", à laquelle nom2 fait référence"
   ]
  },
  {
   "cell_type": "markdown",
   "metadata": {},
   "source": [
    "Lors d'une affectation \"a=b\", il n'y a pas duplication de la valeur, mais les deux noms se mettent à désigner la même valeur."
   ]
  },
  {
   "cell_type": "code",
   "execution_count": 59,
   "metadata": {
    "collapsed": true
   },
   "outputs": [],
   "source": [
    "nom1 = \"hello world\" # création en mémoire de la valeur \"hello world\"\n",
    "nom2 = nom1          # nom2 pointe sur la même chaîne de caractère"
   ]
  },
  {
   "cell_type": "markdown",
   "metadata": {},
   "source": [
    "Lorsqu'on affecte une nouvelle valeur a une variable existante, et si son ancienne valeur n'est plus utilisée, alors cette ancienne valeur sera supprimée par le ramasse-miette automatique de Python, à un moment ultérieur indéterminé."
   ]
  },
  {
   "cell_type": "code",
   "execution_count": 60,
   "metadata": {
    "collapsed": true
   },
   "outputs": [],
   "source": [
    "nom1 = \"hello\" # création en mémoire de la valeur \"hello\", à laquelle nom1 fait référence\n",
    "nom2 = \"world\" # création en mémoire de la valeur \"world\", à laquelle nom2 fait référence\n",
    "nom2 = nom1    # la valeur \"hello\" est maintenant référencée par nom1 et nom2\n",
    "               # la valeur \"world\" n'est plus référencée par personne, et sera ramassée"
   ]
  },
  {
   "cell_type": "markdown",
   "metadata": {},
   "source": [
    "On peut aussi supprimer des variables avec la fonction `del()`, ce qui ne détruit la valeur référencée que si c'était la dernière variable pointant cette valeur."
   ]
  },
  {
   "cell_type": "code",
   "execution_count": 61,
   "metadata": {
    "collapsed": true
   },
   "outputs": [],
   "source": [
    "nom1 = \"hello world\" # création en mémoire de la valeur \"hello world\"\n",
    "nom2 = nom1          # nom2 pointe sur la même chaîne de caractère\n",
    "del(nom1)            # nom1 n'existe plus, à la différence de nom2 et \"hello world\"\n",
    "del(nom2)            # nom2 n'existe plus, et \"hello world\" sera ramassé"
   ]
  },
  {
   "cell_type": "markdown",
   "metadata": {},
   "source": [
    "Comme nous l'avons déjà montré avec les listes, lorsque plusieurs variables désignent la même collection modifiable, si on pratique une modifiable interne de cette collection, les deux variables voient cette modification. Par exemple, avec un dictionnaire :"
   ]
  },
  {
   "cell_type": "code",
   "execution_count": 62,
   "metadata": {
    "collapsed": false
   },
   "outputs": [
    {
     "name": "stdout",
     "output_type": "stream",
     "text": [
      "{'b': 10, 'c': 48, 'a': 24}\n"
     ]
    }
   ],
   "source": [
    "dic1 = { 'a': 24, 'b': 36, 'c': 48 }\n",
    "dic2 = dic1         \n",
    "dic2['b'] = 10\n",
    "print(dic1)      "
   ]
  },
  {
   "cell_type": "markdown",
   "metadata": {},
   "source": [
    "## A suivre..."
   ]
  },
  {
   "cell_type": "markdown",
   "metadata": {},
   "source": [
    "[Mise en page et structures de contrôle](synope_fonctions_3_controle.ipynb)"
   ]
  },
  {
   "cell_type": "markdown",
   "metadata": {},
   "source": [
    "## A propos des auteurs"
   ]
  },
  {
   "cell_type": "markdown",
   "metadata": {
    "internals": {
     "slide_helper": "subslide_end"
    },
    "slide_helper": "slide_end",
    "slideshow": {
     "slide_type": "-"
    }
   },
   "source": [
    "*Travail initié en 2014 dans le cadre d'une série de formations Python organisées par le réseau Devlog.  \n",
    "Auteurs principaux : Loic Gouarin & David Chamont. Relecteurs : Nicolas Can, Sekou Diakite, Christophe Halgand, Christophe Gengembre.*"
   ]
  },
  {
   "cell_type": "markdown",
   "metadata": {},
   "source": [
    "### Mise en forme"
   ]
  },
  {
   "cell_type": "code",
   "execution_count": 34,
   "metadata": {
    "collapsed": false
   },
   "outputs": [
    {
     "data": {
      "text/html": [
       "<link href='http://fonts.googleapis.com/css?family=Oswald' rel='stylesheet' type='text/css'>\n",
       "<link href='http://fonts.googleapis.com/css?family=Lora:400,400italic' rel='stylesheet' type='text/css'>\n",
       "<link href='http://fonts.googleapis.com/css?family=Open+Sans:300' rel='stylesheet' type='text/css'>\n",
       "<link href='http://fonts.googleapis.com/css?family=Alegreya+Sans:100,300,400,500,700,800,900,100italic,300italic,400italic,500italic,700italic,800italic,900italic' rel='stylesheet' type='text/css'>\n",
       "\n",
       "<style>\n",
       "\n",
       "h1, h2, h3, h4, h5 {\n",
       "    font-family: 'Alegreya Sans', sans-serif;\n",
       "}\n",
       "\n",
       "div.text_cell_render{\n",
       "    font-family: 'Alegreya Sans',Computer Modern, \"Helvetica Neue\", Arial, Helvetica, Geneva, sans-serif;\n",
       "    line-height: 135%;\n",
       "    font-size: 140%;\n",
       "    width:100%;/*600px;*/\n",
       "    /*margin-left:auto;*/\n",
       "    /*margin-right:auto;*/\n",
       "}\n",
       "/*div.text_cell_render{font-family: \"Open Sans\", sans-serif;font-weight: normal; line-height:normal;}*/\n",
       "\n",
       "/* header colours and fonts */\n",
       ".rendered_html h1 {\n",
       "    color:#9A3334;\n",
       "    /*margin-top: 0.5em;*/\n",
       "    padding: 1em;\n",
       "    display: block;\n",
       "    font-size: 40px;\n",
       "    text-align: center;\n",
       "    border-top: 2px solid #9A3334;\n",
       "    border-bottom: 2px solid #9A3334;\n",
       "}\n",
       "\n",
       "/*.rendered_html h1 { color: #9A3334; font-family: Lora, sans-serif; font-weight: normal; text-align: center; }*/\n",
       ".rendered_html h2 {\n",
       "    color: #9A3334;\n",
       "    /*font-family: Lora, sans-serif;*/\n",
       "    font-style: italic;\n",
       "    font-weight: normal;\n",
       "    font-size: 30px;\n",
       "    /*text-align: center;*/\n",
       "    border-bottom: 1px solid #9A3334;\n",
       "}\n",
       ".rendered_html h3 {\n",
       "    color: #9A3334;\n",
       "    /*font-family: Lora, sans-serif;*/\n",
       "    font-weight: normal;\n",
       "    font-size: 25px;\n",
       "    font-style: italic;\n",
       "}\n",
       "\n",
       ".rendered_html h4 {\n",
       "    border: 2px solid #9A3334;\n",
       "    border-radius: 25px;\n",
       "    font-style: italic;\n",
       "    height:5%;\n",
       "    width:20%;\n",
       "    padding:5px;\n",
       "    text-align: center;\n",
       "}\n",
       "\n",
       "div.prompt {\n",
       "    display: None;\n",
       "}\n",
       "\n",
       "/* center the images */\n",
       ".ui-wrapper {\n",
       "    margin-left: auto !important;\n",
       "    margin-right: auto !important;\n",
       "}\n",
       "\n",
       "/* center the images */\n",
       ".video {\n",
       "    margin-left: auto !important;\n",
       "    margin-right: auto !important;\n",
       "}\n",
       "\n",
       ".rendered_html img {\n",
       "    margin-top: 0em;\n",
       "}\n",
       "\n",
       "div.input_area {\n",
       "    border-radius: 10px;\n",
       "}\n",
       "\n",
       ".reveal h1 {\n",
       "    font-size: 70px;\n",
       "    text-shadow: 10px 10px 10px rgba(0, 0, 0, 0.5);\n",
       "}\n",
       "\n",
       ".reveal h2 {\n",
       "    font-size: 50px;\n",
       "    text-shadow: 10px 10px 10px rgba(0, 0, 0, 0.5);\n",
       "}\n",
       "\n",
       ".reveal h3 {\n",
       "    font-size: 50px;\n",
       "    \n",
       "}\n",
       "\n",
       "</style>"
      ],
      "text/plain": [
       "<IPython.core.display.HTML object>"
      ]
     },
     "execution_count": 34,
     "metadata": {},
     "output_type": "execute_result"
    }
   ],
   "source": [
    "# execute this part to modify the css style\n",
    "from IPython.core.display import HTML\n",
    "def css_styling():\n",
    "    styles = open(\"../../styles/custom.css\", \"r\").read()\n",
    "    return HTML(styles)\n",
    "css_styling()"
   ]
  }
 ],
 "metadata": {
  "kernelspec": {
   "display_name": "Python 3",
   "language": "python",
   "name": "python3"
  },
  "language_info": {
   "codemirror_mode": {
    "name": "ipython",
    "version": 3
   },
   "file_extension": ".py",
   "mimetype": "text/x-python",
   "name": "python",
   "nbconvert_exporter": "python",
   "pygments_lexer": "ipython3",
   "version": "3.4.3"
  }
 },
 "nbformat": 4,
 "nbformat_minor": 0
}
