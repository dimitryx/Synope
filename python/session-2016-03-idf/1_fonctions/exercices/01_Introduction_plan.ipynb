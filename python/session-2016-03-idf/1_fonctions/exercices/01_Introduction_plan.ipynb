{
 "cells": [
  {
   "cell_type": "markdown",
   "metadata": {
    "internals": {
     "slide_helper": "subslide_end",
     "slide_type": "subslide"
    },
    "slide_helper": "slide_end",
    "slideshow": {
     "slide_type": "slide"
    }
   },
   "source": [
    "# Ce qui sera abordé ce matin :\n",
    "-----\n",
    "\n",
    "1. Qu'est ce que Pyhton ?\n",
    "    1. Que peut-on faire avec Python ?\n",
    "    2. Les principales caractéristiques de ce langage\n",
    "    3. Comment est traduit mon code en langage machine ?\n",
    "    4. Les différentes versions de Python\n",
    "    5. Les implémentations de Python\n",
    "    6. Différents IDE pour Python\n",
    "2. La distribution Anaconda\n",
    "    1. Description\n",
    "    2. Installation\n",
    "    3. Mise à jour\n",
    "    4. Premiers pas sous Spyder\n",
    "    5. Premiers pas à l'interpréteur intéractif\n",
    "3. Initiation à la syntaxe de Python\n",
    "    1. Les types simples\n",
    "    2. Interaction avec l'écran et le clavier\n",
    "    3. Instruction sur plusieurs lignes et commentaires\n",
    "    4. Assignation simple et multiple\n",
    "    5. Opérateurs de base\n",
    "    6. Opérateurs de comparaison, d'objets et de logiques\n",
    "4. Les types de données (containers)\n",
    "    1. Les séquences\n",
    "        1. Les chaînes de caractères\n",
    "        2. Les listes\n",
    "        3. Les tuples\n",
    "    2. Les maps ou hash : dictionnaire\n",
    "    3. Les ensembles\n",
    "        1. Set\n",
    "        2. Forzenset\n",
    "    4. Récapitulatif sur les différents types de données\n",
    "5. Les structures de contrôle\n",
    "    1. Exécution conditionelle if-elif-else\n",
    "    2. Boucle FOR\n",
    "    3. Boucle WHILE\n",
    "    4. Instructions continue et break"
   ]
  }
 ],
 "metadata": {
  "celltoolbar": "Slideshow",
  "kernelspec": {
   "display_name": "Python 3",
   "language": "python",
   "name": "python3"
  },
  "language_info": {
   "codemirror_mode": {
    "name": "ipython",
    "version": 3
   },
   "file_extension": ".py",
   "mimetype": "text/x-python",
   "name": "python",
   "nbconvert_exporter": "python",
   "pygments_lexer": "ipython3",
   "version": "3.5.0"
  }
 },
 "nbformat": 4,
 "nbformat_minor": 0
}
