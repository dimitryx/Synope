{
 "cells": [
  {
   "cell_type": "markdown",
   "metadata": {
    "slideshow": {
     "slide_type": "slide"
    }
   },
   "source": [
    "# TP sur les variables, types et fonctions"
   ]
  },
  {
   "cell_type": "markdown",
   "metadata": {
    "slideshow": {
     "slide_type": "subslide"
    }
   },
   "source": [
    "Dans ce TP, nous allons introduire l'utilisation de fichiers de code.<br/>"
   ]
  },
  {
   "cell_type": "markdown",
   "metadata": {},
   "source": [
    "## Exercice 0\n",
    "\n",
    "### Énoncé :\n",
    "Écrivez un programme qui convertisse en degrés Celsius une température exprimée au départ en degrés Fahrenheit, ou l’inverse.\n",
    "\n",
    "- La formule de conversion est : TF = TC ×1,8+32\n",
    "- TF : température en degré Farenheit\n",
    "- TC : température en degré Celsius\n",
    "\n",
    "### Attendu \n",
    "- lecture au clavier\n",
    "- programme (juste et) stable"
   ]
  },
  {
   "cell_type": "markdown",
   "metadata": {},
   "source": [
    "### Configuration de l'éditeur\n",
    "\n",
    "Puisque c'est notre première fois. Nous allons commencer par nous assurer de la configuration de l'éditeur (y penser de retour au labo)\n",
    " * Encodage des fichiers en UTF-8 (XXI ième siècle) (requis)\n",
    " * conversion des «tab» en «espaces». Afficher les espaces. (requis)\n",
    " * indentation automatique (confort)\n",
    " * fermeture des () {} [] ' et autres \" (au choix) (confort)\n",
    " * *complétion* automatique (si disponible) (confort)\n",
    " * regarder les raccourcis clavier (ex F5)\n",
    " * attention à la notion de propriétés globales vs par projet.\n",
    " * regarder si un debugger est disponible"
   ]
  },
  {
   "cell_type": "markdown",
   "metadata": {},
   "source": [
    "### Débuggons le fichier vide ou le fichier exemple\n",
    "\n",
    "Nous allons maintenant créer un nouveau script. *Projet/nouveau* puis *Fichier/nouveau fichier selon modèle*.\n",
    "\n",
    "Votre fichier nommé par défaut *sans titre.py* devrait se présenté sous la forme suivante :\n",
    "\n",
    "~~~python\n",
    "#!/usr/bin/env python\n",
    "# -*- coding: utf-8 -*-\n",
    "#\n",
    "#  sans titre.py\n",
    "#  \n",
    "#  Copyright 2016  <pi@raspberrypi>\n",
    "#  \n",
    "\n",
    "~~~\n",
    "\n",
    "Penser à \n",
    "- compléter l'entête avec l'ennoncé de l'exercice + métadonnée\n",
    "- renommer le nom du script\n",
    "- enregistrer le script\n",
    "- changer python en **python3** sur la première ligne\n",
    "- vérifier la présence du tag coding"
   ]
  },
  {
   "cell_type": "markdown",
   "metadata": {},
   "source": [
    "### À vous\n",
    "\n",
    "Vous pouvez maintenant écrire votre programme.\n",
    "\n",
    "Pour l'exécuter, vous pouvez soit \n",
    "- F5 : exécuter, raccourci commun\n",
    "- l'icône de roue crantée\n",
    " \n",
    "*La formule de conversion est : TF = TC × 1,8 + 32*\n"
   ]
  },
  {
   "cell_type": "code",
   "execution_count": 2,
   "metadata": {
    "collapsed": false
   },
   "outputs": [
    {
     "ename": "SyntaxError",
     "evalue": "invalid syntax (<ipython-input-2-f54a646b885d>, line 3)",
     "output_type": "error",
     "traceback": [
      "\u001b[0;36m  File \u001b[0;32m\"<ipython-input-2-f54a646b885d>\"\u001b[0;36m, line \u001b[0;32m3\u001b[0m\n\u001b[0;31m    Une solution non optimale mais du niveau des notions vues dans cette première partie du cours...\u001b[0m\n\u001b[0m               ^\u001b[0m\n\u001b[0;31mSyntaxError\u001b[0m\u001b[0;31m:\u001b[0m invalid syntax\n"
     ]
    }
   ],
   "source": [
    "#### Une correction\n",
    "\n",
    "Une solution non optimale mais du niveau des notions vues dans cette première partie du cours... \n",
    "Version 2015 en python2\n",
    "\n",
    "~~~python\n",
    "\"\"\"\n",
    "Created on Wed Nov 26 22:31:38 2014\n",
    "Update on Mon Jan 18 12:32:11 CET 2016\n",
    "\n",
    "Écrivez un programme qui convertisse en degrés Celsius une température exprimée au départ en degrés Fahrenheit, ou l’inverse.\n",
    "\n",
    "La formule de conversion est : TF = TC × 1,8 + 32\n",
    "TF : température en degré Farenheit\n",
    "TC : température en degré Celsius\n",
    "\n",
    "@author: chalgand\n",
    "\"\"\"\n",
    "\n",
    "goodAnswer=False\n",
    "while goodAnswer==False:\n",
    "    print( \"Dans quel sens voulez-vous faire la conversion ?\")\n",
    "    print( \"1 - Degré Celsius    vers  Degré Farenheit\")\n",
    "    print( \"2 - Degré Farenheit  vers  Degré Celsius\")\n",
    "    answer = input()\n",
    "    if type(answer)==int and (answer == 1 or answer == 2):\n",
    "        goodAnswer=True\n",
    "        print (answer)\n",
    "\n",
    "print (\"Vous avez choisi la conversion : \" + \\\n",
    "    (\"Degré Celsius vers Degré Farenheit\" if answer==1 \\\n",
    "    else \"Degré Farenheit  vers  Degré Celsius\") )\n",
    "\n",
    "temp=\"une mauvaise température\"\n",
    "while type(temp)!=int:\n",
    "    temp=input(\"Veuillez entrer la température à convertir : \")\n",
    "\n",
    "if answer == 1:\n",
    "    print (temp,\" degré Celsius = \",temp*1.8+32,\" degré Farenheit\")\n",
    "else:\n",
    "    print (temp,\" degré Farenheit = \",(temp-32)/1.8,\" degré Celsius\")\n",
    "~~~"
   ]
  },
  {
   "cell_type": "code",
   "execution_count": null,
   "metadata": {
    "collapsed": true
   },
   "outputs": [],
   "source": [
    "!python3 01_Introduction_TPs/01_Intro_exo_final.py"
   ]
  },
  {
   "cell_type": "code",
   "execution_count": null,
   "metadata": {
    "collapsed": true
   },
   "outputs": [],
   "source": [
    "#!/usr/bin/env python3\n",
    "# -*- coding: utf-8 -*-\n",
    "#\n",
    "#  01_Intro_exo_final.py\n",
    "#  \n",
    "#  Copyright 2016  <pi@raspberrypi>\n",
    "#  \n",
    "\n",
    "\"\"\"\n",
    "Created on Wed Nov 26 22:31:38 2014\n",
    "Update on Sun Jan 24 12:32:11 CET 2016\n",
    "\n",
    "Écrivez un programme qui convertisse en degrés Celsius une température \n",
    "exprimée au départ en degrés Fahrenheit, ou l’inverse.\n",
    "\n",
    "La formule de conversion est : TF = TC × 1,8 + 32x\n",
    "TF : température en degré Farenheit\n",
    "TC : température en degré Celsius\n",
    "\n",
    "@author: chalgand\n",
    "@revision : fmendes\n",
    "\"\"\"\n",
    "\n",
    "goodAnswer = False\n",
    "while goodAnswer==False:\n",
    "    print( \"Dans quel sens voulez-vous faire la conversion ?\")\n",
    "    print( \"1 - Degré Celsius    vers  Degré Farenheit\")\n",
    "    print( \"2 - Degré Farenheit  vers  Degré Celsius\")\n",
    "    answer = input()\n",
    "    print(answer)\n",
    "    try:\n",
    "        answer = int(answer)\n",
    "    except:\n",
    "        print(\"Erreur de typage (casting error)\")\n",
    "        #pass #Voir l'autre cast\n",
    "    if type(answer)==int and (answer == 1 or answer == 2):\n",
    "        goodAnswer=True\n",
    "        print(answer)\n",
    "\n",
    "print(\"Vous avez choisi la conversion : \" + \\\n",
    "    (\"Degré Celsius vers Degré Farenheit\" if answer==1 \\\n",
    "    else \"Degré Farenheit  vers  Degré Celsius\"))\n",
    "\n",
    "temp = \"une mauvaise température\"\n",
    "while type(temp)!=float:\n",
    "    temp = input(\"Veuillez entrer la température à convertir : \")\n",
    "    try:\n",
    "        temp = float(temp)\n",
    "    except:\n",
    "        pass\n",
    "\n",
    "if answer == 1:\n",
    "    print(temp, \" degré Celsius = \", temp*1.8+32,\" degré Farenheit\")\n",
    "else:\n",
    "    print(temp, \" degré Farenheit = \", (temp-32)/1.8,\" degré Celsius\")\n",
    "\n"
   ]
  },
  {
   "cell_type": "markdown",
   "metadata": {
    "slideshow": {
     "slide_type": "slide"
    }
   },
   "source": [
    "## Exercice 1 : Contenu du fichier"
   ]
  },
  {
   "cell_type": "markdown",
   "metadata": {
    "slideshow": {
     "slide_type": "subslide"
    }
   },
   "source": [
    "\n",
    "A ce stade, nous allons introduire l'utilisation de fichiers de code.  \n",
    "Il faut ouvrir le fichier `python-cepage/support_cepage_2016/02_fonctions_TPs/ex_1.py`.<br/>"
   ]
  },
  {
   "cell_type": "code",
   "execution_count": null,
   "metadata": {
    "collapsed": false,
    "slideshow": {
     "slide_type": "subslide"
    }
   },
   "outputs": [],
   "source": [
    "%load 02_fonctions_TPs/ex_1.py"
   ]
  },
  {
   "cell_type": "markdown",
   "metadata": {
    "slideshow": {
     "slide_type": "slide"
    }
   },
   "source": [
    "Démarrer **geany** en ouvrant le fichier ex_1.py.\n",
    "\n",
    "`~/Desktop/run_geany.sh support_cepage_2016/02_fonctions_TPs/ex_1.py`"
   ]
  },
  {
   "cell_type": "markdown",
   "metadata": {
    "slideshow": {
     "slide_type": "subslide"
    }
   },
   "source": [
    "![Ouvrir un fichier avec geany](./Figures/tp_fonctions_geany0.png \"Ouvrir un fichier avec geany\")\n",
    "\n",
    "Ce fichier contient deux parties :\n",
    " - une partie avec la définition de deux fonctions **afficheBonjour** et **afficheBonjourA** ;\n",
    " - une partie \"exécutable\" qui contient des commandes."
   ]
  },
  {
   "cell_type": "markdown",
   "metadata": {
    "slideshow": {
     "slide_type": "slide"
    }
   },
   "source": [
    "# Exécution"
   ]
  },
  {
   "cell_type": "markdown",
   "metadata": {
    "slideshow": {
     "slide_type": "subslide"
    }
   },
   "source": [
    "\n",
    "![Exécution](./img/tp_fonctions_geany1.png \"Exécution avec geany\")\n",
    "\n"
   ]
  },
  {
   "cell_type": "markdown",
   "metadata": {
    "slideshow": {
     "slide_type": "subslide"
    }
   },
   "source": [
    "![Exécution](./img/tp_fonctions_geany2.png \"Exécution avec geany\")\n"
   ]
  },
  {
   "cell_type": "markdown",
   "metadata": {
    "slideshow": {
     "slide_type": "slide"
    }
   },
   "source": [
    "# Exercice 1 :\n",
    "Dans le fichier `ex_1.py`, compléter les deux fonctions **afficheBonjour** et **afficheBonjourA** afin qu'elles répondent aux comportements attendus."
   ]
  },
  {
   "cell_type": "markdown",
   "metadata": {
    "slideshow": {
     "slide_type": "slide"
    }
   },
   "source": [
    "# 2 - Retourner un résultat\n",
    "Récupérer le fichier `python-cepage/support_cepage_2016/02_fonctions_TPs/ex_2.py`."
   ]
  },
  {
   "cell_type": "code",
   "execution_count": null,
   "metadata": {
    "collapsed": false,
    "slideshow": {
     "slide_type": "slide"
    }
   },
   "outputs": [],
   "source": [
    "%load 02_fonctions_TPs/ex_2.py"
   ]
  },
  {
   "cell_type": "markdown",
   "metadata": {
    "slideshow": {
     "slide_type": "slide"
    }
   },
   "source": [
    "# Exercice 2 : Résultats de fonctions et vérification des paramètres\n",
    " 1. Compléter les quatre fonctions arithmétiques ;\n",
    " 2. Compléter la gestion des cas d'erreurs de deux façons différentes :\n",
    "     - de façon *défensive* : vérifier les paramètres et agir en conséquence (fonction **divInfinityOnZeroTest**)\n",
    "     - de façon *exceptionnelle* : corriger le comportement uniquement en cas de problème (fonction **divInfinityOnZeroException**)"
   ]
  },
  {
   "cell_type": "markdown",
   "metadata": {
    "slideshow": {
     "slide_type": "slide"
    }
   },
   "source": [
    "# Exercice 3 : Lambdas\n",
    "\n",
    "Récupérer le fichier `python-cepage/support_cepage_2016/02_fonctions_TPs/ex_3.py`.\n",
    "\n",
    "Écrire et tester les différentes \"lambda\"s proposées."
   ]
  },
  {
   "cell_type": "code",
   "execution_count": 1,
   "metadata": {
    "collapsed": true,
    "slideshow": {
     "slide_type": "slide"
    }
   },
   "outputs": [],
   "source": [
    "%load 02_fonctions_TPs/ex_3.py"
   ]
  },
  {
   "cell_type": "markdown",
   "metadata": {
    "slideshow": {
     "slide_type": "slide"
    }
   },
   "source": [
    "# Exercice 4 : Lecture/écriture d'un fichier\n",
    "Dans cet exercice, nous allons modifier un fichier CSV contenant des livres sur Python (pour les tableurs) afin de changer tous les prix (en livres, dollars, euros) vers des prix en euros.\n",
    "\n",
    "Récupérer le fichier `python-cepage/support_cepage_2016/02_fonctions_TPs/ex_4.py`."
   ]
  },
  {
   "cell_type": "code",
   "execution_count": null,
   "metadata": {
    "collapsed": false,
    "slideshow": {
     "slide_type": "subslide"
    }
   },
   "outputs": [],
   "source": [
    "%load data/fonctions/verif_avec_exo/ex_4.py"
   ]
  },
  {
   "cell_type": "markdown",
   "metadata": {
    "slideshow": {
     "slide_type": "subslide"
    }
   },
   "source": [
    "  - Grâce à un dictionnaire de conversion de devise, écrire la fonction **conversionDeDevise(...)**\n",
    "      - testez votre fonction en exécutant le programme.\n",
    "  - Nous allons maintenant transformer des données au format chaîne de caractères vers des données structurées.\n",
    "    - écrivez la fonction **lectureLigne(...)** puis testez votre fonction.\n"
   ]
  },
  {
   "cell_type": "markdown",
   "metadata": {
    "slideshow": {
     "slide_type": "subslide"
    }
   },
   "source": [
    "  - Maintenant que nous savons faire cette transformation, nous pouvons lire l'ensemble d'un fichier `CSV`.\n",
    "    - écrivez puis testez la fonction **lectureCSV(...)**.\n",
    "  - Nous pouvons maintenant appliquer notre fonction de changement de devises sur les données `CSV`.\n",
    "    - écrivez puis testez la fonction **conversionDonnees(...)**.\n"
   ]
  },
  {
   "cell_type": "markdown",
   "metadata": {
    "slideshow": {
     "slide_type": "subslide"
    }
   },
   "source": [
    "  - Afin de compléter nos modifications, nous allons sauvegarder le fichier transformé.\n",
    "    - écrivez puis testez la fonction **ecritureCSV(...)**."
   ]
  },
  {
   "cell_type": "markdown",
   "metadata": {
    "slideshow": {
     "slide_type": "slide"
    }
   },
   "source": [
    "# Exécutez vos scripts\n",
    "\n",
    "Une fois que vous avez réalisé et testé votre programme dans **geany**, vous pouvez le rendre exécutable :\n",
    "  - ajouter le flag exécutable :\n",
    "     - ``chmod +x monFichier.py``\n",
    "  - Vous pouvez alors utiliser votre programme comme un exécutable:\n",
    "     - ``./monFichier.py argument1 argument2 ...``"
   ]
  }
 ],
 "metadata": {
  "kernelspec": {
   "display_name": "Python 3",
   "language": "python",
   "name": "python3"
  },
  "language_info": {
   "codemirror_mode": {
    "name": "ipython",
    "version": 3
   },
   "file_extension": ".py",
   "mimetype": "text/x-python",
   "name": "python",
   "nbconvert_exporter": "python",
   "pygments_lexer": "ipython3",
   "version": "3.4.3"
  }
 },
 "nbformat": 4,
 "nbformat_minor": 0
}
